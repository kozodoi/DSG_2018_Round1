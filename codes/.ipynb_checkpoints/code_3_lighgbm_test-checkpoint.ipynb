{
 "cells": [
  {
   "cell_type": "markdown",
   "metadata": {},
   "source": [
    "# 1. SETTINGS"
   ]
  },
  {
   "cell_type": "code",
   "execution_count": 1,
   "metadata": {},
   "outputs": [],
   "source": [
    "# libraries\n",
    "import numpy as np\n",
    "import pandas as pd\n",
    "import seaborn as sns\n",
    "import matplotlib.pyplot as plt\n",
    "from IPython.display import display\n",
    "from sklearn.metrics import roc_auc_score\n",
    "import lightgbm as lgb\n",
    "import scipy.stats"
   ]
  },
  {
   "cell_type": "code",
   "execution_count": 2,
   "metadata": {},
   "outputs": [],
   "source": [
    "# pandas options\n",
    "pd.set_option(\"display.max_columns\", None)"
   ]
  },
  {
   "cell_type": "code",
   "execution_count": 3,
   "metadata": {},
   "outputs": [],
   "source": [
    "# ignore warnings\n",
    "import warnings\n",
    "warnings.filterwarnings(\"ignore\")"
   ]
  },
  {
   "cell_type": "code",
   "execution_count": 4,
   "metadata": {},
   "outputs": [],
   "source": [
    "# garbage collection\n",
    "import gc\n",
    "gc.enable()"
   ]
  },
  {
   "cell_type": "markdown",
   "metadata": {},
   "source": [
    "# 2. DATA PARTITIONING"
   ]
  },
  {
   "cell_type": "code",
   "execution_count": 5,
   "metadata": {},
   "outputs": [],
   "source": [
    "# import data\n",
    "train = pd.read_csv(\"../data/raw/Trade.csv\")\n",
    "test  = pd.read_csv(\"../data/raw/Challenge_20180423.csv\")"
   ]
  },
  {
   "cell_type": "code",
   "execution_count": 6,
   "metadata": {},
   "outputs": [
    {
     "data": {
      "text/html": [
       "<div>\n",
       "<style scoped>\n",
       "    .dataframe tbody tr th:only-of-type {\n",
       "        vertical-align: middle;\n",
       "    }\n",
       "\n",
       "    .dataframe tbody tr th {\n",
       "        vertical-align: top;\n",
       "    }\n",
       "\n",
       "    .dataframe thead th {\n",
       "        text-align: right;\n",
       "    }\n",
       "</style>\n",
       "<table border=\"1\" class=\"dataframe\">\n",
       "  <thead>\n",
       "    <tr style=\"text-align: right;\">\n",
       "      <th></th>\n",
       "      <th>PredictionIdx</th>\n",
       "      <th>DateKey</th>\n",
       "      <th>CustomerIdx</th>\n",
       "      <th>IsinIdx</th>\n",
       "      <th>BuySell</th>\n",
       "      <th>CustomerInterest</th>\n",
       "    </tr>\n",
       "  </thead>\n",
       "  <tbody>\n",
       "    <tr>\n",
       "      <th>0</th>\n",
       "      <td>a1e0d80784</td>\n",
       "      <td>20180423</td>\n",
       "      <td>1856</td>\n",
       "      <td>13323</td>\n",
       "      <td>Buy</td>\n",
       "      <td>NaN</td>\n",
       "    </tr>\n",
       "    <tr>\n",
       "      <th>1</th>\n",
       "      <td>c2cc6cc2a8</td>\n",
       "      <td>20180423</td>\n",
       "      <td>1856</td>\n",
       "      <td>9230</td>\n",
       "      <td>Buy</td>\n",
       "      <td>NaN</td>\n",
       "    </tr>\n",
       "    <tr>\n",
       "      <th>2</th>\n",
       "      <td>a8e94f6344</td>\n",
       "      <td>20180423</td>\n",
       "      <td>1780</td>\n",
       "      <td>9157</td>\n",
       "      <td>Buy</td>\n",
       "      <td>NaN</td>\n",
       "    </tr>\n",
       "  </tbody>\n",
       "</table>\n",
       "</div>"
      ],
      "text/plain": [
       "  PredictionIdx   DateKey  CustomerIdx  IsinIdx BuySell  CustomerInterest\n",
       "0    a1e0d80784  20180423         1856    13323     Buy               NaN\n",
       "1    c2cc6cc2a8  20180423         1856     9230     Buy               NaN\n",
       "2    a8e94f6344  20180423         1780     9157     Buy               NaN"
      ]
     },
     "metadata": {},
     "output_type": "display_data"
    },
    {
     "name": "stdout",
     "output_type": "stream",
     "text": [
      "Test data: (484758, 6)\n",
      "------------------------------\n"
     ]
    },
    {
     "data": {
      "text/html": [
       "<div>\n",
       "<style scoped>\n",
       "    .dataframe tbody tr th:only-of-type {\n",
       "        vertical-align: middle;\n",
       "    }\n",
       "\n",
       "    .dataframe tbody tr th {\n",
       "        vertical-align: top;\n",
       "    }\n",
       "\n",
       "    .dataframe thead th {\n",
       "        text-align: right;\n",
       "    }\n",
       "</style>\n",
       "<table border=\"1\" class=\"dataframe\">\n",
       "  <thead>\n",
       "    <tr style=\"text-align: right;\">\n",
       "      <th></th>\n",
       "      <th>TradeDateKey</th>\n",
       "      <th>CustomerIdx</th>\n",
       "      <th>IsinIdx</th>\n",
       "      <th>BuySell</th>\n",
       "      <th>NotionalEUR</th>\n",
       "      <th>Price</th>\n",
       "      <th>TradeStatus</th>\n",
       "      <th>CustomerInterest</th>\n",
       "    </tr>\n",
       "  </thead>\n",
       "  <tbody>\n",
       "    <tr>\n",
       "      <th>0</th>\n",
       "      <td>20161207</td>\n",
       "      <td>2789</td>\n",
       "      <td>8478</td>\n",
       "      <td>Sell</td>\n",
       "      <td>653168.0</td>\n",
       "      <td>0.0</td>\n",
       "      <td>Unknown</td>\n",
       "      <td>1.0</td>\n",
       "    </tr>\n",
       "    <tr>\n",
       "      <th>1</th>\n",
       "      <td>20170329</td>\n",
       "      <td>2574</td>\n",
       "      <td>14562</td>\n",
       "      <td>Buy</td>\n",
       "      <td>1656487.0</td>\n",
       "      <td>0.0</td>\n",
       "      <td>Unknown</td>\n",
       "      <td>1.0</td>\n",
       "    </tr>\n",
       "    <tr>\n",
       "      <th>2</th>\n",
       "      <td>20170418</td>\n",
       "      <td>2574</td>\n",
       "      <td>4747</td>\n",
       "      <td>Buy</td>\n",
       "      <td>939673.0</td>\n",
       "      <td>0.0</td>\n",
       "      <td>Unknown</td>\n",
       "      <td>1.0</td>\n",
       "    </tr>\n",
       "  </tbody>\n",
       "</table>\n",
       "</div>"
      ],
      "text/plain": [
       "   TradeDateKey  CustomerIdx  IsinIdx BuySell  NotionalEUR  Price TradeStatus  \\\n",
       "0      20161207         2789     8478    Sell     653168.0    0.0     Unknown   \n",
       "1      20170329         2574    14562     Buy    1656487.0    0.0     Unknown   \n",
       "2      20170418         2574     4747     Buy     939673.0    0.0     Unknown   \n",
       "\n",
       "   CustomerInterest  \n",
       "0               1.0  \n",
       "1               1.0  \n",
       "2               1.0  "
      ]
     },
     "metadata": {},
     "output_type": "display_data"
    },
    {
     "name": "stdout",
     "output_type": "stream",
     "text": [
      "Train data: (6762021, 8)\n"
     ]
    }
   ],
   "source": [
    "# check all datasets\n",
    "display(test.head(3))\n",
    "print(\"Test data:\", test.shape)\n",
    "print(\"------------------------------\")\n",
    "display(train.head(3))\n",
    "print(\"Train data:\", train.shape)"
   ]
  },
  {
   "cell_type": "code",
   "execution_count": 7,
   "metadata": {},
   "outputs": [],
   "source": [
    "# create target variable\n",
    "train[\"CustomerInterest\"] = 1\n",
    "train[\"CustomerInterest\"][train[\"TradeStatus\"] == \"Holding\"] = 0"
   ]
  },
  {
   "cell_type": "code",
   "execution_count": 8,
   "metadata": {},
   "outputs": [],
   "source": [
    "# partitioning\n",
    "d_stats = train[(train[\"TradeDateKey\"] <   20170323)]\n",
    "d_train = train[(train[\"TradeDateKey\"] >=  20170323) & (train[\"TradeDateKey\"] < 20180323)]\n",
    "d_valid = train[(train[\"TradeDateKey\"] >=  20180323)]"
   ]
  },
  {
   "cell_type": "markdown",
   "metadata": {},
   "source": [
    "# 3. FEATURE ENGINEERING"
   ]
  },
  {
   "cell_type": "code",
   "execution_count": 9,
   "metadata": {},
   "outputs": [],
   "source": [
    "### COMPUTE TARGET RATIOS\n",
    "\n",
    "# compute historical target ratio (LAST 12 MONTHS)\n",
    "cust_int_1 = d_stats[d_stats[\"TradeDateKey\"] >= 20160323]\n",
    "cust_int_1 = cust_int_1[[\"CustomerIdx\", \"CustomerInterest\", \"IsinIdx\", \"BuySell\"]]\n",
    "cust_int_1 = cust_int_1.groupby([\"CustomerIdx\", \"IsinIdx\", \"BuySell\"], as_index = False).mean()\n",
    "\n",
    "# compute historical target ratio (LAST 6 MONTHS)\n",
    "cust_int_2 = d_stats[d_stats[\"TradeDateKey\"] >= 20160923]\n",
    "cust_int_2 = cust_int_2[[\"CustomerIdx\", \"CustomerInterest\", \"IsinIdx\", \"BuySell\"]]\n",
    "cust_int_2 = cust_int_2.groupby([\"CustomerIdx\", \"IsinIdx\", \"BuySell\"], as_index = False).mean()\n",
    "\n",
    "# compute historical target ratio (LAST 3 MONTHS)\n",
    "cust_int_3 = d_stats[d_stats[\"TradeDateKey\"] >= 20161223]\n",
    "cust_int_3 = cust_int_3[[\"CustomerIdx\", \"CustomerInterest\", \"IsinIdx\", \"BuySell\"]]\n",
    "cust_int_3 = cust_int_3.groupby([\"CustomerIdx\", \"IsinIdx\", \"BuySell\"], as_index = False).mean()\n",
    "\n",
    "# compute historical target ratio (LAST 1 MONTH)\n",
    "cust_int_4 = d_stats[d_stats[\"TradeDateKey\"] >= 20170223]\n",
    "cust_int_4 = cust_int_4[[\"CustomerIdx\", \"CustomerInterest\", \"IsinIdx\", \"BuySell\"]]\n",
    "cust_int_4 = cust_int_4.groupby([\"CustomerIdx\", \"IsinIdx\", \"BuySell\"], as_index = False).mean()"
   ]
  },
  {
   "cell_type": "code",
   "execution_count": 10,
   "metadata": {},
   "outputs": [],
   "source": [
    "### MERGE RATIOS\n",
    "\n",
    "# build data frame\n",
    "cust_int = cust_int_1.merge(cust_int_2, how = \"left\", on = [\"CustomerIdx\", \"IsinIdx\", \"BuySell\"])\n",
    "cust_int = cust_int.merge(cust_int_3,   how = \"left\", on = [\"CustomerIdx\", \"IsinIdx\", \"BuySell\"])\n",
    "cust_int = cust_int.merge(cust_int_4,   how = \"left\", on = [\"CustomerIdx\", \"IsinIdx\", \"BuySell\"])\n",
    "cust_int.columns = [['CustomerIdx', 'IsinIdx', 'BuySell', 'ratio1', 'ratio2', 'ratio3', 'ratio4']]\n",
    "cust_int.columns = cust_int.columns.get_level_values(0)\n",
    "\n",
    "# merge features\n",
    "d_train = d_train.merge(cust_int, how = \"left\", on = [\"CustomerIdx\", \"IsinIdx\", \"BuySell\"])\n",
    "d_valid = d_valid.merge(cust_int, how = \"left\", on = [\"CustomerIdx\", \"IsinIdx\", \"BuySell\"])"
   ]
  },
  {
   "cell_type": "code",
   "execution_count": 11,
   "metadata": {},
   "outputs": [
    {
     "data": {
      "text/html": [
       "<div>\n",
       "<style scoped>\n",
       "    .dataframe tbody tr th:only-of-type {\n",
       "        vertical-align: middle;\n",
       "    }\n",
       "\n",
       "    .dataframe tbody tr th {\n",
       "        vertical-align: top;\n",
       "    }\n",
       "\n",
       "    .dataframe thead th {\n",
       "        text-align: right;\n",
       "    }\n",
       "</style>\n",
       "<table border=\"1\" class=\"dataframe\">\n",
       "  <thead>\n",
       "    <tr style=\"text-align: right;\">\n",
       "      <th></th>\n",
       "      <th>TradeDateKey</th>\n",
       "      <th>CustomerIdx</th>\n",
       "      <th>IsinIdx</th>\n",
       "      <th>BuySell</th>\n",
       "      <th>NotionalEUR</th>\n",
       "      <th>Price</th>\n",
       "      <th>TradeStatus</th>\n",
       "      <th>CustomerInterest</th>\n",
       "      <th>ratio1</th>\n",
       "      <th>ratio2</th>\n",
       "      <th>ratio3</th>\n",
       "      <th>ratio4</th>\n",
       "    </tr>\n",
       "  </thead>\n",
       "  <tbody>\n",
       "    <tr>\n",
       "      <th>0</th>\n",
       "      <td>20170329</td>\n",
       "      <td>2574</td>\n",
       "      <td>14562</td>\n",
       "      <td>Buy</td>\n",
       "      <td>1656487.0</td>\n",
       "      <td>0.0</td>\n",
       "      <td>Unknown</td>\n",
       "      <td>1</td>\n",
       "      <td>0.2</td>\n",
       "      <td>0.333333</td>\n",
       "      <td>0.333333</td>\n",
       "      <td>0.0</td>\n",
       "    </tr>\n",
       "    <tr>\n",
       "      <th>1</th>\n",
       "      <td>20170418</td>\n",
       "      <td>2574</td>\n",
       "      <td>4747</td>\n",
       "      <td>Buy</td>\n",
       "      <td>939673.0</td>\n",
       "      <td>0.0</td>\n",
       "      <td>Unknown</td>\n",
       "      <td>1</td>\n",
       "      <td>NaN</td>\n",
       "      <td>NaN</td>\n",
       "      <td>NaN</td>\n",
       "      <td>NaN</td>\n",
       "    </tr>\n",
       "    <tr>\n",
       "      <th>2</th>\n",
       "      <td>20170801</td>\n",
       "      <td>2585</td>\n",
       "      <td>15428</td>\n",
       "      <td>Sell</td>\n",
       "      <td>1544963.0</td>\n",
       "      <td>0.0</td>\n",
       "      <td>Unknown</td>\n",
       "      <td>1</td>\n",
       "      <td>0.0</td>\n",
       "      <td>0.000000</td>\n",
       "      <td>0.000000</td>\n",
       "      <td>0.0</td>\n",
       "    </tr>\n",
       "  </tbody>\n",
       "</table>\n",
       "</div>"
      ],
      "text/plain": [
       "   TradeDateKey  CustomerIdx  IsinIdx BuySell  NotionalEUR  Price TradeStatus  \\\n",
       "0      20170329         2574    14562     Buy    1656487.0    0.0     Unknown   \n",
       "1      20170418         2574     4747     Buy     939673.0    0.0     Unknown   \n",
       "2      20170801         2585    15428    Sell    1544963.0    0.0     Unknown   \n",
       "\n",
       "   CustomerInterest  ratio1    ratio2    ratio3  ratio4  \n",
       "0                 1     0.2  0.333333  0.333333     0.0  \n",
       "1                 1     NaN       NaN       NaN     NaN  \n",
       "2                 1     0.0  0.000000  0.000000     0.0  "
      ]
     },
     "metadata": {},
     "output_type": "display_data"
    },
    {
     "name": "stdout",
     "output_type": "stream",
     "text": [
      "Train data: (3048675, 12)\n",
      "------------------------------\n"
     ]
    },
    {
     "data": {
      "text/html": [
       "<div>\n",
       "<style scoped>\n",
       "    .dataframe tbody tr th:only-of-type {\n",
       "        vertical-align: middle;\n",
       "    }\n",
       "\n",
       "    .dataframe tbody tr th {\n",
       "        vertical-align: top;\n",
       "    }\n",
       "\n",
       "    .dataframe thead th {\n",
       "        text-align: right;\n",
       "    }\n",
       "</style>\n",
       "<table border=\"1\" class=\"dataframe\">\n",
       "  <thead>\n",
       "    <tr style=\"text-align: right;\">\n",
       "      <th></th>\n",
       "      <th>TradeDateKey</th>\n",
       "      <th>CustomerIdx</th>\n",
       "      <th>IsinIdx</th>\n",
       "      <th>BuySell</th>\n",
       "      <th>NotionalEUR</th>\n",
       "      <th>Price</th>\n",
       "      <th>TradeStatus</th>\n",
       "      <th>CustomerInterest</th>\n",
       "      <th>ratio1</th>\n",
       "      <th>ratio2</th>\n",
       "      <th>ratio3</th>\n",
       "      <th>ratio4</th>\n",
       "    </tr>\n",
       "  </thead>\n",
       "  <tbody>\n",
       "    <tr>\n",
       "      <th>0</th>\n",
       "      <td>20180418</td>\n",
       "      <td>3122</td>\n",
       "      <td>19044</td>\n",
       "      <td>Buy</td>\n",
       "      <td>866504.0</td>\n",
       "      <td>126.329</td>\n",
       "      <td>NotTraded</td>\n",
       "      <td>1</td>\n",
       "      <td>0.571429</td>\n",
       "      <td>0.666667</td>\n",
       "      <td>0.5</td>\n",
       "      <td>0.0</td>\n",
       "    </tr>\n",
       "    <tr>\n",
       "      <th>1</th>\n",
       "      <td>20180403</td>\n",
       "      <td>2505</td>\n",
       "      <td>23240</td>\n",
       "      <td>Buy</td>\n",
       "      <td>500000.0</td>\n",
       "      <td>103.625</td>\n",
       "      <td>NotTraded</td>\n",
       "      <td>1</td>\n",
       "      <td>1.000000</td>\n",
       "      <td>1.000000</td>\n",
       "      <td>1.0</td>\n",
       "      <td>NaN</td>\n",
       "    </tr>\n",
       "    <tr>\n",
       "      <th>2</th>\n",
       "      <td>20180409</td>\n",
       "      <td>2638</td>\n",
       "      <td>23240</td>\n",
       "      <td>Buy</td>\n",
       "      <td>500000.0</td>\n",
       "      <td>104.250</td>\n",
       "      <td>Unknown</td>\n",
       "      <td>1</td>\n",
       "      <td>0.333333</td>\n",
       "      <td>0.000000</td>\n",
       "      <td>0.0</td>\n",
       "      <td>NaN</td>\n",
       "    </tr>\n",
       "  </tbody>\n",
       "</table>\n",
       "</div>"
      ],
      "text/plain": [
       "   TradeDateKey  CustomerIdx  IsinIdx BuySell  NotionalEUR    Price  \\\n",
       "0      20180418         3122    19044     Buy     866504.0  126.329   \n",
       "1      20180403         2505    23240     Buy     500000.0  103.625   \n",
       "2      20180409         2638    23240     Buy     500000.0  104.250   \n",
       "\n",
       "  TradeStatus  CustomerInterest    ratio1    ratio2  ratio3  ratio4  \n",
       "0   NotTraded                 1  0.571429  0.666667     0.5     0.0  \n",
       "1   NotTraded                 1  1.000000  1.000000     1.0     NaN  \n",
       "2     Unknown                 1  0.333333  0.000000     0.0     NaN  "
      ]
     },
     "metadata": {},
     "output_type": "display_data"
    },
    {
     "name": "stdout",
     "output_type": "stream",
     "text": [
      "Valid data: (227387, 12)\n"
     ]
    }
   ],
   "source": [
    "# check all datasets\n",
    "display(d_train.head(3))\n",
    "print(\"Train data:\", d_train.shape)\n",
    "print(\"------------------------------\")\n",
    "display(d_valid.head(3))\n",
    "print(\"Valid data:\", d_valid.shape)"
   ]
  },
  {
   "cell_type": "code",
   "execution_count": 12,
   "metadata": {},
   "outputs": [],
   "source": [
    "# extract target\n",
    "y_train = d_train[\"CustomerInterest\"]\n",
    "y_valid = d_valid[\"CustomerInterest\"]"
   ]
  },
  {
   "cell_type": "markdown",
   "metadata": {},
   "source": [
    "# 4. MODELING"
   ]
  },
  {
   "cell_type": "code",
   "execution_count": 13,
   "metadata": {},
   "outputs": [
    {
     "data": {
      "text/plain": [
       "['ratio1', 'ratio2', 'ratio3', 'ratio4']"
      ]
     },
     "execution_count": 13,
     "metadata": {},
     "output_type": "execute_result"
    }
   ],
   "source": [
    "# exclude features\n",
    "excluded_feats = [\"TradeDateKey\", \"CustomerIdx\", \"IsinIdx\", \"BuySell\", \n",
    "                  \"NotionalEUR\", \"Price\", \"TradeStatus\", \"CustomerInterest\"]\n",
    "features = [f for f in d_train.columns if f not in excluded_feats]\n",
    "features"
   ]
  },
  {
   "cell_type": "code",
   "execution_count": 14,
   "metadata": {},
   "outputs": [],
   "source": [
    "### PARAMETERS\n",
    "\n",
    "# learner settings\n",
    "metric   = \"auc\"\n",
    "verbose  = 10\n",
    "stopping = 100\n",
    "seed = 42\n",
    "\n",
    "# lgb settings\n",
    "gbm = lgb.LGBMClassifier(n_estimators     = 1000,\n",
    "                         learning_rate    = 0.005,\n",
    "                         num_leaves       = 70,\n",
    "                         colsample_bytree = 0.8,\n",
    "                         subsample        = 0.9,\n",
    "                         max_depth        = 7,\n",
    "                         reg_alpha        = 0.1,\n",
    "                         reg_lambda       = 0.1,\n",
    "                         min_split_gain   = 0.01,\n",
    "                         min_child_weight = 2,\n",
    "                         random_state     = seed)"
   ]
  },
  {
   "cell_type": "code",
   "execution_count": 15,
   "metadata": {},
   "outputs": [
    {
     "name": "stdout",
     "output_type": "stream",
     "text": [
      "Training until validation scores don't improve for 100 rounds.\n",
      "[10]\tvalid_0's auc: 0.759179\tvalid_1's auc: 0.704967\n",
      "[20]\tvalid_0's auc: 0.759273\tvalid_1's auc: 0.704808\n",
      "[30]\tvalid_0's auc: 0.758984\tvalid_1's auc: 0.704476\n",
      "[40]\tvalid_0's auc: 0.758977\tvalid_1's auc: 0.704432\n",
      "[50]\tvalid_0's auc: 0.759117\tvalid_1's auc: 0.704455\n",
      "[60]\tvalid_0's auc: 0.759069\tvalid_1's auc: 0.704481\n",
      "[70]\tvalid_0's auc: 0.759066\tvalid_1's auc: 0.704504\n",
      "[80]\tvalid_0's auc: 0.759106\tvalid_1's auc: 0.704527\n",
      "[90]\tvalid_0's auc: 0.759059\tvalid_1's auc: 0.70453\n",
      "[100]\tvalid_0's auc: 0.759067\tvalid_1's auc: 0.704536\n",
      "[110]\tvalid_0's auc: 0.759024\tvalid_1's auc: 0.704466\n",
      "Early stopping, best iteration is:\n",
      "[12]\tvalid_0's auc: 0.759222\tvalid_1's auc: 0.705043\n"
     ]
    }
   ],
   "source": [
    "# train lightGBM\n",
    "gbm = gbm.fit(d_train[features], y_train, \n",
    "              eval_set = [(d_train[features], y_train), (d_valid[features], y_valid)], \n",
    "              eval_metric = metric, \n",
    "              verbose = verbose, \n",
    "              early_stopping_rounds = stopping)\n",
    "    \n",
    "# save number of iterations\n",
    "num_iters = gbm.best_iteration_"
   ]
  },
  {
   "cell_type": "markdown",
   "metadata": {},
   "source": [
    "# 5. RECOMPUTE FEATURES"
   ]
  },
  {
   "cell_type": "code",
   "execution_count": 16,
   "metadata": {},
   "outputs": [],
   "source": [
    "# merge train data\n",
    "train = pd.concat([d_train, d_valid], axis = 0)\n",
    "train = train[excluded_feats]"
   ]
  },
  {
   "cell_type": "code",
   "execution_count": 17,
   "metadata": {},
   "outputs": [],
   "source": [
    "### COMPUTE TARGET RATIOS\n",
    "\n",
    "# compute historical target ratio (LAST 12 MONTHS)\n",
    "cust_int_1 = train[train[\"TradeDateKey\"] >= 20170423]\n",
    "cust_int_1 = cust_int_1[[\"CustomerIdx\", \"CustomerInterest\", \"IsinIdx\", \"BuySell\"]]\n",
    "cust_int_1 = cust_int_1.groupby([\"CustomerIdx\", \"IsinIdx\", \"BuySell\"], as_index = False).mean()\n",
    "\n",
    "# compute historical target ratio (LAST 6 MONTHS)\n",
    "cust_int_2 = train[train[\"TradeDateKey\"] >= 20171023]\n",
    "cust_int_2 = cust_int_2[[\"CustomerIdx\", \"CustomerInterest\", \"IsinIdx\", \"BuySell\"]]\n",
    "cust_int_2 = cust_int_2.groupby([\"CustomerIdx\", \"IsinIdx\", \"BuySell\"], as_index = False).mean()\n",
    "\n",
    "# compute historical target ratio (LAST 3 MONTHS)\n",
    "cust_int_3 = train[train[\"TradeDateKey\"] >= 20180123]\n",
    "cust_int_3 = cust_int_3[[\"CustomerIdx\", \"CustomerInterest\", \"IsinIdx\", \"BuySell\"]]\n",
    "cust_int_3 = cust_int_3.groupby([\"CustomerIdx\", \"IsinIdx\", \"BuySell\"], as_index = False).mean()\n",
    "\n",
    "# compute historical target ratio (LAST 1 MONTH)\n",
    "cust_int_4 = train[train[\"TradeDateKey\"] >= 20180323]\n",
    "cust_int_4 = cust_int_4[[\"CustomerIdx\", \"CustomerInterest\", \"IsinIdx\", \"BuySell\"]]\n",
    "cust_int_4 = cust_int_4.groupby([\"CustomerIdx\", \"IsinIdx\", \"BuySell\"], as_index = False).mean()"
   ]
  },
  {
   "cell_type": "code",
   "execution_count": 18,
   "metadata": {},
   "outputs": [],
   "source": [
    "### MERGE RATIOS\n",
    "\n",
    "# build data frame\n",
    "cust_int = cust_int_1.merge(cust_int_2, how = \"left\", on = [\"CustomerIdx\", \"IsinIdx\", \"BuySell\"])\n",
    "cust_int = cust_int.merge(cust_int_3,   how = \"left\", on = [\"CustomerIdx\", \"IsinIdx\", \"BuySell\"])\n",
    "cust_int = cust_int.merge(cust_int_4,   how = \"left\", on = [\"CustomerIdx\", \"IsinIdx\", \"BuySell\"])\n",
    "cust_int.columns = [['CustomerIdx', 'IsinIdx', 'BuySell', 'ratio1', 'ratio2', 'ratio3', 'ratio4']]\n",
    "cust_int.columns = cust_int.columns.get_level_values(0)\n",
    "\n",
    "# merge features\n",
    "train = train.merge(cust_int, how = \"left\", on = [\"CustomerIdx\", \"IsinIdx\", \"BuySell\"])\n",
    "test  = test.merge(cust_int,  how = \"left\", on = [\"CustomerIdx\", \"IsinIdx\", \"BuySell\"])"
   ]
  },
  {
   "cell_type": "code",
   "execution_count": 19,
   "metadata": {},
   "outputs": [
    {
     "data": {
      "text/html": [
       "<div>\n",
       "<style scoped>\n",
       "    .dataframe tbody tr th:only-of-type {\n",
       "        vertical-align: middle;\n",
       "    }\n",
       "\n",
       "    .dataframe tbody tr th {\n",
       "        vertical-align: top;\n",
       "    }\n",
       "\n",
       "    .dataframe thead th {\n",
       "        text-align: right;\n",
       "    }\n",
       "</style>\n",
       "<table border=\"1\" class=\"dataframe\">\n",
       "  <thead>\n",
       "    <tr style=\"text-align: right;\">\n",
       "      <th></th>\n",
       "      <th>TradeDateKey</th>\n",
       "      <th>CustomerIdx</th>\n",
       "      <th>IsinIdx</th>\n",
       "      <th>BuySell</th>\n",
       "      <th>NotionalEUR</th>\n",
       "      <th>Price</th>\n",
       "      <th>TradeStatus</th>\n",
       "      <th>CustomerInterest</th>\n",
       "      <th>ratio1</th>\n",
       "      <th>ratio2</th>\n",
       "      <th>ratio3</th>\n",
       "      <th>ratio4</th>\n",
       "    </tr>\n",
       "  </thead>\n",
       "  <tbody>\n",
       "    <tr>\n",
       "      <th>0</th>\n",
       "      <td>20170329</td>\n",
       "      <td>2574</td>\n",
       "      <td>14562</td>\n",
       "      <td>Buy</td>\n",
       "      <td>1656487.0</td>\n",
       "      <td>0.0</td>\n",
       "      <td>Unknown</td>\n",
       "      <td>1</td>\n",
       "      <td>0.600000</td>\n",
       "      <td>0.5</td>\n",
       "      <td>NaN</td>\n",
       "      <td>NaN</td>\n",
       "    </tr>\n",
       "    <tr>\n",
       "      <th>1</th>\n",
       "      <td>20170418</td>\n",
       "      <td>2574</td>\n",
       "      <td>4747</td>\n",
       "      <td>Buy</td>\n",
       "      <td>939673.0</td>\n",
       "      <td>0.0</td>\n",
       "      <td>Unknown</td>\n",
       "      <td>1</td>\n",
       "      <td>NaN</td>\n",
       "      <td>NaN</td>\n",
       "      <td>NaN</td>\n",
       "      <td>NaN</td>\n",
       "    </tr>\n",
       "    <tr>\n",
       "      <th>2</th>\n",
       "      <td>20170801</td>\n",
       "      <td>2585</td>\n",
       "      <td>15428</td>\n",
       "      <td>Sell</td>\n",
       "      <td>1544963.0</td>\n",
       "      <td>0.0</td>\n",
       "      <td>Unknown</td>\n",
       "      <td>1</td>\n",
       "      <td>0.666667</td>\n",
       "      <td>0.0</td>\n",
       "      <td>NaN</td>\n",
       "      <td>NaN</td>\n",
       "    </tr>\n",
       "  </tbody>\n",
       "</table>\n",
       "</div>"
      ],
      "text/plain": [
       "   TradeDateKey  CustomerIdx  IsinIdx BuySell  NotionalEUR  Price TradeStatus  \\\n",
       "0      20170329         2574    14562     Buy    1656487.0    0.0     Unknown   \n",
       "1      20170418         2574     4747     Buy     939673.0    0.0     Unknown   \n",
       "2      20170801         2585    15428    Sell    1544963.0    0.0     Unknown   \n",
       "\n",
       "   CustomerInterest    ratio1  ratio2  ratio3  ratio4  \n",
       "0                 1  0.600000     0.5     NaN     NaN  \n",
       "1                 1       NaN     NaN     NaN     NaN  \n",
       "2                 1  0.666667     0.0     NaN     NaN  "
      ]
     },
     "metadata": {},
     "output_type": "display_data"
    },
    {
     "name": "stdout",
     "output_type": "stream",
     "text": [
      "Train data: (3276062, 12)\n",
      "------------------------------\n"
     ]
    },
    {
     "data": {
      "text/html": [
       "<div>\n",
       "<style scoped>\n",
       "    .dataframe tbody tr th:only-of-type {\n",
       "        vertical-align: middle;\n",
       "    }\n",
       "\n",
       "    .dataframe tbody tr th {\n",
       "        vertical-align: top;\n",
       "    }\n",
       "\n",
       "    .dataframe thead th {\n",
       "        text-align: right;\n",
       "    }\n",
       "</style>\n",
       "<table border=\"1\" class=\"dataframe\">\n",
       "  <thead>\n",
       "    <tr style=\"text-align: right;\">\n",
       "      <th></th>\n",
       "      <th>PredictionIdx</th>\n",
       "      <th>DateKey</th>\n",
       "      <th>CustomerIdx</th>\n",
       "      <th>IsinIdx</th>\n",
       "      <th>BuySell</th>\n",
       "      <th>CustomerInterest</th>\n",
       "      <th>ratio1</th>\n",
       "      <th>ratio2</th>\n",
       "      <th>ratio3</th>\n",
       "      <th>ratio4</th>\n",
       "    </tr>\n",
       "  </thead>\n",
       "  <tbody>\n",
       "    <tr>\n",
       "      <th>0</th>\n",
       "      <td>a1e0d80784</td>\n",
       "      <td>20180423</td>\n",
       "      <td>1856</td>\n",
       "      <td>13323</td>\n",
       "      <td>Buy</td>\n",
       "      <td>NaN</td>\n",
       "      <td>NaN</td>\n",
       "      <td>NaN</td>\n",
       "      <td>NaN</td>\n",
       "      <td>NaN</td>\n",
       "    </tr>\n",
       "    <tr>\n",
       "      <th>1</th>\n",
       "      <td>c2cc6cc2a8</td>\n",
       "      <td>20180423</td>\n",
       "      <td>1856</td>\n",
       "      <td>9230</td>\n",
       "      <td>Buy</td>\n",
       "      <td>NaN</td>\n",
       "      <td>0.571429</td>\n",
       "      <td>0.8</td>\n",
       "      <td>1.0</td>\n",
       "      <td>1.0</td>\n",
       "    </tr>\n",
       "    <tr>\n",
       "      <th>2</th>\n",
       "      <td>a8e94f6344</td>\n",
       "      <td>20180423</td>\n",
       "      <td>1780</td>\n",
       "      <td>9157</td>\n",
       "      <td>Buy</td>\n",
       "      <td>NaN</td>\n",
       "      <td>NaN</td>\n",
       "      <td>NaN</td>\n",
       "      <td>NaN</td>\n",
       "      <td>NaN</td>\n",
       "    </tr>\n",
       "  </tbody>\n",
       "</table>\n",
       "</div>"
      ],
      "text/plain": [
       "  PredictionIdx   DateKey  CustomerIdx  IsinIdx BuySell  CustomerInterest  \\\n",
       "0    a1e0d80784  20180423         1856    13323     Buy               NaN   \n",
       "1    c2cc6cc2a8  20180423         1856     9230     Buy               NaN   \n",
       "2    a8e94f6344  20180423         1780     9157     Buy               NaN   \n",
       "\n",
       "     ratio1  ratio2  ratio3  ratio4  \n",
       "0       NaN     NaN     NaN     NaN  \n",
       "1  0.571429     0.8     1.0     1.0  \n",
       "2       NaN     NaN     NaN     NaN  "
      ]
     },
     "metadata": {},
     "output_type": "display_data"
    },
    {
     "name": "stdout",
     "output_type": "stream",
     "text": [
      "Test data: (484758, 10)\n"
     ]
    }
   ],
   "source": [
    "# check all datasets\n",
    "display(train.head(3))\n",
    "print(\"Train data:\", train.shape)\n",
    "print(\"------------------------------\")\n",
    "display(test.head(3))\n",
    "print(\"Test data:\", test.shape)"
   ]
  },
  {
   "cell_type": "markdown",
   "metadata": {},
   "source": [
    "# 6. SUBMISSION"
   ]
  },
  {
   "cell_type": "code",
   "execution_count": 20,
   "metadata": {},
   "outputs": [],
   "source": [
    "# predict\n",
    "test[\"CustomerInterest\"] = gbm.predict_proba(test[features], num_iteration = num_iters)[:, 1]\n",
    "\n",
    "# smart impute \n",
    "test[\"CustomerInterest\"][test[\"ratio1\"].isnull()] = 0\n",
    "\n",
    "# export CSV\n",
    "subm = test[[\"PredictionIdx\", \"CustomerInterest\"]]\n",
    "subm.to_csv(\"../submissions/lgb_4ratios.csv\", index = False, float_format = \"%.8f\")"
   ]
  }
 ],
 "metadata": {
  "kernelspec": {
   "display_name": "Python 3",
   "language": "python",
   "name": "python3"
  },
  "language_info": {
   "codemirror_mode": {
    "name": "ipython",
    "version": 3
   },
   "file_extension": ".py",
   "mimetype": "text/x-python",
   "name": "python",
   "nbconvert_exporter": "python",
   "pygments_lexer": "ipython3",
   "version": "3.6.5"
  }
 },
 "nbformat": 4,
 "nbformat_minor": 2
}
