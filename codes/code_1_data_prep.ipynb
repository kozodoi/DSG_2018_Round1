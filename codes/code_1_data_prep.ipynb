{
 "cells": [
  {
   "cell_type": "markdown",
   "metadata": {},
   "source": [
    "# 1. SETTINGS"
   ]
  },
  {
   "cell_type": "code",
   "execution_count": null,
   "metadata": {},
   "outputs": [],
   "source": [
    "# libraries\n",
    "import numpy as np\n",
    "import pandas as pd\n",
    "from datetime import date\n",
    "import matplotlib.pyplot as plt\n",
    "from IPython.display import display\n",
    "import scipy.stats"
   ]
  },
  {
   "cell_type": "code",
   "execution_count": null,
   "metadata": {},
   "outputs": [],
   "source": [
    "# pandas options\n",
    "pd.set_option(\"display.max_columns\", None)"
   ]
  },
  {
   "cell_type": "markdown",
   "metadata": {},
   "source": [
    "# 2. FUNCTIONS"
   ]
  },
  {
   "cell_type": "code",
   "execution_count": null,
   "metadata": {},
   "outputs": [],
   "source": [
    "### FUNCTION FOR COUNTING MISSINGS\n",
    "def count_missings(data):\n",
    "    total = data.isnull().sum().sort_values(ascending = False)\n",
    "    percent = (data.isnull().sum() / data.isnull().count() * 100).sort_values(ascending = False)\n",
    "    table = pd.concat([total, percent], axis = 1, keys = [\"Total\", \"Percent\"])\n",
    "    table = table[table[\"Total\"] > 0]\n",
    "    return table"
   ]
  },
  {
   "cell_type": "code",
   "execution_count": null,
   "metadata": {},
   "outputs": [],
   "source": [
    "### FUNCTION FOR COMPUTING WEEK INDEX\n",
    "def week_idx(date, end_date):\n",
    "    return round((end_date - date).dt.days / 7 + 0.4)"
   ]
  },
  {
   "cell_type": "markdown",
   "metadata": {},
   "source": [
    "# 3. DATA IMPORT"
   ]
  },
  {
   "cell_type": "code",
   "execution_count": null,
   "metadata": {},
   "outputs": [],
   "source": [
    "# import datasets\n",
    "test  = pd.read_csv(\"../data/raw/Challenge_20180423.csv\")\n",
    "cust  = pd.read_csv(\"../data/raw/Customer.csv\")\n",
    "bond  = pd.read_csv(\"../data/raw/Isin.csv\")\n",
    "markt = pd.read_csv(\"../data/raw/Market.csv\")\n",
    "macro = pd.read_csv(\"../data/raw/MarketData_Macro.csv\")\n",
    "trade = pd.read_csv(\"../data/raw/Trade.csv\")"
   ]
  },
  {
   "cell_type": "code",
   "execution_count": null,
   "metadata": {},
   "outputs": [],
   "source": [
    "# check all datasets\n",
    "print(\"Test data:\", test.shape)\n",
    "display(test.head(3))\n",
    "print(\"------------------------------\")\n",
    "print(\"Customer data:\", cust.shape)\n",
    "display(cust.head(3))\n",
    "print(\"------------------------------\")\n",
    "print(\"Bonds data:\", bond.shape)\n",
    "display(bond.head(3))\n",
    "print(\"------------------------------\")\n",
    "print(\"Market data:\", markt.shape)\n",
    "display(markt.head(3))\n",
    "print(\"------------------------------\")\n",
    "print(\"Macroeconomic data:\", macro.shape)\n",
    "display(macro.head(3))\n",
    "print(\"------------------------------\")\n",
    "print(\"Trade data:\", trade.shape)\n",
    "display(trade.head(3))"
   ]
  },
  {
   "cell_type": "markdown",
   "metadata": {},
   "source": [
    "# 4. PREPROCESSING"
   ]
  },
  {
   "cell_type": "markdown",
   "metadata": {},
   "source": [
    "## 4.1. TRADE & TEST DATA"
   ]
  },
  {
   "cell_type": "markdown",
   "metadata": {},
   "source": [
    "#### SOME CHECKS"
   ]
  },
  {
   "cell_type": "code",
   "execution_count": null,
   "metadata": {},
   "outputs": [],
   "source": [
    "# check missings\n",
    "count_missings(trade)"
   ]
  },
  {
   "cell_type": "code",
   "execution_count": null,
   "metadata": {},
   "outputs": [],
   "source": [
    "# descriptive stats\n",
    "trade.describe()"
   ]
  },
  {
   "cell_type": "markdown",
   "metadata": {},
   "source": [
    "The number of observations and bonds per customer is different in trade and test data. Trade data only contains bonds that a given customer has actually traded. In test data, for each customer, the set of bonds is only a subset of the bonds that he actually traded in the past (but not the whole set, which leads to a smaller number of observations per customer in the test data). Also, the test set is biased towards very active traders."
   ]
  },
  {
   "cell_type": "code",
   "execution_count": null,
   "metadata": {},
   "outputs": [],
   "source": [
    "# check if bonds in test are a subset of bonds in trade\n",
    "# print \"No\" if bonds in test are new for that customer\n",
    "for i in test.CustomerIdx.unique():\n",
    "    A = trade[trade.CustomerIdx == i].IsinIdx.unique()\n",
    "    B = test[test.CustomerIdx == i].IsinIdx.unique()\n",
    "    C = set(B).issubset(set(A))\n",
    "    if C == False: \n",
    "        print(\"No!\")\n",
    "print(\"Finished\")"
   ]
  },
  {
   "cell_type": "code",
   "execution_count": null,
   "metadata": {},
   "outputs": [],
   "source": [
    "# check number of bonds per customer\n",
    "display(trade.groupby(\"CustomerIdx\").IsinIdx.nunique().describe())\n",
    "print(\"------------------------------\")\n",
    "display(test.groupby(\"CustomerIdx\").IsinIdx.nunique().describe())"
   ]
  },
  {
   "cell_type": "markdown",
   "metadata": {},
   "source": [
    "#### PREPROCESSING"
   ]
  },
  {
   "cell_type": "markdown",
   "metadata": {},
   "source": [
    "Target equals 0 if TradeStatus = \"Holding\" and 1 in all other cases. The holding operations are artificial and do not actually mean a customer-bond interaction on the considered market, so we drop these observations from the dataset."
   ]
  },
  {
   "cell_type": "code",
   "execution_count": null,
   "metadata": {},
   "outputs": [],
   "source": [
    "# create target variable\n",
    "trade[\"CustomerInterest\"] = 1\n",
    "trade[\"CustomerInterest\"][trade[\"TradeStatus\"] == \"Holding\"] = 0\n",
    "trade.CustomerInterest.mean()"
   ]
  },
  {
   "cell_type": "code",
   "execution_count": null,
   "metadata": {},
   "outputs": [],
   "source": [
    "# deleting holding cases\n",
    "trade = trade[trade[\"TradeStatus\"] != \"Holding\"]"
   ]
  },
  {
   "cell_type": "markdown",
   "metadata": {},
   "source": [
    "Test data does not contain features \"Price\", \"NotionalEUR\", so it is not possible to use them as predictors. "
   ]
  },
  {
   "cell_type": "code",
   "execution_count": null,
   "metadata": {},
   "outputs": [],
   "source": [
    "# delete features\n",
    "del trade[\"NotionalEUR\"]\n",
    "del trade[\"Price\"]"
   ]
  },
  {
   "cell_type": "code",
   "execution_count": null,
   "metadata": {},
   "outputs": [],
   "source": [
    "# convert dates\n",
    "trade[\"TradeDateKey\"] = pd.to_datetime(trade[\"TradeDateKey\"], format = '%Y%m%d')"
   ]
  },
  {
   "cell_type": "code",
   "execution_count": null,
   "metadata": {},
   "outputs": [],
   "source": [
    "# add week index\n",
    "trade[\"Week\"] = week_idx(trade[\"TradeDateKey\"], pd.Timestamp('2018-04-23 00:00:00'))\n",
    "trade[\"Week\"] = trade[\"Week\"].max() + 1 - trade[\"Week\"]\n",
    "test[\"Week\"]  = trade[\"Week\"].max() + 1"
   ]
  },
  {
   "cell_type": "markdown",
   "metadata": {},
   "source": [
    "In the test data, each observation covers one week, whereas the training data is on a daily basis. We can aggregate the training data to a week level to have the same granularity. The target variable is computed as max over a week, whereas for different features we can compute different stats describing behavior during that week (e.g. mean, sd, range, etc)."
   ]
  },
  {
   "cell_type": "code",
   "execution_count": null,
   "metadata": {},
   "outputs": [],
   "source": [
    "# aggregate weekly data: target = 1 if there is at least single 1 during week\n",
    "trade = trade.groupby([\"CustomerIdx\", \"Week\", \"IsinIdx\", \"BuySell\"], as_index = False).CustomerInterest.max()"
   ]
  },
  {
   "cell_type": "markdown",
   "metadata": {},
   "source": [
    "The training data contains 0 only if a customer has explicitly stated that she holds a bond. However, there are a lot of 0 missing from the table for the cases when a customer does not interact with a bond at all. Hence, it is necessary to impute these missing observations. For each customer, we can look at the set of bonds that he ever traded and add all missing weeks for each of that bonds as new rows with target = 0 (the rows when customer did not interact with a specific bond). That significantly increases the sample size but also makes data much closer to the test set.\n",
    "\n",
    "Current implementation increases the sample size from 1.7m to 111m rows (~3Gb). This takes a few minutes."
   ]
  },
  {
   "cell_type": "code",
   "execution_count": null,
   "metadata": {},
   "outputs": [],
   "source": [
    "# add missing weeks\n",
    "print(trade.shape)\n",
    "trade = trade.groupby([\"CustomerIdx\", \"Week\", \"IsinIdx\", \"BuySell\"]).CustomerInterest.unique().unstack(\"Week\").stack(\"Week\", dropna = False)\n",
    "trade = trade.reset_index()\n",
    "trade.columns = [\"CustomerIdx\", \"IsinIdx\", \"BuySell\", \"Week\", \"CustomerInterest\"]\n",
    "print(trade.shape)"
   ]
  },
  {
   "cell_type": "markdown",
   "metadata": {},
   "source": [
    "Mean \"CustomerInterest\" should be around 1.5% according to the organizers."
   ]
  },
  {
   "cell_type": "code",
   "execution_count": null,
   "metadata": {},
   "outputs": [],
   "source": [
    "# fill new cases with 0 in target\n",
    "trade.CustomerInterest.fillna(0, inplace = True)\n",
    "trade[\"CustomerInterest\"] = trade.CustomerInterest.astype(int)\n",
    "trade.CustomerInterest.mean()"
   ]
  },
  {
   "cell_type": "markdown",
   "metadata": {},
   "source": [
    "## 4.2. CUSTOMER DATA"
   ]
  },
  {
   "cell_type": "markdown",
   "metadata": {},
   "source": [
    "There are 3471 unique customers in the training data of which 2495 show up in the test set. There are no unknown customers in the test set."
   ]
  },
  {
   "cell_type": "code",
   "execution_count": null,
   "metadata": {},
   "outputs": [],
   "source": [
    "# unique customers\n",
    "cust.CustomerIdx.nunique()"
   ]
  },
  {
   "cell_type": "code",
   "execution_count": null,
   "metadata": {},
   "outputs": [],
   "source": [
    "# Compare number of test customers showing up in cust set to number of unique customers in test set\n",
    "np.sum(np.in1d(test.CustomerIdx.unique(), cust.CustomerIdx.unique()))/test.CustomerIdx.nunique()"
   ]
  },
  {
   "cell_type": "code",
   "execution_count": null,
   "metadata": {},
   "outputs": [],
   "source": [
    "trade.columns"
   ]
  },
  {
   "cell_type": "markdown",
   "metadata": {},
   "source": [
    "More than 20% of customers are interested only once in the training period, more than 50% are interested less than 15 times total -> There are a few customers that are interested a lot, maybe we should focus on them"
   ]
  },
  {
   "cell_type": "code",
   "execution_count": null,
   "metadata": {},
   "outputs": [],
   "source": [
    "# check percentiles\n",
    "np.percentile(trade.loc[trade.CustomerInterest==1].groupby(\"CustomerIdx\").size(), range(0,100,10))"
   ]
  },
  {
   "cell_type": "markdown",
   "metadata": {},
   "source": [
    "Customer information:\n",
    "- 5 different sectors\n",
    "- 41 subsectors\n",
    "- 3 regions\n",
    "- 99 countries\n",
    "\n",
    "We can include sectors and regions directly, but may want to reduce the dimension of subsectors and countries"
   ]
  },
  {
   "cell_type": "code",
   "execution_count": null,
   "metadata": {},
   "outputs": [],
   "source": [
    "# check columns\n",
    "cust.columns"
   ]
  },
  {
   "cell_type": "code",
   "execution_count": null,
   "metadata": {},
   "outputs": [],
   "source": [
    "# create dummies for customers\n",
    "cust_dummies = pd.concat([cust.CustomerIdx, pd.get_dummies(cust.Sector), pd.get_dummies(cust.Region)], axis = 1)"
   ]
  },
  {
   "cell_type": "markdown",
   "metadata": {},
   "source": [
    "Most customers are asset managers or banks/intermediaries (possibly high volume groups?). Distribution over Americas, Europe/Africa, Asia is 53/25/22"
   ]
  },
  {
   "cell_type": "code",
   "execution_count": null,
   "metadata": {},
   "outputs": [],
   "source": [
    "# merge customer dummies\n",
    "trade = trade.merge(cust_dummies, on = \"CustomerIdx\", how = \"left\")\n",
    "test  = test.merge(cust_dummies,  on = \"CustomerIdx\", how = \"left\")"
   ]
  },
  {
   "cell_type": "markdown",
   "metadata": {},
   "source": [
    "Asset Managers/Hedge funds and Banks/Intermediaries show clearly more interest than privat and corporate investors"
   ]
  },
  {
   "cell_type": "code",
   "execution_count": null,
   "metadata": {},
   "outputs": [],
   "source": [
    "# distribution of customer types\n",
    "trade.loc[trade.CustomerInterest==1,['Asset Managers & Hedge Funds', 'Asset Owners',\n",
    "       'Banks and Intermediaries', 'Corporation', 'Official Institution - OI']].mean()"
   ]
  },
  {
   "cell_type": "markdown",
   "metadata": {},
   "source": [
    "## 4.3. MACROECONOMIC DATA"
   ]
  },
  {
   "cell_type": "markdown",
   "metadata": {},
   "source": [
    "We have >100 variables here:\n",
    "- Stock indices (DAX, FTSE100, ...)\n",
    "- Volatility indices (VSTOXX, VIX, )\n",
    "- Currency exchange rates (USD <> EUR/CNY/...)\n",
    "- Inter-bank money lending rate (Money Market) 3-month for each currency \n",
    "? Mid- to long-term swaps (2-10 years). Unsure of the effect on bond trades"
   ]
  },
  {
   "cell_type": "code",
   "execution_count": null,
   "metadata": {},
   "outputs": [],
   "source": [
    "# descriptive stats\n",
    "macro.columns.tolist()[0:50:4]"
   ]
  },
  {
   "cell_type": "markdown",
   "metadata": {},
   "source": [
    "Heuristically fill missing values with the previous value or 2xprevious value. If still missing, fill values with the following or 2xfollowing value"
   ]
  },
  {
   "cell_type": "code",
   "execution_count": null,
   "metadata": {},
   "outputs": [],
   "source": [
    "macro = macro.fillna(macro.shift(1)).fillna(macro.shift(2)).fillna(macro.shift(-1)).fillna(macro.shift(-2))"
   ]
  },
  {
   "cell_type": "markdown",
   "metadata": {},
   "source": [
    "We are interested in the change in the macro variable compared to the previous date"
   ]
  },
  {
   "cell_type": "code",
   "execution_count": null,
   "metadata": {},
   "outputs": [],
   "source": [
    "macro_diff1 = macro - macro.shift(1)"
   ]
  },
  {
   "cell_type": "markdown",
   "metadata": {},
   "source": [
    "TODO: I think it makes sense to create a common variable e.g. \"currency trend\" that relates to the specific currency of the bond and/or holder."
   ]
  },
  {
   "cell_type": "markdown",
   "metadata": {},
   "source": [
    "## 4.4. BONDS DATA"
   ]
  },
  {
   "cell_type": "markdown",
   "metadata": {},
   "source": [
    "Check that bonds after maturity are not tradeable. If this is correct, the easiest solution would be to manually correct these to 0 in model predictions"
   ]
  },
  {
   "cell_type": "code",
   "execution_count": null,
   "metadata": {},
   "outputs": [],
   "source": [
    "# descriptive stats\n",
    "bond.describe(include = \"all\")"
   ]
  },
  {
   "cell_type": "code",
   "execution_count": null,
   "metadata": {},
   "outputs": [],
   "source": [
    "# create bond dumiies\n",
    "bond_dummies = pd.concat([bond.IsinIdx, \n",
    "                          pd.get_dummies(bond.ActivityGroup), \n",
    "                          pd.get_dummies(bond.CompositeRating)], axis = 1)"
   ]
  },
  {
   "cell_type": "code",
   "execution_count": null,
   "metadata": {},
   "outputs": [],
   "source": [
    "# merge bond dummies\n",
    "trade = trade.merge(bond_dummies, on = \"IsinIdx\", how = \"left\")\n",
    "test  = test.merge(bond_dummies,  on = \"IsinIdx\", how = \"left\")"
   ]
  },
  {
   "cell_type": "markdown",
   "metadata": {},
   "source": [
    "## 4.5. MARKET DATA"
   ]
  },
  {
   "cell_type": "markdown",
   "metadata": {},
   "source": [
    "# 5. DATA EXPORT"
   ]
  },
  {
   "cell_type": "code",
   "execution_count": null,
   "metadata": {},
   "outputs": [],
   "source": [
    "# check dimensions\n",
    "print(trade.shape)\n",
    "print(test.shape)"
   ]
  },
  {
   "cell_type": "code",
   "execution_count": null,
   "metadata": {},
   "outputs": [],
   "source": [
    "# export CSV\n",
    "trade.to_csv(\"../data/prepared/train_new.csv\", index = False, float_format = \"%.4f\")\n",
    "test.to_csv(\"../data/prepared/test_new.csv\",   index = False, float_format = \"%.4f\")"
   ]
  }
 ],
 "metadata": {
  "kernelspec": {
   "display_name": "Python [deeplearning]",
   "language": "python",
   "name": "Python [deeplearning]"
  },
  "language_info": {
   "codemirror_mode": {
    "name": "ipython",
    "version": 3
   },
   "file_extension": ".py",
   "mimetype": "text/x-python",
   "name": "python",
   "nbconvert_exporter": "python",
   "pygments_lexer": "ipython3",
   "version": "3.6.4"
  }
 },
 "nbformat": 4,
 "nbformat_minor": 2
}
