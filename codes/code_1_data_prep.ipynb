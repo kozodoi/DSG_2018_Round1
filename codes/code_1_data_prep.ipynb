{
 "cells": [
  {
   "cell_type": "markdown",
   "metadata": {},
   "source": [
    "# 1. SETTINGS"
   ]
  },
  {
   "cell_type": "code",
   "execution_count": 1,
   "metadata": {},
   "outputs": [],
   "source": [
    "# libraries\n",
    "import numpy as np\n",
    "import pandas as pd\n",
    "from datetime import date\n",
    "import matplotlib.pyplot as plt\n",
    "from IPython.display import display\n",
    "import scipy.stats"
   ]
  },
  {
   "cell_type": "code",
   "execution_count": 2,
   "metadata": {},
   "outputs": [],
   "source": [
    "# pandas options\n",
    "pd.set_option(\"display.max_columns\", None)"
   ]
  },
  {
   "cell_type": "markdown",
   "metadata": {},
   "source": [
    "# 2. FUNCTIONS"
   ]
  },
  {
   "cell_type": "code",
   "execution_count": 3,
   "metadata": {},
   "outputs": [],
   "source": [
    "### FUNCTION FOR COUNTING MISSINGS\n",
    "def count_missings(data):\n",
    "    total = data.isnull().sum().sort_values(ascending = False)\n",
    "    percent = (data.isnull().sum() / data.isnull().count() * 100).sort_values(ascending = False)\n",
    "    table = pd.concat([total, percent], axis = 1, keys = [\"Total\", \"Percent\"])\n",
    "    table = table[table[\"Total\"] > 0]\n",
    "    return table"
   ]
  },
  {
   "cell_type": "code",
   "execution_count": 4,
   "metadata": {},
   "outputs": [],
   "source": [
    "### FUNCTION FOR COMPUTING WEEK INDEX\n",
    "def week_idx(date, end_date):\n",
    "    # TODO: Hows does this work?\n",
    "    return round((end_date - date).dt.days / 7 + 0.4)"
   ]
  },
  {
   "cell_type": "markdown",
   "metadata": {},
   "source": [
    "# 3. DATA IMPORT"
   ]
  },
  {
   "cell_type": "code",
   "execution_count": 5,
   "metadata": {},
   "outputs": [],
   "source": [
    "# import datasets\n",
    "test  = pd.read_csv(\"../data/raw/Challenge_20180423.csv\")\n",
    "cust  = pd.read_csv(\"../data/raw/Customer.csv\")\n",
    "bond  = pd.read_csv(\"../data/raw/Isin.csv\")\n",
    "markt = pd.read_csv(\"../data/raw/Market.csv\")\n",
    "macro = pd.read_csv(\"../data/raw/MarketData_Macro.csv\")\n",
    "trade = pd.read_csv(\"../data/raw/Trade.csv\")"
   ]
  },
  {
   "cell_type": "code",
   "execution_count": 6,
   "metadata": {},
   "outputs": [
    {
     "name": "stdout",
     "output_type": "stream",
     "text": [
      "Test data: (484758, 6)\n"
     ]
    },
    {
     "data": {
      "text/html": [
       "<div>\n",
       "<style scoped>\n",
       "    .dataframe tbody tr th:only-of-type {\n",
       "        vertical-align: middle;\n",
       "    }\n",
       "\n",
       "    .dataframe tbody tr th {\n",
       "        vertical-align: top;\n",
       "    }\n",
       "\n",
       "    .dataframe thead th {\n",
       "        text-align: right;\n",
       "    }\n",
       "</style>\n",
       "<table border=\"1\" class=\"dataframe\">\n",
       "  <thead>\n",
       "    <tr style=\"text-align: right;\">\n",
       "      <th></th>\n",
       "      <th>PredictionIdx</th>\n",
       "      <th>DateKey</th>\n",
       "      <th>CustomerIdx</th>\n",
       "      <th>IsinIdx</th>\n",
       "      <th>BuySell</th>\n",
       "      <th>CustomerInterest</th>\n",
       "    </tr>\n",
       "  </thead>\n",
       "  <tbody>\n",
       "    <tr>\n",
       "      <th>0</th>\n",
       "      <td>a1e0d80784</td>\n",
       "      <td>20180423</td>\n",
       "      <td>1856</td>\n",
       "      <td>13323</td>\n",
       "      <td>Buy</td>\n",
       "      <td>NaN</td>\n",
       "    </tr>\n",
       "    <tr>\n",
       "      <th>1</th>\n",
       "      <td>c2cc6cc2a8</td>\n",
       "      <td>20180423</td>\n",
       "      <td>1856</td>\n",
       "      <td>9230</td>\n",
       "      <td>Buy</td>\n",
       "      <td>NaN</td>\n",
       "    </tr>\n",
       "    <tr>\n",
       "      <th>2</th>\n",
       "      <td>a8e94f6344</td>\n",
       "      <td>20180423</td>\n",
       "      <td>1780</td>\n",
       "      <td>9157</td>\n",
       "      <td>Buy</td>\n",
       "      <td>NaN</td>\n",
       "    </tr>\n",
       "  </tbody>\n",
       "</table>\n",
       "</div>"
      ],
      "text/plain": [
       "  PredictionIdx   DateKey  CustomerIdx  IsinIdx BuySell  CustomerInterest\n",
       "0    a1e0d80784  20180423         1856    13323     Buy               NaN\n",
       "1    c2cc6cc2a8  20180423         1856     9230     Buy               NaN\n",
       "2    a8e94f6344  20180423         1780     9157     Buy               NaN"
      ]
     },
     "metadata": {},
     "output_type": "display_data"
    },
    {
     "name": "stdout",
     "output_type": "stream",
     "text": [
      "------------------------------\n",
      "Customer data: (3471, 5)\n"
     ]
    },
    {
     "data": {
      "text/html": [
       "<div>\n",
       "<style scoped>\n",
       "    .dataframe tbody tr th:only-of-type {\n",
       "        vertical-align: middle;\n",
       "    }\n",
       "\n",
       "    .dataframe tbody tr th {\n",
       "        vertical-align: top;\n",
       "    }\n",
       "\n",
       "    .dataframe thead th {\n",
       "        text-align: right;\n",
       "    }\n",
       "</style>\n",
       "<table border=\"1\" class=\"dataframe\">\n",
       "  <thead>\n",
       "    <tr style=\"text-align: right;\">\n",
       "      <th></th>\n",
       "      <th>CustomerIdx</th>\n",
       "      <th>Sector</th>\n",
       "      <th>Subsector</th>\n",
       "      <th>Region</th>\n",
       "      <th>Country</th>\n",
       "    </tr>\n",
       "  </thead>\n",
       "  <tbody>\n",
       "    <tr>\n",
       "      <th>0</th>\n",
       "      <td>2975</td>\n",
       "      <td>Banks and Intermediaries</td>\n",
       "      <td>Bank</td>\n",
       "      <td>Americas</td>\n",
       "      <td>BARBADOS</td>\n",
       "    </tr>\n",
       "    <tr>\n",
       "      <th>1</th>\n",
       "      <td>1594</td>\n",
       "      <td>Asset Managers &amp; Hedge Funds</td>\n",
       "      <td>NaN</td>\n",
       "      <td>Americas</td>\n",
       "      <td>BERMUDA</td>\n",
       "    </tr>\n",
       "    <tr>\n",
       "      <th>2</th>\n",
       "      <td>399</td>\n",
       "      <td>Corporation</td>\n",
       "      <td>Corp - Comm. &amp; Prof. Services</td>\n",
       "      <td>Americas</td>\n",
       "      <td>BERMUDA</td>\n",
       "    </tr>\n",
       "  </tbody>\n",
       "</table>\n",
       "</div>"
      ],
      "text/plain": [
       "   CustomerIdx                        Sector                      Subsector  \\\n",
       "0         2975      Banks and Intermediaries                           Bank   \n",
       "1         1594  Asset Managers & Hedge Funds                            NaN   \n",
       "2          399                   Corporation  Corp - Comm. & Prof. Services   \n",
       "\n",
       "     Region   Country  \n",
       "0  Americas  BARBADOS  \n",
       "1  Americas   BERMUDA  \n",
       "2  Americas   BERMUDA  "
      ]
     },
     "metadata": {},
     "output_type": "display_data"
    },
    {
     "name": "stdout",
     "output_type": "stream",
     "text": [
      "------------------------------\n",
      "Bonds data: (27411, 17)\n"
     ]
    },
    {
     "data": {
      "text/html": [
       "<div>\n",
       "<style scoped>\n",
       "    .dataframe tbody tr th:only-of-type {\n",
       "        vertical-align: middle;\n",
       "    }\n",
       "\n",
       "    .dataframe tbody tr th {\n",
       "        vertical-align: top;\n",
       "    }\n",
       "\n",
       "    .dataframe thead th {\n",
       "        text-align: right;\n",
       "    }\n",
       "</style>\n",
       "<table border=\"1\" class=\"dataframe\">\n",
       "  <thead>\n",
       "    <tr style=\"text-align: right;\">\n",
       "      <th></th>\n",
       "      <th>IsinIdx</th>\n",
       "      <th>TickerIdx</th>\n",
       "      <th>ActualMaturityDateKey</th>\n",
       "      <th>IssueDateKey</th>\n",
       "      <th>Seniority</th>\n",
       "      <th>Currency</th>\n",
       "      <th>ActivityGroup</th>\n",
       "      <th>Region</th>\n",
       "      <th>Activity</th>\n",
       "      <th>RiskCaptain</th>\n",
       "      <th>Owner</th>\n",
       "      <th>CompositeRating</th>\n",
       "      <th>IndustrySector</th>\n",
       "      <th>IndustrySubgroup</th>\n",
       "      <th>MarketIssue</th>\n",
       "      <th>IssuedAmount</th>\n",
       "      <th>CouponType</th>\n",
       "    </tr>\n",
       "  </thead>\n",
       "  <tbody>\n",
       "    <tr>\n",
       "      <th>0</th>\n",
       "      <td>0</td>\n",
       "      <td>238</td>\n",
       "      <td>20381231</td>\n",
       "      <td>20051129</td>\n",
       "      <td>GOV</td>\n",
       "      <td>USD</td>\n",
       "      <td>FLOW LOCAL MARKET</td>\n",
       "      <td>AMERICAS</td>\n",
       "      <td>ARGENTINA</td>\n",
       "      <td>ARGENTINA</td>\n",
       "      <td>EMK ARGENTINA</td>\n",
       "      <td>NR</td>\n",
       "      <td>Government</td>\n",
       "      <td>Sovereign</td>\n",
       "      <td>Domestic</td>\n",
       "      <td>1.246002e+09</td>\n",
       "      <td>STEP CPN</td>\n",
       "    </tr>\n",
       "    <tr>\n",
       "      <th>1</th>\n",
       "      <td>1</td>\n",
       "      <td>238</td>\n",
       "      <td>20331231</td>\n",
       "      <td>20051129</td>\n",
       "      <td>GOV</td>\n",
       "      <td>USD</td>\n",
       "      <td>FLOW LOCAL MARKET</td>\n",
       "      <td>AMERICAS</td>\n",
       "      <td>ARGENTINA</td>\n",
       "      <td>ARGENTINA</td>\n",
       "      <td>EMK ARGENTINA</td>\n",
       "      <td>NR</td>\n",
       "      <td>Government</td>\n",
       "      <td>Sovereign</td>\n",
       "      <td>Domestic</td>\n",
       "      <td>4.901086e+09</td>\n",
       "      <td>FIXED</td>\n",
       "    </tr>\n",
       "    <tr>\n",
       "      <th>2</th>\n",
       "      <td>2</td>\n",
       "      <td>238</td>\n",
       "      <td>20331231</td>\n",
       "      <td>20051129</td>\n",
       "      <td>GOV</td>\n",
       "      <td>ARS</td>\n",
       "      <td>FLOW LOCAL MARKET</td>\n",
       "      <td>AMERICAS</td>\n",
       "      <td>ARGENTINA</td>\n",
       "      <td>ARGENTINA</td>\n",
       "      <td>EMK ARGENTINA</td>\n",
       "      <td>NR</td>\n",
       "      <td>Government</td>\n",
       "      <td>Sovereign</td>\n",
       "      <td>Domestic</td>\n",
       "      <td>1.501245e+10</td>\n",
       "      <td>FIXED</td>\n",
       "    </tr>\n",
       "  </tbody>\n",
       "</table>\n",
       "</div>"
      ],
      "text/plain": [
       "   IsinIdx  TickerIdx  ActualMaturityDateKey  IssueDateKey Seniority Currency  \\\n",
       "0        0        238               20381231      20051129       GOV      USD   \n",
       "1        1        238               20331231      20051129       GOV      USD   \n",
       "2        2        238               20331231      20051129       GOV      ARS   \n",
       "\n",
       "       ActivityGroup    Region   Activity RiskCaptain          Owner  \\\n",
       "0  FLOW LOCAL MARKET  AMERICAS  ARGENTINA   ARGENTINA  EMK ARGENTINA   \n",
       "1  FLOW LOCAL MARKET  AMERICAS  ARGENTINA   ARGENTINA  EMK ARGENTINA   \n",
       "2  FLOW LOCAL MARKET  AMERICAS  ARGENTINA   ARGENTINA  EMK ARGENTINA   \n",
       "\n",
       "  CompositeRating IndustrySector IndustrySubgroup MarketIssue  IssuedAmount  \\\n",
       "0              NR     Government        Sovereign    Domestic  1.246002e+09   \n",
       "1              NR     Government        Sovereign    Domestic  4.901086e+09   \n",
       "2              NR     Government        Sovereign    Domestic  1.501245e+10   \n",
       "\n",
       "  CouponType  \n",
       "0   STEP CPN  \n",
       "1      FIXED  \n",
       "2      FIXED  "
      ]
     },
     "metadata": {},
     "output_type": "display_data"
    },
    {
     "name": "stdout",
     "output_type": "stream",
     "text": [
      "------------------------------\n",
      "Market data: (9867747, 5)\n"
     ]
    },
    {
     "data": {
      "text/html": [
       "<div>\n",
       "<style scoped>\n",
       "    .dataframe tbody tr th:only-of-type {\n",
       "        vertical-align: middle;\n",
       "    }\n",
       "\n",
       "    .dataframe tbody tr th {\n",
       "        vertical-align: top;\n",
       "    }\n",
       "\n",
       "    .dataframe thead th {\n",
       "        text-align: right;\n",
       "    }\n",
       "</style>\n",
       "<table border=\"1\" class=\"dataframe\">\n",
       "  <thead>\n",
       "    <tr style=\"text-align: right;\">\n",
       "      <th></th>\n",
       "      <th>IsinIdx</th>\n",
       "      <th>DateKey</th>\n",
       "      <th>Price</th>\n",
       "      <th>Yield</th>\n",
       "      <th>ZSpread</th>\n",
       "    </tr>\n",
       "  </thead>\n",
       "  <tbody>\n",
       "    <tr>\n",
       "      <th>0</th>\n",
       "      <td>1</td>\n",
       "      <td>20160101</td>\n",
       "      <td>104.250</td>\n",
       "      <td>7.835</td>\n",
       "      <td>5.505</td>\n",
       "    </tr>\n",
       "    <tr>\n",
       "      <th>1</th>\n",
       "      <td>7</td>\n",
       "      <td>20160101</td>\n",
       "      <td>107.500</td>\n",
       "      <td>7.520</td>\n",
       "      <td>5.541</td>\n",
       "    </tr>\n",
       "    <tr>\n",
       "      <th>2</th>\n",
       "      <td>102</td>\n",
       "      <td>20160101</td>\n",
       "      <td>100.746</td>\n",
       "      <td>4.048</td>\n",
       "      <td>2.085</td>\n",
       "    </tr>\n",
       "  </tbody>\n",
       "</table>\n",
       "</div>"
      ],
      "text/plain": [
       "   IsinIdx   DateKey    Price  Yield  ZSpread\n",
       "0        1  20160101  104.250  7.835    5.505\n",
       "1        7  20160101  107.500  7.520    5.541\n",
       "2      102  20160101  100.746  4.048    2.085"
      ]
     },
     "metadata": {},
     "output_type": "display_data"
    },
    {
     "name": "stdout",
     "output_type": "stream",
     "text": [
      "------------------------------\n",
      "Macroeconomic data: (877, 112)\n"
     ]
    },
    {
     "data": {
      "text/html": [
       "<div>\n",
       "<style scoped>\n",
       "    .dataframe tbody tr th:only-of-type {\n",
       "        vertical-align: middle;\n",
       "    }\n",
       "\n",
       "    .dataframe tbody tr th {\n",
       "        vertical-align: top;\n",
       "    }\n",
       "\n",
       "    .dataframe thead th {\n",
       "        text-align: right;\n",
       "    }\n",
       "</style>\n",
       "<table border=\"1\" class=\"dataframe\">\n",
       "  <thead>\n",
       "    <tr style=\"text-align: right;\">\n",
       "      <th></th>\n",
       "      <th>DateKey</th>\n",
       "      <th>SSE</th>\n",
       "      <th>DAX</th>\n",
       "      <th>EUROSTOXX</th>\n",
       "      <th>VSTOXX</th>\n",
       "      <th>FTSE100</th>\n",
       "      <th>HSI</th>\n",
       "      <th>NIKKEI</th>\n",
       "      <th>DOWJONES_INDU</th>\n",
       "      <th>SP500</th>\n",
       "      <th>VIX</th>\n",
       "      <th>FX_USD.ARS</th>\n",
       "      <th>FX_USD.AUD</th>\n",
       "      <th>FX_USD.BRL</th>\n",
       "      <th>FX_USD.CAD</th>\n",
       "      <th>FX_USD.CHF</th>\n",
       "      <th>FX_USD.CNO</th>\n",
       "      <th>FX_USD.CNY</th>\n",
       "      <th>FX_USD.EUR</th>\n",
       "      <th>FX_USD.GBP</th>\n",
       "      <th>FX_USD.HKD</th>\n",
       "      <th>FX_USD.IDR</th>\n",
       "      <th>FX_USD.JPY</th>\n",
       "      <th>FX_USD.NOK</th>\n",
       "      <th>FX_USD.SGD</th>\n",
       "      <th>FX_USD.TRY</th>\n",
       "      <th>FX_USD.ZAR</th>\n",
       "      <th>MoneyMarket_ARS3M</th>\n",
       "      <th>MoneyMarket_AUD3M</th>\n",
       "      <th>MoneyMarket_CAD3M</th>\n",
       "      <th>MoneyMarket_CHF3M</th>\n",
       "      <th>MoneyMarket_CNO3M</th>\n",
       "      <th>MoneyMarket_CNY3M</th>\n",
       "      <th>MoneyMarket_EUR3M</th>\n",
       "      <th>MoneyMarket_GBP3M</th>\n",
       "      <th>MoneyMarket_HKD3M</th>\n",
       "      <th>MoneyMarket_IDR3M</th>\n",
       "      <th>MoneyMarket_JPY3M</th>\n",
       "      <th>MoneyMarket_NOK3M</th>\n",
       "      <th>MoneyMarket_SGD3M</th>\n",
       "      <th>MoneyMarket_TRY3M</th>\n",
       "      <th>MoneyMarket_USD3M</th>\n",
       "      <th>MoneyMarket_ZAR3M</th>\n",
       "      <th>Swap_ARS10Y</th>\n",
       "      <th>Swap_ARS2Y</th>\n",
       "      <th>Swap_ARS5Y</th>\n",
       "      <th>Swap_AUD10Y</th>\n",
       "      <th>Swap_AUD2Y</th>\n",
       "      <th>Swap_AUD30Y</th>\n",
       "      <th>Swap_AUD5Y</th>\n",
       "      <th>Swap_BRL10Y</th>\n",
       "      <th>Swap_BRL2Y</th>\n",
       "      <th>Swap_BRL5Y</th>\n",
       "      <th>Swap_CAD10Y</th>\n",
       "      <th>Swap_CAD2Y</th>\n",
       "      <th>Swap_CAD30Y</th>\n",
       "      <th>Swap_CAD5Y</th>\n",
       "      <th>Swap_CHF10Y</th>\n",
       "      <th>Swap_CHF2Y</th>\n",
       "      <th>Swap_CHF30Y</th>\n",
       "      <th>Swap_CHF5Y</th>\n",
       "      <th>Swap_CNH10Y</th>\n",
       "      <th>Swap_CNH2Y</th>\n",
       "      <th>Swap_CNH30Y</th>\n",
       "      <th>Swap_CNH5Y</th>\n",
       "      <th>Swap_CNO10Y</th>\n",
       "      <th>Swap_CNO2Y</th>\n",
       "      <th>Swap_CNO30Y</th>\n",
       "      <th>Swap_CNO5Y</th>\n",
       "      <th>Swap_CNY10Y</th>\n",
       "      <th>Swap_CNY2Y</th>\n",
       "      <th>Swap_CNY30Y</th>\n",
       "      <th>Swap_CNY5Y</th>\n",
       "      <th>Swap_EUR10Y</th>\n",
       "      <th>Swap_EUR2Y</th>\n",
       "      <th>Swap_EUR30Y</th>\n",
       "      <th>Swap_EUR5Y</th>\n",
       "      <th>Swap_GBP10Y</th>\n",
       "      <th>Swap_GBP2Y</th>\n",
       "      <th>Swap_GBP30Y</th>\n",
       "      <th>Swap_GBP5Y</th>\n",
       "      <th>Swap_HKD10Y</th>\n",
       "      <th>Swap_HKD2Y</th>\n",
       "      <th>Swap_HKD30Y</th>\n",
       "      <th>Swap_HKD5Y</th>\n",
       "      <th>Swap_IDR10Y</th>\n",
       "      <th>Swap_IDR2Y</th>\n",
       "      <th>Swap_IDR30Y</th>\n",
       "      <th>Swap_IDR5Y</th>\n",
       "      <th>Swap_JPY10Y</th>\n",
       "      <th>Swap_JPY2Y</th>\n",
       "      <th>Swap_JPY30Y</th>\n",
       "      <th>Swap_JPY5Y</th>\n",
       "      <th>Swap_NOK10Y</th>\n",
       "      <th>Swap_NOK2Y</th>\n",
       "      <th>Swap_NOK30Y</th>\n",
       "      <th>Swap_NOK5Y</th>\n",
       "      <th>Swap_SGD10Y</th>\n",
       "      <th>Swap_SGD2Y</th>\n",
       "      <th>Swap_SGD30Y</th>\n",
       "      <th>Swap_SGD5Y</th>\n",
       "      <th>Swap_TRY10Y</th>\n",
       "      <th>Swap_TRY2Y</th>\n",
       "      <th>Swap_TRY5Y</th>\n",
       "      <th>Swap_USD10Y</th>\n",
       "      <th>Swap_USD2Y</th>\n",
       "      <th>Swap_USD30Y</th>\n",
       "      <th>Swap_USD5Y</th>\n",
       "      <th>Swap_ZAR10Y</th>\n",
       "      <th>Swap_ZAR2Y</th>\n",
       "      <th>Swap_ZAR30Y</th>\n",
       "      <th>Swap_ZAR5Y</th>\n",
       "    </tr>\n",
       "  </thead>\n",
       "  <tbody>\n",
       "    <tr>\n",
       "      <th>0</th>\n",
       "      <td>20150101</td>\n",
       "      <td>NaN</td>\n",
       "      <td>NaN</td>\n",
       "      <td>NaN</td>\n",
       "      <td>NaN</td>\n",
       "      <td>NaN</td>\n",
       "      <td>NaN</td>\n",
       "      <td>NaN</td>\n",
       "      <td>NaN</td>\n",
       "      <td>NaN</td>\n",
       "      <td>19.20</td>\n",
       "      <td>0.116959</td>\n",
       "      <td>0.81620</td>\n",
       "      <td>0.377658</td>\n",
       "      <td>0.861030</td>\n",
       "      <td>1.006264</td>\n",
       "      <td>0.161512</td>\n",
       "      <td>0.163399</td>\n",
       "      <td>1.2101</td>\n",
       "      <td>1.55775</td>\n",
       "      <td>0.128941</td>\n",
       "      <td>0.000081</td>\n",
       "      <td>0.008341</td>\n",
       "      <td>0.133451</td>\n",
       "      <td>0.756287</td>\n",
       "      <td>0.428964</td>\n",
       "      <td>0.086457</td>\n",
       "      <td>35.230452</td>\n",
       "      <td>2.724540</td>\n",
       "      <td>1.303309</td>\n",
       "      <td>-0.063143</td>\n",
       "      <td>3.701588</td>\n",
       "      <td>3.617925</td>\n",
       "      <td>0.077487</td>\n",
       "      <td>0.561227</td>\n",
       "      <td>0.381829</td>\n",
       "      <td>7.17183</td>\n",
       "      <td>0.112078</td>\n",
       "      <td>1.459648</td>\n",
       "      <td>0.709986</td>\n",
       "      <td>10.001685</td>\n",
       "      <td>0.256570</td>\n",
       "      <td>6.130798</td>\n",
       "      <td>19.989643</td>\n",
       "      <td>29.980614</td>\n",
       "      <td>21.985733</td>\n",
       "      <td>3.041150</td>\n",
       "      <td>2.398950</td>\n",
       "      <td>3.625076</td>\n",
       "      <td>2.558248</td>\n",
       "      <td>NaN</td>\n",
       "      <td>NaN</td>\n",
       "      <td>NaN</td>\n",
       "      <td>2.277279</td>\n",
       "      <td>NaN</td>\n",
       "      <td>2.760043</td>\n",
       "      <td>1.775859</td>\n",
       "      <td>0.409878</td>\n",
       "      <td>NaN</td>\n",
       "      <td>1.082563</td>\n",
       "      <td>-0.046046</td>\n",
       "      <td>3.749868</td>\n",
       "      <td>3.418686</td>\n",
       "      <td>NaN</td>\n",
       "      <td>3.549519</td>\n",
       "      <td>3.750081</td>\n",
       "      <td>3.419989</td>\n",
       "      <td>NaN</td>\n",
       "      <td>3.550031</td>\n",
       "      <td>3.439794</td>\n",
       "      <td>3.218679</td>\n",
       "      <td>NaN</td>\n",
       "      <td>3.239508</td>\n",
       "      <td>0.697389</td>\n",
       "      <td>NaN</td>\n",
       "      <td>1.408397</td>\n",
       "      <td>0.233572</td>\n",
       "      <td>NaN</td>\n",
       "      <td>NaN</td>\n",
       "      <td>NaN</td>\n",
       "      <td>NaN</td>\n",
       "      <td>2.252274</td>\n",
       "      <td>0.95467</td>\n",
       "      <td>NaN</td>\n",
       "      <td>1.814259</td>\n",
       "      <td>8.955845</td>\n",
       "      <td>8.368177</td>\n",
       "      <td>9.552123</td>\n",
       "      <td>8.708471</td>\n",
       "      <td>0.444559</td>\n",
       "      <td>NaN</td>\n",
       "      <td>1.233032</td>\n",
       "      <td>0.180984</td>\n",
       "      <td>1.806932</td>\n",
       "      <td>NaN</td>\n",
       "      <td>2.179804</td>\n",
       "      <td>1.295793</td>\n",
       "      <td>NaN</td>\n",
       "      <td>NaN</td>\n",
       "      <td>NaN</td>\n",
       "      <td>NaN</td>\n",
       "      <td>9.885583</td>\n",
       "      <td>10.069276</td>\n",
       "      <td>9.915120</td>\n",
       "      <td>2.295037</td>\n",
       "      <td>NaN</td>\n",
       "      <td>2.712112</td>\n",
       "      <td>1.774452</td>\n",
       "      <td>7.963276</td>\n",
       "      <td>6.856526</td>\n",
       "      <td>8.331874</td>\n",
       "      <td>7.403867</td>\n",
       "    </tr>\n",
       "    <tr>\n",
       "      <th>1</th>\n",
       "      <td>20150102</td>\n",
       "      <td>NaN</td>\n",
       "      <td>9764.73</td>\n",
       "      <td>3139.44</td>\n",
       "      <td>26.2531</td>\n",
       "      <td>6547.80</td>\n",
       "      <td>23857.82</td>\n",
       "      <td>NaN</td>\n",
       "      <td>17832.99</td>\n",
       "      <td>2058.20</td>\n",
       "      <td>17.79</td>\n",
       "      <td>0.116891</td>\n",
       "      <td>0.81140</td>\n",
       "      <td>0.371292</td>\n",
       "      <td>0.851136</td>\n",
       "      <td>0.998851</td>\n",
       "      <td>0.161186</td>\n",
       "      <td>0.163292</td>\n",
       "      <td>1.2008</td>\n",
       "      <td>1.53340</td>\n",
       "      <td>0.128934</td>\n",
       "      <td>0.000080</td>\n",
       "      <td>0.008308</td>\n",
       "      <td>0.131841</td>\n",
       "      <td>0.752757</td>\n",
       "      <td>0.427241</td>\n",
       "      <td>0.085609</td>\n",
       "      <td>33.000000</td>\n",
       "      <td>2.736281</td>\n",
       "      <td>1.302850</td>\n",
       "      <td>-0.063000</td>\n",
       "      <td>3.701588</td>\n",
       "      <td>3.617925</td>\n",
       "      <td>0.077179</td>\n",
       "      <td>0.563380</td>\n",
       "      <td>0.385000</td>\n",
       "      <td>7.10000</td>\n",
       "      <td>0.112078</td>\n",
       "      <td>1.490000</td>\n",
       "      <td>0.790000</td>\n",
       "      <td>10.020000</td>\n",
       "      <td>0.255218</td>\n",
       "      <td>6.125000</td>\n",
       "      <td>20.000000</td>\n",
       "      <td>30.000000</td>\n",
       "      <td>22.000000</td>\n",
       "      <td>3.108394</td>\n",
       "      <td>2.452905</td>\n",
       "      <td>3.692179</td>\n",
       "      <td>2.625847</td>\n",
       "      <td>11.767860</td>\n",
       "      <td>12.807338</td>\n",
       "      <td>12.202677</td>\n",
       "      <td>2.231223</td>\n",
       "      <td>1.445105</td>\n",
       "      <td>2.716551</td>\n",
       "      <td>1.748069</td>\n",
       "      <td>0.367391</td>\n",
       "      <td>NaN</td>\n",
       "      <td>1.040147</td>\n",
       "      <td>-0.058452</td>\n",
       "      <td>3.750081</td>\n",
       "      <td>3.419989</td>\n",
       "      <td>NaN</td>\n",
       "      <td>3.550031</td>\n",
       "      <td>3.750081</td>\n",
       "      <td>3.419989</td>\n",
       "      <td>NaN</td>\n",
       "      <td>3.550031</td>\n",
       "      <td>3.439794</td>\n",
       "      <td>3.218679</td>\n",
       "      <td>NaN</td>\n",
       "      <td>3.239508</td>\n",
       "      <td>0.640191</td>\n",
       "      <td>0.062120</td>\n",
       "      <td>1.347191</td>\n",
       "      <td>0.211268</td>\n",
       "      <td>1.674890</td>\n",
       "      <td>0.810358</td>\n",
       "      <td>2.109754</td>\n",
       "      <td>1.305976</td>\n",
       "      <td>2.290000</td>\n",
       "      <td>0.97500</td>\n",
       "      <td>2.75196</td>\n",
       "      <td>1.840000</td>\n",
       "      <td>8.950000</td>\n",
       "      <td>8.350000</td>\n",
       "      <td>9.550000</td>\n",
       "      <td>8.700000</td>\n",
       "      <td>0.444559</td>\n",
       "      <td>NaN</td>\n",
       "      <td>1.233032</td>\n",
       "      <td>0.180984</td>\n",
       "      <td>1.794443</td>\n",
       "      <td>1.100220</td>\n",
       "      <td>2.168744</td>\n",
       "      <td>1.280511</td>\n",
       "      <td>2.447394</td>\n",
       "      <td>1.132505</td>\n",
       "      <td>2.95190</td>\n",
       "      <td>1.948474</td>\n",
       "      <td>9.946260</td>\n",
       "      <td>10.151881</td>\n",
       "      <td>9.976101</td>\n",
       "      <td>2.236910</td>\n",
       "      <td>0.893242</td>\n",
       "      <td>2.647499</td>\n",
       "      <td>1.746344</td>\n",
       "      <td>7.940000</td>\n",
       "      <td>6.840000</td>\n",
       "      <td>8.310000</td>\n",
       "      <td>7.390000</td>\n",
       "    </tr>\n",
       "    <tr>\n",
       "      <th>2</th>\n",
       "      <td>20150105</td>\n",
       "      <td>3350.519</td>\n",
       "      <td>9473.16</td>\n",
       "      <td>3023.14</td>\n",
       "      <td>29.6236</td>\n",
       "      <td>6417.16</td>\n",
       "      <td>23721.32</td>\n",
       "      <td>17408.71</td>\n",
       "      <td>17501.65</td>\n",
       "      <td>2020.58</td>\n",
       "      <td>19.92</td>\n",
       "      <td>0.116782</td>\n",
       "      <td>0.80905</td>\n",
       "      <td>0.366757</td>\n",
       "      <td>0.850268</td>\n",
       "      <td>0.993764</td>\n",
       "      <td>0.160822</td>\n",
       "      <td>0.163265</td>\n",
       "      <td>1.1939</td>\n",
       "      <td>1.52555</td>\n",
       "      <td>0.128926</td>\n",
       "      <td>0.000079</td>\n",
       "      <td>0.008366</td>\n",
       "      <td>0.131277</td>\n",
       "      <td>0.749260</td>\n",
       "      <td>0.429304</td>\n",
       "      <td>0.085426</td>\n",
       "      <td>32.000000</td>\n",
       "      <td>2.742523</td>\n",
       "      <td>1.303171</td>\n",
       "      <td>-0.063000</td>\n",
       "      <td>3.749732</td>\n",
       "      <td>3.691439</td>\n",
       "      <td>0.075252</td>\n",
       "      <td>0.563380</td>\n",
       "      <td>0.383570</td>\n",
       "      <td>7.10000</td>\n",
       "      <td>0.112140</td>\n",
       "      <td>1.450000</td>\n",
       "      <td>0.875000</td>\n",
       "      <td>9.993400</td>\n",
       "      <td>0.254194</td>\n",
       "      <td>6.125000</td>\n",
       "      <td>20.000000</td>\n",
       "      <td>30.000000</td>\n",
       "      <td>22.000000</td>\n",
       "      <td>3.007227</td>\n",
       "      <td>2.423082</td>\n",
       "      <td>3.591836</td>\n",
       "      <td>2.566016</td>\n",
       "      <td>11.809585</td>\n",
       "      <td>12.736379</td>\n",
       "      <td>12.154331</td>\n",
       "      <td>2.180266</td>\n",
       "      <td>1.420899</td>\n",
       "      <td>2.668708</td>\n",
       "      <td>1.713829</td>\n",
       "      <td>0.350011</td>\n",
       "      <td>-0.263049</td>\n",
       "      <td>0.981356</td>\n",
       "      <td>-0.069792</td>\n",
       "      <td>3.700010</td>\n",
       "      <td>3.405070</td>\n",
       "      <td>NaN</td>\n",
       "      <td>3.500016</td>\n",
       "      <td>3.700010</td>\n",
       "      <td>3.405070</td>\n",
       "      <td>NaN</td>\n",
       "      <td>3.500016</td>\n",
       "      <td>3.450010</td>\n",
       "      <td>3.230070</td>\n",
       "      <td>NaN</td>\n",
       "      <td>3.250016</td>\n",
       "      <td>0.658914</td>\n",
       "      <td>0.063256</td>\n",
       "      <td>1.351414</td>\n",
       "      <td>0.220293</td>\n",
       "      <td>1.613752</td>\n",
       "      <td>0.799833</td>\n",
       "      <td>2.043961</td>\n",
       "      <td>1.251222</td>\n",
       "      <td>2.190000</td>\n",
       "      <td>0.94000</td>\n",
       "      <td>2.65280</td>\n",
       "      <td>1.750000</td>\n",
       "      <td>8.950000</td>\n",
       "      <td>8.350000</td>\n",
       "      <td>9.550000</td>\n",
       "      <td>8.700000</td>\n",
       "      <td>0.436972</td>\n",
       "      <td>0.112315</td>\n",
       "      <td>1.225011</td>\n",
       "      <td>0.178599</td>\n",
       "      <td>1.747772</td>\n",
       "      <td>1.063624</td>\n",
       "      <td>2.122179</td>\n",
       "      <td>1.238903</td>\n",
       "      <td>2.417213</td>\n",
       "      <td>1.152474</td>\n",
       "      <td>2.92079</td>\n",
       "      <td>1.923255</td>\n",
       "      <td>9.564968</td>\n",
       "      <td>9.720274</td>\n",
       "      <td>9.575104</td>\n",
       "      <td>2.148063</td>\n",
       "      <td>0.891052</td>\n",
       "      <td>2.549802</td>\n",
       "      <td>1.695687</td>\n",
       "      <td>7.840000</td>\n",
       "      <td>6.780000</td>\n",
       "      <td>8.210000</td>\n",
       "      <td>7.300000</td>\n",
       "    </tr>\n",
       "  </tbody>\n",
       "</table>\n",
       "</div>"
      ],
      "text/plain": [
       "    DateKey       SSE      DAX  EUROSTOXX   VSTOXX  FTSE100       HSI  \\\n",
       "0  20150101       NaN      NaN        NaN      NaN      NaN       NaN   \n",
       "1  20150102       NaN  9764.73    3139.44  26.2531  6547.80  23857.82   \n",
       "2  20150105  3350.519  9473.16    3023.14  29.6236  6417.16  23721.32   \n",
       "\n",
       "     NIKKEI  DOWJONES_INDU    SP500    VIX  FX_USD.ARS  FX_USD.AUD  \\\n",
       "0       NaN            NaN      NaN  19.20    0.116959     0.81620   \n",
       "1       NaN       17832.99  2058.20  17.79    0.116891     0.81140   \n",
       "2  17408.71       17501.65  2020.58  19.92    0.116782     0.80905   \n",
       "\n",
       "   FX_USD.BRL  FX_USD.CAD  FX_USD.CHF  FX_USD.CNO  FX_USD.CNY  FX_USD.EUR  \\\n",
       "0    0.377658    0.861030    1.006264    0.161512    0.163399      1.2101   \n",
       "1    0.371292    0.851136    0.998851    0.161186    0.163292      1.2008   \n",
       "2    0.366757    0.850268    0.993764    0.160822    0.163265      1.1939   \n",
       "\n",
       "   FX_USD.GBP  FX_USD.HKD  FX_USD.IDR  FX_USD.JPY  FX_USD.NOK  FX_USD.SGD  \\\n",
       "0     1.55775    0.128941    0.000081    0.008341    0.133451    0.756287   \n",
       "1     1.53340    0.128934    0.000080    0.008308    0.131841    0.752757   \n",
       "2     1.52555    0.128926    0.000079    0.008366    0.131277    0.749260   \n",
       "\n",
       "   FX_USD.TRY  FX_USD.ZAR  MoneyMarket_ARS3M  MoneyMarket_AUD3M  \\\n",
       "0    0.428964    0.086457          35.230452           2.724540   \n",
       "1    0.427241    0.085609          33.000000           2.736281   \n",
       "2    0.429304    0.085426          32.000000           2.742523   \n",
       "\n",
       "   MoneyMarket_CAD3M  MoneyMarket_CHF3M  MoneyMarket_CNO3M  MoneyMarket_CNY3M  \\\n",
       "0           1.303309          -0.063143           3.701588           3.617925   \n",
       "1           1.302850          -0.063000           3.701588           3.617925   \n",
       "2           1.303171          -0.063000           3.749732           3.691439   \n",
       "\n",
       "   MoneyMarket_EUR3M  MoneyMarket_GBP3M  MoneyMarket_HKD3M  MoneyMarket_IDR3M  \\\n",
       "0           0.077487           0.561227           0.381829            7.17183   \n",
       "1           0.077179           0.563380           0.385000            7.10000   \n",
       "2           0.075252           0.563380           0.383570            7.10000   \n",
       "\n",
       "   MoneyMarket_JPY3M  MoneyMarket_NOK3M  MoneyMarket_SGD3M  MoneyMarket_TRY3M  \\\n",
       "0           0.112078           1.459648           0.709986          10.001685   \n",
       "1           0.112078           1.490000           0.790000          10.020000   \n",
       "2           0.112140           1.450000           0.875000           9.993400   \n",
       "\n",
       "   MoneyMarket_USD3M  MoneyMarket_ZAR3M  Swap_ARS10Y  Swap_ARS2Y  Swap_ARS5Y  \\\n",
       "0           0.256570           6.130798    19.989643   29.980614   21.985733   \n",
       "1           0.255218           6.125000    20.000000   30.000000   22.000000   \n",
       "2           0.254194           6.125000    20.000000   30.000000   22.000000   \n",
       "\n",
       "   Swap_AUD10Y  Swap_AUD2Y  Swap_AUD30Y  Swap_AUD5Y  Swap_BRL10Y  Swap_BRL2Y  \\\n",
       "0     3.041150    2.398950     3.625076    2.558248          NaN         NaN   \n",
       "1     3.108394    2.452905     3.692179    2.625847    11.767860   12.807338   \n",
       "2     3.007227    2.423082     3.591836    2.566016    11.809585   12.736379   \n",
       "\n",
       "   Swap_BRL5Y  Swap_CAD10Y  Swap_CAD2Y  Swap_CAD30Y  Swap_CAD5Y  Swap_CHF10Y  \\\n",
       "0         NaN     2.277279         NaN     2.760043    1.775859     0.409878   \n",
       "1   12.202677     2.231223    1.445105     2.716551    1.748069     0.367391   \n",
       "2   12.154331     2.180266    1.420899     2.668708    1.713829     0.350011   \n",
       "\n",
       "   Swap_CHF2Y  Swap_CHF30Y  Swap_CHF5Y  Swap_CNH10Y  Swap_CNH2Y  Swap_CNH30Y  \\\n",
       "0         NaN     1.082563   -0.046046     3.749868    3.418686          NaN   \n",
       "1         NaN     1.040147   -0.058452     3.750081    3.419989          NaN   \n",
       "2   -0.263049     0.981356   -0.069792     3.700010    3.405070          NaN   \n",
       "\n",
       "   Swap_CNH5Y  Swap_CNO10Y  Swap_CNO2Y  Swap_CNO30Y  Swap_CNO5Y  Swap_CNY10Y  \\\n",
       "0    3.549519     3.750081    3.419989          NaN    3.550031     3.439794   \n",
       "1    3.550031     3.750081    3.419989          NaN    3.550031     3.439794   \n",
       "2    3.500016     3.700010    3.405070          NaN    3.500016     3.450010   \n",
       "\n",
       "   Swap_CNY2Y  Swap_CNY30Y  Swap_CNY5Y  Swap_EUR10Y  Swap_EUR2Y  Swap_EUR30Y  \\\n",
       "0    3.218679          NaN    3.239508     0.697389         NaN     1.408397   \n",
       "1    3.218679          NaN    3.239508     0.640191    0.062120     1.347191   \n",
       "2    3.230070          NaN    3.250016     0.658914    0.063256     1.351414   \n",
       "\n",
       "   Swap_EUR5Y  Swap_GBP10Y  Swap_GBP2Y  Swap_GBP30Y  Swap_GBP5Y  Swap_HKD10Y  \\\n",
       "0    0.233572          NaN         NaN          NaN         NaN     2.252274   \n",
       "1    0.211268     1.674890    0.810358     2.109754    1.305976     2.290000   \n",
       "2    0.220293     1.613752    0.799833     2.043961    1.251222     2.190000   \n",
       "\n",
       "   Swap_HKD2Y  Swap_HKD30Y  Swap_HKD5Y  Swap_IDR10Y  Swap_IDR2Y  Swap_IDR30Y  \\\n",
       "0     0.95467          NaN    1.814259     8.955845    8.368177     9.552123   \n",
       "1     0.97500      2.75196    1.840000     8.950000    8.350000     9.550000   \n",
       "2     0.94000      2.65280    1.750000     8.950000    8.350000     9.550000   \n",
       "\n",
       "   Swap_IDR5Y  Swap_JPY10Y  Swap_JPY2Y  Swap_JPY30Y  Swap_JPY5Y  Swap_NOK10Y  \\\n",
       "0    8.708471     0.444559         NaN     1.233032    0.180984     1.806932   \n",
       "1    8.700000     0.444559         NaN     1.233032    0.180984     1.794443   \n",
       "2    8.700000     0.436972    0.112315     1.225011    0.178599     1.747772   \n",
       "\n",
       "   Swap_NOK2Y  Swap_NOK30Y  Swap_NOK5Y  Swap_SGD10Y  Swap_SGD2Y  Swap_SGD30Y  \\\n",
       "0         NaN     2.179804    1.295793          NaN         NaN          NaN   \n",
       "1    1.100220     2.168744    1.280511     2.447394    1.132505      2.95190   \n",
       "2    1.063624     2.122179    1.238903     2.417213    1.152474      2.92079   \n",
       "\n",
       "   Swap_SGD5Y  Swap_TRY10Y  Swap_TRY2Y  Swap_TRY5Y  Swap_USD10Y  Swap_USD2Y  \\\n",
       "0         NaN     9.885583   10.069276    9.915120     2.295037         NaN   \n",
       "1    1.948474     9.946260   10.151881    9.976101     2.236910    0.893242   \n",
       "2    1.923255     9.564968    9.720274    9.575104     2.148063    0.891052   \n",
       "\n",
       "   Swap_USD30Y  Swap_USD5Y  Swap_ZAR10Y  Swap_ZAR2Y  Swap_ZAR30Y  Swap_ZAR5Y  \n",
       "0     2.712112    1.774452     7.963276    6.856526     8.331874    7.403867  \n",
       "1     2.647499    1.746344     7.940000    6.840000     8.310000    7.390000  \n",
       "2     2.549802    1.695687     7.840000    6.780000     8.210000    7.300000  "
      ]
     },
     "metadata": {},
     "output_type": "display_data"
    },
    {
     "name": "stdout",
     "output_type": "stream",
     "text": [
      "------------------------------\n",
      "Trade data: (6762021, 8)\n"
     ]
    },
    {
     "data": {
      "text/html": [
       "<div>\n",
       "<style scoped>\n",
       "    .dataframe tbody tr th:only-of-type {\n",
       "        vertical-align: middle;\n",
       "    }\n",
       "\n",
       "    .dataframe tbody tr th {\n",
       "        vertical-align: top;\n",
       "    }\n",
       "\n",
       "    .dataframe thead th {\n",
       "        text-align: right;\n",
       "    }\n",
       "</style>\n",
       "<table border=\"1\" class=\"dataframe\">\n",
       "  <thead>\n",
       "    <tr style=\"text-align: right;\">\n",
       "      <th></th>\n",
       "      <th>TradeDateKey</th>\n",
       "      <th>CustomerIdx</th>\n",
       "      <th>IsinIdx</th>\n",
       "      <th>BuySell</th>\n",
       "      <th>NotionalEUR</th>\n",
       "      <th>Price</th>\n",
       "      <th>TradeStatus</th>\n",
       "      <th>CustomerInterest</th>\n",
       "    </tr>\n",
       "  </thead>\n",
       "  <tbody>\n",
       "    <tr>\n",
       "      <th>0</th>\n",
       "      <td>20161207</td>\n",
       "      <td>2789</td>\n",
       "      <td>8478</td>\n",
       "      <td>Sell</td>\n",
       "      <td>653168.0</td>\n",
       "      <td>0.0</td>\n",
       "      <td>Unknown</td>\n",
       "      <td>1.0</td>\n",
       "    </tr>\n",
       "    <tr>\n",
       "      <th>1</th>\n",
       "      <td>20170329</td>\n",
       "      <td>2574</td>\n",
       "      <td>14562</td>\n",
       "      <td>Buy</td>\n",
       "      <td>1656487.0</td>\n",
       "      <td>0.0</td>\n",
       "      <td>Unknown</td>\n",
       "      <td>1.0</td>\n",
       "    </tr>\n",
       "    <tr>\n",
       "      <th>2</th>\n",
       "      <td>20170418</td>\n",
       "      <td>2574</td>\n",
       "      <td>4747</td>\n",
       "      <td>Buy</td>\n",
       "      <td>939673.0</td>\n",
       "      <td>0.0</td>\n",
       "      <td>Unknown</td>\n",
       "      <td>1.0</td>\n",
       "    </tr>\n",
       "  </tbody>\n",
       "</table>\n",
       "</div>"
      ],
      "text/plain": [
       "   TradeDateKey  CustomerIdx  IsinIdx BuySell  NotionalEUR  Price TradeStatus  \\\n",
       "0      20161207         2789     8478    Sell     653168.0    0.0     Unknown   \n",
       "1      20170329         2574    14562     Buy    1656487.0    0.0     Unknown   \n",
       "2      20170418         2574     4747     Buy     939673.0    0.0     Unknown   \n",
       "\n",
       "   CustomerInterest  \n",
       "0               1.0  \n",
       "1               1.0  \n",
       "2               1.0  "
      ]
     },
     "metadata": {},
     "output_type": "display_data"
    }
   ],
   "source": [
    "# check all datasets\n",
    "print(\"Test data:\", test.shape)\n",
    "display(test.head(3))\n",
    "print(\"------------------------------\")\n",
    "print(\"Customer data:\", cust.shape)\n",
    "display(cust.head(3))\n",
    "print(\"------------------------------\")\n",
    "print(\"Bonds data:\", bond.shape)\n",
    "display(bond.head(3))\n",
    "print(\"------------------------------\")\n",
    "print(\"Market data:\", markt.shape)\n",
    "display(markt.head(3))\n",
    "print(\"------------------------------\")\n",
    "print(\"Macroeconomic data:\", macro.shape)\n",
    "display(macro.head(3))\n",
    "print(\"------------------------------\")\n",
    "print(\"Trade data:\", trade.shape)\n",
    "display(trade.head(3))"
   ]
  },
  {
   "cell_type": "markdown",
   "metadata": {},
   "source": [
    "# 4. PREPROCESSING"
   ]
  },
  {
   "cell_type": "markdown",
   "metadata": {},
   "source": [
    "## 4.1. TRADE & TEST DATA"
   ]
  },
  {
   "cell_type": "markdown",
   "metadata": {},
   "source": [
    "#### SOME CHECKS"
   ]
  },
  {
   "cell_type": "code",
   "execution_count": 7,
   "metadata": {},
   "outputs": [
    {
     "data": {
      "text/html": [
       "<div>\n",
       "<style scoped>\n",
       "    .dataframe tbody tr th:only-of-type {\n",
       "        vertical-align: middle;\n",
       "    }\n",
       "\n",
       "    .dataframe tbody tr th {\n",
       "        vertical-align: top;\n",
       "    }\n",
       "\n",
       "    .dataframe thead th {\n",
       "        text-align: right;\n",
       "    }\n",
       "</style>\n",
       "<table border=\"1\" class=\"dataframe\">\n",
       "  <thead>\n",
       "    <tr style=\"text-align: right;\">\n",
       "      <th></th>\n",
       "      <th>Total</th>\n",
       "      <th>Percent</th>\n",
       "    </tr>\n",
       "  </thead>\n",
       "  <tbody>\n",
       "    <tr>\n",
       "      <th>Price</th>\n",
       "      <td>4617933</td>\n",
       "      <td>68.292201</td>\n",
       "    </tr>\n",
       "  </tbody>\n",
       "</table>\n",
       "</div>"
      ],
      "text/plain": [
       "         Total    Percent\n",
       "Price  4617933  68.292201"
      ]
     },
     "execution_count": 7,
     "metadata": {},
     "output_type": "execute_result"
    }
   ],
   "source": [
    "# check missings\n",
    "count_missings(trade)"
   ]
  },
  {
   "cell_type": "code",
   "execution_count": 8,
   "metadata": {},
   "outputs": [
    {
     "data": {
      "text/html": [
       "<div>\n",
       "<style scoped>\n",
       "    .dataframe tbody tr th:only-of-type {\n",
       "        vertical-align: middle;\n",
       "    }\n",
       "\n",
       "    .dataframe tbody tr th {\n",
       "        vertical-align: top;\n",
       "    }\n",
       "\n",
       "    .dataframe thead th {\n",
       "        text-align: right;\n",
       "    }\n",
       "</style>\n",
       "<table border=\"1\" class=\"dataframe\">\n",
       "  <thead>\n",
       "    <tr style=\"text-align: right;\">\n",
       "      <th></th>\n",
       "      <th>TradeDateKey</th>\n",
       "      <th>CustomerIdx</th>\n",
       "      <th>IsinIdx</th>\n",
       "      <th>NotionalEUR</th>\n",
       "      <th>Price</th>\n",
       "      <th>CustomerInterest</th>\n",
       "    </tr>\n",
       "  </thead>\n",
       "  <tbody>\n",
       "    <tr>\n",
       "      <th>count</th>\n",
       "      <td>6.762021e+06</td>\n",
       "      <td>6.762021e+06</td>\n",
       "      <td>6.762021e+06</td>\n",
       "      <td>6.762021e+06</td>\n",
       "      <td>2.144088e+06</td>\n",
       "      <td>6.762021e+06</td>\n",
       "    </tr>\n",
       "    <tr>\n",
       "      <th>mean</th>\n",
       "      <td>2.016750e+07</td>\n",
       "      <td>1.922354e+03</td>\n",
       "      <td>1.460369e+04</td>\n",
       "      <td>6.313228e+06</td>\n",
       "      <td>1.779008e+05</td>\n",
       "      <td>3.271106e-01</td>\n",
       "    </tr>\n",
       "    <tr>\n",
       "      <th>std</th>\n",
       "      <td>6.768082e+03</td>\n",
       "      <td>8.579293e+02</td>\n",
       "      <td>7.963809e+03</td>\n",
       "      <td>2.712408e+08</td>\n",
       "      <td>1.318503e+06</td>\n",
       "      <td>4.691581e-01</td>\n",
       "    </tr>\n",
       "    <tr>\n",
       "      <th>min</th>\n",
       "      <td>2.016010e+07</td>\n",
       "      <td>0.000000e+00</td>\n",
       "      <td>0.000000e+00</td>\n",
       "      <td>-1.485547e+08</td>\n",
       "      <td>-9.999990e+05</td>\n",
       "      <td>0.000000e+00</td>\n",
       "    </tr>\n",
       "    <tr>\n",
       "      <th>25%</th>\n",
       "      <td>2.016063e+07</td>\n",
       "      <td>1.288000e+03</td>\n",
       "      <td>7.392000e+03</td>\n",
       "      <td>3.410980e+05</td>\n",
       "      <td>9.313780e+01</td>\n",
       "      <td>0.000000e+00</td>\n",
       "    </tr>\n",
       "    <tr>\n",
       "      <th>50%</th>\n",
       "      <td>2.017023e+07</td>\n",
       "      <td>2.090000e+03</td>\n",
       "      <td>1.522900e+04</td>\n",
       "      <td>8.812120e+05</td>\n",
       "      <td>1.010000e+02</td>\n",
       "      <td>0.000000e+00</td>\n",
       "    </tr>\n",
       "    <tr>\n",
       "      <th>75%</th>\n",
       "      <td>2.017093e+07</td>\n",
       "      <td>2.574000e+03</td>\n",
       "      <td>2.211900e+04</td>\n",
       "      <td>2.136842e+06</td>\n",
       "      <td>1.075000e+02</td>\n",
       "      <td>1.000000e+00</td>\n",
       "    </tr>\n",
       "    <tr>\n",
       "      <th>max</th>\n",
       "      <td>2.018042e+07</td>\n",
       "      <td>3.470000e+03</td>\n",
       "      <td>2.739400e+04</td>\n",
       "      <td>2.000000e+11</td>\n",
       "      <td>9.999999e+06</td>\n",
       "      <td>1.000000e+00</td>\n",
       "    </tr>\n",
       "  </tbody>\n",
       "</table>\n",
       "</div>"
      ],
      "text/plain": [
       "       TradeDateKey   CustomerIdx       IsinIdx   NotionalEUR         Price  \\\n",
       "count  6.762021e+06  6.762021e+06  6.762021e+06  6.762021e+06  2.144088e+06   \n",
       "mean   2.016750e+07  1.922354e+03  1.460369e+04  6.313228e+06  1.779008e+05   \n",
       "std    6.768082e+03  8.579293e+02  7.963809e+03  2.712408e+08  1.318503e+06   \n",
       "min    2.016010e+07  0.000000e+00  0.000000e+00 -1.485547e+08 -9.999990e+05   \n",
       "25%    2.016063e+07  1.288000e+03  7.392000e+03  3.410980e+05  9.313780e+01   \n",
       "50%    2.017023e+07  2.090000e+03  1.522900e+04  8.812120e+05  1.010000e+02   \n",
       "75%    2.017093e+07  2.574000e+03  2.211900e+04  2.136842e+06  1.075000e+02   \n",
       "max    2.018042e+07  3.470000e+03  2.739400e+04  2.000000e+11  9.999999e+06   \n",
       "\n",
       "       CustomerInterest  \n",
       "count      6.762021e+06  \n",
       "mean       3.271106e-01  \n",
       "std        4.691581e-01  \n",
       "min        0.000000e+00  \n",
       "25%        0.000000e+00  \n",
       "50%        0.000000e+00  \n",
       "75%        1.000000e+00  \n",
       "max        1.000000e+00  "
      ]
     },
     "execution_count": 8,
     "metadata": {},
     "output_type": "execute_result"
    }
   ],
   "source": [
    "# descriptive stats\n",
    "trade.describe()"
   ]
  },
  {
   "cell_type": "markdown",
   "metadata": {},
   "source": [
    "The number of observations and bonds per customer is different in trade and test data. Trade data only contains bonds that a given customer has actually traded. In test data, for each customer, the set of bonds is only a subset of the bonds that he actually traded in the past (but not the whole set, which leads to a smaller number of observations per customer in the test data). Also, the test set is biased towards very active traders."
   ]
  },
  {
   "cell_type": "code",
   "execution_count": 9,
   "metadata": {},
   "outputs": [
    {
     "name": "stdout",
     "output_type": "stream",
     "text": [
      "Finished\n"
     ]
    }
   ],
   "source": [
    "# check if bonds in test are a subset of bonds in trade\n",
    "# print \"No\" if bonds in test are new for that customer\n",
    "for i in test.CustomerIdx.unique():\n",
    "    A = trade[trade.CustomerIdx == i].IsinIdx.unique()\n",
    "    B = test[test.CustomerIdx == i].IsinIdx.unique()\n",
    "    C = set(B).issubset(set(A))\n",
    "    if C == False: \n",
    "        print(\"No!\")\n",
    "print(\"Finished\")"
   ]
  },
  {
   "cell_type": "code",
   "execution_count": 10,
   "metadata": {},
   "outputs": [
    {
     "data": {
      "text/plain": [
       "count     3439.000000\n",
       "mean       405.832800\n",
       "std       1145.875089\n",
       "min          1.000000\n",
       "25%          5.000000\n",
       "50%         33.000000\n",
       "75%        233.500000\n",
       "max      14132.000000\n",
       "Name: IsinIdx, dtype: float64"
      ]
     },
     "metadata": {},
     "output_type": "display_data"
    },
    {
     "name": "stdout",
     "output_type": "stream",
     "text": [
      "------------------------------\n"
     ]
    },
    {
     "data": {
      "text/plain": [
       "count    2495.000000\n",
       "mean       97.145892\n",
       "std       301.375388\n",
       "min         1.000000\n",
       "25%         3.000000\n",
       "50%        12.000000\n",
       "75%        58.000000\n",
       "max      5044.000000\n",
       "Name: IsinIdx, dtype: float64"
      ]
     },
     "metadata": {},
     "output_type": "display_data"
    }
   ],
   "source": [
    "# check number of bonds per customer\n",
    "display(trade.groupby(\"CustomerIdx\").IsinIdx.nunique().describe())\n",
    "print(\"------------------------------\")\n",
    "display(test.groupby(\"CustomerIdx\").IsinIdx.nunique().describe())"
   ]
  },
  {
   "cell_type": "markdown",
   "metadata": {},
   "source": [
    "#### PREPROCESSING"
   ]
  },
  {
   "cell_type": "markdown",
   "metadata": {},
   "source": [
    "Target equals 0 if TradeStatus = \"Holding\" and 1 in all other cases. The holding operations are artificial and do not actually mean a customer-bond interaction on the considered market, so we drop these observations from the dataset."
   ]
  },
  {
   "cell_type": "code",
   "execution_count": 11,
   "metadata": {},
   "outputs": [
    {
     "name": "stderr",
     "output_type": "stream",
     "text": [
      "/Users/hauptjoh/anaconda/envs/deeplearning/lib/python3.6/site-packages/ipykernel/__main__.py:3: SettingWithCopyWarning: \n",
      "A value is trying to be set on a copy of a slice from a DataFrame\n",
      "\n",
      "See the caveats in the documentation: http://pandas.pydata.org/pandas-docs/stable/indexing.html#indexing-view-versus-copy\n",
      "  app.launch_new_instance()\n"
     ]
    },
    {
     "data": {
      "text/plain": [
       "0.32711063748545"
      ]
     },
     "execution_count": 11,
     "metadata": {},
     "output_type": "execute_result"
    }
   ],
   "source": [
    "# create target variable\n",
    "trade[\"CustomerInterest\"] = 1\n",
    "trade[\"CustomerInterest\"][trade[\"TradeStatus\"] == \"Holding\"] = 0\n",
    "trade.CustomerInterest.mean()"
   ]
  },
  {
   "cell_type": "code",
   "execution_count": 12,
   "metadata": {},
   "outputs": [],
   "source": [
    "# deleting holding cases\n",
    "trade = trade[trade[\"TradeStatus\"] != \"Holding\"]"
   ]
  },
  {
   "cell_type": "markdown",
   "metadata": {},
   "source": [
    "Test data does not contain features \"Price\", \"NotionalEUR\", so it is not possible to use them as predictors. "
   ]
  },
  {
   "cell_type": "code",
   "execution_count": 13,
   "metadata": {},
   "outputs": [],
   "source": [
    "# delete features\n",
    "del trade[\"NotionalEUR\"]\n",
    "del trade[\"Price\"]"
   ]
  },
  {
   "cell_type": "code",
   "execution_count": 14,
   "metadata": {},
   "outputs": [],
   "source": [
    "# convert dates\n",
    "trade[\"TradeDateKey\"] = pd.to_datetime(trade[\"TradeDateKey\"], format = '%Y%m%d')"
   ]
  },
  {
   "cell_type": "code",
   "execution_count": 15,
   "metadata": {},
   "outputs": [],
   "source": [
    "# add week index\n",
    "trade[\"Week\"] = week_idx(trade[\"TradeDateKey\"], pd.Timestamp('2018-04-23 00:00:00'))\n",
    "trade[\"Week\"] = trade[\"Week\"].max() + 1 - trade[\"Week\"]\n",
    "test[\"Week\"]  = trade[\"Week\"].max() + 1"
   ]
  },
  {
   "cell_type": "markdown",
   "metadata": {},
   "source": [
    "In the test data, each observation covers one week, whereas the training data is on a daily basis. We can aggregate the training data to a week level to have the same granularity. The target variable is computed as max over a week, whereas for different features we can compute different stats describing behavior during that week (e.g. mean, sd, range, etc)."
   ]
  },
  {
   "cell_type": "code",
   "execution_count": 16,
   "metadata": {},
   "outputs": [],
   "source": [
    "# aggregate weekly data: target = 1 if there is at least single 1 during week\n",
    "trade = trade.groupby([\"CustomerIdx\", \"Week\", \"IsinIdx\", \"BuySell\"], as_index = False).CustomerInterest.max()"
   ]
  },
  {
   "cell_type": "markdown",
   "metadata": {},
   "source": [
    "The training data contains 0 only if a customer has explicitly stated that she holds a bond. However, there are a lot of 0 missing from the table for the cases when a customer does not interact with a bond at all. Hence, it is necessary to impute these missing observations. For each customer, we can look at the set of bonds that he ever traded and add all missing weeks for each of that bonds as new rows with target = 0 (the rows when customer did not interact with a specific bond). That significantly increases the sample size but also makes data much closer to the test set.\n",
    "\n",
    "Current implementation increases the sample size from 1.7m to 111m rows (~3Gb). This takes a few minutes."
   ]
  },
  {
   "cell_type": "code",
   "execution_count": null,
   "metadata": {},
   "outputs": [],
   "source": [
    "# add missing weeks\n",
    "print(trade.shape)\n",
    "trade = trade.groupby([\"CustomerIdx\", \"Week\", \"IsinIdx\", \"BuySell\"]).CustomerInterest.unique().unstack(\"Week\").stack(\"Week\", dropna = False)\n",
    "trade = trade.reset_index()\n",
    "trade.columns = [\"CustomerIdx\", \"IsinIdx\", \"BuySell\", \"Week\", \"CustomerInterest\"]\n",
    "print(trade.shape)"
   ]
  },
  {
   "cell_type": "markdown",
   "metadata": {},
   "source": [
    "Mean \"CustomerInterest\" should be around 1.5% according to the organizers."
   ]
  },
  {
   "cell_type": "code",
   "execution_count": 17,
   "metadata": {},
   "outputs": [
    {
     "data": {
      "text/plain": [
       "1.0"
      ]
     },
     "execution_count": 17,
     "metadata": {},
     "output_type": "execute_result"
    }
   ],
   "source": [
    "# fill new cases with 0 in target\n",
    "trade.CustomerInterest.fillna(0, inplace = True)\n",
    "trade[\"CustomerInterest\"] = trade.CustomerInterest.astype(int)\n",
    "trade.CustomerInterest.mean()"
   ]
  },
  {
   "cell_type": "markdown",
   "metadata": {},
   "source": [
    "## 4.2. CUSTOMER DATA"
   ]
  },
  {
   "cell_type": "markdown",
   "metadata": {},
   "source": [
    "There are 3471 unique customers in the training data of which 2495 show up in the test set. There are no unknown customers in the test set."
   ]
  },
  {
   "cell_type": "code",
   "execution_count": 18,
   "metadata": {},
   "outputs": [
    {
     "data": {
      "text/plain": [
       "3471"
      ]
     },
     "execution_count": 18,
     "metadata": {},
     "output_type": "execute_result"
    }
   ],
   "source": [
    "# unique customers\n",
    "cust.CustomerIdx.nunique()"
   ]
  },
  {
   "cell_type": "code",
   "execution_count": 19,
   "metadata": {},
   "outputs": [
    {
     "data": {
      "text/plain": [
       "1.0"
      ]
     },
     "execution_count": 19,
     "metadata": {},
     "output_type": "execute_result"
    }
   ],
   "source": [
    "# Compare number of test customers showing up in cust set to number of unique customers in test set\n",
    "np.sum(np.in1d(test.CustomerIdx.unique(), cust.CustomerIdx.unique()))/test.CustomerIdx.nunique()"
   ]
  },
  {
   "cell_type": "code",
   "execution_count": 20,
   "metadata": {},
   "outputs": [
    {
     "data": {
      "text/plain": [
       "Index(['CustomerIdx', 'Week', 'IsinIdx', 'BuySell', 'CustomerInterest'], dtype='object')"
      ]
     },
     "execution_count": 20,
     "metadata": {},
     "output_type": "execute_result"
    }
   ],
   "source": [
    "trade.columns"
   ]
  },
  {
   "cell_type": "markdown",
   "metadata": {},
   "source": [
    "More than 20% of customers are interested only once in the training period, more than 50% are interested less than 15 times total -> There are a few customers that are interested a lot, maybe we should focus on them"
   ]
  },
  {
   "cell_type": "code",
   "execution_count": 21,
   "metadata": {},
   "outputs": [
    {
     "data": {
      "text/plain": [
       "array([   1. ,    1. ,    3.6,    7. ,   14. ,   27. ,   57. ,  127. ,\n",
       "        295.4,  864.2])"
      ]
     },
     "execution_count": 21,
     "metadata": {},
     "output_type": "execute_result"
    }
   ],
   "source": [
    "# check percentiles\n",
    "np.percentile(trade.loc[trade.CustomerInterest==1].groupby(\"CustomerIdx\").size(), range(0,100,10))"
   ]
  },
  {
   "cell_type": "markdown",
   "metadata": {},
   "source": [
    "Customer information:\n",
    "- 5 different sectors\n",
    "- 41 subsectors\n",
    "- 3 regions\n",
    "- 99 countries\n",
    "\n",
    "We can include sectors and regions directly, but may want to reduce the dimension of subsectors and countries"
   ]
  },
  {
   "cell_type": "code",
   "execution_count": 22,
   "metadata": {},
   "outputs": [
    {
     "data": {
      "text/plain": [
       "Index(['CustomerIdx', 'Sector', 'Subsector', 'Region', 'Country'], dtype='object')"
      ]
     },
     "execution_count": 22,
     "metadata": {},
     "output_type": "execute_result"
    }
   ],
   "source": [
    "# check columns\n",
    "cust.columns"
   ]
  },
  {
   "cell_type": "code",
   "execution_count": 23,
   "metadata": {},
   "outputs": [],
   "source": [
    "# create dummies for customers\n",
    "cust_dummies = pd.concat([cust.CustomerIdx, pd.get_dummies(cust.Sector), pd.get_dummies(cust.Region)], axis = 1)"
   ]
  },
  {
   "cell_type": "markdown",
   "metadata": {},
   "source": [
    "Most customers are asset managers or banks/intermediaries (possibly high volume groups?). Distribution over Americas, Europe/Africa, Asia is 53/25/22"
   ]
  },
  {
   "cell_type": "code",
   "execution_count": 24,
   "metadata": {},
   "outputs": [],
   "source": [
    "# merge customer dummies\n",
    "trade = trade.merge(cust_dummies, on = \"CustomerIdx\", how = \"left\")\n",
    "test  = test.merge(cust_dummies,  on = \"CustomerIdx\", how = \"left\")"
   ]
  },
  {
   "cell_type": "markdown",
   "metadata": {},
   "source": [
    "Asset Managers/Hedge funds and Banks/Intermediaries show clearly more interest than privat and corporate investors"
   ]
  },
  {
   "cell_type": "code",
   "execution_count": 25,
   "metadata": {},
   "outputs": [
    {
     "data": {
      "text/plain": [
       "Asset Managers & Hedge Funds    0.673504\n",
       "Asset Owners                    0.035005\n",
       "Banks and Intermediaries        0.269887\n",
       "Corporation                     0.002241\n",
       "Official Institution - OI       0.019363\n",
       "dtype: float64"
      ]
     },
     "execution_count": 25,
     "metadata": {},
     "output_type": "execute_result"
    }
   ],
   "source": [
    "# distribution of customer types\n",
    "trade.loc[trade.CustomerInterest==1,['Asset Managers & Hedge Funds', 'Asset Owners',\n",
    "       'Banks and Intermediaries', 'Corporation', 'Official Institution - OI']].mean()"
   ]
  },
  {
   "cell_type": "markdown",
   "metadata": {},
   "source": [
    "## 4.4. BONDS DATA"
   ]
  },
  {
   "cell_type": "markdown",
   "metadata": {},
   "source": [
    "Check that bonds after maturity are not tradeable. If this is correct, the easiest solution would be to manually correct these to 0 in model predictions"
   ]
  },
  {
   "cell_type": "code",
   "execution_count": 26,
   "metadata": {},
   "outputs": [
    {
     "data": {
      "text/html": [
       "<div>\n",
       "<style scoped>\n",
       "    .dataframe tbody tr th:only-of-type {\n",
       "        vertical-align: middle;\n",
       "    }\n",
       "\n",
       "    .dataframe tbody tr th {\n",
       "        vertical-align: top;\n",
       "    }\n",
       "\n",
       "    .dataframe thead th {\n",
       "        text-align: right;\n",
       "    }\n",
       "</style>\n",
       "<table border=\"1\" class=\"dataframe\">\n",
       "  <thead>\n",
       "    <tr style=\"text-align: right;\">\n",
       "      <th></th>\n",
       "      <th>IsinIdx</th>\n",
       "      <th>TickerIdx</th>\n",
       "      <th>ActualMaturityDateKey</th>\n",
       "      <th>IssueDateKey</th>\n",
       "      <th>Seniority</th>\n",
       "      <th>Currency</th>\n",
       "      <th>ActivityGroup</th>\n",
       "      <th>Region</th>\n",
       "      <th>Activity</th>\n",
       "      <th>RiskCaptain</th>\n",
       "      <th>Owner</th>\n",
       "      <th>CompositeRating</th>\n",
       "      <th>IndustrySector</th>\n",
       "      <th>IndustrySubgroup</th>\n",
       "      <th>MarketIssue</th>\n",
       "      <th>IssuedAmount</th>\n",
       "      <th>CouponType</th>\n",
       "    </tr>\n",
       "  </thead>\n",
       "  <tbody>\n",
       "    <tr>\n",
       "      <th>count</th>\n",
       "      <td>27411.000000</td>\n",
       "      <td>27411.000000</td>\n",
       "      <td>2.741100e+04</td>\n",
       "      <td>2.741100e+04</td>\n",
       "      <td>27411</td>\n",
       "      <td>27411</td>\n",
       "      <td>27411</td>\n",
       "      <td>27411</td>\n",
       "      <td>27411</td>\n",
       "      <td>27411</td>\n",
       "      <td>27411</td>\n",
       "      <td>27411</td>\n",
       "      <td>27406</td>\n",
       "      <td>27406</td>\n",
       "      <td>27394</td>\n",
       "      <td>2.741100e+04</td>\n",
       "      <td>27411</td>\n",
       "    </tr>\n",
       "    <tr>\n",
       "      <th>unique</th>\n",
       "      <td>NaN</td>\n",
       "      <td>NaN</td>\n",
       "      <td>NaN</td>\n",
       "      <td>NaN</td>\n",
       "      <td>9</td>\n",
       "      <td>23</td>\n",
       "      <td>3</td>\n",
       "      <td>8</td>\n",
       "      <td>16</td>\n",
       "      <td>38</td>\n",
       "      <td>105</td>\n",
       "      <td>29</td>\n",
       "      <td>13</td>\n",
       "      <td>338</td>\n",
       "      <td>14</td>\n",
       "      <td>NaN</td>\n",
       "      <td>6</td>\n",
       "    </tr>\n",
       "    <tr>\n",
       "      <th>top</th>\n",
       "      <td>NaN</td>\n",
       "      <td>NaN</td>\n",
       "      <td>NaN</td>\n",
       "      <td>NaN</td>\n",
       "      <td>SEN</td>\n",
       "      <td>USD</td>\n",
       "      <td>FLOW G10</td>\n",
       "      <td>AMERICAS</td>\n",
       "      <td>HG CASH</td>\n",
       "      <td>HG CASH NONFIN</td>\n",
       "      <td>US NONFIN 5Y AND IN CASH</td>\n",
       "      <td>NR</td>\n",
       "      <td>Financial</td>\n",
       "      <td>Commer Banks Non-US</td>\n",
       "      <td>Euro mtn</td>\n",
       "      <td>NaN</td>\n",
       "      <td>FIXED</td>\n",
       "    </tr>\n",
       "    <tr>\n",
       "      <th>freq</th>\n",
       "      <td>NaN</td>\n",
       "      <td>NaN</td>\n",
       "      <td>NaN</td>\n",
       "      <td>NaN</td>\n",
       "      <td>21233</td>\n",
       "      <td>16358</td>\n",
       "      <td>16552</td>\n",
       "      <td>10732</td>\n",
       "      <td>7928</td>\n",
       "      <td>5608</td>\n",
       "      <td>1714</td>\n",
       "      <td>4874</td>\n",
       "      <td>10046</td>\n",
       "      <td>3715</td>\n",
       "      <td>7374</td>\n",
       "      <td>NaN</td>\n",
       "      <td>24105</td>\n",
       "    </tr>\n",
       "    <tr>\n",
       "      <th>mean</th>\n",
       "      <td>13705.000000</td>\n",
       "      <td>1748.038598</td>\n",
       "      <td>2.023912e+07</td>\n",
       "      <td>2.013163e+07</td>\n",
       "      <td>NaN</td>\n",
       "      <td>NaN</td>\n",
       "      <td>NaN</td>\n",
       "      <td>NaN</td>\n",
       "      <td>NaN</td>\n",
       "      <td>NaN</td>\n",
       "      <td>NaN</td>\n",
       "      <td>NaN</td>\n",
       "      <td>NaN</td>\n",
       "      <td>NaN</td>\n",
       "      <td>NaN</td>\n",
       "      <td>2.044049e+09</td>\n",
       "      <td>NaN</td>\n",
       "    </tr>\n",
       "    <tr>\n",
       "      <th>std</th>\n",
       "      <td>7913.018451</td>\n",
       "      <td>1028.719783</td>\n",
       "      <td>8.515510e+04</td>\n",
       "      <td>4.165186e+04</td>\n",
       "      <td>NaN</td>\n",
       "      <td>NaN</td>\n",
       "      <td>NaN</td>\n",
       "      <td>NaN</td>\n",
       "      <td>NaN</td>\n",
       "      <td>NaN</td>\n",
       "      <td>NaN</td>\n",
       "      <td>NaN</td>\n",
       "      <td>NaN</td>\n",
       "      <td>NaN</td>\n",
       "      <td>NaN</td>\n",
       "      <td>5.274043e+10</td>\n",
       "      <td>NaN</td>\n",
       "    </tr>\n",
       "    <tr>\n",
       "      <th>min</th>\n",
       "      <td>0.000000</td>\n",
       "      <td>0.000000</td>\n",
       "      <td>2.015043e+07</td>\n",
       "      <td>1.955010e+07</td>\n",
       "      <td>NaN</td>\n",
       "      <td>NaN</td>\n",
       "      <td>NaN</td>\n",
       "      <td>NaN</td>\n",
       "      <td>NaN</td>\n",
       "      <td>NaN</td>\n",
       "      <td>NaN</td>\n",
       "      <td>NaN</td>\n",
       "      <td>NaN</td>\n",
       "      <td>NaN</td>\n",
       "      <td>NaN</td>\n",
       "      <td>0.000000e+00</td>\n",
       "      <td>NaN</td>\n",
       "    </tr>\n",
       "    <tr>\n",
       "      <th>25%</th>\n",
       "      <td>6852.500000</td>\n",
       "      <td>855.000000</td>\n",
       "      <td>2.019042e+07</td>\n",
       "      <td>2.012013e+07</td>\n",
       "      <td>NaN</td>\n",
       "      <td>NaN</td>\n",
       "      <td>NaN</td>\n",
       "      <td>NaN</td>\n",
       "      <td>NaN</td>\n",
       "      <td>NaN</td>\n",
       "      <td>NaN</td>\n",
       "      <td>NaN</td>\n",
       "      <td>NaN</td>\n",
       "      <td>NaN</td>\n",
       "      <td>NaN</td>\n",
       "      <td>5.000000e+08</td>\n",
       "      <td>NaN</td>\n",
       "    </tr>\n",
       "    <tr>\n",
       "      <th>50%</th>\n",
       "      <td>13705.000000</td>\n",
       "      <td>1753.000000</td>\n",
       "      <td>2.022013e+07</td>\n",
       "      <td>2.014062e+07</td>\n",
       "      <td>NaN</td>\n",
       "      <td>NaN</td>\n",
       "      <td>NaN</td>\n",
       "      <td>NaN</td>\n",
       "      <td>NaN</td>\n",
       "      <td>NaN</td>\n",
       "      <td>NaN</td>\n",
       "      <td>NaN</td>\n",
       "      <td>NaN</td>\n",
       "      <td>NaN</td>\n",
       "      <td>NaN</td>\n",
       "      <td>7.500000e+08</td>\n",
       "      <td>NaN</td>\n",
       "    </tr>\n",
       "    <tr>\n",
       "      <th>75%</th>\n",
       "      <td>20557.500000</td>\n",
       "      <td>2647.000000</td>\n",
       "      <td>2.025091e+07</td>\n",
       "      <td>2.016071e+07</td>\n",
       "      <td>NaN</td>\n",
       "      <td>NaN</td>\n",
       "      <td>NaN</td>\n",
       "      <td>NaN</td>\n",
       "      <td>NaN</td>\n",
       "      <td>NaN</td>\n",
       "      <td>NaN</td>\n",
       "      <td>NaN</td>\n",
       "      <td>NaN</td>\n",
       "      <td>NaN</td>\n",
       "      <td>NaN</td>\n",
       "      <td>1.200000e+09</td>\n",
       "      <td>NaN</td>\n",
       "    </tr>\n",
       "    <tr>\n",
       "      <th>max</th>\n",
       "      <td>27410.000000</td>\n",
       "      <td>3548.000000</td>\n",
       "      <td>2.167020e+07</td>\n",
       "      <td>2.018053e+07</td>\n",
       "      <td>NaN</td>\n",
       "      <td>NaN</td>\n",
       "      <td>NaN</td>\n",
       "      <td>NaN</td>\n",
       "      <td>NaN</td>\n",
       "      <td>NaN</td>\n",
       "      <td>NaN</td>\n",
       "      <td>NaN</td>\n",
       "      <td>NaN</td>\n",
       "      <td>NaN</td>\n",
       "      <td>NaN</td>\n",
       "      <td>5.400000e+12</td>\n",
       "      <td>NaN</td>\n",
       "    </tr>\n",
       "  </tbody>\n",
       "</table>\n",
       "</div>"
      ],
      "text/plain": [
       "             IsinIdx     TickerIdx  ActualMaturityDateKey  IssueDateKey  \\\n",
       "count   27411.000000  27411.000000           2.741100e+04  2.741100e+04   \n",
       "unique           NaN           NaN                    NaN           NaN   \n",
       "top              NaN           NaN                    NaN           NaN   \n",
       "freq             NaN           NaN                    NaN           NaN   \n",
       "mean    13705.000000   1748.038598           2.023912e+07  2.013163e+07   \n",
       "std      7913.018451   1028.719783           8.515510e+04  4.165186e+04   \n",
       "min         0.000000      0.000000           2.015043e+07  1.955010e+07   \n",
       "25%      6852.500000    855.000000           2.019042e+07  2.012013e+07   \n",
       "50%     13705.000000   1753.000000           2.022013e+07  2.014062e+07   \n",
       "75%     20557.500000   2647.000000           2.025091e+07  2.016071e+07   \n",
       "max     27410.000000   3548.000000           2.167020e+07  2.018053e+07   \n",
       "\n",
       "       Seniority Currency ActivityGroup    Region Activity     RiskCaptain  \\\n",
       "count      27411    27411         27411     27411    27411           27411   \n",
       "unique         9       23             3         8       16              38   \n",
       "top          SEN      USD      FLOW G10  AMERICAS  HG CASH  HG CASH NONFIN   \n",
       "freq       21233    16358         16552     10732     7928            5608   \n",
       "mean         NaN      NaN           NaN       NaN      NaN             NaN   \n",
       "std          NaN      NaN           NaN       NaN      NaN             NaN   \n",
       "min          NaN      NaN           NaN       NaN      NaN             NaN   \n",
       "25%          NaN      NaN           NaN       NaN      NaN             NaN   \n",
       "50%          NaN      NaN           NaN       NaN      NaN             NaN   \n",
       "75%          NaN      NaN           NaN       NaN      NaN             NaN   \n",
       "max          NaN      NaN           NaN       NaN      NaN             NaN   \n",
       "\n",
       "                           Owner CompositeRating IndustrySector  \\\n",
       "count                      27411           27411          27406   \n",
       "unique                       105              29             13   \n",
       "top     US NONFIN 5Y AND IN CASH              NR      Financial   \n",
       "freq                        1714            4874          10046   \n",
       "mean                         NaN             NaN            NaN   \n",
       "std                          NaN             NaN            NaN   \n",
       "min                          NaN             NaN            NaN   \n",
       "25%                          NaN             NaN            NaN   \n",
       "50%                          NaN             NaN            NaN   \n",
       "75%                          NaN             NaN            NaN   \n",
       "max                          NaN             NaN            NaN   \n",
       "\n",
       "           IndustrySubgroup MarketIssue  IssuedAmount CouponType  \n",
       "count                 27406       27394  2.741100e+04      27411  \n",
       "unique                  338          14           NaN          6  \n",
       "top     Commer Banks Non-US    Euro mtn           NaN      FIXED  \n",
       "freq                   3715        7374           NaN      24105  \n",
       "mean                    NaN         NaN  2.044049e+09        NaN  \n",
       "std                     NaN         NaN  5.274043e+10        NaN  \n",
       "min                     NaN         NaN  0.000000e+00        NaN  \n",
       "25%                     NaN         NaN  5.000000e+08        NaN  \n",
       "50%                     NaN         NaN  7.500000e+08        NaN  \n",
       "75%                     NaN         NaN  1.200000e+09        NaN  \n",
       "max                     NaN         NaN  5.400000e+12        NaN  "
      ]
     },
     "execution_count": 26,
     "metadata": {},
     "output_type": "execute_result"
    }
   ],
   "source": [
    "# descriptive stats\n",
    "bond.describe(include = \"all\")"
   ]
  },
  {
   "cell_type": "markdown",
   "metadata": {},
   "source": [
    "Create bond dummies for model training and merging into trade data"
   ]
  },
  {
   "cell_type": "code",
   "execution_count": 27,
   "metadata": {},
   "outputs": [],
   "source": [
    "# create bond dumiies\n",
    "bond_dummies = pd.concat([bond.IsinIdx,\n",
    "                          bond.Currency, # Used later to merge currency data\n",
    "                          pd.get_dummies(bond.ActivityGroup), \n",
    "                          pd.get_dummies(bond.CompositeRating)], axis = 1)"
   ]
  },
  {
   "cell_type": "code",
   "execution_count": 28,
   "metadata": {},
   "outputs": [],
   "source": [
    "# merge bond dummies\n",
    "trade = trade.merge(bond_dummies, on = \"IsinIdx\", how = \"left\")\n",
    "test  = test.merge(bond_dummies,  on = \"IsinIdx\", how = \"left\")"
   ]
  },
  {
   "cell_type": "markdown",
   "metadata": {},
   "source": [
    "## MACROECONOMIC DATA"
   ]
  },
  {
   "cell_type": "markdown",
   "metadata": {},
   "source": [
    "We have >100 variables here:\n",
    "- Stock indices (DAX, FTSE100, ...)\n",
    "- Volatility indices (VSTOXX, VIX, )\n",
    "- Currency exchange rates (USD <> EUR/CNY/...)\n",
    "- Inter-bank money lending rate (Money Market) 3-month for each currency \n",
    "- Mid- to long-term swaps (2-10 years). TODO: Unsure of the effect on bond trades"
   ]
  },
  {
   "cell_type": "code",
   "execution_count": 29,
   "metadata": {},
   "outputs": [
    {
     "data": {
      "text/plain": [
       "['DateKey',\n",
       " 'SSE',\n",
       " 'DAX',\n",
       " 'EUROSTOXX',\n",
       " 'VSTOXX',\n",
       " 'FTSE100',\n",
       " 'HSI',\n",
       " 'NIKKEI',\n",
       " 'DOWJONES_INDU',\n",
       " 'SP500',\n",
       " 'VIX',\n",
       " 'FX_USD.ARS',\n",
       " 'FX_USD.AUD',\n",
       " 'FX_USD.BRL',\n",
       " 'FX_USD.CAD']"
      ]
     },
     "execution_count": 29,
     "metadata": {},
     "output_type": "execute_result"
    }
   ],
   "source": [
    "# descriptive stats\n",
    "macro.columns.tolist()[0:15]"
   ]
  },
  {
   "cell_type": "markdown",
   "metadata": {},
   "source": [
    "Heuristically fill missing values with the previous value or 2xprevious value. If still missing, fill values with the following or 2xfollowing value"
   ]
  },
  {
   "cell_type": "code",
   "execution_count": 30,
   "metadata": {},
   "outputs": [],
   "source": [
    "macro = macro.fillna(macro.shift(1)).fillna(macro.shift(2)).fillna(macro.shift(-1)).fillna(macro.shift(-2))"
   ]
  },
  {
   "cell_type": "code",
   "execution_count": 31,
   "metadata": {},
   "outputs": [],
   "source": [
    "# convert dates\n",
    "macro[\"DateKey\"] = pd.to_datetime(macro[\"DateKey\"], format = '%Y%m%d')"
   ]
  },
  {
   "cell_type": "code",
   "execution_count": 32,
   "metadata": {},
   "outputs": [],
   "source": [
    "# add week index\n",
    "macro[\"Week\"] = week_idx(macro[\"DateKey\"], pd.Timestamp('2018-04-23 00:00:00'))\n",
    "macro[\"Week\"] = macro[\"Week\"].max() + 1 - macro[\"Week\"]"
   ]
  },
  {
   "cell_type": "markdown",
   "metadata": {},
   "source": [
    "Aggregate the macro values by week. \n",
    "\n",
    "TODO: We could also take the lag first and then aggregate, not sure what makes more sense (JH)."
   ]
  },
  {
   "cell_type": "code",
   "execution_count": 33,
   "metadata": {},
   "outputs": [],
   "source": [
    "macro = macro.groupby([\"Week\"]).agg(\"mean\")"
   ]
  },
  {
   "cell_type": "markdown",
   "metadata": {},
   "source": [
    "We are interested in the change in the macro variable compared to the previous date, I think, to check if e.g. the currency value went up or down"
   ]
  },
  {
   "cell_type": "code",
   "execution_count": 34,
   "metadata": {},
   "outputs": [],
   "source": [
    "# Replace missing lag for first week with 0\n",
    "macro_diff1 = (macro - macro.shift(1)).fillna(0)"
   ]
  },
  {
   "cell_type": "markdown",
   "metadata": {},
   "source": [
    "TODO: I think it makes sense to create a common variable e.g. \"currency trend\" that relates to the specific currency of the bond and/or holder."
   ]
  },
  {
   "cell_type": "code",
   "execution_count": 35,
   "metadata": {},
   "outputs": [],
   "source": [
    "fx_diff1 = macro_diff1.filter(like=\"FX\",axis=1)"
   ]
  },
  {
   "cell_type": "code",
   "execution_count": 36,
   "metadata": {},
   "outputs": [
    {
     "name": "stderr",
     "output_type": "stream",
     "text": [
      "/Users/hauptjoh/anaconda/envs/deeplearning/lib/python3.6/site-packages/ipykernel/__main__.py:1: SettingWithCopyWarning: \n",
      "A value is trying to be set on a copy of a slice from a DataFrame.\n",
      "Try using .loc[row_indexer,col_indexer] = value instead\n",
      "\n",
      "See the caveats in the documentation: http://pandas.pydata.org/pandas-docs/stable/indexing.html#indexing-view-versus-copy\n",
      "  if __name__ == '__main__':\n"
     ]
    }
   ],
   "source": [
    "fx_diff1[\"USD\"] = 1"
   ]
  },
  {
   "cell_type": "code",
   "execution_count": 37,
   "metadata": {},
   "outputs": [],
   "source": [
    "fx_diff1 = fx_diff1.reset_index().melt(id_vars=\"Week\", var_name=\"Currency\", value_name=\"Currency_trend1w\")"
   ]
  },
  {
   "cell_type": "code",
   "execution_count": 38,
   "metadata": {},
   "outputs": [],
   "source": [
    "fx_diff1.Currency = fx_diff1.Currency.str[-3:]"
   ]
  },
  {
   "cell_type": "markdown",
   "metadata": {},
   "source": [
    "The currency data 'fx' can be merged into the bond data"
   ]
  },
  {
   "cell_type": "code",
   "execution_count": 39,
   "metadata": {},
   "outputs": [
    {
     "data": {
      "text/plain": [
       "array(['ARS', 'AUD', 'BRL', 'CAD', 'CHF', 'CNO', 'CNY', 'EUR', 'GBP',\n",
       "       'HKD', 'IDR', 'JPY', 'NOK', 'SGD', 'TRY', 'ZAR', 'USD'], dtype=object)"
      ]
     },
     "execution_count": 39,
     "metadata": {},
     "output_type": "execute_result"
    }
   ],
   "source": [
    "fx_diff1.Currency.unique()"
   ]
  },
  {
   "cell_type": "code",
   "execution_count": 40,
   "metadata": {},
   "outputs": [],
   "source": [
    "trade = trade.merge(fx_diff1, how='left', on=[\"Week\",\"Currency\"])\n",
    "test = test.merge(fx_diff1, how='left', on=[\"Week\",\"Currency\"])"
   ]
  },
  {
   "cell_type": "markdown",
   "metadata": {},
   "source": [
    "There are a few weird currencies (or typos?) for which we don't have information, e.g. CNH"
   ]
  },
  {
   "cell_type": "code",
   "execution_count": 41,
   "metadata": {},
   "outputs": [],
   "source": [
    "trade.Currency_trend1w.fillna(1, inplace=True)\n",
    "test.Currency_trend1w.fillna(1, inplace=True)"
   ]
  },
  {
   "cell_type": "markdown",
   "metadata": {},
   "source": [
    "## 4.5. MARKET DATA"
   ]
  },
  {
   "cell_type": "markdown",
   "metadata": {},
   "source": [
    "# 5. DATA EXPORT"
   ]
  },
  {
   "cell_type": "code",
   "execution_count": 42,
   "metadata": {},
   "outputs": [
    {
     "name": "stdout",
     "output_type": "stream",
     "text": [
      "(1772720, 47)\n",
      "(484758, 49)\n"
     ]
    }
   ],
   "source": [
    "# check dimensions\n",
    "print(trade.shape)\n",
    "print(test.shape)"
   ]
  },
  {
   "cell_type": "code",
   "execution_count": 44,
   "metadata": {},
   "outputs": [
    {
     "data": {
      "text/html": [
       "<div>\n",
       "<style scoped>\n",
       "    .dataframe tbody tr th:only-of-type {\n",
       "        vertical-align: middle;\n",
       "    }\n",
       "\n",
       "    .dataframe tbody tr th {\n",
       "        vertical-align: top;\n",
       "    }\n",
       "\n",
       "    .dataframe thead th {\n",
       "        text-align: right;\n",
       "    }\n",
       "</style>\n",
       "<table border=\"1\" class=\"dataframe\">\n",
       "  <thead>\n",
       "    <tr style=\"text-align: right;\">\n",
       "      <th></th>\n",
       "      <th>Total</th>\n",
       "      <th>Percent</th>\n",
       "    </tr>\n",
       "  </thead>\n",
       "  <tbody>\n",
       "  </tbody>\n",
       "</table>\n",
       "</div>"
      ],
      "text/plain": [
       "Empty DataFrame\n",
       "Columns: [Total, Percent]\n",
       "Index: []"
      ]
     },
     "execution_count": 44,
     "metadata": {},
     "output_type": "execute_result"
    }
   ],
   "source": [
    "count_missings(trade)"
   ]
  },
  {
   "cell_type": "code",
   "execution_count": 45,
   "metadata": {},
   "outputs": [
    {
     "data": {
      "text/html": [
       "<div>\n",
       "<style scoped>\n",
       "    .dataframe tbody tr th:only-of-type {\n",
       "        vertical-align: middle;\n",
       "    }\n",
       "\n",
       "    .dataframe tbody tr th {\n",
       "        vertical-align: top;\n",
       "    }\n",
       "\n",
       "    .dataframe thead th {\n",
       "        text-align: right;\n",
       "    }\n",
       "</style>\n",
       "<table border=\"1\" class=\"dataframe\">\n",
       "  <thead>\n",
       "    <tr style=\"text-align: right;\">\n",
       "      <th></th>\n",
       "      <th>Total</th>\n",
       "      <th>Percent</th>\n",
       "    </tr>\n",
       "  </thead>\n",
       "  <tbody>\n",
       "    <tr>\n",
       "      <th>CustomerInterest</th>\n",
       "      <td>484758</td>\n",
       "      <td>100.0</td>\n",
       "    </tr>\n",
       "  </tbody>\n",
       "</table>\n",
       "</div>"
      ],
      "text/plain": [
       "                   Total  Percent\n",
       "CustomerInterest  484758    100.0"
      ]
     },
     "execution_count": 45,
     "metadata": {},
     "output_type": "execute_result"
    }
   ],
   "source": [
    "count_missings(test)"
   ]
  },
  {
   "cell_type": "code",
   "execution_count": null,
   "metadata": {},
   "outputs": [],
   "source": [
    "# export CSV\n",
    "trade.to_csv(\"../data/prepared/train_new.csv\", index = False, float_format = \"%.4f\")\n",
    "test.to_csv(\"../data/prepared/test_new.csv\",   index = False, float_format = \"%.4f\")"
   ]
  },
  {
   "cell_type": "code",
   "execution_count": null,
   "metadata": {},
   "outputs": [],
   "source": []
  }
 ],
 "metadata": {
  "kernelspec": {
   "display_name": "Python [deeplearning]",
   "language": "python",
   "name": "Python [deeplearning]"
  },
  "language_info": {
   "codemirror_mode": {
    "name": "ipython",
    "version": 3
   },
   "file_extension": ".py",
   "mimetype": "text/x-python",
   "name": "python",
   "nbconvert_exporter": "python",
   "pygments_lexer": "ipython3",
   "version": "3.6.4"
  }
 },
 "nbformat": 4,
 "nbformat_minor": 2
}
