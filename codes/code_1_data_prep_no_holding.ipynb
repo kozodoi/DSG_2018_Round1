{
 "cells": [
  {
   "cell_type": "markdown",
   "metadata": {},
   "source": [
    "# 1. SETTINGS"
   ]
  },
  {
   "cell_type": "code",
   "execution_count": 1,
   "metadata": {},
   "outputs": [],
   "source": [
    "# libraries\n",
    "import numpy as np\n",
    "import pandas as pd\n",
    "import seaborn as sns\n",
    "from datetime import date\n",
    "import matplotlib.pyplot as plt\n",
    "from IPython.display import display\n",
    "import scipy.stats"
   ]
  },
  {
   "cell_type": "code",
   "execution_count": 2,
   "metadata": {},
   "outputs": [],
   "source": [
    "# pandas options\n",
    "pd.set_option(\"display.max_columns\", None)"
   ]
  },
  {
   "cell_type": "markdown",
   "metadata": {},
   "source": [
    "# 2. FUNCTIONS"
   ]
  },
  {
   "cell_type": "code",
   "execution_count": 3,
   "metadata": {},
   "outputs": [],
   "source": [
    "### FUNCTION FOR COUNTING MISSINGS\n",
    "def count_missings(data):\n",
    "    total = data.isnull().sum().sort_values(ascending = False)\n",
    "    percent = (data.isnull().sum() / data.isnull().count() * 100).sort_values(ascending = False)\n",
    "    table = pd.concat([total, percent], axis = 1, keys = [\"Total\", \"Percent\"])\n",
    "    table = table[table[\"Total\"] > 0]\n",
    "    return table"
   ]
  },
  {
   "cell_type": "code",
   "execution_count": 4,
   "metadata": {},
   "outputs": [],
   "source": [
    "### FUNCTION FOR COMPUTING WEEK INDEX\n",
    "def week_idx(date, end_date):\n",
    "    return round((end_date - date).dt.days / 7 + 0.4)"
   ]
  },
  {
   "cell_type": "markdown",
   "metadata": {},
   "source": [
    "# 3. DATA IMPORT"
   ]
  },
  {
   "cell_type": "code",
   "execution_count": 5,
   "metadata": {},
   "outputs": [],
   "source": [
    "# import datasets\n",
    "test  = pd.read_csv(\"../data/raw/Challenge_20180423.csv\")\n",
    "#cust  = pd.read_csv(\"../data/raw/Customer.csv\")\n",
    "#bond  = pd.read_csv(\"../data/raw/Isin.csv\")\n",
    "#markt = pd.read_csv(\"../data/raw/Market.csv\")\n",
    "#macro = pd.read_csv(\"../data/raw/MarketData_Macro.csv\")\n",
    "trade = pd.read_csv(\"../data/raw/Trade.csv\")"
   ]
  },
  {
   "cell_type": "markdown",
   "metadata": {},
   "source": [
    "# check all datasets\n",
    "print(\"Test data:\", test.shape)\n",
    "display(test.head(3))\n",
    "print(\"------------------------------\")\n",
    "print(\"Customer data:\", cust.shape)\n",
    "display(cust.head(3))\n",
    "print(\"------------------------------\")\n",
    "print(\"Bonds data:\", bond.shape)\n",
    "display(bond.head(3))\n",
    "print(\"------------------------------\")\n",
    "print(\"Market data:\", markt.shape)\n",
    "display(markt.head(3))\n",
    "print(\"------------------------------\")\n",
    "print(\"Macroeconomic data:\", macro.shape)\n",
    "display(macro.head(3))\n",
    "print(\"------------------------------\")\n",
    "print(\"Trade data:\", trade.shape)\n",
    "display(trade.head(3))"
   ]
  },
  {
   "cell_type": "markdown",
   "metadata": {},
   "source": [
    "# 4. PREPROCESSING"
   ]
  },
  {
   "cell_type": "markdown",
   "metadata": {},
   "source": [
    "## 4.1. TRADE & TEST DATA"
   ]
  },
  {
   "cell_type": "markdown",
   "metadata": {},
   "source": [
    "#### SOME CHECKS"
   ]
  },
  {
   "cell_type": "code",
   "execution_count": 7,
   "metadata": {},
   "outputs": [
    {
     "data": {
      "text/html": [
       "<div>\n",
       "<style scoped>\n",
       "    .dataframe tbody tr th:only-of-type {\n",
       "        vertical-align: middle;\n",
       "    }\n",
       "\n",
       "    .dataframe tbody tr th {\n",
       "        vertical-align: top;\n",
       "    }\n",
       "\n",
       "    .dataframe thead th {\n",
       "        text-align: right;\n",
       "    }\n",
       "</style>\n",
       "<table border=\"1\" class=\"dataframe\">\n",
       "  <thead>\n",
       "    <tr style=\"text-align: right;\">\n",
       "      <th></th>\n",
       "      <th>Total</th>\n",
       "      <th>Percent</th>\n",
       "    </tr>\n",
       "  </thead>\n",
       "  <tbody>\n",
       "    <tr>\n",
       "      <th>Price</th>\n",
       "      <td>4617933</td>\n",
       "      <td>68.292201</td>\n",
       "    </tr>\n",
       "  </tbody>\n",
       "</table>\n",
       "</div>"
      ],
      "text/plain": [
       "         Total    Percent\n",
       "Price  4617933  68.292201"
      ]
     },
     "execution_count": 7,
     "metadata": {},
     "output_type": "execute_result"
    }
   ],
   "source": [
    "# check missings\n",
    "count_missings(trade)"
   ]
  },
  {
   "cell_type": "code",
   "execution_count": 8,
   "metadata": {},
   "outputs": [
    {
     "data": {
      "text/html": [
       "<div>\n",
       "<style scoped>\n",
       "    .dataframe tbody tr th:only-of-type {\n",
       "        vertical-align: middle;\n",
       "    }\n",
       "\n",
       "    .dataframe tbody tr th {\n",
       "        vertical-align: top;\n",
       "    }\n",
       "\n",
       "    .dataframe thead th {\n",
       "        text-align: right;\n",
       "    }\n",
       "</style>\n",
       "<table border=\"1\" class=\"dataframe\">\n",
       "  <thead>\n",
       "    <tr style=\"text-align: right;\">\n",
       "      <th></th>\n",
       "      <th>TradeDateKey</th>\n",
       "      <th>CustomerIdx</th>\n",
       "      <th>IsinIdx</th>\n",
       "      <th>NotionalEUR</th>\n",
       "      <th>Price</th>\n",
       "      <th>CustomerInterest</th>\n",
       "    </tr>\n",
       "  </thead>\n",
       "  <tbody>\n",
       "    <tr>\n",
       "      <th>count</th>\n",
       "      <td>6.762021e+06</td>\n",
       "      <td>6.762021e+06</td>\n",
       "      <td>6.762021e+06</td>\n",
       "      <td>6.762021e+06</td>\n",
       "      <td>2.144088e+06</td>\n",
       "      <td>6.762021e+06</td>\n",
       "    </tr>\n",
       "    <tr>\n",
       "      <th>mean</th>\n",
       "      <td>2.016750e+07</td>\n",
       "      <td>1.922354e+03</td>\n",
       "      <td>1.460369e+04</td>\n",
       "      <td>6.313228e+06</td>\n",
       "      <td>1.779008e+05</td>\n",
       "      <td>3.271106e-01</td>\n",
       "    </tr>\n",
       "    <tr>\n",
       "      <th>std</th>\n",
       "      <td>6.768082e+03</td>\n",
       "      <td>8.579293e+02</td>\n",
       "      <td>7.963809e+03</td>\n",
       "      <td>2.712408e+08</td>\n",
       "      <td>1.318503e+06</td>\n",
       "      <td>4.691581e-01</td>\n",
       "    </tr>\n",
       "    <tr>\n",
       "      <th>min</th>\n",
       "      <td>2.016010e+07</td>\n",
       "      <td>0.000000e+00</td>\n",
       "      <td>0.000000e+00</td>\n",
       "      <td>-1.485547e+08</td>\n",
       "      <td>-9.999990e+05</td>\n",
       "      <td>0.000000e+00</td>\n",
       "    </tr>\n",
       "    <tr>\n",
       "      <th>25%</th>\n",
       "      <td>2.016063e+07</td>\n",
       "      <td>1.288000e+03</td>\n",
       "      <td>7.392000e+03</td>\n",
       "      <td>3.410980e+05</td>\n",
       "      <td>9.313780e+01</td>\n",
       "      <td>0.000000e+00</td>\n",
       "    </tr>\n",
       "    <tr>\n",
       "      <th>50%</th>\n",
       "      <td>2.017023e+07</td>\n",
       "      <td>2.090000e+03</td>\n",
       "      <td>1.522900e+04</td>\n",
       "      <td>8.812120e+05</td>\n",
       "      <td>1.010000e+02</td>\n",
       "      <td>0.000000e+00</td>\n",
       "    </tr>\n",
       "    <tr>\n",
       "      <th>75%</th>\n",
       "      <td>2.017093e+07</td>\n",
       "      <td>2.574000e+03</td>\n",
       "      <td>2.211900e+04</td>\n",
       "      <td>2.136842e+06</td>\n",
       "      <td>1.075000e+02</td>\n",
       "      <td>1.000000e+00</td>\n",
       "    </tr>\n",
       "    <tr>\n",
       "      <th>max</th>\n",
       "      <td>2.018042e+07</td>\n",
       "      <td>3.470000e+03</td>\n",
       "      <td>2.739400e+04</td>\n",
       "      <td>2.000000e+11</td>\n",
       "      <td>9.999999e+06</td>\n",
       "      <td>1.000000e+00</td>\n",
       "    </tr>\n",
       "  </tbody>\n",
       "</table>\n",
       "</div>"
      ],
      "text/plain": [
       "       TradeDateKey   CustomerIdx       IsinIdx   NotionalEUR         Price  \\\n",
       "count  6.762021e+06  6.762021e+06  6.762021e+06  6.762021e+06  2.144088e+06   \n",
       "mean   2.016750e+07  1.922354e+03  1.460369e+04  6.313228e+06  1.779008e+05   \n",
       "std    6.768082e+03  8.579293e+02  7.963809e+03  2.712408e+08  1.318503e+06   \n",
       "min    2.016010e+07  0.000000e+00  0.000000e+00 -1.485547e+08 -9.999990e+05   \n",
       "25%    2.016063e+07  1.288000e+03  7.392000e+03  3.410980e+05  9.313780e+01   \n",
       "50%    2.017023e+07  2.090000e+03  1.522900e+04  8.812120e+05  1.010000e+02   \n",
       "75%    2.017093e+07  2.574000e+03  2.211900e+04  2.136842e+06  1.075000e+02   \n",
       "max    2.018042e+07  3.470000e+03  2.739400e+04  2.000000e+11  9.999999e+06   \n",
       "\n",
       "       CustomerInterest  \n",
       "count      6.762021e+06  \n",
       "mean       3.271106e-01  \n",
       "std        4.691581e-01  \n",
       "min        0.000000e+00  \n",
       "25%        0.000000e+00  \n",
       "50%        0.000000e+00  \n",
       "75%        1.000000e+00  \n",
       "max        1.000000e+00  "
      ]
     },
     "execution_count": 8,
     "metadata": {},
     "output_type": "execute_result"
    }
   ],
   "source": [
    "# descriptive stats\n",
    "trade.describe()"
   ]
  },
  {
   "cell_type": "markdown",
   "metadata": {},
   "source": [
    "The number of observations and bonds per customer is different in trade and test data. Trade data only contains bonds that a given customer has actually traded. In test data, for each customer, the set of bonds is only a subset of the bonds that he actually traded in the past (but not the whole set, which leads to a smaller number of observations per customer in the test data). Also, the test set is biased towards very active traders."
   ]
  },
  {
   "cell_type": "code",
   "execution_count": 9,
   "metadata": {},
   "outputs": [
    {
     "name": "stdout",
     "output_type": "stream",
     "text": [
      "Finished\n"
     ]
    }
   ],
   "source": [
    "# check if bonds in test are a subset of bonds in trade\n",
    "# print \"No\" if bonds in test are new for that customer\n",
    "for i in test.CustomerIdx.unique():\n",
    "    A = trade[trade.CustomerIdx == i].IsinIdx.unique()\n",
    "    B = test[test.CustomerIdx == i].IsinIdx.unique()\n",
    "    C = set(B).issubset(set(A))\n",
    "    if C == False: \n",
    "        print(\"No!\")\n",
    "print(\"Finished\")"
   ]
  },
  {
   "cell_type": "code",
   "execution_count": 10,
   "metadata": {},
   "outputs": [
    {
     "data": {
      "text/plain": [
       "count     3439.000000\n",
       "mean       405.832800\n",
       "std       1145.875089\n",
       "min          1.000000\n",
       "25%          5.000000\n",
       "50%         33.000000\n",
       "75%        233.500000\n",
       "max      14132.000000\n",
       "Name: IsinIdx, dtype: float64"
      ]
     },
     "metadata": {},
     "output_type": "display_data"
    },
    {
     "name": "stdout",
     "output_type": "stream",
     "text": [
      "------------------------------\n"
     ]
    },
    {
     "data": {
      "text/plain": [
       "count    2495.000000\n",
       "mean       97.145892\n",
       "std       301.375388\n",
       "min         1.000000\n",
       "25%         3.000000\n",
       "50%        12.000000\n",
       "75%        58.000000\n",
       "max      5044.000000\n",
       "Name: IsinIdx, dtype: float64"
      ]
     },
     "metadata": {},
     "output_type": "display_data"
    }
   ],
   "source": [
    "# check number of bonds per customer\n",
    "display(trade.groupby(\"CustomerIdx\").IsinIdx.nunique().describe())\n",
    "print(\"------------------------------\")\n",
    "display(test.groupby(\"CustomerIdx\").IsinIdx.nunique().describe())"
   ]
  },
  {
   "cell_type": "markdown",
   "metadata": {},
   "source": [
    "#### PREPROCESSING"
   ]
  },
  {
   "cell_type": "markdown",
   "metadata": {},
   "source": [
    "Target equals 0 if TradeStatus = \"Holding\" and 1 in all other cases."
   ]
  },
  {
   "cell_type": "code",
   "execution_count": 11,
   "metadata": {},
   "outputs": [
    {
     "name": "stderr",
     "output_type": "stream",
     "text": [
      "C:\\Users\\zinovyee.hub\\AppData\\Local\\conda\\conda\\envs\\thesis\\lib\\site-packages\\ipykernel\\__main__.py:3: SettingWithCopyWarning: \n",
      "A value is trying to be set on a copy of a slice from a DataFrame\n",
      "\n",
      "See the caveats in the documentation: http://pandas.pydata.org/pandas-docs/stable/indexing.html#indexing-view-versus-copy\n",
      "  app.launch_new_instance()\n"
     ]
    }
   ],
   "source": [
    "# create target variable\n",
    "trade[\"CustomerInterest\"] = 1\n",
    "trade[\"CustomerInterest\"][trade[\"TradeStatus\"] == \"Holding\"] = 0\n",
    "trade.CustomerInterest.mean()\n",
    "trade = trade[trade[\"TradeStatus\"] != \"Holding\"]"
   ]
  },
  {
   "cell_type": "markdown",
   "metadata": {},
   "source": [
    "Test data does not contain features \"Price\", \"NotionalEUR\", so it is not possible to use them as predictors. "
   ]
  },
  {
   "cell_type": "code",
   "execution_count": 12,
   "metadata": {},
   "outputs": [],
   "source": [
    "# delete features\n",
    "del trade[\"NotionalEUR\"]\n",
    "del trade[\"Price\"]"
   ]
  },
  {
   "cell_type": "code",
   "execution_count": 13,
   "metadata": {},
   "outputs": [],
   "source": [
    "# convert dates\n",
    "trade[\"TradeDateKey\"] = pd.to_datetime(trade[\"TradeDateKey\"], format = '%Y%m%d')"
   ]
  },
  {
   "cell_type": "code",
   "execution_count": 14,
   "metadata": {},
   "outputs": [],
   "source": [
    "# add week index\n",
    "trade[\"Week\"] = week_idx(trade[\"TradeDateKey\"], pd.Timestamp('2018-04-23 00:00:00'))\n",
    "trade[\"Week\"] = trade[\"Week\"].max() + 1 - trade[\"Week\"]\n",
    "test[\"Week\"]  = trade[\"Week\"].max() + 1"
   ]
  },
  {
   "cell_type": "markdown",
   "metadata": {},
   "source": [
    "In the test data, each observation cover one week, whereas the training data is on a daily basis. We can aggregate the training data to a week level to have the same granularity. The target variable is computed as max over a week, whereas for different features we can compute different stats describing behavior during that week (e.g. mean, sd, range, etc)."
   ]
  },
  {
   "cell_type": "code",
   "execution_count": 15,
   "metadata": {},
   "outputs": [],
   "source": [
    "# aggregate weekly data: target = 1 if there is at least single 1 during week\n",
    "trade = trade.groupby([\"CustomerIdx\", \"Week\", \"IsinIdx\", \"BuySell\"], as_index = False).CustomerInterest.max()"
   ]
  },
  {
   "cell_type": "markdown",
   "metadata": {},
   "source": [
    "The training data contains 0 only if a customer has explicitly stated that she holds a bond. However, there are a lot of 0 missing from the table for the cases when a customer does not interact with a bond at all. Hence, it is necessary to impute these missing observations. For each customer, we can look at the set of bonds that he ever traded and add all missing weeks for each of that bonds as new rows with target = 0 (the rows when customer did not interact with a specific bond). That significantly increases the sample size but also makes data much closer to the test set.\n",
    "\n",
    "Current implementation increases the sample size from 6m to 247m rows (6.2 Gb)."
   ]
  },
  {
   "cell_type": "code",
   "execution_count": 16,
   "metadata": {},
   "outputs": [
    {
     "name": "stdout",
     "output_type": "stream",
     "text": [
      "(1772720, 5)\n",
      "(111293880, 5)\n"
     ]
    }
   ],
   "source": [
    "# add missing weeks\n",
    "print(trade.shape)\n",
    "trade = trade.groupby([\"CustomerIdx\", \"Week\", \"IsinIdx\", \"BuySell\"]).CustomerInterest.unique().unstack(\"Week\").stack(\"Week\", dropna = False)\n",
    "trade = trade.reset_index()\n",
    "trade.columns = [\"CustomerIdx\", \"IsinIdx\", \"BuySell\", \"Week\", \"CustomerInterest\"]\n",
    "print(trade.shape)"
   ]
  },
  {
   "cell_type": "markdown",
   "metadata": {},
   "source": [
    "Mean CustomerInterest should be around 1.5% according to the organizers."
   ]
  },
  {
   "cell_type": "code",
   "execution_count": 17,
   "metadata": {},
   "outputs": [
    {
     "name": "stdout",
     "output_type": "stream",
     "text": [
      "0.015928279254888048\n"
     ]
    }
   ],
   "source": [
    "# fill new cases with 0 in target\n",
    "trade.CustomerInterest.fillna(0, inplace = True)\n",
    "trade[\"CustomerInterest\"] = trade.CustomerInterest.astype(int)\n",
    "print(trade.CustomerInterest.mean())"
   ]
  },
  {
   "cell_type": "markdown",
   "metadata": {},
   "source": [
    "## 4.2. CUSTOMER DATA"
   ]
  },
  {
   "cell_type": "markdown",
   "metadata": {},
   "source": [
    "There are 3471 unique customers in the training data of which 2495 show up in the test set. There are no unknown customers in the test set."
   ]
  },
  {
   "cell_type": "code",
   "execution_count": 18,
   "metadata": {},
   "outputs": [
    {
     "data": {
      "text/plain": [
       "3471"
      ]
     },
     "execution_count": 18,
     "metadata": {},
     "output_type": "execute_result"
    }
   ],
   "source": [
    "cust.CustomerIdx.nunique()"
   ]
  },
  {
   "cell_type": "code",
   "execution_count": 19,
   "metadata": {},
   "outputs": [
    {
     "data": {
      "text/plain": [
       "1.0"
      ]
     },
     "execution_count": 19,
     "metadata": {},
     "output_type": "execute_result"
    }
   ],
   "source": [
    "# Compare number of test customers showing up in cust set to number of unique customers in test set\n",
    "np.sum(np.in1d(test.CustomerIdx.unique(), cust.CustomerIdx.unique()))/test.CustomerIdx.nunique()"
   ]
  },
  {
   "cell_type": "markdown",
   "metadata": {},
   "source": [
    "Some customers show up as rarely as once (30% are at or below 5), while some create a lot of trades (40% are above 136 trades). We have to be careful with the imbalance when working on the customer level."
   ]
  },
  {
   "cell_type": "code",
   "execution_count": 20,
   "metadata": {},
   "outputs": [
    {
     "data": {
      "text/plain": [
       "array([  1.21000000e+02,   1.21000000e+02,   4.84000000e+02,\n",
       "         9.68000000e+02,   2.05700000e+03,   4.35600000e+03,\n",
       "         9.77680000e+03,   2.20220000e+04,   5.60714000e+04,\n",
       "         1.76442200e+05])"
      ]
     },
     "execution_count": 20,
     "metadata": {},
     "output_type": "execute_result"
    }
   ],
   "source": [
    "np.percentile(trade.groupby(\"CustomerIdx\").size(), range(0,100,10))"
   ]
  },
  {
   "cell_type": "markdown",
   "metadata": {},
   "source": [
    "## 4.3. MACROECONOMIC DATA"
   ]
  },
  {
   "cell_type": "markdown",
   "metadata": {},
   "source": [
    "## 4.4. BONDS DATA"
   ]
  },
  {
   "cell_type": "markdown",
   "metadata": {},
   "source": [
    "## 4.5. MARKET DATA"
   ]
  },
  {
   "cell_type": "markdown",
   "metadata": {},
   "source": [
    "# 5. DATA EXPORT"
   ]
  },
  {
   "cell_type": "code",
   "execution_count": 18,
   "metadata": {},
   "outputs": [],
   "source": [
    "# export CSV\n",
    "trade.to_csv(\"../data/prepared/train_no_holding.csv\", index = False, float_format = \"%.4f\")\n",
    "test.to_csv(\"../data/prepared/test_no_holding.csv\",   index = False, float_format = \"%.4f\")"
   ]
  }
 ],
 "metadata": {
  "kernelspec": {
   "display_name": "Python [default]",
   "language": "python",
   "name": "python3"
  },
  "language_info": {
   "codemirror_mode": {
    "name": "ipython",
    "version": 3
   },
   "file_extension": ".py",
   "mimetype": "text/x-python",
   "name": "python",
   "nbconvert_exporter": "python",
   "pygments_lexer": "ipython3",
   "version": "3.6.5"
  }
 },
 "nbformat": 4,
 "nbformat_minor": 2
}
