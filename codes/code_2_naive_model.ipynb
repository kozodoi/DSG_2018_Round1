{
 "cells": [
  {
   "cell_type": "markdown",
   "metadata": {},
   "source": [
    "# 1. SETTINGS"
   ]
  },
  {
   "cell_type": "code",
   "execution_count": 281,
   "metadata": {},
   "outputs": [],
   "source": [
    "# libraries\n",
    "import numpy as np\n",
    "import pandas as pd\n",
    "import seaborn as sns\n",
    "import matplotlib.pyplot as plt\n",
    "import lightgbm as lgb\n",
    "from sklearn.metrics import roc_auc_score\n",
    "from IPython.display import display\n",
    "import scipy.stats"
   ]
  },
  {
   "cell_type": "code",
   "execution_count": 282,
   "metadata": {},
   "outputs": [],
   "source": [
    "# pandas options\n",
    "pd.set_option(\"display.max_columns\", None)"
   ]
  },
  {
   "cell_type": "code",
   "execution_count": 283,
   "metadata": {},
   "outputs": [],
   "source": [
    "# ignore warnings\n",
    "import warnings\n",
    "warnings.filterwarnings(\"ignore\")"
   ]
  },
  {
   "cell_type": "code",
   "execution_count": 284,
   "metadata": {},
   "outputs": [],
   "source": [
    "# garbage collection\n",
    "import gc\n",
    "gc.enable()"
   ]
  },
  {
   "cell_type": "markdown",
   "metadata": {},
   "source": [
    "# 2. NAIVE BENCHMARK"
   ]
  },
  {
   "cell_type": "code",
   "execution_count": 285,
   "metadata": {},
   "outputs": [],
   "source": [
    "# import data\n",
    "train = pd.read_csv(\"../data/prepared/train.csv\")\n",
    "test  = pd.read_csv(\"../data/prepared/test.csv\")"
   ]
  },
  {
   "cell_type": "code",
   "execution_count": 286,
   "metadata": {},
   "outputs": [
    {
     "data": {
      "text/html": [
       "<div>\n",
       "<style scoped>\n",
       "    .dataframe tbody tr th:only-of-type {\n",
       "        vertical-align: middle;\n",
       "    }\n",
       "\n",
       "    .dataframe tbody tr th {\n",
       "        vertical-align: top;\n",
       "    }\n",
       "\n",
       "    .dataframe thead th {\n",
       "        text-align: right;\n",
       "    }\n",
       "</style>\n",
       "<table border=\"1\" class=\"dataframe\">\n",
       "  <thead>\n",
       "    <tr style=\"text-align: right;\">\n",
       "      <th></th>\n",
       "      <th>PredictionIdx</th>\n",
       "      <th>DateKey</th>\n",
       "      <th>CustomerIdx</th>\n",
       "      <th>IsinIdx</th>\n",
       "      <th>BuySell</th>\n",
       "      <th>CustomerInterest</th>\n",
       "      <th>WeekLag</th>\n",
       "    </tr>\n",
       "  </thead>\n",
       "  <tbody>\n",
       "    <tr>\n",
       "      <th>0</th>\n",
       "      <td>a1e0d80784</td>\n",
       "      <td>20180423</td>\n",
       "      <td>1856</td>\n",
       "      <td>13323</td>\n",
       "      <td>Buy</td>\n",
       "      <td>NaN</td>\n",
       "      <td>0</td>\n",
       "    </tr>\n",
       "    <tr>\n",
       "      <th>1</th>\n",
       "      <td>c2cc6cc2a8</td>\n",
       "      <td>20180423</td>\n",
       "      <td>1856</td>\n",
       "      <td>9230</td>\n",
       "      <td>Buy</td>\n",
       "      <td>NaN</td>\n",
       "      <td>0</td>\n",
       "    </tr>\n",
       "    <tr>\n",
       "      <th>2</th>\n",
       "      <td>a8e94f6344</td>\n",
       "      <td>20180423</td>\n",
       "      <td>1780</td>\n",
       "      <td>9157</td>\n",
       "      <td>Buy</td>\n",
       "      <td>NaN</td>\n",
       "      <td>0</td>\n",
       "    </tr>\n",
       "  </tbody>\n",
       "</table>\n",
       "</div>"
      ],
      "text/plain": [
       "  PredictionIdx   DateKey  CustomerIdx  IsinIdx BuySell  CustomerInterest  \\\n",
       "0    a1e0d80784  20180423         1856    13323     Buy               NaN   \n",
       "1    c2cc6cc2a8  20180423         1856     9230     Buy               NaN   \n",
       "2    a8e94f6344  20180423         1780     9157     Buy               NaN   \n",
       "\n",
       "   WeekLag  \n",
       "0        0  \n",
       "1        0  \n",
       "2        0  "
      ]
     },
     "metadata": {},
     "output_type": "display_data"
    },
    {
     "name": "stdout",
     "output_type": "stream",
     "text": [
      "Test data: (484758, 7)\n",
      "------------------------------\n"
     ]
    },
    {
     "data": {
      "text/html": [
       "<div>\n",
       "<style scoped>\n",
       "    .dataframe tbody tr th:only-of-type {\n",
       "        vertical-align: middle;\n",
       "    }\n",
       "\n",
       "    .dataframe tbody tr th {\n",
       "        vertical-align: top;\n",
       "    }\n",
       "\n",
       "    .dataframe thead th {\n",
       "        text-align: right;\n",
       "    }\n",
       "</style>\n",
       "<table border=\"1\" class=\"dataframe\">\n",
       "  <thead>\n",
       "    <tr style=\"text-align: right;\">\n",
       "      <th></th>\n",
       "      <th>WeekLag</th>\n",
       "      <th>CustomerIdx</th>\n",
       "      <th>IsinIdx</th>\n",
       "      <th>BuySell</th>\n",
       "      <th>CustomerInterest</th>\n",
       "    </tr>\n",
       "  </thead>\n",
       "  <tbody>\n",
       "    <tr>\n",
       "      <th>0</th>\n",
       "      <td>1.0</td>\n",
       "      <td>0</td>\n",
       "      <td>27045</td>\n",
       "      <td>Buy</td>\n",
       "      <td>1</td>\n",
       "    </tr>\n",
       "    <tr>\n",
       "      <th>1</th>\n",
       "      <td>1.0</td>\n",
       "      <td>0</td>\n",
       "      <td>27298</td>\n",
       "      <td>Sell</td>\n",
       "      <td>1</td>\n",
       "    </tr>\n",
       "    <tr>\n",
       "      <th>2</th>\n",
       "      <td>1.0</td>\n",
       "      <td>5</td>\n",
       "      <td>10842</td>\n",
       "      <td>Buy</td>\n",
       "      <td>1</td>\n",
       "    </tr>\n",
       "  </tbody>\n",
       "</table>\n",
       "</div>"
      ],
      "text/plain": [
       "   WeekLag  CustomerIdx  IsinIdx BuySell  CustomerInterest\n",
       "0      1.0            0    27045     Buy                 1\n",
       "1      1.0            0    27298    Sell                 1\n",
       "2      1.0            5    10842     Buy                 1"
      ]
     },
     "metadata": {},
     "output_type": "display_data"
    },
    {
     "name": "stdout",
     "output_type": "stream",
     "text": [
      "Train data: (6262730, 5)\n"
     ]
    }
   ],
   "source": [
    "# check all datasets\n",
    "display(test.head(3))\n",
    "print(\"Test data:\", test.shape)\n",
    "print(\"------------------------------\")\n",
    "display(train.head(3))\n",
    "print(\"Train data:\", train.shape)"
   ]
  },
  {
   "cell_type": "code",
   "execution_count": 287,
   "metadata": {},
   "outputs": [],
   "source": [
    "# recompute week index\n",
    "train[\"WeekLag\"] = train[\"WeekLag\"].max() - train[\"WeekLag\"]"
   ]
  },
  {
   "cell_type": "code",
   "execution_count": 288,
   "metadata": {},
   "outputs": [],
   "source": [
    "# aggregate\n",
    "train = train.groupby([\"CustomerIdx\", \"WeekLag\", \"IsinIdx\", \"BuySell\"], as_index = False).max()"
   ]
  },
  {
   "cell_type": "code",
   "execution_count": 289,
   "metadata": {},
   "outputs": [],
   "source": [
    "# compute lags\n",
    "for t in range(1, 51):\n",
    "    train[\"Lag\" + str(t)] = train.groupby([\"CustomerIdx\", \"IsinIdx\", \"BuySell\"], as_index = False).CustomerInterest.shift(t).fillna(0)"
   ]
  },
  {
   "cell_type": "code",
   "execution_count": 290,
   "metadata": {},
   "outputs": [],
   "source": [
    "# data partitioning\n",
    "valid = train[train[\"WeekLag\"]   > 115]\n",
    "train = train[(train[\"WeekLag\"] <= 115) & (train[\"WeekLag\"] > 50)]"
   ]
  },
  {
   "cell_type": "code",
   "execution_count": 291,
   "metadata": {},
   "outputs": [],
   "source": [
    "### function for historical target ratio\n",
    "def compute_target(data, lags):\n",
    "    \n",
    "    # filter lags\n",
    "    feats = [\"Lag\" + str(i) for i in range(1, lags + 1)]\n",
    "    data[\"Last\" + str(lags) + \"Weeks\"] = data[feats].max(axis = 1)\n",
    "    \n",
    "    # return test data\n",
    "    return data"
   ]
  },
  {
   "cell_type": "code",
   "execution_count": 300,
   "metadata": {},
   "outputs": [],
   "source": [
    "train = compute_target(train, lags = 2)\n",
    "train = compute_target(train, lags = 4)\n",
    "train = compute_target(train, lags = 8)\n",
    "train = compute_target(train, lags = 12)\n",
    "train = compute_target(train, lags = 16)\n",
    "train = compute_target(train, lags = 20)\n",
    "train = compute_target(train, lags = 24)\n",
    "train = compute_target(train, lags = 28)\n",
    "train = compute_target(train, lags = 32)\n",
    "train = compute_target(train, lags = 36)\n",
    "train = compute_target(train, lags = 42)\n",
    "train = compute_target(train, lags = 46)\n",
    "\n",
    "valid = compute_target(valid, lags = 2)\n",
    "valid = compute_target(valid, lags = 4)\n",
    "valid = compute_target(valid, lags = 8)\n",
    "valid = compute_target(valid, lags = 12)\n",
    "valid = compute_target(valid, lags = 16)\n",
    "valid = compute_target(valid, lags = 20)\n",
    "valid = compute_target(valid, lags = 24)\n",
    "valid = compute_target(valid, lags = 28)\n",
    "valid = compute_target(valid, lags = 32)\n",
    "valid = compute_target(valid, lags = 36)\n",
    "valid = compute_target(valid, lags = 42)\n",
    "valid = compute_target(valid, lags = 46)"
   ]
  },
  {
   "cell_type": "code",
   "execution_count": 301,
   "metadata": {},
   "outputs": [
    {
     "data": {
      "text/plain": [
       "Index(['Last2Weeks', 'Last4Weeks', 'Last8Weeks', 'Last16Weeks', 'Last32Weeks',\n",
       "       'Last12Weeks', 'Last20Weeks', 'Last24Weeks', 'Last28Weeks',\n",
       "       'Last36Weeks', 'Last42Weeks', 'Last46Weeks'],\n",
       "      dtype='object')"
      ]
     },
     "execution_count": 301,
     "metadata": {},
     "output_type": "execute_result"
    }
   ],
   "source": [
    "# list of features\n",
    "features = train.filter(like = \"Last\").columns\n",
    "features"
   ]
  },
  {
   "cell_type": "code",
   "execution_count": 311,
   "metadata": {},
   "outputs": [],
   "source": [
    "### PARAMETERS\n",
    "\n",
    "# learner settings\n",
    "metric   = \"auc\"\n",
    "verbose  = 10\n",
    "stopping = 100\n",
    "seed = 42\n",
    "\n",
    "# lgb settings\n",
    "gbm = lgb.LGBMClassifier(n_estimators     = 1000,\n",
    "                         learning_rate    = 0.005,\n",
    "                         num_leaves       = 70,\n",
    "                         colsample_bytree = 0.8,\n",
    "                         subsample        = 0.9,\n",
    "                         max_depth        = 7,\n",
    "                         reg_alpha        = 0.1,\n",
    "                         reg_lambda       = 0.1,\n",
    "                         min_split_gain   = 0.01,\n",
    "                         min_child_weight = 2,\n",
    "                         random_state     = seed)"
   ]
  },
  {
   "cell_type": "code",
   "execution_count": 312,
   "metadata": {},
   "outputs": [
    {
     "name": "stdout",
     "output_type": "stream",
     "text": [
      "Training until validation scores don't improve for 100 rounds.\n",
      "[10]\tvalid_0's auc: 0.630993\tvalid_1's auc: 0.643572\n",
      "[20]\tvalid_0's auc: 0.630993\tvalid_1's auc: 0.643572\n",
      "[30]\tvalid_0's auc: 0.630993\tvalid_1's auc: 0.643572\n",
      "[40]\tvalid_0's auc: 0.630993\tvalid_1's auc: 0.643572\n",
      "[50]\tvalid_0's auc: 0.630993\tvalid_1's auc: 0.643572\n",
      "[60]\tvalid_0's auc: 0.630993\tvalid_1's auc: 0.643572\n",
      "[70]\tvalid_0's auc: 0.630993\tvalid_1's auc: 0.643572\n",
      "[80]\tvalid_0's auc: 0.630993\tvalid_1's auc: 0.643572\n",
      "[90]\tvalid_0's auc: 0.630993\tvalid_1's auc: 0.643572\n",
      "[100]\tvalid_0's auc: 0.630993\tvalid_1's auc: 0.643572\n",
      "Early stopping, best iteration is:\n",
      "[2]\tvalid_0's auc: 0.630993\tvalid_1's auc: 0.643572\n"
     ]
    }
   ],
   "source": [
    "# train lightGBM\n",
    "gbm = gbm.fit(train[features], y_train, \n",
    "              eval_set = [(train[features], y_train), (valid[features], y_valid)], \n",
    "              eval_metric = metric, \n",
    "              verbose = verbose, \n",
    "              early_stopping_rounds = stopping)\n",
    "    \n",
    "# save number of iterations\n",
    "num_iters = gbm.best_iteration_"
   ]
  },
  {
   "cell_type": "code",
   "execution_count": 313,
   "metadata": {},
   "outputs": [
    {
     "data": {
      "image/png": "[encoded data removed]",
      "text/plain": [
       "<matplotlib.figure.Figure at 0x1a35b3f9b0>"
      ]
     },
     "metadata": {},
     "output_type": "display_data"
    }
   ],
   "source": [
    "ax = lgb.plot_importance(gbm, max_num_features=None)\n",
    "plt.show()"
   ]
  },
  {
   "cell_type": "code",
   "execution_count": 61,
   "metadata": {},
   "outputs": [],
   "source": [
    "# export CSV\n",
    "subm = test[[\"PredictionIdx\", \"CustomerInterest\"]]\n",
    "subm.to_csv(\"../submissions/naive_6week_ratios.csv\", index = False, float_format = \"%.8f\")"
   ]
  },
  {
   "cell_type": "code",
   "execution_count": null,
   "metadata": {},
   "outputs": [],
   "source": []
  },
  {
   "cell_type": "code",
   "execution_count": null,
   "metadata": {},
   "outputs": [],
   "source": []
  },
  {
   "cell_type": "code",
   "execution_count": null,
   "metadata": {},
   "outputs": [],
   "source": []
  },
  {
   "cell_type": "code",
   "execution_count": null,
   "metadata": {},
   "outputs": [],
   "source": []
  },
  {
   "cell_type": "code",
   "execution_count": null,
   "metadata": {},
   "outputs": [],
   "source": []
  },
  {
   "cell_type": "code",
   "execution_count": 120,
   "metadata": {},
   "outputs": [],
   "source": [
    "### function for historical target ratio\n",
    "def compute_target_ratio(train, test, lags):\n",
    "    \n",
    "    # filter lags\n",
    "    tmp = train[train[\"WeekLag\"] <= lags]\n",
    "    del tmp[\"WeekLag\"]\n",
    "    \n",
    "    # aggregating\n",
    "    tmp = tmp.groupby([\"CustomerIdx\", \"IsinIdx\", \"BuySell\"], as_index = False).mean()\n",
    "    tmp.columns = [\"CustomerIdx\", \"IsinIdx\", \"BuySell\", \"ratio\" + str(lags)]\n",
    "    \n",
    "    # merge to test\n",
    "    test = test.merge(tmp, how = \"left\", on = [\"CustomerIdx\", \"IsinIdx\", \"BuySell\"])\n",
    "    \n",
    "    # fill NA with zeros\n",
    "    test[\"ratio\" + str(lags)].fillna(0, inplace = True)\n",
    "    \n",
    "    # return test data\n",
    "    return test"
   ]
  },
  {
   "cell_type": "code",
   "execution_count": 121,
   "metadata": {},
   "outputs": [],
   "source": [
    "# compute ratios\n",
    "valid = compute_target_ratio(train, valid, lags = 5+4)\n",
    "valid = compute_target_ratio(train, valid, lags = 5+8)\n",
    "valid = compute_target_ratio(train, valid, lags = 5+16)\n",
    "valid = compute_target_ratio(train, valid, lags = 5+32)\n",
    "valid = compute_target_ratio(train, valid, lags = 5+64)\n",
    "valid = compute_target_ratio(train, valid, lags = 5+128)"
   ]
  },
  {
   "cell_type": "code",
   "execution_count": 228,
   "metadata": {},
   "outputs": [],
   "source": [
    "# extract target\n",
    "y_train = train[\"CustomerInterest\"]\n",
    "y_valid = valid[\"CustomerInterest\"]"
   ]
  },
  {
   "cell_type": "code",
   "execution_count": 101,
   "metadata": {},
   "outputs": [],
   "source": [
    "# average all ratios\n",
    "test.CustomerInterestPred = test.filter(like = \"ratio\").mean(axis = 1)"
   ]
  },
  {
   "cell_type": "code",
   "execution_count": 102,
   "metadata": {},
   "outputs": [
    {
     "data": {
      "text/plain": [
       "0.6816434726205932"
      ]
     },
     "execution_count": 102,
     "metadata": {},
     "output_type": "execute_result"
    }
   ],
   "source": [
    "roc_auc_score(test.CustomerInterest, test.CustomerInterestPred)"
   ]
  }
 ],
 "metadata": {
  "kernelspec": {
   "display_name": "Python 3",
   "language": "python",
   "name": "python3"
  },
  "language_info": {
   "codemirror_mode": {
    "name": "ipython",
    "version": 3
   },
   "file_extension": ".py",
   "mimetype": "text/x-python",
   "name": "python",
   "nbconvert_exporter": "python",
   "pygments_lexer": "ipython3",
   "version": "3.6.5"
  }
 },
 "nbformat": 4,
 "nbformat_minor": 2
}
