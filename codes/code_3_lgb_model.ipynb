{
 "cells": [
  {
   "cell_type": "markdown",
   "metadata": {},
   "source": [
    "# 1. SETTINGS"
   ]
  },
  {
   "cell_type": "code",
   "execution_count": 1,
   "metadata": {},
   "outputs": [],
   "source": [
    "# libraries\n",
    "import numpy as np\n",
    "import pandas as pd\n",
    "import seaborn as sns\n",
    "import lightgbm as lgb\n",
    "import matplotlib.pyplot as plt\n",
    "from sklearn.metrics import roc_auc_score\n",
    "import scipy.stats"
   ]
  },
  {
   "cell_type": "code",
   "execution_count": 2,
   "metadata": {},
   "outputs": [],
   "source": [
    "# pandas options\n",
    "pd.set_option(\"display.max_columns\", None)"
   ]
  },
  {
   "cell_type": "code",
   "execution_count": 3,
   "metadata": {},
   "outputs": [],
   "source": [
    "# random seed\n",
    "seed = 42"
   ]
  },
  {
   "cell_type": "markdown",
   "metadata": {},
   "source": [
    "# 2. DATA PARTITIONING"
   ]
  },
  {
   "cell_type": "code",
   "execution_count": 5,
   "metadata": {},
   "outputs": [
    {
     "name": "stdout",
     "output_type": "stream",
     "text": [
      "Train data: (111293880, 45)\n",
      "Test data: (484758, 47)\n"
     ]
    }
   ],
   "source": [
    "# import data\n",
    "data = pd.read_csv(\"../data/prepared/train_new.csv\")\n",
    "test = pd.read_csv(\"../data/prepared/test_new.csv\")\n",
    "print(\"Train data:\", data.shape)\n",
    "print(\"Test data:\",  test.shape)"
   ]
  },
  {
   "cell_type": "code",
   "execution_count": 6,
   "metadata": {},
   "outputs": [
    {
     "name": "stdout",
     "output_type": "stream",
     "text": [
      "3439\n",
      "2495\n",
      "(108965520, 45)\n"
     ]
    }
   ],
   "source": [
    "# remove customer not present in test set\n",
    "# this is just 2m out of 111m observations\n",
    "customers = data.CustomerIdx.unique()\n",
    "print(len(customers))\n",
    "customers = [c for c in customers if c in test.CustomerIdx.unique()]\n",
    "print(len(customers))\n",
    "data = data[data.CustomerIdx.isin(customers)]\n",
    "print(\"Train data:\", data.shape)"
   ]
  },
  {
   "cell_type": "code",
   "execution_count": 7,
   "metadata": {},
   "outputs": [
    {
     "data": {
      "text/html": [
       "<div>\n",
       "<style scoped>\n",
       "    .dataframe tbody tr th:only-of-type {\n",
       "        vertical-align: middle;\n",
       "    }\n",
       "\n",
       "    .dataframe tbody tr th {\n",
       "        vertical-align: top;\n",
       "    }\n",
       "\n",
       "    .dataframe thead th {\n",
       "        text-align: right;\n",
       "    }\n",
       "</style>\n",
       "<table border=\"1\" class=\"dataframe\">\n",
       "  <thead>\n",
       "    <tr style=\"text-align: right;\">\n",
       "      <th></th>\n",
       "      <th>CustomerIdx</th>\n",
       "      <th>IsinIdx</th>\n",
       "      <th>BuySell</th>\n",
       "      <th>Week</th>\n",
       "      <th>CustomerInterest</th>\n",
       "      <th>Asset Managers &amp; Hedge Funds</th>\n",
       "      <th>Asset Owners</th>\n",
       "      <th>Banks and Intermediaries</th>\n",
       "      <th>Corporation</th>\n",
       "      <th>Official Institution - OI</th>\n",
       "      <th>Americas</th>\n",
       "      <th>Asia Pacific</th>\n",
       "      <th>Europe, Middle East and Africa</th>\n",
       "      <th>FLOW G10</th>\n",
       "      <th>FLOW LOCAL MARKET</th>\n",
       "      <th>SAS &amp; COVERED BONDS</th>\n",
       "      <th>A</th>\n",
       "      <th>A+</th>\n",
       "      <th>A-</th>\n",
       "      <th>AA</th>\n",
       "      <th>AA+</th>\n",
       "      <th>AA-</th>\n",
       "      <th>AAA</th>\n",
       "      <th>B</th>\n",
       "      <th>B+</th>\n",
       "      <th>B-</th>\n",
       "      <th>BB</th>\n",
       "      <th>BB+</th>\n",
       "      <th>BB-</th>\n",
       "      <th>BBB</th>\n",
       "      <th>BBB+</th>\n",
       "      <th>BBB-</th>\n",
       "      <th>C</th>\n",
       "      <th>C+</th>\n",
       "      <th>CC</th>\n",
       "      <th>CC+</th>\n",
       "      <th>CC-</th>\n",
       "      <th>CCC</th>\n",
       "      <th>CCC+</th>\n",
       "      <th>CCC-</th>\n",
       "      <th>D</th>\n",
       "      <th>DD+</th>\n",
       "      <th>DDD</th>\n",
       "      <th>DDD+</th>\n",
       "      <th>NR</th>\n",
       "    </tr>\n",
       "  </thead>\n",
       "  <tbody>\n",
       "    <tr>\n",
       "      <th>0</th>\n",
       "      <td>0</td>\n",
       "      <td>16471</td>\n",
       "      <td>Buy</td>\n",
       "      <td>1.0</td>\n",
       "      <td>0</td>\n",
       "      <td>1</td>\n",
       "      <td>0</td>\n",
       "      <td>0</td>\n",
       "      <td>0</td>\n",
       "      <td>0</td>\n",
       "      <td>0</td>\n",
       "      <td>1</td>\n",
       "      <td>0</td>\n",
       "      <td>0</td>\n",
       "      <td>1</td>\n",
       "      <td>0</td>\n",
       "      <td>0</td>\n",
       "      <td>0</td>\n",
       "      <td>0</td>\n",
       "      <td>0</td>\n",
       "      <td>0</td>\n",
       "      <td>0</td>\n",
       "      <td>0</td>\n",
       "      <td>0</td>\n",
       "      <td>0</td>\n",
       "      <td>0</td>\n",
       "      <td>0</td>\n",
       "      <td>1</td>\n",
       "      <td>0</td>\n",
       "      <td>0</td>\n",
       "      <td>0</td>\n",
       "      <td>0</td>\n",
       "      <td>0</td>\n",
       "      <td>0</td>\n",
       "      <td>0</td>\n",
       "      <td>0</td>\n",
       "      <td>0</td>\n",
       "      <td>0</td>\n",
       "      <td>0</td>\n",
       "      <td>0</td>\n",
       "      <td>0</td>\n",
       "      <td>0</td>\n",
       "      <td>0</td>\n",
       "      <td>0</td>\n",
       "      <td>0</td>\n",
       "    </tr>\n",
       "    <tr>\n",
       "      <th>1</th>\n",
       "      <td>0</td>\n",
       "      <td>16471</td>\n",
       "      <td>Buy</td>\n",
       "      <td>2.0</td>\n",
       "      <td>0</td>\n",
       "      <td>1</td>\n",
       "      <td>0</td>\n",
       "      <td>0</td>\n",
       "      <td>0</td>\n",
       "      <td>0</td>\n",
       "      <td>0</td>\n",
       "      <td>1</td>\n",
       "      <td>0</td>\n",
       "      <td>0</td>\n",
       "      <td>1</td>\n",
       "      <td>0</td>\n",
       "      <td>0</td>\n",
       "      <td>0</td>\n",
       "      <td>0</td>\n",
       "      <td>0</td>\n",
       "      <td>0</td>\n",
       "      <td>0</td>\n",
       "      <td>0</td>\n",
       "      <td>0</td>\n",
       "      <td>0</td>\n",
       "      <td>0</td>\n",
       "      <td>0</td>\n",
       "      <td>1</td>\n",
       "      <td>0</td>\n",
       "      <td>0</td>\n",
       "      <td>0</td>\n",
       "      <td>0</td>\n",
       "      <td>0</td>\n",
       "      <td>0</td>\n",
       "      <td>0</td>\n",
       "      <td>0</td>\n",
       "      <td>0</td>\n",
       "      <td>0</td>\n",
       "      <td>0</td>\n",
       "      <td>0</td>\n",
       "      <td>0</td>\n",
       "      <td>0</td>\n",
       "      <td>0</td>\n",
       "      <td>0</td>\n",
       "      <td>0</td>\n",
       "    </tr>\n",
       "    <tr>\n",
       "      <th>2</th>\n",
       "      <td>0</td>\n",
       "      <td>16471</td>\n",
       "      <td>Buy</td>\n",
       "      <td>3.0</td>\n",
       "      <td>0</td>\n",
       "      <td>1</td>\n",
       "      <td>0</td>\n",
       "      <td>0</td>\n",
       "      <td>0</td>\n",
       "      <td>0</td>\n",
       "      <td>0</td>\n",
       "      <td>1</td>\n",
       "      <td>0</td>\n",
       "      <td>0</td>\n",
       "      <td>1</td>\n",
       "      <td>0</td>\n",
       "      <td>0</td>\n",
       "      <td>0</td>\n",
       "      <td>0</td>\n",
       "      <td>0</td>\n",
       "      <td>0</td>\n",
       "      <td>0</td>\n",
       "      <td>0</td>\n",
       "      <td>0</td>\n",
       "      <td>0</td>\n",
       "      <td>0</td>\n",
       "      <td>0</td>\n",
       "      <td>1</td>\n",
       "      <td>0</td>\n",
       "      <td>0</td>\n",
       "      <td>0</td>\n",
       "      <td>0</td>\n",
       "      <td>0</td>\n",
       "      <td>0</td>\n",
       "      <td>0</td>\n",
       "      <td>0</td>\n",
       "      <td>0</td>\n",
       "      <td>0</td>\n",
       "      <td>0</td>\n",
       "      <td>0</td>\n",
       "      <td>0</td>\n",
       "      <td>0</td>\n",
       "      <td>0</td>\n",
       "      <td>0</td>\n",
       "      <td>0</td>\n",
       "    </tr>\n",
       "    <tr>\n",
       "      <th>3</th>\n",
       "      <td>0</td>\n",
       "      <td>16471</td>\n",
       "      <td>Buy</td>\n",
       "      <td>4.0</td>\n",
       "      <td>0</td>\n",
       "      <td>1</td>\n",
       "      <td>0</td>\n",
       "      <td>0</td>\n",
       "      <td>0</td>\n",
       "      <td>0</td>\n",
       "      <td>0</td>\n",
       "      <td>1</td>\n",
       "      <td>0</td>\n",
       "      <td>0</td>\n",
       "      <td>1</td>\n",
       "      <td>0</td>\n",
       "      <td>0</td>\n",
       "      <td>0</td>\n",
       "      <td>0</td>\n",
       "      <td>0</td>\n",
       "      <td>0</td>\n",
       "      <td>0</td>\n",
       "      <td>0</td>\n",
       "      <td>0</td>\n",
       "      <td>0</td>\n",
       "      <td>0</td>\n",
       "      <td>0</td>\n",
       "      <td>1</td>\n",
       "      <td>0</td>\n",
       "      <td>0</td>\n",
       "      <td>0</td>\n",
       "      <td>0</td>\n",
       "      <td>0</td>\n",
       "      <td>0</td>\n",
       "      <td>0</td>\n",
       "      <td>0</td>\n",
       "      <td>0</td>\n",
       "      <td>0</td>\n",
       "      <td>0</td>\n",
       "      <td>0</td>\n",
       "      <td>0</td>\n",
       "      <td>0</td>\n",
       "      <td>0</td>\n",
       "      <td>0</td>\n",
       "      <td>0</td>\n",
       "    </tr>\n",
       "    <tr>\n",
       "      <th>4</th>\n",
       "      <td>0</td>\n",
       "      <td>16471</td>\n",
       "      <td>Buy</td>\n",
       "      <td>5.0</td>\n",
       "      <td>0</td>\n",
       "      <td>1</td>\n",
       "      <td>0</td>\n",
       "      <td>0</td>\n",
       "      <td>0</td>\n",
       "      <td>0</td>\n",
       "      <td>0</td>\n",
       "      <td>1</td>\n",
       "      <td>0</td>\n",
       "      <td>0</td>\n",
       "      <td>1</td>\n",
       "      <td>0</td>\n",
       "      <td>0</td>\n",
       "      <td>0</td>\n",
       "      <td>0</td>\n",
       "      <td>0</td>\n",
       "      <td>0</td>\n",
       "      <td>0</td>\n",
       "      <td>0</td>\n",
       "      <td>0</td>\n",
       "      <td>0</td>\n",
       "      <td>0</td>\n",
       "      <td>0</td>\n",
       "      <td>1</td>\n",
       "      <td>0</td>\n",
       "      <td>0</td>\n",
       "      <td>0</td>\n",
       "      <td>0</td>\n",
       "      <td>0</td>\n",
       "      <td>0</td>\n",
       "      <td>0</td>\n",
       "      <td>0</td>\n",
       "      <td>0</td>\n",
       "      <td>0</td>\n",
       "      <td>0</td>\n",
       "      <td>0</td>\n",
       "      <td>0</td>\n",
       "      <td>0</td>\n",
       "      <td>0</td>\n",
       "      <td>0</td>\n",
       "      <td>0</td>\n",
       "    </tr>\n",
       "  </tbody>\n",
       "</table>\n",
       "</div>"
      ],
      "text/plain": [
       "   CustomerIdx  IsinIdx BuySell  Week  CustomerInterest  \\\n",
       "0            0    16471     Buy   1.0                 0   \n",
       "1            0    16471     Buy   2.0                 0   \n",
       "2            0    16471     Buy   3.0                 0   \n",
       "3            0    16471     Buy   4.0                 0   \n",
       "4            0    16471     Buy   5.0                 0   \n",
       "\n",
       "   Asset Managers & Hedge Funds  Asset Owners  Banks and Intermediaries  \\\n",
       "0                             1             0                         0   \n",
       "1                             1             0                         0   \n",
       "2                             1             0                         0   \n",
       "3                             1             0                         0   \n",
       "4                             1             0                         0   \n",
       "\n",
       "   Corporation  Official Institution - OI  Americas  Asia Pacific  \\\n",
       "0            0                          0         0             1   \n",
       "1            0                          0         0             1   \n",
       "2            0                          0         0             1   \n",
       "3            0                          0         0             1   \n",
       "4            0                          0         0             1   \n",
       "\n",
       "   Europe, Middle East and Africa  FLOW G10  FLOW LOCAL MARKET  \\\n",
       "0                               0         0                  1   \n",
       "1                               0         0                  1   \n",
       "2                               0         0                  1   \n",
       "3                               0         0                  1   \n",
       "4                               0         0                  1   \n",
       "\n",
       "   SAS & COVERED BONDS  A  A+  A-  AA  AA+  AA-  AAA  B  B+  B-  BB  BB+  BB-  \\\n",
       "0                    0  0   0   0   0    0    0    0  0   0   0   0    1    0   \n",
       "1                    0  0   0   0   0    0    0    0  0   0   0   0    1    0   \n",
       "2                    0  0   0   0   0    0    0    0  0   0   0   0    1    0   \n",
       "3                    0  0   0   0   0    0    0    0  0   0   0   0    1    0   \n",
       "4                    0  0   0   0   0    0    0    0  0   0   0   0    1    0   \n",
       "\n",
       "   BBB  BBB+  BBB-  C  C+  CC  CC+  CC-  CCC  CCC+  CCC-  D  DD+  DDD  DDD+  \\\n",
       "0    0     0     0  0   0   0    0    0    0     0     0  0    0    0     0   \n",
       "1    0     0     0  0   0   0    0    0    0     0     0  0    0    0     0   \n",
       "2    0     0     0  0   0   0    0    0    0     0     0  0    0    0     0   \n",
       "3    0     0     0  0   0   0    0    0    0     0     0  0    0    0     0   \n",
       "4    0     0     0  0   0   0    0    0    0     0     0  0    0    0     0   \n",
       "\n",
       "   NR  \n",
       "0   0  \n",
       "1   0  \n",
       "2   0  \n",
       "3   0  \n",
       "4   0  "
      ]
     },
     "execution_count": 7,
     "metadata": {},
     "output_type": "execute_result"
    }
   ],
   "source": [
    "# check data\n",
    "data.head()"
   ]
  },
  {
   "cell_type": "markdown",
   "metadata": {},
   "source": [
    "Data is currently partitioned into three folds:\n",
    "\n",
    "1) STATS - used to compute historical ratios and merge them to train.\n",
    "\n",
    "2) TRAIN - used to train the algorithms; compute historical ratios and merge them to valid.\n",
    "\n",
    "3) VALID - used to validate the models."
   ]
  },
  {
   "cell_type": "code",
   "execution_count": 8,
   "metadata": {},
   "outputs": [],
   "source": [
    "# data partitioning\n",
    "stats = data[(data[\"Week\"] >= 1)   & (data[\"Week\"] <= 50)]\n",
    "train = data[(data[\"Week\"] >= 51)  & (data[\"Week\"] <= 110)]\n",
    "valid = data[(data[\"Week\"] >= 111) & (data[\"Week\"] <= 121)]\n",
    "del data"
   ]
  },
  {
   "cell_type": "markdown",
   "metadata": {},
   "source": [
    "# 3. FEATURE ENGINEERING"
   ]
  },
  {
   "cell_type": "code",
   "execution_count": 9,
   "metadata": {},
   "outputs": [],
   "source": [
    "##### FUNCTION FOR COMPUTING NAIVE RATIOS\n",
    "\n",
    "# EXPLANATION\n",
    "# 1) Computes ratios of target based on\n",
    "# - training data\n",
    "# - last t weeks\n",
    "# - by groupby variable\n",
    "# 2) Mergres ratios to testing data\n",
    "\n",
    "# ARGUMENTS:\n",
    "# train and test = data subsets\n",
    "# groupby = by what variable to compute target ratios\n",
    "# t = how many weeks to go in the past\n",
    "\n",
    "# RETURNS:\n",
    "# test data with merged ratios\n",
    "\n",
    "def compute_ratio(train, test, groupby, target = \"CustomerInterest\", t = 50):\n",
    "    tmp   = train[train[\"Week\"] >= (train.Week.max() - t)]\n",
    "    feats = [f for f in tmp.columns if (f in groupby) | (f == target)]\n",
    "    tmp   = tmp[feats]\n",
    "    tmp   = tmp.groupby(groupby, as_index = False).mean()\n",
    "    tmp.rename(columns = {'CustomerInterest': \"ratio_\" + \"\".join(groupby) + \"_\" + str(t)}, inplace = True)\n",
    "    test = test.merge(tmp, how = \"left\", on = groupby)\n",
    "    return test"
   ]
  },
  {
   "cell_type": "code",
   "execution_count": 10,
   "metadata": {},
   "outputs": [],
   "source": [
    "##### FUNCTION FOR COMPUTING ALL RATIOS\n",
    "\n",
    "# ARGUMENTS:\n",
    "# train and test = data subsets\n",
    "\n",
    "# RETURNS:\n",
    "# test data with all merged ratios\n",
    "\n",
    "def compute_all_ratios(train, test):\n",
    "    \n",
    "    test = compute_ratio(train, test, groupby = [\"CustomerIdx\"], t = 50)\n",
    "    test = compute_ratio(train, test, groupby = [\"CustomerIdx\"], t = 25)\n",
    "    test = compute_ratio(train, test, groupby = [\"CustomerIdx\"], t = 10)\n",
    "    test = compute_ratio(train, test, groupby = [\"CustomerIdx\"], t = 5)\n",
    "    test = compute_ratio(train, test, groupby = [\"CustomerIdx\"], t = 2)\n",
    "\n",
    "    test = compute_ratio(train, test, groupby = [\"IsinIdx\"], t = 50)\n",
    "    test = compute_ratio(train, test, groupby = [\"IsinIdx\"], t = 25)\n",
    "    test = compute_ratio(train, test, groupby = [\"IsinIdx\"], t = 10)\n",
    "    test = compute_ratio(train, test, groupby = [\"IsinIdx\"], t = 5)\n",
    "    test = compute_ratio(train, test, groupby = [\"IsinIdx\"], t = 2)\n",
    "\n",
    "    test = compute_ratio(train, test, groupby = [\"CustomerIdx\", \"IsinIdx\"], t = 50)\n",
    "    test = compute_ratio(train, test, groupby = [\"CustomerIdx\", \"IsinIdx\"], t = 25)\n",
    "    test = compute_ratio(train, test, groupby = [\"CustomerIdx\", \"IsinIdx\"], t = 10)\n",
    "    test = compute_ratio(train, test, groupby = [\"CustomerIdx\", \"IsinIdx\"], t = 5)\n",
    "    test = compute_ratio(train, test, groupby = [\"CustomerIdx\", \"IsinIdx\"], t = 2)\n",
    "    \n",
    "    test = compute_ratio(train, test, groupby = [\"CustomerIdx\", \"IsinIdx\", \"BuySell\"], t = 4)\n",
    "    test = compute_ratio(train, test, groupby = [\"CustomerIdx\", \"BuySell\"],            t = 4)\n",
    "    test = compute_ratio(train, test, groupby = [\"IsinIdx\", \"BuySell\"],                t = 4)\n",
    "\n",
    "    return test"
   ]
  },
  {
   "cell_type": "code",
   "execution_count": 11,
   "metadata": {},
   "outputs": [],
   "source": [
    "# computing ratios\n",
    "train = compute_all_ratios(stats, train)\n",
    "valid = compute_all_ratios(train, valid)"
   ]
  },
  {
   "cell_type": "code",
   "execution_count": 12,
   "metadata": {},
   "outputs": [
    {
     "name": "stdout",
     "output_type": "stream",
     "text": [
      "(54482760, 63)\n",
      "(9080460, 63)\n"
     ]
    }
   ],
   "source": [
    "# check shapes\n",
    "print(train.shape)\n",
    "print(valid.shape)"
   ]
  },
  {
   "cell_type": "markdown",
   "metadata": {},
   "source": [
    "# 4. MODELING"
   ]
  },
  {
   "cell_type": "code",
   "execution_count": 13,
   "metadata": {},
   "outputs": [],
   "source": [
    "# extract target\n",
    "y_train = train.CustomerInterest\n",
    "y_valid = valid.CustomerInterest"
   ]
  },
  {
   "cell_type": "code",
   "execution_count": 14,
   "metadata": {},
   "outputs": [],
   "source": [
    "# list of features\n",
    "exclude  = [\"Week\", \"CustomerIdx\", \"IsinIdx\", \"BuySell\", \"CustomerInterest\"]\n",
    "features = [f for f in train.columns if f not in exclude]"
   ]
  },
  {
   "cell_type": "code",
   "execution_count": 15,
   "metadata": {},
   "outputs": [],
   "source": [
    "# subset data\n",
    "train = train[features]\n",
    "valid = valid[features]"
   ]
  },
  {
   "cell_type": "code",
   "execution_count": 16,
   "metadata": {},
   "outputs": [
    {
     "name": "stdout",
     "output_type": "stream",
     "text": [
      "(54482760, 58)\n",
      "(9080460, 58)\n"
     ]
    }
   ],
   "source": [
    "# check shapes\n",
    "print(train.shape)\n",
    "print(valid.shape)"
   ]
  },
  {
   "cell_type": "code",
   "execution_count": 17,
   "metadata": {},
   "outputs": [],
   "source": [
    "### PARAMETERS\n",
    "\n",
    "# parallel settings\n",
    "cores = 16\n",
    "\n",
    "# learner settings\n",
    "metric   = \"auc\"\n",
    "verbose  = 100\n",
    "stopping = 300\n",
    "\n",
    "# lightGBM\n",
    "gbm = lgb.LGBMClassifier(n_estimators     = 10000,\n",
    "                         learning_rate    = 0.005,\n",
    "                         num_leaves       = 70,\n",
    "                         colsample_bytree = 0.8,\n",
    "                         subsample        = 0.9,\n",
    "                         max_depth        = 7,\n",
    "                         reg_alpha        = 0.1,\n",
    "                         reg_lambda       = 0.1,\n",
    "                         min_split_gain   = 0.01,\n",
    "                         min_child_weight = 2,\n",
    "                         random_state     = seed,\n",
    "                         num_threads      = cores)"
   ]
  },
  {
   "cell_type": "code",
   "execution_count": 18,
   "metadata": {},
   "outputs": [
    {
     "name": "stdout",
     "output_type": "stream",
     "text": [
      "Training until validation scores don't improve for 300 rounds.\n",
      "[100]\ttraining's auc: 0.666353\tvalid_1's auc: 0.665838\n",
      "[200]\ttraining's auc: 0.667457\tvalid_1's auc: 0.666263\n",
      "[300]\ttraining's auc: 0.668291\tvalid_1's auc: 0.666561\n",
      "[400]\ttraining's auc: 0.669021\tvalid_1's auc: 0.667792\n",
      "[500]\ttraining's auc: 0.670122\tvalid_1's auc: 0.669073\n",
      "[600]\ttraining's auc: 0.671414\tvalid_1's auc: 0.669611\n",
      "[700]\ttraining's auc: 0.672791\tvalid_1's auc: 0.670825\n",
      "[800]\ttraining's auc: 0.674149\tvalid_1's auc: 0.672124\n",
      "[900]\ttraining's auc: 0.675317\tvalid_1's auc: 0.673492\n",
      "[1000]\ttraining's auc: 0.676536\tvalid_1's auc: 0.67491\n",
      "[1100]\ttraining's auc: 0.677876\tvalid_1's auc: 0.676412\n",
      "[1200]\ttraining's auc: 0.679131\tvalid_1's auc: 0.678007\n",
      "[1300]\ttraining's auc: 0.680293\tvalid_1's auc: 0.679068\n",
      "[1400]\ttraining's auc: 0.681319\tvalid_1's auc: 0.67936\n",
      "[1500]\ttraining's auc: 0.682395\tvalid_1's auc: 0.678998\n",
      "[1600]\ttraining's auc: 0.683291\tvalid_1's auc: 0.678508\n",
      "Early stopping, best iteration is:\n",
      "[1376]\ttraining's auc: 0.681064\tvalid_1's auc: 0.679432\n"
     ]
    }
   ],
   "source": [
    "# train lightGBM\n",
    "gbm = gbm.fit(train, y_train, \n",
    "              eval_set = [(train, y_train), (valid, y_valid)], \n",
    "              eval_metric = metric, verbose = verbose, \n",
    "              early_stopping_rounds = stopping)\n",
    "    \n",
    "# save number of iterations\n",
    "num_iters = gbm.best_iteration_\n",
    "\n",
    "# 0.673276\n",
    "# 0.679432"
   ]
  },
  {
   "cell_type": "code",
   "execution_count": 20,
   "metadata": {},
   "outputs": [
    {
     "data": {
      "image/png": "[encoded data removed]",
      "text/plain": [
       "<Figure size 720x720 with 1 Axes>"
      ]
     },
     "metadata": {},
     "output_type": "display_data"
    }
   ],
   "source": [
    "##### VARIABLE IMPORTANCE\n",
    "\n",
    "# load variable importance\n",
    "importance = pd.DataFrame()\n",
    "importance[\"feature\"] = features\n",
    "importance[\"importance\"] = gbm.feature_importances_\n",
    "\n",
    "# plot variable importance\n",
    "plt.figure(figsize = (10, 10))\n",
    "sns.barplot(x = \"importance\", y = \"feature\", data = importance.sort_values(by = \"importance\", ascending = False))\n",
    "plt.title('LGBM Feature Importance')\n",
    "plt.tight_layout()"
   ]
  },
  {
   "cell_type": "markdown",
   "metadata": {},
   "source": [
    "# 5. PREDICTIONS"
   ]
  },
  {
   "cell_type": "code",
   "execution_count": 21,
   "metadata": {},
   "outputs": [],
   "source": [
    "# reload data\n",
    "del train, valid\n",
    "train = pd.read_csv(\"../data/prepared/train_new.csv\")\n",
    "test  = pd.read_csv(\"../data/prepared/test_new.csv\")"
   ]
  },
  {
   "cell_type": "code",
   "execution_count": 23,
   "metadata": {},
   "outputs": [],
   "source": [
    "# data partitioning\n",
    "stats = train[(train[\"Week\"] >= 1) & (train[\"Week\"] <= 50)]\n",
    "train = train[(train[\"Week\"] >= 51)]"
   ]
  },
  {
   "cell_type": "code",
   "execution_count": 24,
   "metadata": {},
   "outputs": [],
   "source": [
    "# computing ratios\n",
    "train = compute_all_ratios(stats, train)\n",
    "test  = compute_all_ratios(train, test)"
   ]
  },
  {
   "cell_type": "code",
   "execution_count": 25,
   "metadata": {},
   "outputs": [],
   "source": [
    "# extract target\n",
    "y_train = train.CustomerInterest"
   ]
  },
  {
   "cell_type": "code",
   "execution_count": 26,
   "metadata": {},
   "outputs": [],
   "source": [
    "# list of features\n",
    "exclude  = [\"Week\", \"CustomerIdx\", \"IsinIdx\", \"BuySell\", \"CustomerInterest\"]\n",
    "features = [f for f in train.columns if f not in exclude]"
   ]
  },
  {
   "cell_type": "code",
   "execution_count": 27,
   "metadata": {},
   "outputs": [],
   "source": [
    "# subset data\n",
    "train = train[features]"
   ]
  },
  {
   "cell_type": "code",
   "execution_count": 28,
   "metadata": {},
   "outputs": [
    {
     "name": "stdout",
     "output_type": "stream",
     "text": [
      "(64921430, 58)\n",
      "(484758, 65)\n"
     ]
    }
   ],
   "source": [
    "# check shapes\n",
    "print(train.shape)\n",
    "print(test.shape)"
   ]
  },
  {
   "cell_type": "code",
   "execution_count": null,
   "metadata": {},
   "outputs": [
    {
     "name": "stdout",
     "output_type": "stream",
     "text": [
      "[100]\ttraining's auc: 0.671603\n",
      "[200]\ttraining's auc: 0.672256\n",
      "[300]\ttraining's auc: 0.672842\n",
      "[400]\ttraining's auc: 0.674043\n",
      "[500]\ttraining's auc: 0.675253\n",
      "[600]\ttraining's auc: 0.676253\n",
      "[700]\ttraining's auc: 0.677185\n"
     ]
    }
   ],
   "source": [
    "# lightGBM\n",
    "gbm = lgb.LGBMClassifier(n_estimators     = num_iters,\n",
    "                         learning_rate    = 0.005,\n",
    "                         num_leaves       = 70,\n",
    "                         colsample_bytree = 0.8,\n",
    "                         subsample        = 0.9,\n",
    "                         max_depth        = 7,\n",
    "                         reg_alpha        = 0.1,\n",
    "                         reg_lambda       = 0.1,\n",
    "                         min_split_gain   = 0.01,\n",
    "                         min_child_weight = 2,\n",
    "                         random_state     = seed,\n",
    "                         num_threads      = cores)\n",
    "\n",
    "# train lightGBM\n",
    "gbm = gbm.fit(train, y_train, \n",
    "              eval_set = [(train, y_train)], \n",
    "              eval_metric = metric, verbose = verbose)\n",
    "    \n",
    "# predict test\n",
    "test[\"CustomerInterest\"] = gbm.predict_proba(test[features], num_iteration = num_iters)[:, 1]"
   ]
  },
  {
   "cell_type": "markdown",
   "metadata": {},
   "source": [
    "# 7. SUBMISSION"
   ]
  },
  {
   "cell_type": "code",
   "execution_count": null,
   "metadata": {},
   "outputs": [],
   "source": [
    "# export CSV\n",
    "subm = test[[\"PredictionIdx\", \"CustomerInterest\"]]\n",
    "subm.CustomerInterest = probs \n",
    "subm.to_csv(\"../../submissions/lgb_ratios_dummies_0679432.csv\", index = False, float_format = \"%.8f\")"
   ]
  }
 ],
 "metadata": {
  "kernelspec": {
   "display_name": "Python 3",
   "language": "python",
   "name": "python3"
  },
  "language_info": {
   "codemirror_mode": {
    "name": "ipython",
    "version": 3
   },
   "file_extension": ".py",
   "mimetype": "text/x-python",
   "name": "python",
   "nbconvert_exporter": "python",
   "pygments_lexer": "ipython3",
   "version": "3.6.5"
  }
 },
 "nbformat": 4,
 "nbformat_minor": 2
}
