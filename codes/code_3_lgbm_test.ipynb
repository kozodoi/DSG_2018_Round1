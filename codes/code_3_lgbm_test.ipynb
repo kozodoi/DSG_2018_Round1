{
 "cells": [
  {
   "cell_type": "markdown",
   "metadata": {},
   "source": [
    "# 1. SETTINGS"
   ]
  },
  {
   "cell_type": "code",
   "execution_count": 13,
   "metadata": {},
   "outputs": [],
   "source": [
    "# libraries\n",
    "import numpy as np\n",
    "import pandas as pd\n",
    "import seaborn as sns\n",
    "import matplotlib.pyplot as plt\n",
    "import lightgbm as lgb\n",
    "from sklearn.metrics import roc_auc_score\n",
    "from IPython.display import display\n",
    "import scipy.stats"
   ]
  },
  {
   "cell_type": "code",
   "execution_count": 14,
   "metadata": {},
   "outputs": [],
   "source": [
    "# pandas options\n",
    "pd.set_option(\"display.max_columns\", None)"
   ]
  },
  {
   "cell_type": "code",
   "execution_count": 15,
   "metadata": {},
   "outputs": [],
   "source": [
    "# ignore warnings\n",
    "import warnings\n",
    "warnings.filterwarnings(\"ignore\")"
   ]
  },
  {
   "cell_type": "code",
   "execution_count": 16,
   "metadata": {},
   "outputs": [],
   "source": [
    "# garbage collection\n",
    "import gc\n",
    "gc.enable()"
   ]
  },
  {
   "cell_type": "markdown",
   "metadata": {},
   "source": [
    "# 2. NAIVE BENCHMARK"
   ]
  },
  {
   "cell_type": "code",
   "execution_count": 17,
   "metadata": {},
   "outputs": [],
   "source": [
    "# import data\n",
    "train = pd.read_csv(\"../data/prepared/train.csv\")\n",
    "test  = pd.read_csv(\"../data/prepared/test.csv\")\n",
    "data = pd.concat([train, test[[\"Week\", \"CustomerIdx\", \"IsinIdx\", \"BuySell\", \"CustomerInterest\"]]])"
   ]
  },
  {
   "cell_type": "code",
   "execution_count": 18,
   "metadata": {},
   "outputs": [
    {
     "data": {
      "text/html": [
       "<div>\n",
       "<style scoped>\n",
       "    .dataframe tbody tr th:only-of-type {\n",
       "        vertical-align: middle;\n",
       "    }\n",
       "\n",
       "    .dataframe tbody tr th {\n",
       "        vertical-align: top;\n",
       "    }\n",
       "\n",
       "    .dataframe thead th {\n",
       "        text-align: right;\n",
       "    }\n",
       "</style>\n",
       "<table border=\"1\" class=\"dataframe\">\n",
       "  <thead>\n",
       "    <tr style=\"text-align: right;\">\n",
       "      <th></th>\n",
       "      <th>PredictionIdx</th>\n",
       "      <th>DateKey</th>\n",
       "      <th>CustomerIdx</th>\n",
       "      <th>IsinIdx</th>\n",
       "      <th>BuySell</th>\n",
       "      <th>CustomerInterest</th>\n",
       "      <th>Week</th>\n",
       "    </tr>\n",
       "  </thead>\n",
       "  <tbody>\n",
       "    <tr>\n",
       "      <th>0</th>\n",
       "      <td>a1e0d80784</td>\n",
       "      <td>20180423</td>\n",
       "      <td>1856</td>\n",
       "      <td>13323</td>\n",
       "      <td>Buy</td>\n",
       "      <td>NaN</td>\n",
       "      <td>122.0</td>\n",
       "    </tr>\n",
       "    <tr>\n",
       "      <th>1</th>\n",
       "      <td>c2cc6cc2a8</td>\n",
       "      <td>20180423</td>\n",
       "      <td>1856</td>\n",
       "      <td>9230</td>\n",
       "      <td>Buy</td>\n",
       "      <td>NaN</td>\n",
       "      <td>122.0</td>\n",
       "    </tr>\n",
       "    <tr>\n",
       "      <th>2</th>\n",
       "      <td>a8e94f6344</td>\n",
       "      <td>20180423</td>\n",
       "      <td>1780</td>\n",
       "      <td>9157</td>\n",
       "      <td>Buy</td>\n",
       "      <td>NaN</td>\n",
       "      <td>122.0</td>\n",
       "    </tr>\n",
       "  </tbody>\n",
       "</table>\n",
       "</div>"
      ],
      "text/plain": [
       "  PredictionIdx   DateKey  CustomerIdx  IsinIdx BuySell  CustomerInterest  \\\n",
       "0    a1e0d80784  20180423         1856    13323     Buy               NaN   \n",
       "1    c2cc6cc2a8  20180423         1856     9230     Buy               NaN   \n",
       "2    a8e94f6344  20180423         1780     9157     Buy               NaN   \n",
       "\n",
       "    Week  \n",
       "0  122.0  \n",
       "1  122.0  \n",
       "2  122.0  "
      ]
     },
     "metadata": {},
     "output_type": "display_data"
    },
    {
     "name": "stdout",
     "output_type": "stream",
     "text": [
      "Test data: (484758, 7)\n",
      "------------------------------\n"
     ]
    },
    {
     "data": {
      "text/html": [
       "<div>\n",
       "<style scoped>\n",
       "    .dataframe tbody tr th:only-of-type {\n",
       "        vertical-align: middle;\n",
       "    }\n",
       "\n",
       "    .dataframe tbody tr th {\n",
       "        vertical-align: top;\n",
       "    }\n",
       "\n",
       "    .dataframe thead th {\n",
       "        text-align: right;\n",
       "    }\n",
       "</style>\n",
       "<table border=\"1\" class=\"dataframe\">\n",
       "  <thead>\n",
       "    <tr style=\"text-align: right;\">\n",
       "      <th></th>\n",
       "      <th>Week</th>\n",
       "      <th>CustomerIdx</th>\n",
       "      <th>IsinIdx</th>\n",
       "      <th>BuySell</th>\n",
       "      <th>CustomerInterest</th>\n",
       "    </tr>\n",
       "  </thead>\n",
       "  <tbody>\n",
       "    <tr>\n",
       "      <th>0</th>\n",
       "      <td>1.0</td>\n",
       "      <td>10</td>\n",
       "      <td>312</td>\n",
       "      <td>Buy</td>\n",
       "      <td>0</td>\n",
       "    </tr>\n",
       "    <tr>\n",
       "      <th>1</th>\n",
       "      <td>1.0</td>\n",
       "      <td>10</td>\n",
       "      <td>316</td>\n",
       "      <td>Sell</td>\n",
       "      <td>0</td>\n",
       "    </tr>\n",
       "    <tr>\n",
       "      <th>2</th>\n",
       "      <td>1.0</td>\n",
       "      <td>10</td>\n",
       "      <td>2686</td>\n",
       "      <td>Sell</td>\n",
       "      <td>0</td>\n",
       "    </tr>\n",
       "  </tbody>\n",
       "</table>\n",
       "</div>"
      ],
      "text/plain": [
       "   Week  CustomerIdx  IsinIdx BuySell  CustomerInterest\n",
       "0   1.0           10      312     Buy                 0\n",
       "1   1.0           10      316    Sell                 0\n",
       "2   1.0           10     2686    Sell                 0"
      ]
     },
     "metadata": {},
     "output_type": "display_data"
    },
    {
     "name": "stdout",
     "output_type": "stream",
     "text": [
      "Train data: (6262730, 5)\n",
      "------------------------------\n"
     ]
    },
    {
     "data": {
      "text/html": [
       "<div>\n",
       "<style scoped>\n",
       "    .dataframe tbody tr th:only-of-type {\n",
       "        vertical-align: middle;\n",
       "    }\n",
       "\n",
       "    .dataframe tbody tr th {\n",
       "        vertical-align: top;\n",
       "    }\n",
       "\n",
       "    .dataframe thead th {\n",
       "        text-align: right;\n",
       "    }\n",
       "</style>\n",
       "<table border=\"1\" class=\"dataframe\">\n",
       "  <thead>\n",
       "    <tr style=\"text-align: right;\">\n",
       "      <th></th>\n",
       "      <th>Week</th>\n",
       "      <th>CustomerIdx</th>\n",
       "      <th>IsinIdx</th>\n",
       "      <th>BuySell</th>\n",
       "      <th>CustomerInterest</th>\n",
       "    </tr>\n",
       "  </thead>\n",
       "  <tbody>\n",
       "    <tr>\n",
       "      <th>0</th>\n",
       "      <td>1.0</td>\n",
       "      <td>10</td>\n",
       "      <td>312</td>\n",
       "      <td>Buy</td>\n",
       "      <td>0.0</td>\n",
       "    </tr>\n",
       "    <tr>\n",
       "      <th>1</th>\n",
       "      <td>1.0</td>\n",
       "      <td>10</td>\n",
       "      <td>316</td>\n",
       "      <td>Sell</td>\n",
       "      <td>0.0</td>\n",
       "    </tr>\n",
       "    <tr>\n",
       "      <th>2</th>\n",
       "      <td>1.0</td>\n",
       "      <td>10</td>\n",
       "      <td>2686</td>\n",
       "      <td>Sell</td>\n",
       "      <td>0.0</td>\n",
       "    </tr>\n",
       "  </tbody>\n",
       "</table>\n",
       "</div>"
      ],
      "text/plain": [
       "   Week  CustomerIdx  IsinIdx BuySell  CustomerInterest\n",
       "0   1.0           10      312     Buy               0.0\n",
       "1   1.0           10      316    Sell               0.0\n",
       "2   1.0           10     2686    Sell               0.0"
      ]
     },
     "metadata": {},
     "output_type": "display_data"
    },
    {
     "name": "stdout",
     "output_type": "stream",
     "text": [
      "Full data: (6747488, 5)\n"
     ]
    }
   ],
   "source": [
    "# check all datasets\n",
    "display(test.head(3))\n",
    "print(\"Test data:\", test.shape)\n",
    "print(\"------------------------------\")\n",
    "display(train.head(3))\n",
    "print(\"Train data:\", train.shape)\n",
    "print(\"------------------------------\")\n",
    "display(data.head(3))\n",
    "print(\"Full data:\", data.shape)"
   ]
  },
  {
   "cell_type": "code",
   "execution_count": 19,
   "metadata": {},
   "outputs": [],
   "source": [
    "# sort data\n",
    "data = data.sort_values([\"CustomerIdx\", \"Week\", \"IsinIdx\", \"BuySell\"])"
   ]
  },
  {
   "cell_type": "code",
   "execution_count": 20,
   "metadata": {},
   "outputs": [],
   "source": [
    "# remove first year\n",
    "data = data[(data.Week > 60)]"
   ]
  },
  {
   "cell_type": "code",
   "execution_count": 21,
   "metadata": {},
   "outputs": [
    {
     "data": {
      "text/html": [
       "<div>\n",
       "<style scoped>\n",
       "    .dataframe tbody tr th:only-of-type {\n",
       "        vertical-align: middle;\n",
       "    }\n",
       "\n",
       "    .dataframe tbody tr th {\n",
       "        vertical-align: top;\n",
       "    }\n",
       "\n",
       "    .dataframe thead th {\n",
       "        text-align: right;\n",
       "    }\n",
       "</style>\n",
       "<table border=\"1\" class=\"dataframe\">\n",
       "  <thead>\n",
       "    <tr style=\"text-align: right;\">\n",
       "      <th></th>\n",
       "      <th>Week</th>\n",
       "      <th>CustomerIdx</th>\n",
       "      <th>IsinIdx</th>\n",
       "      <th>BuySell</th>\n",
       "      <th>CustomerInterest</th>\n",
       "    </tr>\n",
       "  </thead>\n",
       "  <tbody>\n",
       "    <tr>\n",
       "      <th>3008480</th>\n",
       "      <td>61.0</td>\n",
       "      <td>0</td>\n",
       "      <td>22294</td>\n",
       "      <td>Sell</td>\n",
       "      <td>1.0</td>\n",
       "    </tr>\n",
       "    <tr>\n",
       "      <th>3204568</th>\n",
       "      <td>63.0</td>\n",
       "      <td>0</td>\n",
       "      <td>22705</td>\n",
       "      <td>Buy</td>\n",
       "      <td>1.0</td>\n",
       "    </tr>\n",
       "    <tr>\n",
       "      <th>3260089</th>\n",
       "      <td>66.0</td>\n",
       "      <td>0</td>\n",
       "      <td>25326</td>\n",
       "      <td>Sell</td>\n",
       "      <td>1.0</td>\n",
       "    </tr>\n",
       "    <tr>\n",
       "      <th>3260090</th>\n",
       "      <td>66.0</td>\n",
       "      <td>0</td>\n",
       "      <td>25396</td>\n",
       "      <td>Buy</td>\n",
       "      <td>1.0</td>\n",
       "    </tr>\n",
       "    <tr>\n",
       "      <th>3533811</th>\n",
       "      <td>70.0</td>\n",
       "      <td>0</td>\n",
       "      <td>25081</td>\n",
       "      <td>Sell</td>\n",
       "      <td>1.0</td>\n",
       "    </tr>\n",
       "  </tbody>\n",
       "</table>\n",
       "</div>"
      ],
      "text/plain": [
       "         Week  CustomerIdx  IsinIdx BuySell  CustomerInterest\n",
       "3008480  61.0            0    22294    Sell               1.0\n",
       "3204568  63.0            0    22705     Buy               1.0\n",
       "3260089  66.0            0    25326    Sell               1.0\n",
       "3260090  66.0            0    25396     Buy               1.0\n",
       "3533811  70.0            0    25081    Sell               1.0"
      ]
     },
     "execution_count": 21,
     "metadata": {},
     "output_type": "execute_result"
    }
   ],
   "source": [
    "data.head()"
   ]
  },
  {
   "cell_type": "code",
   "execution_count": 22,
   "metadata": {},
   "outputs": [],
   "source": [
    "# add missing weeks\n",
    "data = data.groupby([\"CustomerIdx\", \"Week\", \"IsinIdx\", \"BuySell\"]).CustomerInterest.mean().unstack(\"Week\").stack(\"Week\", dropna = False)\n",
    "data = data.reset_index()\n",
    "data.columns = ['CustomerIdx', 'IsinIdx', 'BuySell', 'Week', 'CustomerInterest']"
   ]
  },
  {
   "cell_type": "code",
   "execution_count": 23,
   "metadata": {},
   "outputs": [
    {
     "data": {
      "text/plain": [
       "(97432070, 5)"
      ]
     },
     "execution_count": 23,
     "metadata": {},
     "output_type": "execute_result"
    }
   ],
   "source": [
    "data.shape"
   ]
  },
  {
   "cell_type": "code",
   "execution_count": 24,
   "metadata": {},
   "outputs": [],
   "source": [
    "data = data.fillna(0)"
   ]
  },
  {
   "cell_type": "code",
   "execution_count": 25,
   "metadata": {},
   "outputs": [
    {
     "data": {
      "text/plain": [
       "0.009798488321145183"
      ]
     },
     "execution_count": 25,
     "metadata": {},
     "output_type": "execute_result"
    }
   ],
   "source": [
    "data.CustomerInterest.mean()"
   ]
  },
  {
   "cell_type": "code",
   "execution_count": 26,
   "metadata": {},
   "outputs": [
    {
     "name": "stdout",
     "output_type": "stream",
     "text": [
      "1\n",
      "2\n",
      "3\n",
      "4\n",
      "5\n",
      "6\n",
      "7\n",
      "8\n",
      "9\n",
      "10\n",
      "11\n",
      "12\n",
      "13\n",
      "14\n",
      "15\n",
      "16\n",
      "17\n",
      "18\n",
      "19\n",
      "20\n",
      "21\n",
      "22\n",
      "23\n",
      "24\n",
      "25\n",
      "26\n",
      "27\n",
      "28\n",
      "29\n",
      "30\n",
      "31\n",
      "32\n"
     ]
    }
   ],
   "source": [
    "# compute lags\n",
    "tmp = data.groupby([\"CustomerIdx\", \"IsinIdx\", \"BuySell\"], as_index = False)\n",
    "for t in range(1, 33):\n",
    "    print(t)\n",
    "    data[\"lag\" + str(t)] = tmp.CustomerInterest.shift(t).fillna(0)"
   ]
  },
  {
   "cell_type": "code",
   "execution_count": 27,
   "metadata": {},
   "outputs": [
    {
     "data": {
      "text/plain": [
       "(97432070, 37)"
      ]
     },
     "execution_count": 27,
     "metadata": {},
     "output_type": "execute_result"
    }
   ],
   "source": [
    "data.shape"
   ]
  },
  {
   "cell_type": "code",
   "execution_count": 28,
   "metadata": {},
   "outputs": [],
   "source": [
    "# recency\n",
    "data[\"recency\"] = 33\n",
    "for t in reversed(range(1, 33)):\n",
    "    data[\"recency\"][data[\"lag\" + str(t)] == 1] = t"
   ]
  },
  {
   "cell_type": "code",
   "execution_count": 29,
   "metadata": {},
   "outputs": [],
   "source": [
    "# frequency\n",
    "data[\"frequency\"] = data.filter(like = \"lag\").sum(axis = 1)"
   ]
  },
  {
   "cell_type": "code",
   "execution_count": 30,
   "metadata": {},
   "outputs": [],
   "source": [
    "# custsum 1\n",
    "custsum = data.groupby([\"CustomerIdx\", \"Week\"], as_index = False).frequency.sum()\n",
    "custsum.columns = ['CustomerIdx', 'Week', 'CustSum1']\n",
    "data = data.merge(custsum, how = \"left\")\n",
    "\n",
    "# custsum 2\n",
    "custsum = data.groupby([\"CustomerIdx\", \"Week\", \"BuySell\"], as_index = False).frequency.sum()\n",
    "custsum.columns = ['CustomerIdx', 'Week', 'BuySell', 'CustSum2']\n",
    "data = data.merge(custsum, how = \"left\")"
   ]
  },
  {
   "cell_type": "code",
   "execution_count": null,
   "metadata": {},
   "outputs": [],
   "source": [
    "# bondsum 1\n",
    "bondsum = data.groupby([\"IsinIdx\", \"Week\"], as_index = False).frequency.sum()\n",
    "bondsum.columns = ['IsinIdx', 'Week', 'BondSum1']\n",
    "data = data.merge(bondsum, how = \"left\")\n",
    "\n",
    "# bondsum 2\n",
    "bondsum = data.groupby([\"IsinIdx\", \"Week\", \"BuySell\"], as_index = False).frequency.sum()\n",
    "bondsum.columns = ['IsinIdx', 'Week', 'BuySell', 'BondSum2']\n",
    "data = data.merge(bondsum, how = \"left\")"
   ]
  },
  {
   "cell_type": "code",
   "execution_count": null,
   "metadata": {},
   "outputs": [],
   "source": [
    "# data partitioning\n",
    "train = data[(data[\"Week\"] >= 92)  & (data[\"Week\"] <= 115)]\n",
    "valid = data[(data[\"Week\"] >= 116) & (data[\"Week\"] <= 121)]\n",
    "test  = test[[\"PredictionIdx\", \"CustomerIdx\", \"IsinIdx\", \"BuySell\"]].merge(data[data[\"Week\"] == 122], how = \"left\")"
   ]
  },
  {
   "cell_type": "code",
   "execution_count": null,
   "metadata": {},
   "outputs": [],
   "source": [
    "### function for historical target ratio\n",
    "def compute_target(data, lags):\n",
    "    \n",
    "    # filter lags\n",
    "    feats = [\"lag\" + str(i) for i in range(1, lags + 1)]\n",
    "    data[\"Last\" + str(lags) + \"WeeksMean\"] = data[feats].mean(axis = 1)\n",
    "    \n",
    "    # return test data\n",
    "    return data"
   ]
  },
  {
   "cell_type": "code",
   "execution_count": null,
   "metadata": {},
   "outputs": [],
   "source": [
    "train = compute_target(train, lags = 4)\n",
    "train = compute_target(train, lags = 8)\n",
    "train = compute_target(train, lags = 16)\n",
    "train = compute_target(train, lags = 32)\n",
    "\n",
    "valid = compute_target(valid, lags = 4)\n",
    "valid = compute_target(valid, lags = 8)\n",
    "valid = compute_target(valid, lags = 16)\n",
    "valid = compute_target(valid, lags = 32)\n",
    "\n",
    "test = compute_target(test, lags = 4)\n",
    "test = compute_target(test, lags = 8)\n",
    "test = compute_target(test, lags = 16)\n",
    "test = compute_target(test, lags = 32)"
   ]
  },
  {
   "cell_type": "code",
   "execution_count": null,
   "metadata": {},
   "outputs": [],
   "source": [
    "# list of features\n",
    "features = [\"Last4WeeksMean\", \"Last8WeeksMean\", \"Last16WeeksMean\", \"Last32WeeksMean\",\n",
    "            \"recency\", \"frequency\", \"CustSum1\", \"CustSum2\", \"BondSum1\", \"BondSum2\"]\n",
    "features"
   ]
  },
  {
   "cell_type": "code",
   "execution_count": null,
   "metadata": {},
   "outputs": [],
   "source": [
    "# targets\n",
    "y_train = train[\"CustomerInterest\"]\n",
    "y_valid = valid[\"CustomerInterest\"]"
   ]
  },
  {
   "cell_type": "code",
   "execution_count": null,
   "metadata": {},
   "outputs": [],
   "source": [
    "print(train.shape)\n",
    "print(valid.shape)\n",
    "print(test.shape)"
   ]
  },
  {
   "cell_type": "code",
   "execution_count": null,
   "metadata": {},
   "outputs": [],
   "source": [
    "### PARAMETERS\n",
    "\n",
    "# learner settings\n",
    "metric   = \"auc\"\n",
    "verbose  = 10\n",
    "stopping = 50\n",
    "seed = 42\n",
    "\n",
    "# lgb settings\n",
    "gbm = lgb.LGBMClassifier(n_estimators     = 1000,\n",
    "                         learning_rate    = 0.005,\n",
    "                         num_leaves       = 70,\n",
    "                         colsample_bytree = 0.8,\n",
    "                         subsample        = 0.9,\n",
    "                         max_depth        = 7,\n",
    "                         reg_alpha        = 0.1,\n",
    "                         reg_lambda       = 0.1,\n",
    "                         min_split_gain   = 0.01,\n",
    "                         min_child_weight = 2,\n",
    "                         random_state     = seed)"
   ]
  },
  {
   "cell_type": "code",
   "execution_count": 25,
   "metadata": {},
   "outputs": [
    {
     "name": "stdout",
     "output_type": "stream",
     "text": [
      "Training until validation scores don't improve for 50 rounds.\n",
      "[10]\tvalid_0's auc: 0.74093\tvalid_1's auc: 0.719674\n",
      "[20]\tvalid_0's auc: 0.742152\tvalid_1's auc: 0.720451\n",
      "[30]\tvalid_0's auc: 0.742629\tvalid_1's auc: 0.72105\n",
      "[40]\tvalid_0's auc: 0.74281\tvalid_1's auc: 0.721407\n",
      "[50]\tvalid_0's auc: 0.742772\tvalid_1's auc: 0.721541\n",
      "[60]\tvalid_0's auc: 0.742814\tvalid_1's auc: 0.721583\n",
      "[70]\tvalid_0's auc: 0.74291\tvalid_1's auc: 0.721706\n",
      "[80]\tvalid_0's auc: 0.743145\tvalid_1's auc: 0.72168\n",
      "[90]\tvalid_0's auc: 0.743195\tvalid_1's auc: 0.721644\n",
      "[100]\tvalid_0's auc: 0.743537\tvalid_1's auc: 0.721833\n",
      "[110]\tvalid_0's auc: 0.743618\tvalid_1's auc: 0.721839\n",
      "[120]\tvalid_0's auc: 0.743631\tvalid_1's auc: 0.721855\n",
      "[130]\tvalid_0's auc: 0.743672\tvalid_1's auc: 0.721791\n",
      "[140]\tvalid_0's auc: 0.743714\tvalid_1's auc: 0.721779\n",
      "Early stopping, best iteration is:\n",
      "[98]\tvalid_0's auc: 0.743511\tvalid_1's auc: 0.721876\n"
     ]
    }
   ],
   "source": [
    "# train lightGBM\n",
    "gbm = gbm.fit(train[features], y_train, \n",
    "              eval_set = [(train[features], y_train), (valid[features], y_valid)], \n",
    "              eval_metric = metric, \n",
    "              verbose = verbose, \n",
    "              early_stopping_rounds = stopping)\n",
    "    \n",
    "# save number of iterations\n",
    "num_iters = gbm.best_iteration_\n",
    "\n",
    "# predict valid and test\n",
    "valid_pred_CustomerInterest = gbm.predict_proba(valid[features], num_iteration = num_iters)[:, 1]\n",
    "test[\"CustomerInterest\"]    = gbm.predict_proba(test[features],  num_iteration = num_iters)[:, 1]"
   ]
  },
  {
   "cell_type": "code",
   "execution_count": 26,
   "metadata": {},
   "outputs": [
    {
     "data": {
      "image/png": "[encoded data removed]",
      "text/plain": [
       "<matplotlib.figure.Figure at 0x1a176f9b00>"
      ]
     },
     "metadata": {},
     "output_type": "display_data"
    }
   ],
   "source": [
    "ax = lgb.plot_importance(gbm)\n",
    "plt.show()"
   ]
  },
  {
   "cell_type": "code",
   "execution_count": 33,
   "metadata": {},
   "outputs": [
    {
     "data": {
      "text/plain": [
       "0.01194030064855048"
      ]
     },
     "execution_count": 33,
     "metadata": {},
     "output_type": "execute_result"
    }
   ],
   "source": [
    "valid.CustomerInterest.mean()"
   ]
  },
  {
   "cell_type": "code",
   "execution_count": 31,
   "metadata": {},
   "outputs": [
    {
     "data": {
      "text/plain": [
       "0.3107485589093092"
      ]
     },
     "execution_count": 31,
     "metadata": {},
     "output_type": "execute_result"
    }
   ],
   "source": [
    "valid_pred_CustomerInterest.mean()"
   ]
  },
  {
   "cell_type": "code",
   "execution_count": 32,
   "metadata": {},
   "outputs": [
    {
     "data": {
      "text/plain": [
       "0.31355398190710243"
      ]
     },
     "execution_count": 32,
     "metadata": {},
     "output_type": "execute_result"
    }
   ],
   "source": [
    "test[\"CustomerInterest\"].mean()"
   ]
  },
  {
   "cell_type": "code",
   "execution_count": 160,
   "metadata": {},
   "outputs": [],
   "source": [
    "# export CSV\n",
    "subm = test[[\"PredictionIdx\", \"CustomerInterest\"]]\n",
    "subm.to_csv(\"../submissions/lgb_mean031_auc0721.csv\", index = False, float_format = \"%.8f\")"
   ]
  },
  {
   "cell_type": "code",
   "execution_count": null,
   "metadata": {},
   "outputs": [],
   "source": []
  },
  {
   "cell_type": "code",
   "execution_count": null,
   "metadata": {},
   "outputs": [],
   "source": []
  },
  {
   "cell_type": "code",
   "execution_count": null,
   "metadata": {},
   "outputs": [],
   "source": []
  },
  {
   "cell_type": "code",
   "execution_count": null,
   "metadata": {},
   "outputs": [],
   "source": []
  },
  {
   "cell_type": "code",
   "execution_count": null,
   "metadata": {},
   "outputs": [],
   "source": []
  },
  {
   "cell_type": "code",
   "execution_count": null,
   "metadata": {},
   "outputs": [],
   "source": []
  },
  {
   "cell_type": "code",
   "execution_count": null,
   "metadata": {},
   "outputs": [],
   "source": []
  },
  {
   "cell_type": "code",
   "execution_count": null,
   "metadata": {},
   "outputs": [],
   "source": []
  },
  {
   "cell_type": "code",
   "execution_count": null,
   "metadata": {},
   "outputs": [],
   "source": []
  },
  {
   "cell_type": "code",
   "execution_count": null,
   "metadata": {},
   "outputs": [],
   "source": []
  },
  {
   "cell_type": "code",
   "execution_count": null,
   "metadata": {},
   "outputs": [],
   "source": []
  },
  {
   "cell_type": "code",
   "execution_count": null,
   "metadata": {},
   "outputs": [],
   "source": []
  },
  {
   "cell_type": "code",
   "execution_count": null,
   "metadata": {},
   "outputs": [],
   "source": []
  },
  {
   "cell_type": "code",
   "execution_count": null,
   "metadata": {},
   "outputs": [],
   "source": []
  },
  {
   "cell_type": "code",
   "execution_count": 20,
   "metadata": {},
   "outputs": [],
   "source": [
    "#data.head().groupby([\"CustomerIdx\", \"BuySell\"], as_index = False).Week.transform(pd.Series.diff)"
   ]
  },
  {
   "cell_type": "code",
   "execution_count": 9,
   "metadata": {},
   "outputs": [],
   "source": [
    "# add missing weeks\n",
    "#data = data.groupby([\"CustomerIdx\", \"Week\", \"IsinIdx\", \"BuySell\"]).CustomerInterest.mean().unstack(\"Week\").stack(\"Week\", dropna = False)\n",
    "#data = data.reset_index()\n",
    "#data.columns = ['CustomerIdx', 'IsinIdx', 'BuySell', 'Week', 'CustomerInterest']"
   ]
  },
  {
   "cell_type": "code",
   "execution_count": 11,
   "metadata": {},
   "outputs": [
    {
     "ename": "TypeError",
     "evalue": "'DataFrameGroupBy' object does not support item assignment",
     "output_type": "error",
     "traceback": [
      "\u001b[0;31m---------------------------------------------------------------------------\u001b[0m",
      "\u001b[0;31mTypeError\u001b[0m                                 Traceback (most recent call last)",
      "\u001b[0;32m<ipython-input-11-f6b97cfedadd>\u001b[0m in \u001b[0;36m<module>\u001b[0;34m()\u001b[0m\n\u001b[1;32m      2\u001b[0m \u001b[0mdata\u001b[0m \u001b[0;34m=\u001b[0m \u001b[0mdata\u001b[0m\u001b[0;34m.\u001b[0m\u001b[0mgroupby\u001b[0m\u001b[0;34m(\u001b[0m\u001b[0;34m[\u001b[0m\u001b[0;34m\"CustomerIdx\"\u001b[0m\u001b[0;34m,\u001b[0m \u001b[0;34m\"IsinIdx\"\u001b[0m\u001b[0;34m,\u001b[0m \u001b[0;34m\"BuySell\"\u001b[0m\u001b[0;34m]\u001b[0m\u001b[0;34m,\u001b[0m \u001b[0mas_index\u001b[0m \u001b[0;34m=\u001b[0m \u001b[0;32mFalse\u001b[0m\u001b[0;34m)\u001b[0m\u001b[0;34m\u001b[0m\u001b[0m\n\u001b[1;32m      3\u001b[0m \u001b[0;32mfor\u001b[0m \u001b[0mt\u001b[0m \u001b[0;32min\u001b[0m \u001b[0mrange\u001b[0m\u001b[0;34m(\u001b[0m\u001b[0;36m1\u001b[0m\u001b[0;34m,\u001b[0m \u001b[0;36m51\u001b[0m\u001b[0;34m)\u001b[0m\u001b[0;34m:\u001b[0m\u001b[0;34m\u001b[0m\u001b[0m\n\u001b[0;32m----> 4\u001b[0;31m     \u001b[0mdata\u001b[0m\u001b[0;34m[\u001b[0m\u001b[0;34m\"lag\"\u001b[0m \u001b[0;34m+\u001b[0m \u001b[0mstr\u001b[0m\u001b[0;34m(\u001b[0m\u001b[0mt\u001b[0m\u001b[0;34m)\u001b[0m\u001b[0;34m]\u001b[0m \u001b[0;34m=\u001b[0m \u001b[0mdata\u001b[0m\u001b[0;34m.\u001b[0m\u001b[0mCustomerInterest\u001b[0m\u001b[0;34m.\u001b[0m\u001b[0mshift\u001b[0m\u001b[0;34m(\u001b[0m\u001b[0mt\u001b[0m\u001b[0;34m)\u001b[0m\u001b[0;34m.\u001b[0m\u001b[0mfillna\u001b[0m\u001b[0;34m(\u001b[0m\u001b[0;36m0\u001b[0m\u001b[0;34m)\u001b[0m\u001b[0;34m\u001b[0m\u001b[0m\n\u001b[0m",
      "\u001b[0;31mTypeError\u001b[0m: 'DataFrameGroupBy' object does not support item assignment"
     ]
    }
   ],
   "source": [
    "# compute lags\n",
    "tmp = data.groupby([\"CustomerIdx\", \"IsinIdx\", \"BuySell\"], as_index = False)\n",
    "for t in range(1, 51):\n",
    "    data[\"lag\" + str(t)] = tmp.CustomerInterest.shift(t).fillna(0)"
   ]
  },
  {
   "cell_type": "code",
   "execution_count": 32,
   "metadata": {},
   "outputs": [
    {
     "ename": "TypeError",
     "evalue": "'DataFrameGroupBy' object does not support item assignment",
     "output_type": "error",
     "traceback": [
      "\u001b[0;31m---------------------------------------------------------------------------\u001b[0m",
      "\u001b[0;31mTypeError\u001b[0m                                 Traceback (most recent call last)",
      "\u001b[0;32m<ipython-input-32-67048426bcf1>\u001b[0m in \u001b[0;36m<module>\u001b[0;34m()\u001b[0m\n\u001b[1;32m      1\u001b[0m \u001b[0mtmp\u001b[0m \u001b[0;34m=\u001b[0m \u001b[0mdata\u001b[0m\u001b[0;34m[\u001b[0m\u001b[0;36m0\u001b[0m\u001b[0;34m:\u001b[0m\u001b[0;36m1000\u001b[0m\u001b[0;34m]\u001b[0m\u001b[0;34m.\u001b[0m\u001b[0mgroupby\u001b[0m\u001b[0;34m(\u001b[0m\u001b[0;34m[\u001b[0m\u001b[0;34m\"CustomerIdx\"\u001b[0m\u001b[0;34m,\u001b[0m \u001b[0;34m\"IsinIdx\"\u001b[0m\u001b[0;34m,\u001b[0m \u001b[0;34m\"BuySell\"\u001b[0m\u001b[0;34m]\u001b[0m\u001b[0;34m,\u001b[0m \u001b[0mas_index\u001b[0m \u001b[0;34m=\u001b[0m \u001b[0;32mFalse\u001b[0m\u001b[0;34m)\u001b[0m\u001b[0;34m\u001b[0m\u001b[0m\n\u001b[0;32m----> 2\u001b[0;31m \u001b[0mtmp\u001b[0m\u001b[0;34m[\u001b[0m\u001b[0;34m\"diff\"\u001b[0m\u001b[0;34m]\u001b[0m \u001b[0;34m=\u001b[0m \u001b[0mtmp\u001b[0m\u001b[0;34m.\u001b[0m\u001b[0mWeek\u001b[0m\u001b[0;34m.\u001b[0m\u001b[0mdiff\u001b[0m\u001b[0;34m(\u001b[0m\u001b[0;34m)\u001b[0m\u001b[0;34m\u001b[0m\u001b[0m\n\u001b[0m\u001b[1;32m      3\u001b[0m \u001b[0mtmp\u001b[0m \u001b[0;34m=\u001b[0m \u001b[0mtmp\u001b[0m\u001b[0;34m.\u001b[0m\u001b[0mreset_index\u001b[0m\u001b[0;34m(\u001b[0m\u001b[0;34m)\u001b[0m\u001b[0;34m\u001b[0m\u001b[0m\n\u001b[1;32m      4\u001b[0m \u001b[0mtmp\u001b[0m\u001b[0;34m.\u001b[0m\u001b[0mhead\u001b[0m\u001b[0;34m(\u001b[0m\u001b[0;34m)\u001b[0m\u001b[0;34m\u001b[0m\u001b[0m\n",
      "\u001b[0;31mTypeError\u001b[0m: 'DataFrameGroupBy' object does not support item assignment"
     ]
    }
   ],
   "source": [
    "tmp = data[0:1000].groupby([\"CustomerIdx\", \"IsinIdx\", \"BuySell\"], as_index = False)\n",
    "tmp[\"diff\"] = tmp.Week.diff()\n",
    "tmp = tmp.reset_index()\n",
    "tmp.head()"
   ]
  },
  {
   "cell_type": "code",
   "execution_count": null,
   "metadata": {},
   "outputs": [],
   "source": [
    "# remove artificial cases\n",
    "#data = data[(data[\"CustomerInterest\"].isnull() == False) | (data[\"WeekLag\"] == 121)]"
   ]
  },
  {
   "cell_type": "code",
   "execution_count": null,
   "metadata": {},
   "outputs": [],
   "source": [
    "# recency\n",
    "data[\"recency\"] = 50\n",
    "for t in reversed(range(1, 51)):\n",
    "    data[\"recency\"][data[\"lag\" + str(t)] == 1] = t"
   ]
  },
  {
   "cell_type": "code",
   "execution_count": null,
   "metadata": {},
   "outputs": [],
   "source": [
    "# frequency\n",
    "data[\"frequency\"] = data.filter(like = \"lag\").sum(axis = 1)"
   ]
  },
  {
   "cell_type": "code",
   "execution_count": null,
   "metadata": {},
   "outputs": [],
   "source": [
    "# custsum 1\n",
    "custsum = data.groupby([\"CustomerIdx\", \"WeekLag\"], as_index = False).frequency.sum()\n",
    "custsum.columns = ['CustomerIdx', 'WeekLag', 'CustSum1']\n",
    "data = data.merge(custsum, how = \"left\")\n",
    "\n",
    "# custsum 2\n",
    "custsum = data.groupby([\"CustomerIdx\", \"WeekLag\", \"BuySell\"], as_index = False).frequency.sum()\n",
    "custsum.columns = ['CustomerIdx', 'WeekLag', 'BuySell', 'CustSum2']\n",
    "data = data.merge(custsum, how = \"left\")"
   ]
  },
  {
   "cell_type": "code",
   "execution_count": null,
   "metadata": {},
   "outputs": [],
   "source": [
    "# bondsum 1\n",
    "bondsum = data.groupby([\"IsinIdx\", \"WeekLag\"], as_index = False).frequency.sum()\n",
    "bondsum.columns = ['IsinIdx', 'WeekLag', 'BondSum1']\n",
    "data = data.merge(bondsum, how = \"left\")\n",
    "\n",
    "# bondsum 2\n",
    "bondsum = data.groupby([\"IsinIdx\", \"WeekLag\", \"BuySell\"], as_index = False).frequency.sum()\n",
    "bondsum.columns = ['IsinIdx', 'WeekLag', 'BuySell', 'BondSum2']\n",
    "data = data.merge(bondsum, how = \"left\")"
   ]
  },
  {
   "cell_type": "code",
   "execution_count": null,
   "metadata": {},
   "outputs": [],
   "source": [
    "# data partitioning\n",
    "train = data[(data[\"WeekLag\"] >=  50) & (data[\"WeekLag\"] <= 115)]\n",
    "valid = data[(data[\"WeekLag\"] >= 116) & (data[\"WeekLag\"] <= 120)]\n",
    "test  = test[[\"PredictionIdx\", \"CustomerIdx\", \"IsinIdx\", \"BuySell\"]].merge(data[data[\"WeekLag\"] == 121], how = \"left\")"
   ]
  },
  {
   "cell_type": "code",
   "execution_count": null,
   "metadata": {},
   "outputs": [],
   "source": [
    "### function for historical target ratio\n",
    "def compute_target(data, lags):\n",
    "    \n",
    "    # filter lags\n",
    "    feats = [\"lag\" + str(i) for i in range(1, lags + 1)]\n",
    "    data[\"Last\" + str(lags) + \"WeeksMean\"] = data[feats].mean(axis = 1)\n",
    "    \n",
    "    # return test data\n",
    "    return data"
   ]
  },
  {
   "cell_type": "code",
   "execution_count": null,
   "metadata": {},
   "outputs": [],
   "source": [
    "train = compute_target(train, lags = 4)\n",
    "train = compute_target(train, lags = 8)\n",
    "train = compute_target(train, lags = 16)\n",
    "train = compute_target(train, lags = 32)\n",
    "\n",
    "valid = compute_target(valid, lags = 4)\n",
    "valid = compute_target(valid, lags = 8)\n",
    "valid = compute_target(valid, lags = 16)\n",
    "valid = compute_target(valid, lags = 32)\n",
    "\n",
    "test = compute_target(test, lags = 4)\n",
    "test = compute_target(test, lags = 8)\n",
    "test = compute_target(test, lags = 16)\n",
    "test = compute_target(test, lags = 32)"
   ]
  },
  {
   "cell_type": "code",
   "execution_count": null,
   "metadata": {},
   "outputs": [],
   "source": [
    "# list of features\n",
    "features = train.filter(like = \"Weeks\").columns\n",
    "features = ['Last4WeeksMean', 'Last8WeeksMean', 'Last16WeeksMean','Last32WeeksMean',\n",
    "            \"recency\", \"frequency\", \"CustSum1\", \"CustSum2\", \"BondSum1\", \"BondSum2\"]\n",
    "features"
   ]
  },
  {
   "cell_type": "code",
   "execution_count": null,
   "metadata": {},
   "outputs": [],
   "source": [
    "# targets\n",
    "y_train = train[\"CustomerInterest\"]\n",
    "y_valid = valid[\"CustomerInterest\"]"
   ]
  },
  {
   "cell_type": "code",
   "execution_count": null,
   "metadata": {},
   "outputs": [],
   "source": [
    "### PARAMETERS\n",
    "\n",
    "# learner settings\n",
    "metric   = \"auc\"\n",
    "verbose  = 10\n",
    "stopping = 50\n",
    "seed = 42\n",
    "\n",
    "# lgb settings\n",
    "gbm = lgb.LGBMClassifier(n_estimators     = 1000,\n",
    "                         learning_rate    = 0.005,\n",
    "                         num_leaves       = 70,\n",
    "                         colsample_bytree = 0.8,\n",
    "                         subsample        = 0.9,\n",
    "                         max_depth        = 7,\n",
    "                         reg_alpha        = 0.1,\n",
    "                         reg_lambda       = 0.1,\n",
    "                         min_split_gain   = 0.01,\n",
    "                         min_child_weight = 2,\n",
    "                         random_state     = seed)"
   ]
  },
  {
   "cell_type": "code",
   "execution_count": 2,
   "metadata": {},
   "outputs": [
    {
     "ename": "NameError",
     "evalue": "name 'gbm' is not defined",
     "output_type": "error",
     "traceback": [
      "\u001b[0;31m---------------------------------------------------------------------------\u001b[0m",
      "\u001b[0;31mNameError\u001b[0m                                 Traceback (most recent call last)",
      "\u001b[0;32m<ipython-input-2-404f3bfe4fc9>\u001b[0m in \u001b[0;36m<module>\u001b[0;34m()\u001b[0m\n\u001b[1;32m      1\u001b[0m \u001b[0;31m# train lightGBM\u001b[0m\u001b[0;34m\u001b[0m\u001b[0;34m\u001b[0m\u001b[0m\n\u001b[0;32m----> 2\u001b[0;31m gbm = gbm.fit(train[features], y_train, \n\u001b[0m\u001b[1;32m      3\u001b[0m               \u001b[0meval_set\u001b[0m \u001b[0;34m=\u001b[0m \u001b[0;34m[\u001b[0m\u001b[0;34m(\u001b[0m\u001b[0mtrain\u001b[0m\u001b[0;34m[\u001b[0m\u001b[0mfeatures\u001b[0m\u001b[0;34m]\u001b[0m\u001b[0;34m,\u001b[0m \u001b[0my_train\u001b[0m\u001b[0;34m)\u001b[0m\u001b[0;34m,\u001b[0m \u001b[0;34m(\u001b[0m\u001b[0mvalid\u001b[0m\u001b[0;34m[\u001b[0m\u001b[0mfeatures\u001b[0m\u001b[0;34m]\u001b[0m\u001b[0;34m,\u001b[0m \u001b[0my_valid\u001b[0m\u001b[0;34m)\u001b[0m\u001b[0;34m]\u001b[0m\u001b[0;34m,\u001b[0m\u001b[0;34m\u001b[0m\u001b[0m\n\u001b[1;32m      4\u001b[0m               \u001b[0meval_metric\u001b[0m \u001b[0;34m=\u001b[0m \u001b[0mmetric\u001b[0m\u001b[0;34m,\u001b[0m\u001b[0;34m\u001b[0m\u001b[0m\n\u001b[1;32m      5\u001b[0m               \u001b[0mverbose\u001b[0m \u001b[0;34m=\u001b[0m \u001b[0mverbose\u001b[0m\u001b[0;34m,\u001b[0m\u001b[0;34m\u001b[0m\u001b[0m\n",
      "\u001b[0;31mNameError\u001b[0m: name 'gbm' is not defined"
     ]
    }
   ],
   "source": [
    "# train lightGBM\n",
    "gbm = gbm.fit(train[features], y_train, \n",
    "              eval_set = [(train[features], y_train), (valid[features], y_valid)], \n",
    "              eval_metric = metric, \n",
    "              verbose = verbose, \n",
    "              early_stopping_rounds = stopping)\n",
    "    \n",
    "# save number of iterations\n",
    "num_iters = gbm.best_iteration_\n",
    "\n",
    "# predict test\n",
    "test[\"CustomerInterest\"] = gbm.predict_proba(test[features], num_iteration = num_iters)[:, 1]"
   ]
  },
  {
   "cell_type": "code",
   "execution_count": 159,
   "metadata": {},
   "outputs": [
    {
     "data": {
      "image/png": "[encoded data removed]",
      "text/plain": [
       "<Figure size 432x288 with 1 Axes>"
      ]
     },
     "metadata": {},
     "output_type": "display_data"
    }
   ],
   "source": [
    "ax = lgb.plot_importance(gbm)\n",
    "plt.show()"
   ]
  },
  {
   "cell_type": "code",
   "execution_count": 160,
   "metadata": {},
   "outputs": [],
   "source": [
    "# export CSV\n",
    "subm = test[[\"PredictionIdx\", \"CustomerInterest\"]]\n",
    "subm.to_csv(\"../submissions/lgb_4lags_RF_cust_bond.csv\", index = False, float_format = \"%.8f\")"
   ]
  }
 ],
 "metadata": {
  "kernelspec": {
   "display_name": "Python 3",
   "language": "python",
   "name": "python3"
  },
  "language_info": {
   "codemirror_mode": {
    "name": "ipython",
    "version": 3
   },
   "file_extension": ".py",
   "mimetype": "text/x-python",
   "name": "python",
   "nbconvert_exporter": "python",
   "pygments_lexer": "ipython3",
   "version": "3.6.5"
  }
 },
 "nbformat": 4,
 "nbformat_minor": 2
}
