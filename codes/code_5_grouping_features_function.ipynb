{
 "cells": [
  {
   "cell_type": "markdown",
   "metadata": {},
   "source": [
    "# 1. SETTINGS"
   ]
  },
  {
   "cell_type": "code",
   "execution_count": 48,
   "metadata": {},
   "outputs": [],
   "source": [
    "# libraries\n",
    "import numpy as np\n",
    "import pandas as pd\n",
    "import seaborn as sns\n",
    "import matplotlib.pyplot as plt\n",
    "from IPython.display import display\n",
    "import scipy.stats\n",
    "from datetime import datetime"
   ]
  },
  {
   "cell_type": "code",
   "execution_count": 49,
   "metadata": {},
   "outputs": [],
   "source": [
    "# import datasets\n",
    "test  = pd.read_csv(\"../data/raw/Challenge_20180423.csv\")\n",
    "trade = pd.read_csv(\"../data/raw/Trade.csv\")"
   ]
  },
  {
   "cell_type": "code",
   "execution_count": 50,
   "metadata": {},
   "outputs": [],
   "source": [
    "# pandas options\n",
    "pd.set_option(\"display.max_columns\", None)\n",
    "%matplotlib inline\n",
    "\n",
    "# ignore warnings\n",
    "import warnings\n",
    "warnings.filterwarnings(\"ignore\")\n",
    "\n",
    "# garbage collection\n",
    "import gc\n",
    "gc.enable()"
   ]
  },
  {
   "cell_type": "markdown",
   "metadata": {},
   "source": [
    "# Merge Trade with Isin"
   ]
  },
  {
   "cell_type": "code",
   "execution_count": 8,
   "metadata": {},
   "outputs": [],
   "source": [
    "tradedf = trade\n",
    "#tradedf['TradeDateKey'] = pd.to_datetime(tradedf['TradeDateKey'], format='%Y%m%d', errors='ignore')"
   ]
  },
  {
   "cell_type": "markdown",
   "metadata": {},
   "source": [
    "### Customer Features"
   ]
  },
  {
   "cell_type": "code",
   "execution_count": 100,
   "metadata": {},
   "outputs": [],
   "source": [
    "def smooth_stat(dataset, grouping_features, type_of_stat, target_feature='CustomerInterest', alpha=10):\n",
    "    '''dataset = set for the grouping\n",
    "       grouping_feature = what we want to group on\n",
    "       target_feature = what value should be calculated, here our target variable is by default,\n",
    "       however, you can use other features, in the best case continous and highly correlated to the target value,\n",
    "       it can help to prevent overfitting\n",
    "       type_of_stat: mean min max std\n",
    "              \n",
    "       Note: for grouping variables where one has only one observation, \n",
    "       I decided to put zero instead f NA when we calculate standard deviation\n",
    "       however, we can change it if needed\n",
    "       '''\n",
    "    #Make sure that grouping variables are categorical, otherwise as_index=False behaves wrongly, also calculating the std, mean etc.\n",
    "    #dataset_cat = dataset.copy()\n",
    "    #dataset_cat[grouping_features] = dataset_cat[grouping_features].apply(lambda x: x.astype('str'))\n",
    "    \n",
    "    K = dataset_cat.groupby(grouping_features, as_index=False)[target_feature].count()\n",
    "    \n",
    "    if (type_of_stat=='std'):\n",
    "        stat_feat_y = dataset_cat.groupby(grouping_features, as_index=False)[target_feature].count()\n",
    "        stat_feat_y[target_feature] = dataset_cat.groupby(grouping_features, as_index=False)[target_feature].apply(lambda x : x.std()).as_matrix()\n",
    "        stat_feat_y[target_feature][stat_feat_y[target_feature].isnull()] = 0\n",
    "        global_stat_y = dataset_cat[target_feature].std()\n",
    "        \n",
    "    elif (type_of_stat=='min'):\n",
    "        stat_feat_y = dataset_cat.groupby(grouping_features, as_index=False)[target_feature].min()\n",
    "        global_stat_y = dataset_cat[target_feature].min()\n",
    "        \n",
    "    elif (type_of_stat=='max'):\n",
    "        stat_feat_y = dataset_cat.groupby(grouping_features, as_index=False)[target_feature].max()\n",
    "        global_stat_y = dataset_cat[target_feature].max()\n",
    "\n",
    "    elif (type_of_stat=='mean'):\n",
    "        stat_feat_y = dataset_cat.groupby(grouping_features, as_index=False)[target_feature].mean()\n",
    "        global_stat_y = dataset_cat[target_feature].mean()\n",
    "        \n",
    "    stat_feat_y[target_feature] = (stat_feat_y[target_feature]*K[target_feature] + global_stat_y*alpha)/(K[target_feature]+alpha)\n",
    "    \n",
    "    return stat_feat_y"
   ]
  },
  {
   "cell_type": "markdown",
   "metadata": {},
   "source": [
    "# Merging stats to the data and wrapper"
   ]
  },
  {
   "cell_type": "code",
   "execution_count": 105,
   "metadata": {},
   "outputs": [],
   "source": [
    "def group_and_merge(data_for_calculation, data_to_merge, grouping_features='CustomerIdx'):\n",
    "    for stat in ['min', 'max', 'std', 'mean']:\n",
    "        temp = smooth_stat(data_for_calculation, grouping_features, type_of_stat=stat)          \n",
    "        if len(grouping_features) > 1:\n",
    "            pass\n",
    "            '''temp_df = pd.DataFrame(columns=eval(f'{grouping_features}') + [f'{grouping_features}_{stat}'])\n",
    "            temp_df[eval(f'{grouping_features}')] \n",
    "            temp_df[f'{grouping_features}_{stat}'] = temp.values\n",
    "            data_to_merge = data_to_merge.merge(temp_df, left_on=eval(f'{grouping_features}'), right_on=f'{grouping_features}', how='left')'''\n",
    "        else:\n",
    "            temp_df = pd.DataFrame(columns=[f'{grouping_features}',f'{grouping_features}_{stat}'])\n",
    "            temp_df[f'{grouping_features}'] = temp.index.values \n",
    "            temp_df[f'{grouping_features}_{stat}'] = temp\n",
    "            data_to_merge = data_to_merge.merge(temp_df, on=f'{grouping_features}', how='left')\n",
    "    return data_to_merge"
   ]
  }
 ],
 "metadata": {
  "kernelspec": {
   "display_name": "Python 3",
   "language": "python",
   "name": "python3"
  },
  "language_info": {
   "codemirror_mode": {
    "name": "ipython",
    "version": 3
   },
   "file_extension": ".py",
   "mimetype": "text/x-python",
   "name": "python",
   "nbconvert_exporter": "python",
   "pygments_lexer": "ipython3",
   "version": "3.6.1"
  }
 },
 "nbformat": 4,
 "nbformat_minor": 2
}
