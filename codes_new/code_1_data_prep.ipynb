{
 "cells": [
  {
   "cell_type": "markdown",
   "metadata": {},
   "source": [
    "# 1. SETTINGS"
   ]
  },
  {
   "cell_type": "code",
   "execution_count": 104,
   "metadata": {},
   "outputs": [],
   "source": [
    "# libraries\n",
    "import numpy as np\n",
    "import pandas as pd\n",
    "from datetime import date"
   ]
  },
  {
   "cell_type": "code",
   "execution_count": 105,
   "metadata": {},
   "outputs": [],
   "source": [
    "# warnings\n",
    "import warnings\n",
    "warnings.filterwarnings(\"ignore\")"
   ]
  },
  {
   "cell_type": "code",
   "execution_count": 106,
   "metadata": {},
   "outputs": [],
   "source": [
    "# pandas options\n",
    "pd.set_option(\"display.max_columns\", None)"
   ]
  },
  {
   "cell_type": "markdown",
   "metadata": {},
   "source": [
    "# 2. IMPORT"
   ]
  },
  {
   "cell_type": "code",
   "execution_count": 107,
   "metadata": {},
   "outputs": [],
   "source": [
    "# import datasets\n",
    "trade = pd.read_csv(\"../data/raw/Trade.csv\")\n",
    "test  = pd.read_csv(\"../data/raw/Challenge_20180423.csv\")"
   ]
  },
  {
   "cell_type": "code",
   "execution_count": 108,
   "metadata": {},
   "outputs": [
    {
     "name": "stdout",
     "output_type": "stream",
     "text": [
      "Trade data: (6762021, 8)\n"
     ]
    },
    {
     "data": {
      "text/html": [
       "<div>\n",
       "<style scoped>\n",
       "    .dataframe tbody tr th:only-of-type {\n",
       "        vertical-align: middle;\n",
       "    }\n",
       "\n",
       "    .dataframe tbody tr th {\n",
       "        vertical-align: top;\n",
       "    }\n",
       "\n",
       "    .dataframe thead th {\n",
       "        text-align: right;\n",
       "    }\n",
       "</style>\n",
       "<table border=\"1\" class=\"dataframe\">\n",
       "  <thead>\n",
       "    <tr style=\"text-align: right;\">\n",
       "      <th></th>\n",
       "      <th>TradeDateKey</th>\n",
       "      <th>CustomerIdx</th>\n",
       "      <th>IsinIdx</th>\n",
       "      <th>BuySell</th>\n",
       "      <th>NotionalEUR</th>\n",
       "      <th>Price</th>\n",
       "      <th>TradeStatus</th>\n",
       "      <th>CustomerInterest</th>\n",
       "    </tr>\n",
       "  </thead>\n",
       "  <tbody>\n",
       "    <tr>\n",
       "      <th>0</th>\n",
       "      <td>20161207</td>\n",
       "      <td>2789</td>\n",
       "      <td>8478</td>\n",
       "      <td>Sell</td>\n",
       "      <td>653168.0</td>\n",
       "      <td>0.0</td>\n",
       "      <td>Unknown</td>\n",
       "      <td>1.0</td>\n",
       "    </tr>\n",
       "    <tr>\n",
       "      <th>1</th>\n",
       "      <td>20170329</td>\n",
       "      <td>2574</td>\n",
       "      <td>14562</td>\n",
       "      <td>Buy</td>\n",
       "      <td>1656487.0</td>\n",
       "      <td>0.0</td>\n",
       "      <td>Unknown</td>\n",
       "      <td>1.0</td>\n",
       "    </tr>\n",
       "    <tr>\n",
       "      <th>2</th>\n",
       "      <td>20170418</td>\n",
       "      <td>2574</td>\n",
       "      <td>4747</td>\n",
       "      <td>Buy</td>\n",
       "      <td>939673.0</td>\n",
       "      <td>0.0</td>\n",
       "      <td>Unknown</td>\n",
       "      <td>1.0</td>\n",
       "    </tr>\n",
       "    <tr>\n",
       "      <th>3</th>\n",
       "      <td>20170310</td>\n",
       "      <td>2574</td>\n",
       "      <td>9885</td>\n",
       "      <td>Sell</td>\n",
       "      <td>708082.0</td>\n",
       "      <td>0.0</td>\n",
       "      <td>Unknown</td>\n",
       "      <td>1.0</td>\n",
       "    </tr>\n",
       "    <tr>\n",
       "      <th>4</th>\n",
       "      <td>20161116</td>\n",
       "      <td>2574</td>\n",
       "      <td>8885</td>\n",
       "      <td>Buy</td>\n",
       "      <td>1147709.0</td>\n",
       "      <td>0.0</td>\n",
       "      <td>Unknown</td>\n",
       "      <td>1.0</td>\n",
       "    </tr>\n",
       "  </tbody>\n",
       "</table>\n",
       "</div>"
      ],
      "text/plain": [
       "   TradeDateKey  CustomerIdx  IsinIdx BuySell  NotionalEUR  Price TradeStatus  \\\n",
       "0      20161207         2789     8478    Sell     653168.0    0.0     Unknown   \n",
       "1      20170329         2574    14562     Buy    1656487.0    0.0     Unknown   \n",
       "2      20170418         2574     4747     Buy     939673.0    0.0     Unknown   \n",
       "3      20170310         2574     9885    Sell     708082.0    0.0     Unknown   \n",
       "4      20161116         2574     8885     Buy    1147709.0    0.0     Unknown   \n",
       "\n",
       "   CustomerInterest  \n",
       "0               1.0  \n",
       "1               1.0  \n",
       "2               1.0  \n",
       "3               1.0  \n",
       "4               1.0  "
      ]
     },
     "execution_count": 108,
     "metadata": {},
     "output_type": "execute_result"
    }
   ],
   "source": [
    "# check trade\n",
    "print(\"Trade data:\", trade.shape)\n",
    "trade.head()"
   ]
  },
  {
   "cell_type": "code",
   "execution_count": 109,
   "metadata": {},
   "outputs": [
    {
     "name": "stdout",
     "output_type": "stream",
     "text": [
      "Test data: (484758, 6)\n"
     ]
    },
    {
     "data": {
      "text/html": [
       "<div>\n",
       "<style scoped>\n",
       "    .dataframe tbody tr th:only-of-type {\n",
       "        vertical-align: middle;\n",
       "    }\n",
       "\n",
       "    .dataframe tbody tr th {\n",
       "        vertical-align: top;\n",
       "    }\n",
       "\n",
       "    .dataframe thead th {\n",
       "        text-align: right;\n",
       "    }\n",
       "</style>\n",
       "<table border=\"1\" class=\"dataframe\">\n",
       "  <thead>\n",
       "    <tr style=\"text-align: right;\">\n",
       "      <th></th>\n",
       "      <th>PredictionIdx</th>\n",
       "      <th>DateKey</th>\n",
       "      <th>CustomerIdx</th>\n",
       "      <th>IsinIdx</th>\n",
       "      <th>BuySell</th>\n",
       "      <th>CustomerInterest</th>\n",
       "    </tr>\n",
       "  </thead>\n",
       "  <tbody>\n",
       "    <tr>\n",
       "      <th>0</th>\n",
       "      <td>a1e0d80784</td>\n",
       "      <td>20180423</td>\n",
       "      <td>1856</td>\n",
       "      <td>13323</td>\n",
       "      <td>Buy</td>\n",
       "      <td>NaN</td>\n",
       "    </tr>\n",
       "    <tr>\n",
       "      <th>1</th>\n",
       "      <td>c2cc6cc2a8</td>\n",
       "      <td>20180423</td>\n",
       "      <td>1856</td>\n",
       "      <td>9230</td>\n",
       "      <td>Buy</td>\n",
       "      <td>NaN</td>\n",
       "    </tr>\n",
       "    <tr>\n",
       "      <th>2</th>\n",
       "      <td>a8e94f6344</td>\n",
       "      <td>20180423</td>\n",
       "      <td>1780</td>\n",
       "      <td>9157</td>\n",
       "      <td>Buy</td>\n",
       "      <td>NaN</td>\n",
       "    </tr>\n",
       "    <tr>\n",
       "      <th>3</th>\n",
       "      <td>758bae1e35</td>\n",
       "      <td>20180423</td>\n",
       "      <td>2129</td>\n",
       "      <td>9131</td>\n",
       "      <td>Buy</td>\n",
       "      <td>NaN</td>\n",
       "    </tr>\n",
       "    <tr>\n",
       "      <th>4</th>\n",
       "      <td>02ab378ee8</td>\n",
       "      <td>20180423</td>\n",
       "      <td>1758</td>\n",
       "      <td>7151</td>\n",
       "      <td>Buy</td>\n",
       "      <td>NaN</td>\n",
       "    </tr>\n",
       "  </tbody>\n",
       "</table>\n",
       "</div>"
      ],
      "text/plain": [
       "  PredictionIdx   DateKey  CustomerIdx  IsinIdx BuySell  CustomerInterest\n",
       "0    a1e0d80784  20180423         1856    13323     Buy               NaN\n",
       "1    c2cc6cc2a8  20180423         1856     9230     Buy               NaN\n",
       "2    a8e94f6344  20180423         1780     9157     Buy               NaN\n",
       "3    758bae1e35  20180423         2129     9131     Buy               NaN\n",
       "4    02ab378ee8  20180423         1758     7151     Buy               NaN"
      ]
     },
     "execution_count": 109,
     "metadata": {},
     "output_type": "execute_result"
    }
   ],
   "source": [
    "# check trade\n",
    "print(\"Test data:\", test.shape)\n",
    "test.head()"
   ]
  },
  {
   "cell_type": "markdown",
   "metadata": {},
   "source": [
    "# 3. PREPROCESSING"
   ]
  },
  {
   "cell_type": "code",
   "execution_count": 110,
   "metadata": {},
   "outputs": [],
   "source": [
    "# create target variable\n",
    "trade[\"CustomerInterest\"] = 1\n",
    "trade[\"CustomerInterest\"][trade[\"TradeStatus\"] == \"Holding\"] = 0"
   ]
  },
  {
   "cell_type": "code",
   "execution_count": 111,
   "metadata": {},
   "outputs": [],
   "source": [
    "# deleting holding cases\n",
    "trade = trade[trade[\"TradeStatus\"] != \"Holding\"]"
   ]
  },
  {
   "cell_type": "code",
   "execution_count": 112,
   "metadata": {},
   "outputs": [],
   "source": [
    "# convert dates\n",
    "trade[\"TradeDateKey\"] = pd.to_datetime(trade[\"TradeDateKey\"], format = '%Y%m%d')"
   ]
  },
  {
   "cell_type": "code",
   "execution_count": 113,
   "metadata": {},
   "outputs": [],
   "source": [
    "### FUNCTION FOR COMPUTING WEEK INDEX\n",
    "def week_idx(date, end_date):\n",
    "    return round((end_date - date).dt.days / 7 + 0.4).astype(int)\n",
    "\n",
    "# add week index\n",
    "trade[\"Week\"] = week_idx(trade[\"TradeDateKey\"], pd.Timestamp('2018-04-23 00:00:00'))\n",
    "trade[\"Week\"] = trade[\"Week\"].max() + 1 - trade[\"Week\"]\n",
    "test[\"Week\"]  = trade[\"Week\"].max() + 1"
   ]
  },
  {
   "cell_type": "code",
   "execution_count": 114,
   "metadata": {},
   "outputs": [],
   "source": [
    "# aggregate weekly data: target = 1 if there is at least single 1 during week\n",
    "trade = trade.groupby([\"CustomerIdx\", \"Week\", \"IsinIdx\", \"BuySell\"], \n",
    "                      as_index = False).agg({'CustomerInterest': 'max', 'Price': 'mean', 'NotionalEUR': 'mean'})"
   ]
  },
  {
   "cell_type": "markdown",
   "metadata": {},
   "source": [
    "# 4. SUBSETING"
   ]
  },
  {
   "cell_type": "code",
   "execution_count": 115,
   "metadata": {},
   "outputs": [
    {
     "name": "stdout",
     "output_type": "stream",
     "text": [
      "(1772720, 7)\n",
      "(1747439, 7)\n"
     ]
    }
   ],
   "source": [
    "### 1: Keep only customers that are also in test data\n",
    "print(trade.shape)\n",
    "trade = trade.loc[trade['CustomerIdx'].isin(set(test.CustomerIdx.unique()))]\n",
    "print(trade.shape)"
   ]
  },
  {
   "cell_type": "code",
   "execution_count": 116,
   "metadata": {},
   "outputs": [
    {
     "name": "stdout",
     "output_type": "stream",
     "text": [
      "(1747439, 7)\n",
      "(776272, 7)\n"
     ]
    }
   ],
   "source": [
    "### 2: Drop the first 70 weeks\n",
    "print(trade.shape)\n",
    "trade = trade[trade.Week > 70]\n",
    "print(trade.shape)"
   ]
  },
  {
   "cell_type": "code",
   "execution_count": 117,
   "metadata": {},
   "outputs": [
    {
     "name": "stdout",
     "output_type": "stream",
     "text": [
      "(776272, 7)\n",
      "(776272, 5)\n"
     ]
    }
   ],
   "source": [
    "### 3. Delete PRICE and NOTIONALUER (for now)\n",
    "print(trade.shape)\n",
    "del trade[\"Price\"]\n",
    "del trade[\"NotionalEUR\"]\n",
    "print(trade.shape)"
   ]
  },
  {
   "cell_type": "markdown",
   "metadata": {},
   "source": [
    "# 5. ADD ZEROES"
   ]
  },
  {
   "cell_type": "code",
   "execution_count": 118,
   "metadata": {},
   "outputs": [
    {
     "name": "stdout",
     "output_type": "stream",
     "text": [
      "(776272, 5)\n",
      "(24012750, 5)\n"
     ]
    }
   ],
   "source": [
    "# add missing zeroes\n",
    "print(trade.shape)\n",
    "trade = trade.groupby([\"CustomerIdx\", \"Week\", \"IsinIdx\", \"BuySell\"]).CustomerInterest.unique().unstack(\"Week\").stack(\"Week\", dropna = False)\n",
    "trade = trade.reset_index()\n",
    "trade.columns = [\"CustomerIdx\", \"IsinIdx\", \"BuySell\", \"Week\", \"CustomerInterest\"]\n",
    "print(trade.shape)"
   ]
  },
  {
   "cell_type": "code",
   "execution_count": 119,
   "metadata": {},
   "outputs": [
    {
     "name": "stdout",
     "output_type": "stream",
     "text": [
      "Mean target: 0.032327492686177135\n"
     ]
    }
   ],
   "source": [
    "# fill imputed cases with 0 in target\n",
    "trade.CustomerInterest.fillna(0, inplace = True)\n",
    "trade[\"CustomerInterest\"] = trade.CustomerInterest.astype(int)\n",
    "print(\"Mean target:\", trade.CustomerInterest.mean())"
   ]
  },
  {
   "cell_type": "markdown",
   "metadata": {},
   "source": [
    "# 6. EXPORT"
   ]
  },
  {
   "cell_type": "code",
   "execution_count": 120,
   "metadata": {},
   "outputs": [
    {
     "name": "stdout",
     "output_type": "stream",
     "text": [
      "(24012750, 5)\n",
      "(484758, 7)\n"
     ]
    }
   ],
   "source": [
    "# check dimensions\n",
    "print(trade.shape)\n",
    "print(test.shape)"
   ]
  },
  {
   "cell_type": "code",
   "execution_count": 122,
   "metadata": {},
   "outputs": [
    {
     "name": "stdout",
     "output_type": "stream",
     "text": [
      "(24497508, 6)\n"
     ]
    }
   ],
   "source": [
    "# concatenate train and test\n",
    "trade[\"PredictionIdx\"] = None\n",
    "del test[\"DateKey\"]\n",
    "trade = trade.reindex(test.columns, axis = 1)\n",
    "data = pd.concat([trade, test])\n",
    "del trade, test\n",
    "print(data.shape)"
   ]
  },
  {
   "cell_type": "code",
   "execution_count": 123,
   "metadata": {},
   "outputs": [],
   "source": [
    "# export CSV\n",
    "data.to_csv(\"../data/prepared/data_basic.csv\", index = False)"
   ]
  }
 ],
 "metadata": {
  "kernelspec": {
   "display_name": "Python 3",
   "language": "python",
   "name": "python3"
  },
  "language_info": {
   "codemirror_mode": {
    "name": "ipython",
    "version": 3
   },
   "file_extension": ".py",
   "mimetype": "text/x-python",
   "name": "python",
   "nbconvert_exporter": "python",
   "pygments_lexer": "ipython3",
   "version": "3.6.5"
  }
 },
 "nbformat": 4,
 "nbformat_minor": 2
}
