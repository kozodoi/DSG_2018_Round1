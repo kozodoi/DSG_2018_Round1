{
 "cells": [
  {
   "cell_type": "markdown",
   "metadata": {},
   "source": [
    "# 1. DATA PREPARATION"
   ]
  },
  {
   "cell_type": "markdown",
   "metadata": {},
   "source": [
    "## 1.1. IMPORT"
   ]
  },
  {
   "cell_type": "code",
   "execution_count": 2,
   "metadata": {},
   "outputs": [],
   "source": [
    "# install packages\n",
    "#!pip install pandas\n",
    "#!pip install numpy\n",
    "#!pip install sklearn\n",
    "#!pip install xgboost\n",
    "#!pip install hyperopt"
   ]
  },
  {
   "cell_type": "code",
   "execution_count": 1,
   "metadata": {},
   "outputs": [],
   "source": [
    "# load packages\n",
    "import numpy as np\n",
    "import pandas as pd\n",
    "import xgboost as xgb\n",
    "from sklearn.preprocessing import LabelEncoder\n",
    "from sklearn.model_selection import GridSearchCV, StratifiedKFold, train_test_split\n",
    "from sklearn.metrics import mean_absolute_error\n",
    "from hyperopt import fmin, tpe, hp, STATUS_OK, Trials\n",
    "from matplotlib import pylab as plt"
   ]
  },
  {
   "cell_type": "code",
   "execution_count": 2,
   "metadata": {},
   "outputs": [],
   "source": [
    "# warnings\n",
    "import warnings\n",
    "warnings.filterwarnings(\"ignore\")"
   ]
  },
  {
   "cell_type": "code",
   "execution_count": 3,
   "metadata": {},
   "outputs": [],
   "source": [
    "# import data\n",
    "data = pd.read_csv(\"../../data/data_full.csv\")"
   ]
  },
  {
   "cell_type": "markdown",
   "metadata": {},
   "source": [
    "## 1.2. PREPARATION"
   ]
  },
  {
   "cell_type": "code",
   "execution_count": 4,
   "metadata": {},
   "outputs": [
    {
     "data": {
      "text/html": [
       "<div>\n",
       "<style scoped>\n",
       "    .dataframe tbody tr th:only-of-type {\n",
       "        vertical-align: middle;\n",
       "    }\n",
       "\n",
       "    .dataframe tbody tr th {\n",
       "        vertical-align: top;\n",
       "    }\n",
       "\n",
       "    .dataframe thead th {\n",
       "        text-align: right;\n",
       "    }\n",
       "</style>\n",
       "<table border=\"1\" class=\"dataframe\">\n",
       "  <thead>\n",
       "    <tr style=\"text-align: right;\">\n",
       "      <th></th>\n",
       "      <th>ID</th>\n",
       "      <th>SalOrg</th>\n",
       "      <th>year</th>\n",
       "      <th>month</th>\n",
       "      <th>y</th>\n",
       "      <th>lag_1</th>\n",
       "      <th>lag_2</th>\n",
       "      <th>lag_3</th>\n",
       "      <th>lag_4</th>\n",
       "      <th>lag_5</th>\n",
       "      <th>...</th>\n",
       "      <th>SubFct</th>\n",
       "      <th>DP_FAMILY_CODE</th>\n",
       "      <th>MktABC</th>\n",
       "      <th>Business</th>\n",
       "      <th>Gamma</th>\n",
       "      <th>ItemCat</th>\n",
       "      <th>PRODUCT_STATUS</th>\n",
       "      <th>Plant</th>\n",
       "      <th>DC</th>\n",
       "      <th>season</th>\n",
       "    </tr>\n",
       "  </thead>\n",
       "  <tbody>\n",
       "    <tr>\n",
       "      <th>0</th>\n",
       "      <td>0.0</td>\n",
       "      <td>0</td>\n",
       "      <td>2013</td>\n",
       "      <td>1</td>\n",
       "      <td>0.0</td>\n",
       "      <td>0.0</td>\n",
       "      <td>0.0</td>\n",
       "      <td>0.0</td>\n",
       "      <td>0.0</td>\n",
       "      <td>0.0</td>\n",
       "      <td>...</td>\n",
       "      <td>2</td>\n",
       "      <td>0</td>\n",
       "      <td>1</td>\n",
       "      <td>0</td>\n",
       "      <td>3</td>\n",
       "      <td>2</td>\n",
       "      <td>0</td>\n",
       "      <td>2</td>\n",
       "      <td>1</td>\n",
       "      <td>3</td>\n",
       "    </tr>\n",
       "    <tr>\n",
       "      <th>1</th>\n",
       "      <td>0.0</td>\n",
       "      <td>0</td>\n",
       "      <td>2013</td>\n",
       "      <td>1</td>\n",
       "      <td>16.0</td>\n",
       "      <td>4.0</td>\n",
       "      <td>1.0</td>\n",
       "      <td>0.0</td>\n",
       "      <td>30.0</td>\n",
       "      <td>0.0</td>\n",
       "      <td>...</td>\n",
       "      <td>2</td>\n",
       "      <td>21</td>\n",
       "      <td>3</td>\n",
       "      <td>0</td>\n",
       "      <td>13</td>\n",
       "      <td>2</td>\n",
       "      <td>4</td>\n",
       "      <td>2</td>\n",
       "      <td>1</td>\n",
       "      <td>3</td>\n",
       "    </tr>\n",
       "    <tr>\n",
       "      <th>2</th>\n",
       "      <td>0.0</td>\n",
       "      <td>0</td>\n",
       "      <td>2013</td>\n",
       "      <td>1</td>\n",
       "      <td>0.0</td>\n",
       "      <td>0.0</td>\n",
       "      <td>0.0</td>\n",
       "      <td>0.0</td>\n",
       "      <td>0.0</td>\n",
       "      <td>0.0</td>\n",
       "      <td>...</td>\n",
       "      <td>2</td>\n",
       "      <td>5</td>\n",
       "      <td>0</td>\n",
       "      <td>3</td>\n",
       "      <td>6</td>\n",
       "      <td>2</td>\n",
       "      <td>4</td>\n",
       "      <td>1</td>\n",
       "      <td>1</td>\n",
       "      <td>3</td>\n",
       "    </tr>\n",
       "    <tr>\n",
       "      <th>3</th>\n",
       "      <td>0.0</td>\n",
       "      <td>0</td>\n",
       "      <td>2013</td>\n",
       "      <td>1</td>\n",
       "      <td>2.0</td>\n",
       "      <td>0.0</td>\n",
       "      <td>0.0</td>\n",
       "      <td>0.0</td>\n",
       "      <td>0.0</td>\n",
       "      <td>0.0</td>\n",
       "      <td>...</td>\n",
       "      <td>2</td>\n",
       "      <td>0</td>\n",
       "      <td>1</td>\n",
       "      <td>3</td>\n",
       "      <td>13</td>\n",
       "      <td>2</td>\n",
       "      <td>0</td>\n",
       "      <td>2</td>\n",
       "      <td>1</td>\n",
       "      <td>3</td>\n",
       "    </tr>\n",
       "    <tr>\n",
       "      <th>4</th>\n",
       "      <td>0.0</td>\n",
       "      <td>0</td>\n",
       "      <td>2013</td>\n",
       "      <td>1</td>\n",
       "      <td>0.0</td>\n",
       "      <td>0.0</td>\n",
       "      <td>0.0</td>\n",
       "      <td>0.0</td>\n",
       "      <td>0.0</td>\n",
       "      <td>0.0</td>\n",
       "      <td>...</td>\n",
       "      <td>3</td>\n",
       "      <td>0</td>\n",
       "      <td>1</td>\n",
       "      <td>0</td>\n",
       "      <td>11</td>\n",
       "      <td>2</td>\n",
       "      <td>0</td>\n",
       "      <td>0</td>\n",
       "      <td>1</td>\n",
       "      <td>3</td>\n",
       "    </tr>\n",
       "  </tbody>\n",
       "</table>\n",
       "<p>5 rows × 41 columns</p>\n",
       "</div>"
      ],
      "text/plain": [
       "    ID  SalOrg  year  month     y  lag_1  lag_2  lag_3  lag_4  lag_5   ...    \\\n",
       "0  0.0       0  2013      1   0.0    0.0    0.0    0.0    0.0    0.0   ...     \n",
       "1  0.0       0  2013      1  16.0    4.0    1.0    0.0   30.0    0.0   ...     \n",
       "2  0.0       0  2013      1   0.0    0.0    0.0    0.0    0.0    0.0   ...     \n",
       "3  0.0       0  2013      1   2.0    0.0    0.0    0.0    0.0    0.0   ...     \n",
       "4  0.0       0  2013      1   0.0    0.0    0.0    0.0    0.0    0.0   ...     \n",
       "\n",
       "   SubFct  DP_FAMILY_CODE  MktABC  Business  Gamma  ItemCat  PRODUCT_STATUS  \\\n",
       "0       2               0       1         0      3        2               0   \n",
       "1       2              21       3         0     13        2               4   \n",
       "2       2               5       0         3      6        2               4   \n",
       "3       2               0       1         3     13        2               0   \n",
       "4       3               0       1         0     11        2               0   \n",
       "\n",
       "   Plant  DC  season  \n",
       "0      2   1       3  \n",
       "1      2   1       3  \n",
       "2      1   1       3  \n",
       "3      2   1       3  \n",
       "4      0   1       3  \n",
       "\n",
       "[5 rows x 41 columns]"
      ]
     },
     "execution_count": 4,
     "metadata": {},
     "output_type": "execute_result"
    }
   ],
   "source": [
    "# check the data\n",
    "data.head()"
   ]
  },
  {
   "cell_type": "code",
   "execution_count": 5,
   "metadata": {},
   "outputs": [
    {
     "name": "stdout",
     "output_type": "stream",
     "text": [
      "(3108708, 41)\n",
      "Index(['ID', 'SalOrg', 'year', 'month', 'y', 'lag_1', 'lag_2', 'lag_3',\n",
      "       'lag_4', 'lag_5', 'lag_6', 'lag_7', 'lag_8', 'lag_9', 'lag_10',\n",
      "       'lag_11', 'lag_12', 'LT', 'MOQ', 'ROP', 'SafetyStk', 'Gross_Weight',\n",
      "       'Length', 'Width', 'Height', 'Volume', 'CBO_CBO_Qty_Shortage',\n",
      "       'Comp_reference_number', 'Name_Of_Competitor', 'PL', 'SUBRANGE',\n",
      "       'SubFct', 'DP_FAMILY_CODE', 'MktABC', 'Business', 'Gamma', 'ItemCat',\n",
      "       'PRODUCT_STATUS', 'Plant', 'DC', 'season'],\n",
      "      dtype='object')\n"
     ]
    }
   ],
   "source": [
    "# check the data\n",
    "print(data.shape)\n",
    "print(data.columns)"
   ]
  },
  {
   "cell_type": "code",
   "execution_count": 6,
   "metadata": {},
   "outputs": [
    {
     "data": {
      "text/plain": [
       "y        116028\n",
       "lag_1     77352\n",
       "lag_2     38676\n",
       "dtype: int64"
      ]
     },
     "execution_count": 6,
     "metadata": {},
     "output_type": "execute_result"
    }
   ],
   "source": [
    "# count number of missings\n",
    "missings = data.isnull().sum()\n",
    "missings[missings > 0]"
   ]
  },
  {
   "cell_type": "code",
   "execution_count": 8,
   "metadata": {},
   "outputs": [
    {
     "data": {
      "text/plain": [
       "(3108708, 39)"
      ]
     },
     "execution_count": 8,
     "metadata": {},
     "output_type": "execute_result"
    }
   ],
   "source": [
    "# drop lags 1 and 2\n",
    "data = data.drop([\"lag_1\", \"lag_2\"], axis = 1)\n",
    "data.shape"
   ]
  },
  {
   "cell_type": "code",
   "execution_count": 9,
   "metadata": {},
   "outputs": [
    {
     "data": {
      "text/plain": [
       "(1471518, 39)"
      ]
     },
     "execution_count": 9,
     "metadata": {},
     "output_type": "execute_result"
    }
   ],
   "source": [
    "# remove observations if lags 3-12 are zeros\n",
    "lags = [col for col in data.columns if \"lag\" in col]\n",
    "lags = data[lags]\n",
    "lags = lags.sum(axis = 1)\n",
    "lags = lags[lags == 0]\n",
    "nuls = data.ix[lags.index]\n",
    "nuls = list(nuls[nuls.ID == 0].index)\n",
    "data = data.drop(nuls)\n",
    "data.shape"
   ]
  },
  {
   "cell_type": "code",
   "execution_count": 10,
   "metadata": {},
   "outputs": [
    {
     "name": "stdout",
     "output_type": "stream",
     "text": [
      "(1355490, 38)\n",
      "(116028, 38)\n",
      "(948843, 38)\n",
      "(406647, 38)\n"
     ]
    }
   ],
   "source": [
    "# partitioning the data: round 1\n",
    "X_known = data[-data.y.isnull()].drop(\"y\", axis = 1)\n",
    "y_known = data[-data.y.isnull()].y\n",
    "X_unknown = data[data.y.isnull()].drop(\"y\", axis = 1)\n",
    "y_unknown = data[ data.y.isnull()].y\n",
    "\n",
    "# partition the data: round 2\n",
    "X_train, X_test, y_train, y_test = train_test_split(X_known, y_known, test_size = 0.30, random_state = 108)\n",
    "\n",
    "# prind data dimensions\n",
    "print(X_known.shape)\n",
    "print(X_unknown.shape)\n",
    "print(X_train.shape)\n",
    "print(X_test.shape)"
   ]
  },
  {
   "cell_type": "markdown",
   "metadata": {},
   "source": [
    "# 2. XGBOOST MODELING"
   ]
  },
  {
   "cell_type": "markdown",
   "metadata": {},
   "source": [
    "## 2.1. PARAMETER TUNING"
   ]
  },
  {
   "cell_type": "code",
   "execution_count": 26,
   "metadata": {},
   "outputs": [],
   "source": [
    "# task parameters\n",
    "task_pars = {\n",
    "             \"objective\"   : \"reg:linear\",\n",
    "             \"eval_metric\" : \"mae\",\n",
    "             \"nthread\"     : 8,\n",
    "             \"silent\"      : 1, \n",
    "             \"seed\"        : 108   \n",
    "            }"
   ]
  },
  {
   "cell_type": "code",
   "execution_count": 27,
   "metadata": {},
   "outputs": [],
   "source": [
    "# FUNCTION 1: parameter space\n",
    "def optimize(trials, task_params, max_evals = 100):\n",
    "    \n",
    "    # set up the parameter space\n",
    "    space = {\n",
    "             \"eta\"             : hp.quniform(\"eta\", 0.005, 0.5, 0.005),\n",
    "             \"gamma\"           : hp.quniform(\"gamma\", 0.3, 1, 0.01),\n",
    "             \"max_depth\"       : hp.quniform(\"max_depth\", 3, 15, 1),\n",
    "             \"min_child_weight\": hp.quniform(\"min_child_weight\", 1, 10, 1),\n",
    "             \"colsample_bytree\": hp.quniform(\"colsample_bytree\", 0.3, 1, 0.05),\n",
    "             \"subsample\"       : hp.quniform(\"subsample\", 0.6, 1, 0.05),\n",
    "             \"num_round\"       : 100,\n",
    "            }\n",
    "    \n",
    "    # add task parameters\n",
    "    space.update(task_params)\n",
    "    \n",
    "    # find the best combination\n",
    "    best = fmin(score, space, algo = tpe.suggest, trials = trials, max_evals = max_evals)\n",
    "    \n",
    "    # return results\n",
    "    return best"
   ]
  },
  {
   "cell_type": "code",
   "execution_count": 28,
   "metadata": {},
   "outputs": [],
   "source": [
    "# FUNCTION 2: performing the tuning\n",
    "def score(params):\n",
    "    \n",
    "    # display information\n",
    "    print(\"Training with the following parameters:\")\n",
    "    print(params)\n",
    "    \n",
    "    # convert to integer\n",
    "    params[\"max_depth\"] = int(params[\"max_depth\"])\n",
    "    params[\"num_round\"] = int(params[\"num_round\"])\n",
    "    params[\"seed\"]      = int(params[\"seed\"])\n",
    "\n",
    "    # transform matrices\n",
    "    dtrain = xgb.DMatrix(X_train.drop(\"ID\", axis = 1), label = y_train)\n",
    "    dvalid = xgb.DMatrix(X_test.drop(\"ID\",  axis = 1), label = y_test)\n",
    "    \n",
    "    # train the model\n",
    "    model = xgb.train(params, dtrain, params[\"num_round\"])\n",
    "    \n",
    "    # predict and score\n",
    "    predictions = model.predict(dvalid)\n",
    "    score = mean_absolute_error(y_test, predictions)\n",
    "    \n",
    "    # display information\n",
    "    print(\"Score: {0}\".format(round(score, 5)))\n",
    "    print(\"\\n---------------------------------------------\\n\")\n",
    "    return {'loss': score, 'status': STATUS_OK}"
   ]
  },
  {
   "cell_type": "code",
   "execution_count": 29,
   "metadata": {},
   "outputs": [
    {
     "name": "stdout",
     "output_type": "stream",
     "text": [
      "Training with the following parameters:\n",
      "{'colsample_bytree': 0.8500000000000001, 'eta': 0.435, 'eval_metric': 'mae', 'gamma': 0.71, 'max_depth': 14.0, 'min_child_weight': 1.0, 'nthread': 8, 'num_round': 100, 'objective': 'reg:linear', 'seed': 108, 'silent': 1, 'subsample': 0.75}\n",
      "Score: 14.377\n",
      "\n",
      "---------------------------------------------\n",
      "\n",
      "Training with the following parameters:\n",
      "{'colsample_bytree': 0.6000000000000001, 'eta': 0.015, 'eval_metric': 'mae', 'gamma': 0.55, 'max_depth': 7.0, 'min_child_weight': 7.0, 'nthread': 8, 'num_round': 100, 'objective': 'reg:linear', 'seed': 108, 'silent': 1, 'subsample': 0.9}\n",
      "Score: 13.63286\n",
      "\n",
      "---------------------------------------------\n",
      "\n",
      "Training with the following parameters:\n",
      "{'colsample_bytree': 0.8500000000000001, 'eta': 0.25, 'eval_metric': 'mae', 'gamma': 0.93, 'max_depth': 6.0, 'min_child_weight': 6.0, 'nthread': 8, 'num_round': 100, 'objective': 'reg:linear', 'seed': 108, 'silent': 1, 'subsample': 0.65}\n",
      "Score: 13.80473\n",
      "\n",
      "---------------------------------------------\n",
      "\n",
      "Training with the following parameters:\n",
      "{'colsample_bytree': 0.4, 'eta': 0.34500000000000003, 'eval_metric': 'mae', 'gamma': 0.87, 'max_depth': 4.0, 'min_child_weight': 6.0, 'nthread': 8, 'num_round': 100, 'objective': 'reg:linear', 'seed': 108, 'silent': 1, 'subsample': 0.7000000000000001}\n",
      "Score: 14.25679\n",
      "\n",
      "---------------------------------------------\n",
      "\n",
      "Training with the following parameters:\n",
      "{'colsample_bytree': 0.65, 'eta': 0.14, 'eval_metric': 'mae', 'gamma': 0.85, 'max_depth': 14.0, 'min_child_weight': 8.0, 'nthread': 8, 'num_round': 100, 'objective': 'reg:linear', 'seed': 108, 'silent': 1, 'subsample': 0.8}\n",
      "Score: 12.92251\n",
      "\n",
      "---------------------------------------------\n",
      "\n",
      "Training with the following parameters:\n",
      "{'colsample_bytree': 0.8500000000000001, 'eta': 0.03, 'eval_metric': 'mae', 'gamma': 0.38, 'max_depth': 14.0, 'min_child_weight': 10.0, 'nthread': 8, 'num_round': 100, 'objective': 'reg:linear', 'seed': 108, 'silent': 1, 'subsample': 0.8}\n",
      "Score: 12.60339\n",
      "\n",
      "---------------------------------------------\n",
      "\n",
      "Training with the following parameters:\n",
      "{'colsample_bytree': 0.65, 'eta': 0.17500000000000002, 'eval_metric': 'mae', 'gamma': 0.5700000000000001, 'max_depth': 6.0, 'min_child_weight': 8.0, 'nthread': 8, 'num_round': 100, 'objective': 'reg:linear', 'seed': 108, 'silent': 1, 'subsample': 0.65}\n",
      "Score: 13.64678\n",
      "\n",
      "---------------------------------------------\n",
      "\n",
      "Training with the following parameters:\n",
      "{'colsample_bytree': 0.65, 'eta': 0.19, 'eval_metric': 'mae', 'gamma': 0.81, 'max_depth': 8.0, 'min_child_weight': 4.0, 'nthread': 8, 'num_round': 100, 'objective': 'reg:linear', 'seed': 108, 'silent': 1, 'subsample': 0.8}\n",
      "Score: 13.08851\n",
      "\n",
      "---------------------------------------------\n",
      "\n",
      "Training with the following parameters:\n",
      "{'colsample_bytree': 0.8500000000000001, 'eta': 0.125, 'eval_metric': 'mae', 'gamma': 1.0, 'max_depth': 14.0, 'min_child_weight': 7.0, 'nthread': 8, 'num_round': 100, 'objective': 'reg:linear', 'seed': 108, 'silent': 1, 'subsample': 0.65}\n",
      "Score: 13.07026\n",
      "\n",
      "---------------------------------------------\n",
      "\n",
      "Training with the following parameters:\n",
      "{'colsample_bytree': 0.7000000000000001, 'eta': 0.22, 'eval_metric': 'mae', 'gamma': 0.49, 'max_depth': 5.0, 'min_child_weight': 7.0, 'nthread': 8, 'num_round': 100, 'objective': 'reg:linear', 'seed': 108, 'silent': 1, 'subsample': 0.9500000000000001}\n",
      "Score: 13.60951\n",
      "\n",
      "---------------------------------------------\n",
      "\n"
     ]
    }
   ],
   "source": [
    "# performing the tuning trials\n",
    "trials = Trials()\n",
    "best_params = optimize(trials, task_params = task_pars, max_evals = 10)"
   ]
  },
  {
   "cell_type": "code",
   "execution_count": 30,
   "metadata": {},
   "outputs": [
    {
     "data": {
      "text/plain": [
       "{'colsample_bytree': 0.8500000000000001,\n",
       " 'eta': 0.03,\n",
       " 'eval_metric': 'mae',\n",
       " 'gamma': 0.38,\n",
       " 'max_depth': 14,\n",
       " 'min_child_weight': 10.0,\n",
       " 'nthread': 8,\n",
       " 'objective': 'reg:linear',\n",
       " 'seed': 108,\n",
       " 'silent': 1,\n",
       " 'subsample': 0.8}"
      ]
     },
     "execution_count": 30,
     "metadata": {},
     "output_type": "execute_result"
    }
   ],
   "source": [
    "# adding task parameters\n",
    "best_params.update(task_pars)\n",
    "\n",
    "# converting to integer\n",
    "best_params[\"max_depth\"] = int(best_params[\"max_depth\"])\n",
    "best_params[\"seed\"]      = int(best_params[\"seed\"])\n",
    "best_params"
   ]
  },
  {
   "cell_type": "code",
   "execution_count": 31,
   "metadata": {},
   "outputs": [],
   "source": [
    "# saving the best params\n",
    "import pickle\n",
    "pickle.dump(best_params, open(\"../files/red3_xgb_par_38vars_10iter.p\", \"wb\"))"
   ]
  },
  {
   "cell_type": "code",
   "execution_count": 32,
   "metadata": {},
   "outputs": [
    {
     "data": {
      "text/plain": [
       "{'colsample_bytree': 0.8500000000000001,\n",
       " 'eta': 0.03,\n",
       " 'eval_metric': 'mae',\n",
       " 'gamma': 0.38,\n",
       " 'max_depth': 14,\n",
       " 'min_child_weight': 10.0,\n",
       " 'nthread': 8,\n",
       " 'objective': 'reg:linear',\n",
       " 'seed': 108,\n",
       " 'silent': 1,\n",
       " 'subsample': 0.8}"
      ]
     },
     "execution_count": 32,
     "metadata": {},
     "output_type": "execute_result"
    }
   ],
   "source": [
    "# loading the best params\n",
    "import pickle\n",
    "best_params = pickle.load(open(\"../files/red3_xgb_par_38vars_10iter.p\", \"rb\" ))\n",
    "best_params"
   ]
  },
  {
   "cell_type": "markdown",
   "metadata": {},
   "source": [
    "## 2.2. PERFORMING CROSS-VALIDATION"
   ]
  },
  {
   "cell_type": "code",
   "execution_count": 33,
   "metadata": {},
   "outputs": [],
   "source": [
    "# transforming dataframes\n",
    "d_known   = xgb.DMatrix(X_known.drop(\"ID\",   axis = 1), label = y_known)\n",
    "d_unknown = xgb.DMatrix(X_unknown.drop(\"ID\", axis = 1))"
   ]
  },
  {
   "cell_type": "code",
   "execution_count": 34,
   "metadata": {},
   "outputs": [],
   "source": [
    "# CV settings\n",
    "num_rounds = 100\n",
    "num_folds  = 4\n",
    "verbose    = 1"
   ]
  },
  {
   "cell_type": "code",
   "execution_count": 35,
   "metadata": {
    "scrolled": true
   },
   "outputs": [
    {
     "name": "stdout",
     "output_type": "stream",
     "text": [
      "[0]\ttrain-mae:24.3438\ttest-mae:24.3524\n",
      "[1]\ttrain-mae:23.7281\ttest-mae:23.7492\n",
      "[2]\ttrain-mae:23.1311\ttest-mae:23.1637\n",
      "[3]\ttrain-mae:22.5562\ttest-mae:22.6036\n",
      "[4]\ttrain-mae:22.0059\ttest-mae:22.0684\n",
      "[5]\ttrain-mae:21.4735\ttest-mae:21.5538\n",
      "[6]\ttrain-mae:20.962\ttest-mae:21.0626\n",
      "[7]\ttrain-mae:20.4705\ttest-mae:20.5932\n",
      "[8]\ttrain-mae:19.9987\ttest-mae:20.144\n",
      "[9]\ttrain-mae:19.5462\ttest-mae:19.7172\n",
      "[10]\ttrain-mae:19.1079\ttest-mae:19.3071\n",
      "[11]\ttrain-mae:18.6898\ttest-mae:18.9158\n",
      "[12]\ttrain-mae:18.2866\ttest-mae:18.5412\n",
      "[13]\ttrain-mae:17.8992\ttest-mae:18.1864\n",
      "[14]\ttrain-mae:17.5282\ttest-mae:17.8523\n",
      "[15]\ttrain-mae:17.1727\ttest-mae:17.5313\n",
      "[16]\ttrain-mae:16.8318\ttest-mae:17.2269\n",
      "[17]\ttrain-mae:16.5066\ttest-mae:16.9408\n",
      "[18]\ttrain-mae:16.1939\ttest-mae:16.6681\n",
      "[19]\ttrain-mae:15.8945\ttest-mae:16.4129\n",
      "[20]\ttrain-mae:15.6074\ttest-mae:16.1677\n",
      "[21]\ttrain-mae:15.332\ttest-mae:15.9362\n",
      "[22]\ttrain-mae:15.0693\ttest-mae:15.7175\n",
      "[23]\ttrain-mae:14.818\ttest-mae:15.5112\n",
      "[24]\ttrain-mae:14.5778\ttest-mae:15.3198\n",
      "[25]\ttrain-mae:14.3492\ttest-mae:15.1388\n",
      "[26]\ttrain-mae:14.1312\ttest-mae:14.9667\n",
      "[27]\ttrain-mae:13.9221\ttest-mae:14.8083\n",
      "[28]\ttrain-mae:13.7225\ttest-mae:14.6568\n",
      "[29]\ttrain-mae:13.5307\ttest-mae:14.5163\n",
      "[30]\ttrain-mae:13.3477\ttest-mae:14.3827\n",
      "[31]\ttrain-mae:13.1746\ttest-mae:14.2573\n",
      "[32]\ttrain-mae:13.0081\ttest-mae:14.1406\n",
      "[33]\ttrain-mae:12.848\ttest-mae:14.0304\n",
      "[34]\ttrain-mae:12.694\ttest-mae:13.9253\n",
      "[35]\ttrain-mae:12.5458\ttest-mae:13.8269\n",
      "[36]\ttrain-mae:12.4059\ttest-mae:13.739\n",
      "[37]\ttrain-mae:12.2745\ttest-mae:13.6568\n",
      "[38]\ttrain-mae:12.149\ttest-mae:13.5796\n",
      "[39]\ttrain-mae:12.0273\ttest-mae:13.5064\n",
      "[40]\ttrain-mae:11.9127\ttest-mae:13.4378\n",
      "[41]\ttrain-mae:11.8028\ttest-mae:13.3737\n",
      "[42]\ttrain-mae:11.699\ttest-mae:13.3151\n",
      "[43]\ttrain-mae:11.5992\ttest-mae:13.2589\n",
      "[44]\ttrain-mae:11.503\ttest-mae:13.207\n",
      "[45]\ttrain-mae:11.4139\ttest-mae:13.16\n",
      "[46]\ttrain-mae:11.3277\ttest-mae:13.1155\n",
      "[47]\ttrain-mae:11.245\ttest-mae:13.0746\n",
      "[48]\ttrain-mae:11.1629\ttest-mae:13.0342\n",
      "[49]\ttrain-mae:11.0853\ttest-mae:12.9986\n",
      "[50]\ttrain-mae:11.0126\ttest-mae:12.9652\n",
      "[51]\ttrain-mae:10.9445\ttest-mae:12.9332\n",
      "[52]\ttrain-mae:10.8807\ttest-mae:12.9063\n",
      "[53]\ttrain-mae:10.8178\ttest-mae:12.8819\n",
      "[54]\ttrain-mae:10.7573\ttest-mae:12.8573\n",
      "[55]\ttrain-mae:10.6989\ttest-mae:12.8372\n",
      "[56]\ttrain-mae:10.6437\ttest-mae:12.8184\n",
      "[57]\ttrain-mae:10.5889\ttest-mae:12.7978\n",
      "[58]\ttrain-mae:10.5377\ttest-mae:12.7809\n",
      "[59]\ttrain-mae:10.4868\ttest-mae:12.7645\n",
      "[60]\ttrain-mae:10.4391\ttest-mae:12.751\n",
      "[61]\ttrain-mae:10.3914\ttest-mae:12.7358\n",
      "[62]\ttrain-mae:10.3505\ttest-mae:12.7244\n",
      "[63]\ttrain-mae:10.3072\ttest-mae:12.7124\n",
      "[64]\ttrain-mae:10.2641\ttest-mae:12.7016\n",
      "[65]\ttrain-mae:10.227\ttest-mae:12.6935\n",
      "[66]\ttrain-mae:10.1908\ttest-mae:12.6857\n",
      "[67]\ttrain-mae:10.155\ttest-mae:12.678\n",
      "[68]\ttrain-mae:10.1205\ttest-mae:12.6715\n",
      "[69]\ttrain-mae:10.0879\ttest-mae:12.6656\n",
      "[70]\ttrain-mae:10.056\ttest-mae:12.661\n",
      "[71]\ttrain-mae:10.0259\ttest-mae:12.6572\n",
      "[72]\ttrain-mae:9.99791\ttest-mae:12.6536\n",
      "[73]\ttrain-mae:9.97119\ttest-mae:12.6518\n",
      "[74]\ttrain-mae:9.9424\ttest-mae:12.6491\n",
      "[75]\ttrain-mae:9.91669\ttest-mae:12.6461\n",
      "[76]\ttrain-mae:9.89198\ttest-mae:12.6445\n",
      "[77]\ttrain-mae:9.86737\ttest-mae:12.6424\n",
      "[78]\ttrain-mae:9.84256\ttest-mae:12.6405\n",
      "[79]\ttrain-mae:9.81917\ttest-mae:12.6387\n",
      "[80]\ttrain-mae:9.79714\ttest-mae:12.6373\n",
      "[81]\ttrain-mae:9.77534\ttest-mae:12.6371\n",
      "[82]\ttrain-mae:9.75429\ttest-mae:12.6358\n",
      "[83]\ttrain-mae:9.73605\ttest-mae:12.6363\n",
      "[84]\ttrain-mae:9.71627\ttest-mae:12.6372\n",
      "[85]\ttrain-mae:9.6999\ttest-mae:12.6379\n",
      "[86]\ttrain-mae:9.68234\ttest-mae:12.639\n",
      "[87]\ttrain-mae:9.66384\ttest-mae:12.6397\n",
      "[88]\ttrain-mae:9.64695\ttest-mae:12.641\n",
      "[89]\ttrain-mae:9.63053\ttest-mae:12.6417\n",
      "[90]\ttrain-mae:9.6149\ttest-mae:12.6421\n",
      "[91]\ttrain-mae:9.60034\ttest-mae:12.6419\n",
      "[92]\ttrain-mae:9.58716\ttest-mae:12.6438\n",
      "[93]\ttrain-mae:9.57245\ttest-mae:12.6452\n",
      "[94]\ttrain-mae:9.55833\ttest-mae:12.6466\n",
      "[95]\ttrain-mae:9.54321\ttest-mae:12.6474\n",
      "[96]\ttrain-mae:9.5298\ttest-mae:12.6486\n",
      "[97]\ttrain-mae:9.5171\ttest-mae:12.65\n",
      "[98]\ttrain-mae:9.50407\ttest-mae:12.6515\n",
      "[99]\ttrain-mae:9.49121\ttest-mae:12.6533\n",
      "Optimal number of trees: 83\n",
      "Estimated error value: 12.6358\n"
     ]
    }
   ],
   "source": [
    "# performing cross-validation\n",
    "cv = xgb.cv(best_params, d_known, verbose_eval = verbose, stratified = False,\n",
    "            nfold = num_folds, show_stdv = False, num_boost_round = num_rounds)\n",
    "print(\"Optimal number of trees: \" + str(1 + cv[\"test-mae-mean\"].argmin()))\n",
    "print(\"Estimated error value: \"   + str(round(cv.loc[cv[\"test-mae-mean\"].argmin()][\"test-mae-mean\"], 4)))"
   ]
  },
  {
   "cell_type": "markdown",
   "metadata": {},
   "source": [
    "## 2.3. TRAINING THE OPTIMAL MODEL"
   ]
  },
  {
   "cell_type": "code",
   "execution_count": 36,
   "metadata": {},
   "outputs": [],
   "source": [
    "# train the optimal model\n",
    "xgb_best = xgb.train(best_params, d_known, num_boost_round = cv[\"test-mae-mean\"].argmin())"
   ]
  },
  {
   "cell_type": "code",
   "execution_count": 37,
   "metadata": {},
   "outputs": [],
   "source": [
    "# list feature names\n",
    "features = list(X_known.columns[1:])\n",
    "\n",
    "# function for exporting\n",
    "def create_feature_map(features):\n",
    "    outfile = open(\"../files/xgb.fmap\", \"w\")\n",
    "    i = 0\n",
    "    for feat in features:\n",
    "        outfile.write(\"{0}\\t{1}\\tq\\n\".format(i, feat))\n",
    "        i = i + 1\n",
    "    outfile.close()\n",
    "    \n",
    "# export feature names as a file\n",
    "create_feature_map(features)"
   ]
  },
  {
   "cell_type": "code",
   "execution_count": 38,
   "metadata": {},
   "outputs": [
    {
     "data": {
      "text/plain": [
       "Text(0,0.5,'')"
      ]
     },
     "execution_count": 38,
     "metadata": {},
     "output_type": "execute_result"
    },
    {
     "data": {
      "text/plain": [
       "<matplotlib.figure.Figure at 0x1a302e62e8>"
      ]
     },
     "metadata": {},
     "output_type": "display_data"
    },
    {
     "data": {
      "image/png": "[encoded data removed]",
      "text/plain": [
       "<matplotlib.figure.Figure at 0x1a2f3a8940>"
      ]
     },
     "metadata": {},
     "output_type": "display_data"
    },
    {
     "data": {
      "image/png": "[encoded data removed]",
      "text/plain": [
       "<matplotlib.figure.Figure at 0x1a302db828>"
      ]
     },
     "metadata": {},
     "output_type": "display_data"
    }
   ],
   "source": [
    "# extract feature importance\n",
    "import operator\n",
    "importance = xgb_best.get_fscore(fmap = \"../files/xgb.fmap\")\n",
    "importance = sorted(importance.items(), key = operator.itemgetter(1))\n",
    "\n",
    "# store in a dataframe\n",
    "var_imp = pd.DataFrame(importance, columns = [\"feature\", \"fscore\"])\n",
    "var_imp[\"fscore\"] = var_imp[\"fscore\"] / var_imp[\"fscore\"].sum()\n",
    "\n",
    "# create a plot\n",
    "plt.figure()\n",
    "var_imp.plot(kind = \"barh\", x = \"feature\", y = \"fscore\", legend = False, figsize = (10, 12))\n",
    "plt.title(\"XGBoost Feature Importance\")\n",
    "plt.xlabel(\"Relative Importance\")\n",
    "plt.ylabel(\"\")"
   ]
  },
  {
   "cell_type": "code",
   "execution_count": 39,
   "metadata": {},
   "outputs": [
    {
     "data": {
      "text/plain": [
       "array([7.120819 , 1.9248868, 0.7317763, ..., 0.6416302, 2.1476347,\n",
       "       0.6416302], dtype=float32)"
      ]
     },
     "execution_count": 39,
     "metadata": {},
     "output_type": "execute_result"
    }
   ],
   "source": [
    "# predicting the unknown data\n",
    "pred = xgb_best.predict(d_unknown)\n",
    "pred"
   ]
  },
  {
   "cell_type": "markdown",
   "metadata": {},
   "source": [
    "## 2.4. CREATING SUBMISSION"
   ]
  },
  {
   "cell_type": "code",
   "execution_count": 40,
   "metadata": {},
   "outputs": [],
   "source": [
    "# creating the data frame\n",
    "subm = pd.concat([X_unknown[\"ID\"].reset_index(drop = True), \n",
    "                  pd.Series(pred).reset_index(drop = True)], axis = 1)\n",
    "subm.columns = [\"ID\", \"demand\"]\n",
    "subm[\"ID\"] = subm[\"ID\"].astype(\"int\")\n",
    "subm = subm.sort_values(by = \"ID\")"
   ]
  },
  {
   "cell_type": "code",
   "execution_count": 41,
   "metadata": {},
   "outputs": [],
   "source": [
    "# smart edit 1: removing negative values\n",
    "subm.demand[subm.demand < 0] = 0"
   ]
  },
  {
   "cell_type": "code",
   "execution_count": 42,
   "metadata": {},
   "outputs": [],
   "source": [
    "# smart edit 2: impute zeros if lags 3-12 are zeros\n",
    "lags = [col for col in X_unknown.columns if \"lag\" in col]\n",
    "lags = X_unknown[lags]\n",
    "lags = lags.sum(axis = 1)\n",
    "lags = lags[lags == 0]\n",
    "null_ids = list(X_unknown.ix[lags.index].ID.astype(\"int\"))\n",
    "subm.demand[subm.ID.isin(null_ids)] = 0"
   ]
  },
  {
   "cell_type": "code",
   "execution_count": 43,
   "metadata": {},
   "outputs": [
    {
     "data": {
      "text/html": [
       "<div>\n",
       "<style scoped>\n",
       "    .dataframe tbody tr th:only-of-type {\n",
       "        vertical-align: middle;\n",
       "    }\n",
       "\n",
       "    .dataframe tbody tr th {\n",
       "        vertical-align: top;\n",
       "    }\n",
       "\n",
       "    .dataframe thead th {\n",
       "        text-align: right;\n",
       "    }\n",
       "</style>\n",
       "<table border=\"1\" class=\"dataframe\">\n",
       "  <thead>\n",
       "    <tr style=\"text-align: right;\">\n",
       "      <th></th>\n",
       "      <th>ID</th>\n",
       "      <th>demand</th>\n",
       "    </tr>\n",
       "  </thead>\n",
       "  <tbody>\n",
       "    <tr>\n",
       "      <th>0</th>\n",
       "      <td>0</td>\n",
       "      <td>7.120819</td>\n",
       "    </tr>\n",
       "    <tr>\n",
       "      <th>1</th>\n",
       "      <td>1</td>\n",
       "      <td>1.924887</td>\n",
       "    </tr>\n",
       "    <tr>\n",
       "      <th>2</th>\n",
       "      <td>2</td>\n",
       "      <td>0.731776</td>\n",
       "    </tr>\n",
       "    <tr>\n",
       "      <th>3</th>\n",
       "      <td>3</td>\n",
       "      <td>1.912377</td>\n",
       "    </tr>\n",
       "    <tr>\n",
       "      <th>4</th>\n",
       "      <td>4</td>\n",
       "      <td>0.802890</td>\n",
       "    </tr>\n",
       "  </tbody>\n",
       "</table>\n",
       "</div>"
      ],
      "text/plain": [
       "   ID    demand\n",
       "0   0  7.120819\n",
       "1   1  1.924887\n",
       "2   2  0.731776\n",
       "3   3  1.912377\n",
       "4   4  0.802890"
      ]
     },
     "execution_count": 43,
     "metadata": {},
     "output_type": "execute_result"
    }
   ],
   "source": [
    "# exporting\n",
    "subm.to_csv(\"../submissions/red3_xgb_10it_100cv.csv\", index = False)\n",
    "subm.head()"
   ]
  }
 ],
 "metadata": {
  "kernelspec": {
   "display_name": "Python 3",
   "language": "python",
   "name": "python3"
  },
  "language_info": {
   "codemirror_mode": {
    "name": "ipython",
    "version": 3
   },
   "file_extension": ".py",
   "mimetype": "text/x-python",
   "name": "python",
   "nbconvert_exporter": "python",
   "pygments_lexer": "ipython3",
   "version": "3.6.5"
  }
 },
 "nbformat": 4,
 "nbformat_minor": 2
}
