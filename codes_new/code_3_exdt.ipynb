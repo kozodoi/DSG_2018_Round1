{
 "cells": [
  {
   "cell_type": "markdown",
   "metadata": {},
   "source": [
    "# 1. SETTINGS"
   ]
  },
  {
   "cell_type": "code",
   "execution_count": 1,
   "metadata": {},
   "outputs": [],
   "source": [
    "# libraries\n",
    "import numpy as np\n",
    "import pandas as pd\n",
    "import matplotlib.pyplot as plt\n",
    "import seaborn as sns\n",
    "from sklearn.metrics import roc_auc_score\n",
    "from scipy.stats import spearmanr\n",
    "import random"
   ]
  },
  {
   "cell_type": "code",
   "execution_count": 2,
   "metadata": {},
   "outputs": [],
   "source": [
    "# garbage collection\n",
    "import gc\n",
    "gc.enable()"
   ]
  },
  {
   "cell_type": "code",
   "execution_count": 3,
   "metadata": {},
   "outputs": [],
   "source": [
    "# warnings\n",
    "import warnings\n",
    "warnings.filterwarnings(\"ignore\")"
   ]
  },
  {
   "cell_type": "code",
   "execution_count": 4,
   "metadata": {},
   "outputs": [],
   "source": [
    "# pandas options\n",
    "pd.set_option(\"display.max_columns\", None)"
   ]
  },
  {
   "cell_type": "markdown",
   "metadata": {},
   "source": [
    "# 2. IMPORT"
   ]
  },
  {
   "cell_type": "code",
   "execution_count": 5,
   "metadata": {},
   "outputs": [],
   "source": [
    "# data name (used for saving files too)\n",
    "data_name = \"data_v4_0_60_under\""
   ]
  },
  {
   "cell_type": "code",
   "execution_count": 6,
   "metadata": {},
   "outputs": [],
   "source": [
    "# import datasets\n",
    "data = pd.read_csv(\"../data/prepared/\" + str(data_name) + \".csv\", compression = \"gzip\")"
   ]
  },
  {
   "cell_type": "code",
   "execution_count": 7,
   "metadata": {},
   "outputs": [],
   "source": [
    "# data name (used for saving files too)\n",
    "data_name = \"data_v4_0_60_under_wlp_lm_bm\""
   ]
  },
  {
   "cell_type": "code",
   "execution_count": 8,
   "metadata": {},
   "outputs": [
    {
     "data": {
      "text/plain": [
       "(2668912, 45)"
      ]
     },
     "execution_count": 8,
     "metadata": {},
     "output_type": "execute_result"
    }
   ],
   "source": [
    "# drop high recency from train\n",
    "#data = data[(data.Week == 121) | (data.Recency2 < 27)]\n",
    "data = data[(data.Week == 121) | (data.Recency1 < data.Recency1.max())]\n",
    "data.shape"
   ]
  },
  {
   "cell_type": "markdown",
   "metadata": {},
   "source": [
    "# 3. PREPARATIONS"
   ]
  },
  {
   "cell_type": "markdown",
   "metadata": {},
   "source": [
    "### ADD MORE FEATURES"
   ]
  },
  {
   "cell_type": "code",
   "execution_count": 9,
   "metadata": {},
   "outputs": [
    {
     "name": "stdout",
     "output_type": "stream",
     "text": [
      "(2668912, 45)\n"
     ]
    }
   ],
   "source": [
    "# compute BuySell dummy\n",
    "data[\"Buy\"] = 0\n",
    "data[\"Buy\"][data.BuySell == \"Buy\"] = 1\n",
    "print(data.shape)"
   ]
  },
  {
   "cell_type": "code",
   "execution_count": 10,
   "metadata": {},
   "outputs": [],
   "source": [
    "### RF Ratios\n",
    "\n",
    "#data[\"R12_ratio\"] = data.Recency1 / data.Recency2\n",
    "#data[\"R13_ratio\"] = data.Recency1 / data.Recency3\n",
    "#data[\"R14_ratio\"] = data.Recency1 / data.Recency4\n",
    "#data[\"R56_ratio\"] = data.Recency5 / data.Recency6\n",
    "\n",
    "#data[\"F12_ratio\"] = data.Frequency1 / data.Frequency2\n",
    "#data[\"F13_ratio\"] = data.Frequency1 / data.Frequency3\n",
    "#data[\"F14_ratio\"] = data.Frequency1 / data.Frequency4\n",
    "#data[\"F56_ratio\"] = data.Frequency5 / data.Frequency6\n",
    "\n",
    "#data.shape"
   ]
  },
  {
   "cell_type": "code",
   "execution_count": 11,
   "metadata": {},
   "outputs": [
    {
     "name": "stdout",
     "output_type": "stream",
     "text": [
      "(2668912, 46)\n",
      "(2668912, 47)\n"
     ]
    }
   ],
   "source": [
    "# add last week sum (CUST)\n",
    "tmp = data.sort_values(by = [\"Week\"], ascending = True).groupby([\"CustomerIdx\", \"Week\"], as_index = True)\n",
    "tmp = tmp.CustomerInterest.sum().reset_index()\n",
    "tmp.columns = [\"CustomerIdx\", \"Week\", \"LastWeekCustSum\"]\n",
    "tmp[\"Week\"] = tmp.Week + 1\n",
    "data = data.merge(tmp, how = \"left\", on = [\"CustomerIdx\", \"Week\"])\n",
    "print(data.shape)\n",
    "\n",
    "# add last week sum (BOND)\n",
    "tmp = data.sort_values(by = [\"Week\"], ascending = True).groupby([\"IsinIdx\", \"Week\"], as_index = True)\n",
    "tmp = tmp.CustomerInterest.sum().reset_index()\n",
    "tmp.columns = [\"IsinIdx\", \"Week\", \"LastWeekBondSum\"]\n",
    "tmp[\"Week\"] = tmp.Week + 1\n",
    "data = data.merge(tmp, how = \"left\", on = [\"IsinIdx\", \"Week\"])\n",
    "print(data.shape)"
   ]
  },
  {
   "cell_type": "code",
   "execution_count": 12,
   "metadata": {},
   "outputs": [
    {
     "name": "stdout",
     "output_type": "stream",
     "text": [
      "(2668912, 48)\n",
      "(2668912, 49)\n"
     ]
    }
   ],
   "source": [
    "### ADD PRICE AND NOTIONAL\n",
    "\n",
    "tmp = pd.read_csv(\"../data/prepared/price_notional.csv\", compression = \"gzip\")\n",
    "\n",
    "# add last week price sum (CUST)\n",
    "tmp2 = tmp.sort_values(by = [\"Week\"], ascending = True).groupby([\"CustomerIdx\", \"Week\"], as_index = True)\n",
    "tmp2 = tmp2.Price.sum().reset_index()\n",
    "tmp2.columns = [\"CustomerIdx\", \"Week\", \"LastWeekCustPriceSum\"]\n",
    "tmp2[\"Week\"] = tmp2.Week + 1\n",
    "data = data.merge(tmp2, how = \"left\", on = [\"CustomerIdx\", \"Week\"])\n",
    "print(data.shape)\n",
    "\n",
    "# add last week notional sum (CUST)\n",
    "tmp2 = tmp.sort_values(by = [\"Week\"], ascending = True).groupby([\"CustomerIdx\", \"Week\"], as_index = True)\n",
    "tmp2 = tmp2.NotionalEUR.sum().reset_index()\n",
    "tmp2.columns = [\"CustomerIdx\", \"Week\", \"LastWeekCustNotionalSum\"]\n",
    "tmp2[\"Week\"] = tmp2.Week + 1\n",
    "data = data.merge(tmp2, how = \"left\", on = [\"CustomerIdx\", \"Week\"])\n",
    "print(data.shape)"
   ]
  },
  {
   "cell_type": "code",
   "execution_count": 13,
   "metadata": {},
   "outputs": [],
   "source": [
    "### ADD CUSTOMER INDICATORS\n",
    "\n",
    "#cust  = pd.read_csv(\"../data/raw/Customer.csv\")\n",
    "#cust.head()\n",
    "\n",
    "# create dummies for customers\n",
    "#cust_dummies = pd.concat([cust.CustomerIdx, pd.get_dummies(cust.Subsector)], axis = 1)\n",
    "\n",
    "# merge customer dummies\n",
    "#data = data.merge(cust_dummies, on = \"CustomerIdx\", how = \"left\")\n",
    "#print(data.shape)"
   ]
  },
  {
   "cell_type": "code",
   "execution_count": 14,
   "metadata": {},
   "outputs": [],
   "source": [
    "### ADD BOND FEATURES [V1]\n",
    "\n",
    "# load bond data\n",
    "#bond_stat = pd.read_csv(\"../data/prepared/bondstat1_AK\")\n",
    "\n",
    "# merge bond data\n",
    "#data = data.merge(bond_stat[[\"IsinIdx\", \"t\", \"timeOnMarket\", \"percentoflifeleft\"]], how = \"left\", on = \"IsinIdx\")\n",
    "#print(data.shape)"
   ]
  },
  {
   "cell_type": "code",
   "execution_count": 15,
   "metadata": {},
   "outputs": [],
   "source": [
    "### ADD NEW BOND FEATURES [V2]\n",
    "\n",
    "# load bond data\n",
    "#bond_stat = pd.read_csv(\"../data/prepared/bondstat2_AK\")\n",
    "\n",
    "# merge bond data\n",
    "#data = data.merge(bond_stat[[\"IsinIdx\", 'ymeansq', 'ymeancube', 'zmeansq', 'zmeancube',\n",
    "#                             'years_tomaturity', 'count', 'ratingspread', 'ratingZspread']], \n",
    "#                  how = \"left\", on = \"IsinIdx\")\n",
    "#print(data.shape)"
   ]
  },
  {
   "cell_type": "code",
   "execution_count": 16,
   "metadata": {},
   "outputs": [],
   "source": [
    "### ADD BOND FEATURES [V3]\n",
    "\n",
    "# load bond data\n",
    "#bond_stat = pd.read_csv(\"../data/prepared/bondstat3_AK\")\n",
    "#bond_stat.head()\n",
    "\n",
    "# merge bond data\n",
    "#data = data.merge(bond_stat[[\"IsinIdx\", 'predyield', 'predprice']], how = \"left\", on = \"IsinIdx\")\n",
    "#print(data.shape)"
   ]
  },
  {
   "cell_type": "code",
   "execution_count": 17,
   "metadata": {},
   "outputs": [],
   "source": [
    "### BOND-SPECIFIC FINANCIAL INDICATORS\n",
    "\n",
    "#bond  = pd.read_csv(\"../data/raw/Isin.csv\")\n",
    "\n",
    "# create bond dummies\n",
    "#bond_dummies = pd.concat([bond.IsinIdx,\n",
    "#                          pd.get_dummies(bond.IndustrySector), \n",
    "#                          pd.get_dummies(bond.Region),\n",
    "#                          pd.get_dummies(bond.MarketIssue), \n",
    "#                          pd.get_dummies(bond.CouponType)], axis = 1)\n",
    "\n",
    "# merge bond dummies\n",
    "#data = data.merge(bond_dummies, on = \"IsinIdx\", how = \"left\")\n",
    "#print(data.shape)"
   ]
  },
  {
   "cell_type": "code",
   "execution_count": 18,
   "metadata": {},
   "outputs": [],
   "source": [
    "### ADD NEW NIKITA FEATURES\n",
    "\n",
    "# import data\n",
    "#cust    = pd.read_csv(\"../data/prepared/cust_nik.csv\",   compression = \"gzip\")\n",
    "#bond    = pd.read_csv(\"../data/prepared/bond_nik.csv\",   compression = \"gzip\")\n",
    "#market  = pd.read_csv(\"../data/prepared/market_nik.csv\", compression = \"gzip\")\n",
    "\n",
    "#cust = cust[[\"CustomerIdx\", \"Region\"]]\n",
    "#bond = bond[[\"IsinIdx\", \"ActualMaturityDateKey\", \"IssueDateKey\"]]\n",
    "\n",
    "# merge data\n",
    "#print(data.shape)\n",
    "#data = data.merge(cust, on = \"CustomerIdx\", how = \"left\")\n",
    "#print(data.shape)\n",
    "#data = data.merge(bond, on = \"IsinIdx\", how = \"left\")\n",
    "#print(data.shape)\n",
    "#data = data.merge(market, on = [\"IsinIdx\", \"Week\"], how = \"left\")\n",
    "#print(data.shape)\n",
    "\n",
    "# compute day differences\n",
    "#data[\"ActualMaturityDateKey\"] = data[\"ActualMaturityDateKey\"] - data[\"Week\"]\n",
    "#data[\"IssueDateKey\"]          = data[\"IssueDateKey\"] - data[\"Week\"]"
   ]
  },
  {
   "cell_type": "code",
   "execution_count": 19,
   "metadata": {},
   "outputs": [
    {
     "name": "stdout",
     "output_type": "stream",
     "text": [
      "(2668912, 51)\n",
      "(2668912, 52)\n"
     ]
    }
   ],
   "source": [
    "### ADD LAST MONTH SUMS\n",
    "\n",
    "# merge month number\n",
    "tmp = pd.read_csv(\"../data/raw/Trade.csv\")[[\"TradeDateKey\"]]\n",
    "tmp = tmp.drop_duplicates()\n",
    "tmp[\"TradeDateKey\"] = pd.to_datetime(tmp[\"TradeDateKey\"], format = '%Y%m%d')\n",
    "tmp[\"Week\"] = (tmp.TradeDateKey.dt.year - 2016) * 52 + (tmp.TradeDateKey.dt.week)\n",
    "tmp[\"CumMonth\"] = (tmp.TradeDateKey.dt.year - 2016) * 12 + (tmp.TradeDateKey.dt.month)\n",
    "tmp = tmp[[\"Week\", \"CumMonth\"]]\n",
    "tmp = tmp.drop_duplicates()\n",
    "tmp = tmp.groupby(\"Week\").CumMonth.min().reset_index()\n",
    "data = data.merge(tmp, how = \"left\", on = \"Week\")\n",
    "data[\"CumMonth\"][data.Week == 121] = 28\n",
    "\n",
    "# add last month mean (CUST)\n",
    "tmp = data.sort_values(by = [\"CumMonth\"], ascending = True).groupby([\"CustomerIdx\", \"CumMonth\"], as_index = True)\n",
    "tmp = tmp.CustomerInterest.sum().reset_index()\n",
    "tmp.columns = [\"CustomerIdx\", \"CumMonth\", \"LastMonthCustSum\"]\n",
    "tmp[\"CumMonth\"] = tmp.CumMonth + 1\n",
    "data = data.merge(tmp, how = \"left\", on = [\"CustomerIdx\", \"CumMonth\"])\n",
    "print(data.shape)\n",
    "\n",
    "# add last month mean (BOND)\n",
    "tmp = data.sort_values(by = [\"CumMonth\"], ascending = True).groupby([\"IsinIdx\", \"CumMonth\"], as_index = True)\n",
    "tmp = tmp.CustomerInterest.sum().reset_index()\n",
    "tmp.columns = [\"IsinIdx\", \"CumMonth\", \"LastMonthBondSum\"]\n",
    "tmp[\"CumMonth\"] = tmp.CumMonth + 1\n",
    "data = data.merge(tmp, how = \"left\", on = [\"IsinIdx\", \"CumMonth\"])\n",
    "print(data.shape)\n",
    "\n",
    "# drop month\n",
    "del data[\"CumMonth\"]"
   ]
  },
  {
   "cell_type": "code",
   "execution_count": 20,
   "metadata": {},
   "outputs": [
    {
     "name": "stdout",
     "output_type": "stream",
     "text": [
      "(2668912, 54)\n"
     ]
    }
   ],
   "source": [
    "### ADD BOND MATURITY DATA\n",
    "\n",
    "# import\n",
    "bond = pd.read_csv(\"../data/prepared/data_bond_v1.csv\", compression = \"gzip\")\n",
    "bond = bond[['IsinIdx', 'MaturityWeek', 'IssueWeek']]\n",
    "\n",
    "# merge\n",
    "data = data.merge(bond, on = \"IsinIdx\", how = \"left\")\n",
    "\n",
    "# compute week differences\n",
    "data[\"MaturityWeek\"]    = data.MaturityWeek - data.Week\n",
    "data[\"IssueWeek\"]       = data.Week - data.IssueWeek\n",
    "data[\"MaturityPercent\"] = (data.Week - data.IssueWeek) / (data.MaturityWeek - data.IssueWeek)\n",
    "print(data.shape)"
   ]
  },
  {
   "cell_type": "code",
   "execution_count": 21,
   "metadata": {},
   "outputs": [],
   "source": [
    "### MERGE WEEKLY MACRO VARIABLES\n",
    "\n",
    "# import\n",
    "#fx1   = pd.read_csv(\"../data/prepared/data_fx1_v1.csv\",  compression = \"gzip\")\n",
    "#fx2   = pd.read_csv(\"../data/prepared/data_fx2_v1.csv\",  compression = \"gzip\")\n",
    "#ind1  = pd.read_csv(\"../data/prepared/data_ind1_v1.csv\", compression = \"gzip\")\n",
    "#ind2  = pd.read_csv(\"../data/prepared/data_ind2_v1.csv\", compression = \"gzip\")\n",
    "\n",
    "# merge currency\n",
    "#bond = pd.read_csv(\"../data/raw/Isin.csv\")\n",
    "#data = data.merge(bond[[\"IsinIdx\", \"Currency\"]], on = \"IsinIdx\")\n",
    "\n",
    "# merge macro data\n",
    "#data = data.merge(fx1,  how = 'left', on = [\"Week\",  \"Currency\"])\n",
    "#print(data.shape)\n",
    "#data = data.merge(fx2,  how = 'left', on = [\"Month\", \"Currency\"])\n",
    "#print(data.shape)\n",
    "#data = data.merge(ind1, how = 'left', on = \"Week\")\n",
    "#print(data.shape)\n",
    "#data = data.merge(ind2, how = 'left', on = \"Month\")\n",
    "#print(data.shape)\n",
    "\n",
    "# there are a few currencies for which we don't have info, e.g. CNH\n",
    "#data[fx1.columns] = data[fx1.columns].fillna(0)\n",
    "#data[fx2.columns] = data[fx2.columns].fillna(0)\n",
    "\n",
    "# remove currency\n",
    "#data.drop(\"Currency\", axis = 1, inplace = True)\n",
    "#print(data.shape)"
   ]
  },
  {
   "cell_type": "code",
   "execution_count": 22,
   "metadata": {},
   "outputs": [
    {
     "data": {
      "text/plain": [
       "'tmp = pd.read_csv(\"../data/raw/Trade.csv\")[[\"TradeDateKey\"]]\\ntmp = tmp.drop_duplicates()\\ntmp[\"TradeDateKey\"] = pd.to_datetime(tmp[\"TradeDateKey\"], format = \\'%Y%m%d\\')\\ntmp[\"Week\"] = (tmp.TradeDateKey.dt.year - 2016) * 52 + (tmp.TradeDateKey.dt.week)\\ntmp[\"CumMonth\"] = (tmp.TradeDateKey.dt.year - 2016) * 12 + (tmp.TradeDateKey.dt.month)\\ntmp = tmp[[\"Week\", \"CumMonth\"]]\\ntmp = tmp.drop_duplicates()\\ntmp = tmp.groupby(\"Week\").CumMonth.min().reset_index()\\ndata = data.merge(tmp, how = \"left\", on = \"Week\")\\ndata[\"CumMonth\"][data.Week == 121] = 28\\n\\n# import data\\nmarket  = pd.read_csv(\"../data/prepared/data_market_v1.csv\", compression = \"gzip\")\\nmarket = market.rename(columns = {\"Month\": \"CumMonth\"})\\nmarket.CumMonth = market.groupby([\"IsinIdx\", \"Week\"]).CumMonth.min()\\nkeep = market[[\"IsinIdx\", \"Week\", \"CumMonth\"]].drop_duplicates().index\\nmarket = market[market.index.isin(keep)]\\ndata = data.merge(market, how = \"left\", on = [\"IsinIdx\", \"Week\", \"CumMonth\"])\\ndel data[\"CumMonth\"]\\nprint(data.shape)'"
      ]
     },
     "execution_count": 22,
     "metadata": {},
     "output_type": "execute_result"
    }
   ],
   "source": [
    "### ADD NEW WEEKLY AND MONTHLY MARKET FEATURES\n",
    "\n",
    "# merge month number\n",
    "'''tmp = pd.read_csv(\"../data/raw/Trade.csv\")[[\"TradeDateKey\"]]\n",
    "tmp = tmp.drop_duplicates()\n",
    "tmp[\"TradeDateKey\"] = pd.to_datetime(tmp[\"TradeDateKey\"], format = '%Y%m%d')\n",
    "tmp[\"Week\"] = (tmp.TradeDateKey.dt.year - 2016) * 52 + (tmp.TradeDateKey.dt.week)\n",
    "tmp[\"CumMonth\"] = (tmp.TradeDateKey.dt.year - 2016) * 12 + (tmp.TradeDateKey.dt.month)\n",
    "tmp = tmp[[\"Week\", \"CumMonth\"]]\n",
    "tmp = tmp.drop_duplicates()\n",
    "tmp = tmp.groupby(\"Week\").CumMonth.min().reset_index()\n",
    "data = data.merge(tmp, how = \"left\", on = \"Week\")\n",
    "data[\"CumMonth\"][data.Week == 121] = 28\n",
    "\n",
    "# import data\n",
    "market  = pd.read_csv(\"../data/prepared/data_market_v1.csv\", compression = \"gzip\")\n",
    "market = market.rename(columns = {\"Month\": \"CumMonth\"})\n",
    "market.CumMonth = market.groupby([\"IsinIdx\", \"Week\"]).CumMonth.min()\n",
    "keep = market[[\"IsinIdx\", \"Week\", \"CumMonth\"]].drop_duplicates().index\n",
    "market = market[market.index.isin(keep)]\n",
    "data = data.merge(market, how = \"left\", on = [\"IsinIdx\", \"Week\", \"CumMonth\"])\n",
    "del data[\"CumMonth\"]\n",
    "print(data.shape)'''"
   ]
  },
  {
   "cell_type": "code",
   "execution_count": 23,
   "metadata": {},
   "outputs": [
    {
     "name": "stdout",
     "output_type": "stream",
     "text": [
      "(2668912, 65)\n"
     ]
    }
   ],
   "source": [
    "### FAVORITE FEATURES\n",
    "\n",
    "bond  = pd.read_csv(\"../data/raw/Isin.csv\")\n",
    "bond.loc[~bond.Seniority.isin([\"GOV\",\"SEC\",\"SEN\",\"SUB\"]), \"Seniority\"] = \"OTHER\"\n",
    "bond.loc[~bond.Activity.isin([\"Asia\",\"RETAIL\",\"GBP SAS\", \"ARGENTINIA\"]), \"Activity\"] = \"OTHER\"\n",
    "bond.loc[bond.Currency.isin(\n",
    "    (bond.groupby(\"Currency\").size())[bond.groupby(\"Currency\").size()<350].index.tolist()\n",
    "), \"Currency\"] = \"OTHER\"\n",
    "\n",
    "bond.loc[bond.CompositeRating.str.contains(\"C|D\"), \"CompositeRating\"] = \"LOWER\"\n",
    "# Risk captain\n",
    "bond.loc[bond.RiskCaptain.isin(\n",
    "    (bond.groupby(\"RiskCaptain\").size())[bond.groupby(\"RiskCaptain\").size()<200].index.tolist()\n",
    "), \"RiskCaptain\"] = \"OTHER\"\n",
    "\n",
    "bond = bond[[\n",
    "       'IsinIdx', \n",
    "       'Seniority', 'Currency', 'ActivityGroup', 'Region', 'Activity',\n",
    "       'RiskCaptain', 'Owner', 'CompositeRating', 'IndustrySector',\n",
    "       'IndustrySubgroup', 'MarketIssue', 'CouponType']]\n",
    "\n",
    "favor = pd.read_csv(\"../data/prepared/favorite_bonds_v2_60.csv\", compression = \"gzip\")\n",
    "\n",
    "data = data.merge(bond,  how = \"left\")\n",
    "data = data.merge(favor, how = \"left\")\n",
    "\n",
    "data[\"BuySell_mode\"][data.BuySell == data[\"BuySell_mode\"]] = 1\n",
    "data[\"BuySell_mode\"][data.BuySell_mode != 1] = 0\n",
    "\n",
    "data[\"IsinIdx_mode\"][data.IsinIdx == data[\"IsinIdx_mode\"]] = 1\n",
    "data[\"IsinIdx_mode\"][data.IsinIdx_mode != 1] = 0\n",
    "\n",
    "data[\"Seniority_mode\"][data.Seniority == data[\"Seniority_mode\"]] = 1\n",
    "data[\"Seniority_mode\"][data.Seniority_mode != 1] = 0\n",
    "\n",
    "data[\"ActivityGroup_mode\"][data.ActivityGroup == data[\"ActivityGroup_mode\"]] = 1\n",
    "data[\"ActivityGroup_mode\"][data.ActivityGroup_mode != 1] = 0\n",
    "\n",
    "data[\"Region_mode\"][data.Region == data[\"Region_mode\"]] = 1\n",
    "data[\"Region_mode\"][data.Region_mode != 1] = 0\n",
    "\n",
    "data[\"Activity_mode\"][data.Activity == data[\"Activity_mode\"]] = 1\n",
    "data[\"Activity_mode\"][data.Activity_mode != 1] = 0\n",
    "\n",
    "data[\"RiskCaptain_mode\"][data.RiskCaptain == data[\"RiskCaptain_mode\"]] = 1\n",
    "data[\"RiskCaptain_mode\"][data.RiskCaptain_mode != 1] = 0\n",
    "\n",
    "data[\"Owner_mode\"][data.Owner == data[\"Owner_mode\"]] = 1\n",
    "data[\"Owner_mode\"][data.Owner_mode != 1] = 0\n",
    "\n",
    "data[\"CompositeRating_mode\"][data.CompositeRating == data[\"CompositeRating_mode\"]] = 1\n",
    "data[\"CompositeRating_mode\"][data.CompositeRating_mode != 1] = 0\n",
    "\n",
    "data[\"Currency_mode\"][data.Currency == data[\"Currency_mode\"]] = 1\n",
    "data[\"Currency_mode\"][data.Currency_mode != 1] = 0\n",
    "\n",
    "data[\"CouponType_mode\"][data.CouponType == data[\"CouponType_mode\"]] = 1\n",
    "data[\"CouponType_mode\"][data.CouponType_mode != 1] = 0\n",
    "\n",
    "excluded_features = ['Seniority', 'Currency', 'ActivityGroup', 'Region', 'Activity',\n",
    "       'RiskCaptain', 'Owner', 'CompositeRating', 'IndustrySector',\n",
    "       'IndustrySubgroup', 'MarketIssue', 'CouponType']\n",
    "features = [var for var in data.columns if var not in excluded_features]\n",
    "data = data[features]\n",
    "\n",
    "print(data.shape)"
   ]
  },
  {
   "cell_type": "markdown",
   "metadata": {},
   "source": [
    "### CHECKS AND PREPARATIONS"
   ]
  },
  {
   "cell_type": "code",
   "execution_count": 24,
   "metadata": {},
   "outputs": [
    {
     "name": "stdout",
     "output_type": "stream",
     "text": [
      "Dimensions: (2668912, 65)\n"
     ]
    },
    {
     "data": {
      "text/html": [
       "<div>\n",
       "<style scoped>\n",
       "    .dataframe tbody tr th:only-of-type {\n",
       "        vertical-align: middle;\n",
       "    }\n",
       "\n",
       "    .dataframe tbody tr th {\n",
       "        vertical-align: top;\n",
       "    }\n",
       "\n",
       "    .dataframe thead th {\n",
       "        text-align: right;\n",
       "    }\n",
       "</style>\n",
       "<table border=\"1\" class=\"dataframe\">\n",
       "  <thead>\n",
       "    <tr style=\"text-align: right;\">\n",
       "      <th></th>\n",
       "      <th>PredictionIdx</th>\n",
       "      <th>CustomerIdx</th>\n",
       "      <th>IsinIdx</th>\n",
       "      <th>BuySell</th>\n",
       "      <th>CustomerInterest</th>\n",
       "      <th>Week</th>\n",
       "      <th>Recency1</th>\n",
       "      <th>Recency2</th>\n",
       "      <th>Recency3</th>\n",
       "      <th>Recency4</th>\n",
       "      <th>Recency5</th>\n",
       "      <th>Recency6</th>\n",
       "      <th>Recency1isLowerRecency2</th>\n",
       "      <th>Recency2isLowerRecency4</th>\n",
       "      <th>Frequency1</th>\n",
       "      <th>Frequency2</th>\n",
       "      <th>Frequency3</th>\n",
       "      <th>Frequency4</th>\n",
       "      <th>Frequency5</th>\n",
       "      <th>Frequency6</th>\n",
       "      <th>Frequecny1isLowerFrequency2</th>\n",
       "      <th>Frequecny2isLowerFrequency4</th>\n",
       "      <th>Month</th>\n",
       "      <th>Buy</th>\n",
       "      <th>Asset Managers &amp; Hedge Funds</th>\n",
       "      <th>Asset Owners</th>\n",
       "      <th>Banks and Intermediaries</th>\n",
       "      <th>Corporation</th>\n",
       "      <th>Official Institution - OI</th>\n",
       "      <th>Americas</th>\n",
       "      <th>Asia Pacific</th>\n",
       "      <th>Europe, Middle East and Africa</th>\n",
       "      <th>FLOW G10</th>\n",
       "      <th>FLOW LOCAL MARKET</th>\n",
       "      <th>SAS &amp; COVERED BONDS</th>\n",
       "      <th>NR</th>\n",
       "      <th>Currency_trend</th>\n",
       "      <th>MeanPrice</th>\n",
       "      <th>StdPrice</th>\n",
       "      <th>MeanYield</th>\n",
       "      <th>StdYield</th>\n",
       "      <th>MeanZScore</th>\n",
       "      <th>StdZScore</th>\n",
       "      <th>YieldMarktDelta</th>\n",
       "      <th>ZScoreMarktDelta</th>\n",
       "      <th>LastWeekCustSum</th>\n",
       "      <th>LastWeekBondSum</th>\n",
       "      <th>LastWeekCustPriceSum</th>\n",
       "      <th>LastWeekCustNotionalSum</th>\n",
       "      <th>LastMonthCustSum</th>\n",
       "      <th>LastMonthBondSum</th>\n",
       "      <th>MaturityWeek</th>\n",
       "      <th>IssueWeek</th>\n",
       "      <th>MaturityPercent</th>\n",
       "      <th>IsinIdx_mode</th>\n",
       "      <th>BuySell_mode</th>\n",
       "      <th>Seniority_mode</th>\n",
       "      <th>Currency_mode</th>\n",
       "      <th>ActivityGroup_mode</th>\n",
       "      <th>Region_mode</th>\n",
       "      <th>Activity_mode</th>\n",
       "      <th>RiskCaptain_mode</th>\n",
       "      <th>Owner_mode</th>\n",
       "      <th>CompositeRating_mode</th>\n",
       "      <th>CouponType_mode</th>\n",
       "    </tr>\n",
       "  </thead>\n",
       "  <tbody>\n",
       "    <tr>\n",
       "      <th>0</th>\n",
       "      <td>NaN</td>\n",
       "      <td>2554</td>\n",
       "      <td>12022</td>\n",
       "      <td>Sell</td>\n",
       "      <td>0.0</td>\n",
       "      <td>68</td>\n",
       "      <td>2.0</td>\n",
       "      <td>2.0</td>\n",
       "      <td>1.0</td>\n",
       "      <td>1.0</td>\n",
       "      <td>2.0</td>\n",
       "      <td>2.0</td>\n",
       "      <td>1</td>\n",
       "      <td>0</td>\n",
       "      <td>0.014925</td>\n",
       "      <td>0.029851</td>\n",
       "      <td>43.716418</td>\n",
       "      <td>80.791045</td>\n",
       "      <td>0.134328</td>\n",
       "      <td>0.208955</td>\n",
       "      <td>1</td>\n",
       "      <td>1</td>\n",
       "      <td>1</td>\n",
       "      <td>0</td>\n",
       "      <td>1</td>\n",
       "      <td>0</td>\n",
       "      <td>0</td>\n",
       "      <td>0</td>\n",
       "      <td>0</td>\n",
       "      <td>0</td>\n",
       "      <td>0</td>\n",
       "      <td>1</td>\n",
       "      <td>0</td>\n",
       "      <td>1</td>\n",
       "      <td>0</td>\n",
       "      <td>0</td>\n",
       "      <td>1.00000</td>\n",
       "      <td>117.319623</td>\n",
       "      <td>4.613998</td>\n",
       "      <td>4.468827</td>\n",
       "      <td>0.354249</td>\n",
       "      <td>2.207733</td>\n",
       "      <td>0.545221</td>\n",
       "      <td>1.418700</td>\n",
       "      <td>0.584150</td>\n",
       "      <td>27.0</td>\n",
       "      <td>0.0</td>\n",
       "      <td>5.224483e+03</td>\n",
       "      <td>7.224512e+07</td>\n",
       "      <td>173.0</td>\n",
       "      <td>1.0</td>\n",
       "      <td>930</td>\n",
       "      <td>630</td>\n",
       "      <td>-1.873333</td>\n",
       "      <td>0.0</td>\n",
       "      <td>1</td>\n",
       "      <td>1</td>\n",
       "      <td>0</td>\n",
       "      <td>0</td>\n",
       "      <td>0</td>\n",
       "      <td>1</td>\n",
       "      <td>0</td>\n",
       "      <td>0</td>\n",
       "      <td>0</td>\n",
       "      <td>1</td>\n",
       "    </tr>\n",
       "    <tr>\n",
       "      <th>1</th>\n",
       "      <td>NaN</td>\n",
       "      <td>1997</td>\n",
       "      <td>23143</td>\n",
       "      <td>Sell</td>\n",
       "      <td>0.0</td>\n",
       "      <td>112</td>\n",
       "      <td>71.0</td>\n",
       "      <td>71.0</td>\n",
       "      <td>1.0</td>\n",
       "      <td>1.0</td>\n",
       "      <td>1.0</td>\n",
       "      <td>1.0</td>\n",
       "      <td>1</td>\n",
       "      <td>0</td>\n",
       "      <td>0.009009</td>\n",
       "      <td>0.009009</td>\n",
       "      <td>4.333333</td>\n",
       "      <td>6.252252</td>\n",
       "      <td>0.990991</td>\n",
       "      <td>2.315315</td>\n",
       "      <td>1</td>\n",
       "      <td>1</td>\n",
       "      <td>3</td>\n",
       "      <td>0</td>\n",
       "      <td>0</td>\n",
       "      <td>1</td>\n",
       "      <td>0</td>\n",
       "      <td>0</td>\n",
       "      <td>0</td>\n",
       "      <td>0</td>\n",
       "      <td>0</td>\n",
       "      <td>1</td>\n",
       "      <td>1</td>\n",
       "      <td>0</td>\n",
       "      <td>0</td>\n",
       "      <td>0</td>\n",
       "      <td>-0.00752</td>\n",
       "      <td>102.526643</td>\n",
       "      <td>8.867004</td>\n",
       "      <td>2.470258</td>\n",
       "      <td>2.011795</td>\n",
       "      <td>2.344190</td>\n",
       "      <td>1.979572</td>\n",
       "      <td>-0.579869</td>\n",
       "      <td>0.720607</td>\n",
       "      <td>0.0</td>\n",
       "      <td>5.0</td>\n",
       "      <td>1.000099e+06</td>\n",
       "      <td>1.400000e+06</td>\n",
       "      <td>14.0</td>\n",
       "      <td>7.0</td>\n",
       "      <td>202</td>\n",
       "      <td>161</td>\n",
       "      <td>-1.195122</td>\n",
       "      <td>0.0</td>\n",
       "      <td>1</td>\n",
       "      <td>1</td>\n",
       "      <td>1</td>\n",
       "      <td>1</td>\n",
       "      <td>1</td>\n",
       "      <td>1</td>\n",
       "      <td>1</td>\n",
       "      <td>0</td>\n",
       "      <td>0</td>\n",
       "      <td>1</td>\n",
       "    </tr>\n",
       "    <tr>\n",
       "      <th>2</th>\n",
       "      <td>NaN</td>\n",
       "      <td>2743</td>\n",
       "      <td>5570</td>\n",
       "      <td>Buy</td>\n",
       "      <td>0.0</td>\n",
       "      <td>99</td>\n",
       "      <td>88.0</td>\n",
       "      <td>88.0</td>\n",
       "      <td>1.0</td>\n",
       "      <td>1.0</td>\n",
       "      <td>6.0</td>\n",
       "      <td>4.0</td>\n",
       "      <td>1</td>\n",
       "      <td>0</td>\n",
       "      <td>0.020408</td>\n",
       "      <td>0.020408</td>\n",
       "      <td>62.642857</td>\n",
       "      <td>106.000000</td>\n",
       "      <td>0.775510</td>\n",
       "      <td>1.387755</td>\n",
       "      <td>1</td>\n",
       "      <td>1</td>\n",
       "      <td>5</td>\n",
       "      <td>1</td>\n",
       "      <td>1</td>\n",
       "      <td>0</td>\n",
       "      <td>0</td>\n",
       "      <td>0</td>\n",
       "      <td>0</td>\n",
       "      <td>0</td>\n",
       "      <td>0</td>\n",
       "      <td>1</td>\n",
       "      <td>1</td>\n",
       "      <td>0</td>\n",
       "      <td>0</td>\n",
       "      <td>0</td>\n",
       "      <td>1.00000</td>\n",
       "      <td>102.627270</td>\n",
       "      <td>2.228127</td>\n",
       "      <td>3.838438</td>\n",
       "      <td>0.347182</td>\n",
       "      <td>1.876163</td>\n",
       "      <td>0.581684</td>\n",
       "      <td>0.788311</td>\n",
       "      <td>0.252580</td>\n",
       "      <td>57.0</td>\n",
       "      <td>0.0</td>\n",
       "      <td>9.977553e+03</td>\n",
       "      <td>1.362031e+08</td>\n",
       "      <td>441.0</td>\n",
       "      <td>2.0</td>\n",
       "      <td>359</td>\n",
       "      <td>161</td>\n",
       "      <td>-0.313131</td>\n",
       "      <td>0.0</td>\n",
       "      <td>1</td>\n",
       "      <td>0</td>\n",
       "      <td>1</td>\n",
       "      <td>1</td>\n",
       "      <td>1</td>\n",
       "      <td>1</td>\n",
       "      <td>0</td>\n",
       "      <td>0</td>\n",
       "      <td>0</td>\n",
       "      <td>1</td>\n",
       "    </tr>\n",
       "    <tr>\n",
       "      <th>3</th>\n",
       "      <td>NaN</td>\n",
       "      <td>1307</td>\n",
       "      <td>23023</td>\n",
       "      <td>Buy</td>\n",
       "      <td>0.0</td>\n",
       "      <td>91</td>\n",
       "      <td>82.0</td>\n",
       "      <td>82.0</td>\n",
       "      <td>1.0</td>\n",
       "      <td>1.0</td>\n",
       "      <td>20.0</td>\n",
       "      <td>2.0</td>\n",
       "      <td>1</td>\n",
       "      <td>0</td>\n",
       "      <td>0.011111</td>\n",
       "      <td>0.011111</td>\n",
       "      <td>1.288889</td>\n",
       "      <td>2.233333</td>\n",
       "      <td>0.500000</td>\n",
       "      <td>0.977778</td>\n",
       "      <td>1</td>\n",
       "      <td>1</td>\n",
       "      <td>7</td>\n",
       "      <td>1</td>\n",
       "      <td>0</td>\n",
       "      <td>0</td>\n",
       "      <td>1</td>\n",
       "      <td>0</td>\n",
       "      <td>0</td>\n",
       "      <td>0</td>\n",
       "      <td>0</td>\n",
       "      <td>1</td>\n",
       "      <td>1</td>\n",
       "      <td>0</td>\n",
       "      <td>0</td>\n",
       "      <td>0</td>\n",
       "      <td>-0.00294</td>\n",
       "      <td>101.017280</td>\n",
       "      <td>0.204407</td>\n",
       "      <td>-0.036528</td>\n",
       "      <td>0.193049</td>\n",
       "      <td>0.161060</td>\n",
       "      <td>0.150582</td>\n",
       "      <td>-3.086655</td>\n",
       "      <td>-1.462523</td>\n",
       "      <td>1.0</td>\n",
       "      <td>0.0</td>\n",
       "      <td>5.227220e+02</td>\n",
       "      <td>3.768715e+06</td>\n",
       "      <td>2.0</td>\n",
       "      <td>0.0</td>\n",
       "      <td>60</td>\n",
       "      <td>148</td>\n",
       "      <td>0.647727</td>\n",
       "      <td>0.0</td>\n",
       "      <td>1</td>\n",
       "      <td>1</td>\n",
       "      <td>1</td>\n",
       "      <td>1</td>\n",
       "      <td>1</td>\n",
       "      <td>1</td>\n",
       "      <td>0</td>\n",
       "      <td>0</td>\n",
       "      <td>0</td>\n",
       "      <td>1</td>\n",
       "    </tr>\n",
       "    <tr>\n",
       "      <th>4</th>\n",
       "      <td>NaN</td>\n",
       "      <td>2107</td>\n",
       "      <td>5204</td>\n",
       "      <td>Sell</td>\n",
       "      <td>0.0</td>\n",
       "      <td>73</td>\n",
       "      <td>2.0</td>\n",
       "      <td>2.0</td>\n",
       "      <td>1.0</td>\n",
       "      <td>1.0</td>\n",
       "      <td>1.0</td>\n",
       "      <td>1.0</td>\n",
       "      <td>1</td>\n",
       "      <td>0</td>\n",
       "      <td>0.027778</td>\n",
       "      <td>0.027778</td>\n",
       "      <td>9.500000</td>\n",
       "      <td>21.541667</td>\n",
       "      <td>0.319444</td>\n",
       "      <td>0.777778</td>\n",
       "      <td>1</td>\n",
       "      <td>1</td>\n",
       "      <td>12</td>\n",
       "      <td>0</td>\n",
       "      <td>1</td>\n",
       "      <td>0</td>\n",
       "      <td>0</td>\n",
       "      <td>0</td>\n",
       "      <td>0</td>\n",
       "      <td>1</td>\n",
       "      <td>0</td>\n",
       "      <td>0</td>\n",
       "      <td>0</td>\n",
       "      <td>1</td>\n",
       "      <td>0</td>\n",
       "      <td>0</td>\n",
       "      <td>1.00000</td>\n",
       "      <td>110.170463</td>\n",
       "      <td>2.443280</td>\n",
       "      <td>5.958544</td>\n",
       "      <td>0.341985</td>\n",
       "      <td>3.637930</td>\n",
       "      <td>0.340257</td>\n",
       "      <td>2.908417</td>\n",
       "      <td>2.014346</td>\n",
       "      <td>3.0</td>\n",
       "      <td>4.0</td>\n",
       "      <td>5.547505e+03</td>\n",
       "      <td>3.071459e+07</td>\n",
       "      <td>27.0</td>\n",
       "      <td>1.0</td>\n",
       "      <td>464</td>\n",
       "      <td>6</td>\n",
       "      <td>0.146288</td>\n",
       "      <td>0.0</td>\n",
       "      <td>0</td>\n",
       "      <td>0</td>\n",
       "      <td>1</td>\n",
       "      <td>0</td>\n",
       "      <td>1</td>\n",
       "      <td>1</td>\n",
       "      <td>0</td>\n",
       "      <td>0</td>\n",
       "      <td>0</td>\n",
       "      <td>1</td>\n",
       "    </tr>\n",
       "  </tbody>\n",
       "</table>\n",
       "</div>"
      ],
      "text/plain": [
       "  PredictionIdx  CustomerIdx  IsinIdx BuySell  CustomerInterest  Week  \\\n",
       "0           NaN         2554    12022    Sell               0.0    68   \n",
       "1           NaN         1997    23143    Sell               0.0   112   \n",
       "2           NaN         2743     5570     Buy               0.0    99   \n",
       "3           NaN         1307    23023     Buy               0.0    91   \n",
       "4           NaN         2107     5204    Sell               0.0    73   \n",
       "\n",
       "   Recency1  Recency2  Recency3  Recency4  Recency5  Recency6  \\\n",
       "0       2.0       2.0       1.0       1.0       2.0       2.0   \n",
       "1      71.0      71.0       1.0       1.0       1.0       1.0   \n",
       "2      88.0      88.0       1.0       1.0       6.0       4.0   \n",
       "3      82.0      82.0       1.0       1.0      20.0       2.0   \n",
       "4       2.0       2.0       1.0       1.0       1.0       1.0   \n",
       "\n",
       "   Recency1isLowerRecency2  Recency2isLowerRecency4  Frequency1  Frequency2  \\\n",
       "0                        1                        0    0.014925    0.029851   \n",
       "1                        1                        0    0.009009    0.009009   \n",
       "2                        1                        0    0.020408    0.020408   \n",
       "3                        1                        0    0.011111    0.011111   \n",
       "4                        1                        0    0.027778    0.027778   \n",
       "\n",
       "   Frequency3  Frequency4  Frequency5  Frequency6  \\\n",
       "0   43.716418   80.791045    0.134328    0.208955   \n",
       "1    4.333333    6.252252    0.990991    2.315315   \n",
       "2   62.642857  106.000000    0.775510    1.387755   \n",
       "3    1.288889    2.233333    0.500000    0.977778   \n",
       "4    9.500000   21.541667    0.319444    0.777778   \n",
       "\n",
       "   Frequecny1isLowerFrequency2  Frequecny2isLowerFrequency4  Month  Buy  \\\n",
       "0                            1                            1      1    0   \n",
       "1                            1                            1      3    0   \n",
       "2                            1                            1      5    1   \n",
       "3                            1                            1      7    1   \n",
       "4                            1                            1     12    0   \n",
       "\n",
       "   Asset Managers & Hedge Funds  Asset Owners  Banks and Intermediaries  \\\n",
       "0                             1             0                         0   \n",
       "1                             0             1                         0   \n",
       "2                             1             0                         0   \n",
       "3                             0             0                         1   \n",
       "4                             1             0                         0   \n",
       "\n",
       "   Corporation  Official Institution - OI  Americas  Asia Pacific  \\\n",
       "0            0                          0         0             0   \n",
       "1            0                          0         0             0   \n",
       "2            0                          0         0             0   \n",
       "3            0                          0         0             0   \n",
       "4            0                          0         1             0   \n",
       "\n",
       "   Europe, Middle East and Africa  FLOW G10  FLOW LOCAL MARKET  \\\n",
       "0                               1         0                  1   \n",
       "1                               1         1                  0   \n",
       "2                               1         1                  0   \n",
       "3                               1         1                  0   \n",
       "4                               0         0                  1   \n",
       "\n",
       "   SAS & COVERED BONDS  NR  Currency_trend   MeanPrice  StdPrice  MeanYield  \\\n",
       "0                    0   0         1.00000  117.319623  4.613998   4.468827   \n",
       "1                    0   0        -0.00752  102.526643  8.867004   2.470258   \n",
       "2                    0   0         1.00000  102.627270  2.228127   3.838438   \n",
       "3                    0   0        -0.00294  101.017280  0.204407  -0.036528   \n",
       "4                    0   0         1.00000  110.170463  2.443280   5.958544   \n",
       "\n",
       "   StdYield  MeanZScore  StdZScore  YieldMarktDelta  ZScoreMarktDelta  \\\n",
       "0  0.354249    2.207733   0.545221         1.418700          0.584150   \n",
       "1  2.011795    2.344190   1.979572        -0.579869          0.720607   \n",
       "2  0.347182    1.876163   0.581684         0.788311          0.252580   \n",
       "3  0.193049    0.161060   0.150582        -3.086655         -1.462523   \n",
       "4  0.341985    3.637930   0.340257         2.908417          2.014346   \n",
       "\n",
       "   LastWeekCustSum  LastWeekBondSum  LastWeekCustPriceSum  \\\n",
       "0             27.0              0.0          5.224483e+03   \n",
       "1              0.0              5.0          1.000099e+06   \n",
       "2             57.0              0.0          9.977553e+03   \n",
       "3              1.0              0.0          5.227220e+02   \n",
       "4              3.0              4.0          5.547505e+03   \n",
       "\n",
       "   LastWeekCustNotionalSum  LastMonthCustSum  LastMonthBondSum  MaturityWeek  \\\n",
       "0             7.224512e+07             173.0               1.0           930   \n",
       "1             1.400000e+06              14.0               7.0           202   \n",
       "2             1.362031e+08             441.0               2.0           359   \n",
       "3             3.768715e+06               2.0               0.0            60   \n",
       "4             3.071459e+07              27.0               1.0           464   \n",
       "\n",
       "   IssueWeek  MaturityPercent  IsinIdx_mode BuySell_mode Seniority_mode  \\\n",
       "0        630        -1.873333           0.0            1              1   \n",
       "1        161        -1.195122           0.0            1              1   \n",
       "2        161        -0.313131           0.0            1              0   \n",
       "3        148         0.647727           0.0            1              1   \n",
       "4          6         0.146288           0.0            0              0   \n",
       "\n",
       "  Currency_mode ActivityGroup_mode Region_mode Activity_mode RiskCaptain_mode  \\\n",
       "0             0                  0           0             1                0   \n",
       "1             1                  1           1             1                1   \n",
       "2             1                  1           1             1                0   \n",
       "3             1                  1           1             1                0   \n",
       "4             1                  0           1             1                0   \n",
       "\n",
       "  Owner_mode CompositeRating_mode CouponType_mode  \n",
       "0          0                    0               1  \n",
       "1          0                    0               1  \n",
       "2          0                    0               1  \n",
       "3          0                    0               1  \n",
       "4          0                    0               1  "
      ]
     },
     "execution_count": 24,
     "metadata": {},
     "output_type": "execute_result"
    }
   ],
   "source": [
    "# check data\n",
    "print(\"Dimensions:\", data.shape)\n",
    "data.head()"
   ]
  },
  {
   "cell_type": "code",
   "execution_count": 25,
   "metadata": {},
   "outputs": [
    {
     "data": {
      "text/plain": [
       "PredictionIdx              2184154\n",
       "CustomerInterest            484758\n",
       "MeanPrice                   206495\n",
       "StdPrice                    206601\n",
       "MeanYield                   206495\n",
       "StdYield                    206601\n",
       "MeanZScore                  206495\n",
       "StdZScore                   206601\n",
       "YieldMarktDelta             206495\n",
       "ZScoreMarktDelta            206495\n",
       "LastWeekCustSum              53095\n",
       "LastWeekBondSum             439429\n",
       "LastWeekCustPriceSum        159194\n",
       "LastWeekCustNotionalSum     159194\n",
       "LastMonthCustSum             32568\n",
       "LastMonthBondSum            122039\n",
       "MaturityPercent                  3\n",
       "dtype: int64"
      ]
     },
     "execution_count": 25,
     "metadata": {},
     "output_type": "execute_result"
    }
   ],
   "source": [
    "# check NA\n",
    "nas = data.isnull().sum()\n",
    "nas[nas > 0]"
   ]
  },
  {
   "cell_type": "code",
   "execution_count": 26,
   "metadata": {},
   "outputs": [],
   "source": [
    "data.replace([np.inf, -np.inf], np.nan, inplace=True)"
   ]
  },
  {
   "cell_type": "code",
   "execution_count": 27,
   "metadata": {},
   "outputs": [],
   "source": [
    "col_with_na = ['MeanPrice', 'StdPrice',\n",
    "       'MeanYield', 'StdYield', 'MeanZScore', 'StdZScore', 'YieldMarktDelta',\n",
    "       'ZScoreMarktDelta']\n",
    "col_zero =  ['LastWeekCustSum', 'LastWeekBondSum',\n",
    "       'LastWeekCustPriceSum', 'LastWeekCustNotionalSum', 'LastMonthCustSum',\n",
    "       'LastMonthBondSum', 'MaturityPercent']"
   ]
  },
  {
   "cell_type": "code",
   "execution_count": 28,
   "metadata": {},
   "outputs": [],
   "source": [
    "for col in col_with_na:\n",
    "    data[col].fillna(np.mean(data[col]), inplace=True)\n",
    "    \n",
    "for col in col_zero:\n",
    "    data[col].fillna(np.mean(data[col]), inplace=True)"
   ]
  },
  {
   "cell_type": "code",
   "execution_count": 29,
   "metadata": {},
   "outputs": [
    {
     "data": {
      "text/plain": [
       "58"
      ]
     },
     "execution_count": 29,
     "metadata": {},
     "output_type": "execute_result"
    }
   ],
   "source": [
    "# list of features\n",
    "excluded_features = [\"PredictionIdx\", \"CustomerIdx\", \"IsinIdx\", \"BuySell\", \"CustomerInterest\",\n",
    "                     \"Frequecny1isLowerFrequency2\", \"Frequecny2isLowerFrequency4\"]\n",
    "features = [var for var in data.columns if var not in excluded_features]\n",
    "len(features)"
   ]
  },
  {
   "cell_type": "code",
   "execution_count": 30,
   "metadata": {},
   "outputs": [],
   "source": [
    "### DATA PARTITIONING\n",
    "\n",
    "# training\n",
    "X_train = data.loc[data.Week < 120]\n",
    "y_train = data.loc[data.Week < 120].CustomerInterest\n",
    "\n",
    "# validation\n",
    "X_valid = data.loc[data.Week == 120]\n",
    "y_valid = data.loc[data.Week == 120].CustomerInterest\n",
    "\n",
    "# test set\n",
    "test = data.loc[data.Week == 121]"
   ]
  },
  {
   "cell_type": "code",
   "execution_count": 31,
   "metadata": {},
   "outputs": [
    {
     "data": {
      "text/plain": [
       "CustomerInterest    484758\n",
       "dtype: int64"
      ]
     },
     "execution_count": 31,
     "metadata": {},
     "output_type": "execute_result"
    }
   ],
   "source": [
    "# check NA in test\n",
    "nas = test.isnull().sum()\n",
    "nas[nas > 0]"
   ]
  },
  {
   "cell_type": "code",
   "execution_count": 32,
   "metadata": {},
   "outputs": [
    {
     "data": {
      "text/plain": [
       "PredictionIdx    40437\n",
       "dtype: int64"
      ]
     },
     "execution_count": 32,
     "metadata": {},
     "output_type": "execute_result"
    }
   ],
   "source": [
    "nas = X_valid.isnull().sum()\n",
    "nas[nas > 0]"
   ]
  },
  {
   "cell_type": "markdown",
   "metadata": {},
   "source": [
    "# 4. MODELING - STAGE 1"
   ]
  },
  {
   "cell_type": "code",
   "execution_count": 33,
   "metadata": {},
   "outputs": [],
   "source": [
    "from sklearn.ensemble import ExtraTreesClassifier"
   ]
  },
  {
   "cell_type": "code",
   "execution_count": 34,
   "metadata": {},
   "outputs": [],
   "source": [
    "num_iters=3000\n",
    "nj = 20"
   ]
  },
  {
   "cell_type": "code",
   "execution_count": 35,
   "metadata": {},
   "outputs": [],
   "source": [
    "rf = ExtraTreesClassifier(n_estimators=num_iters, n_jobs=nj, verbose=1)"
   ]
  },
  {
   "cell_type": "code",
   "execution_count": 36,
   "metadata": {},
   "outputs": [
    {
     "name": "stderr",
     "output_type": "stream",
     "text": [
      "[Parallel(n_jobs=20)]: Done  10 tasks      | elapsed:   54.8s\n",
      "[Parallel(n_jobs=20)]: Done 160 tasks      | elapsed:  7.5min\n",
      "[Parallel(n_jobs=20)]: Done 410 tasks      | elapsed: 19.0min\n",
      "[Parallel(n_jobs=20)]: Done 760 tasks      | elapsed: 34.8min\n",
      "[Parallel(n_jobs=20)]: Done 1210 tasks      | elapsed: 55.2min\n",
      "[Parallel(n_jobs=20)]: Done 1760 tasks      | elapsed: 80.2min\n",
      "[Parallel(n_jobs=20)]: Done 2410 tasks      | elapsed: 109.9min\n",
      "[Parallel(n_jobs=20)]: Done 3000 out of 3000 | elapsed: 137.0min finished\n"
     ]
    },
    {
     "data": {
      "text/plain": [
       "ExtraTreesClassifier(bootstrap=False, class_weight=None, criterion='gini',\n",
       "           max_depth=None, max_features='auto', max_leaf_nodes=None,\n",
       "           min_impurity_decrease=0.0, min_impurity_split=None,\n",
       "           min_samples_leaf=1, min_samples_split=2,\n",
       "           min_weight_fraction_leaf=0.0, n_estimators=3000, n_jobs=20,\n",
       "           oob_score=False, random_state=None, verbose=1, warm_start=False)"
      ]
     },
     "execution_count": 36,
     "metadata": {},
     "output_type": "execute_result"
    }
   ],
   "source": [
    "rf.fit(X_train[features], y_train)"
   ]
  },
  {
   "cell_type": "code",
   "execution_count": 37,
   "metadata": {},
   "outputs": [
    {
     "name": "stderr",
     "output_type": "stream",
     "text": [
      "[Parallel(n_jobs=20)]: Done  10 tasks      | elapsed:    0.0s\n",
      "[Parallel(n_jobs=20)]: Done 160 tasks      | elapsed:    0.8s\n",
      "[Parallel(n_jobs=20)]: Done 410 tasks      | elapsed:    2.4s\n",
      "[Parallel(n_jobs=20)]: Done 760 tasks      | elapsed:    4.9s\n",
      "[Parallel(n_jobs=20)]: Done 1210 tasks      | elapsed:    8.0s\n",
      "[Parallel(n_jobs=20)]: Done 1760 tasks      | elapsed:   11.7s\n",
      "[Parallel(n_jobs=20)]: Done 2410 tasks      | elapsed:   16.9s\n",
      "[Parallel(n_jobs=20)]: Done 3000 out of 3000 | elapsed:   21.1s finished\n",
      "[Parallel(n_jobs=20)]: Done  10 tasks      | elapsed:    1.3s\n",
      "[Parallel(n_jobs=20)]: Done 160 tasks      | elapsed:   10.6s\n",
      "[Parallel(n_jobs=20)]: Done 410 tasks      | elapsed:   26.1s\n",
      "[Parallel(n_jobs=20)]: Done 760 tasks      | elapsed:   47.0s\n",
      "[Parallel(n_jobs=20)]: Done 1210 tasks      | elapsed:  1.2min\n",
      "[Parallel(n_jobs=20)]: Done 1760 tasks      | elapsed:  1.8min\n",
      "[Parallel(n_jobs=20)]: Done 2410 tasks      | elapsed:  2.4min\n",
      "[Parallel(n_jobs=20)]: Done 3000 out of 3000 | elapsed:  3.0min finished\n"
     ]
    }
   ],
   "source": [
    "##### PREDICTION\n",
    "\n",
    "### VALID DATA\n",
    "\n",
    "# predict validation set\n",
    "pred_valid = X_valid[[\"CustomerIdx\", \"IsinIdx\", \"BuySell\", \"Week\", \"CustomerInterest\"]]\n",
    "pred_valid[\"TARGET\"] = rf.predict_proba(X_valid[features])[:,1]\n",
    "auc = roc_auc_score(y_valid, pred_valid.TARGET)\n",
    "\n",
    "# export CSV\n",
    "pred_valid.to_csv(\"../pred_valid/auc\" + str(round(auc, 6))[2:8] + \"_\" + str(data_name) + \"_exdt.csv\", \n",
    "                  index = False, float_format = \"%.8f\")\n",
    "\n",
    "\n",
    "### TEST DATA\n",
    "\n",
    "# predict test set\n",
    "test[\"TARGET\"] = rf.predict_proba(test[features])[:,1]\n",
    "\n",
    "# export CSV\n",
    "subm = test[[\"PredictionIdx\", \"TARGET\"]]\n",
    "subm.columns = [\"PredictionIdx\", \"CustomerInterest\"]\n",
    "subm.to_csv(\"../submissions/auc\" + str(round(auc, 6))[2:8] + \"_\" + str(data_name) + \"_exdt_1stage.csv\", \n",
    "            index = False, float_format = \"%.8f\")"
   ]
  },
  {
   "cell_type": "code",
   "execution_count": 38,
   "metadata": {},
   "outputs": [
    {
     "data": {
      "image/png": "[encoded data removed]",
      "text/plain": [
       "<Figure size 720x864 with 1 Axes>"
      ]
     },
     "metadata": {},
     "output_type": "display_data"
    }
   ],
   "source": [
    "##### VARIABLE IMPORTANCE\n",
    "\n",
    "# load variable importance\n",
    "importance = pd.DataFrame()\n",
    "importance[\"feature\"] = features\n",
    "importance[\"importance\"] = rf.feature_importances_\n",
    "%matplotlib inline\n",
    "# plot variable importance\n",
    "plt.figure(figsize = (10, 12))\n",
    "sns.barplot(x = \"importance\", y = \"feature\", data = importance.sort_values(by = \"importance\", ascending = False))\n",
    "plt.title(\"LGBM Feature Importance\")\n",
    "plt.tight_layout()\n",
    "\n",
    "# save plot as pdf\n",
    "#plt.savefig(“../var_importance.pdf)"
   ]
  },
  {
   "cell_type": "markdown",
   "metadata": {},
   "source": [
    "# 5. MODELING - STAGE 2"
   ]
  },
  {
   "cell_type": "code",
   "execution_count": 39,
   "metadata": {},
   "outputs": [],
   "source": [
    "# use full data as train\n",
    "X_train = data.loc[data.Week <= 120]\n",
    "y_train = data.loc[data.Week <= 120].CustomerInterest"
   ]
  },
  {
   "cell_type": "code",
   "execution_count": 40,
   "metadata": {},
   "outputs": [
    {
     "name": "stderr",
     "output_type": "stream",
     "text": [
      "[Parallel(n_jobs=20)]: Done  10 tasks      | elapsed:   50.8s\n",
      "[Parallel(n_jobs=20)]: Done 160 tasks      | elapsed:  7.3min\n",
      "[Parallel(n_jobs=20)]: Done 410 tasks      | elapsed: 18.0min\n",
      "[Parallel(n_jobs=20)]: Done 760 tasks      | elapsed: 33.1min\n",
      "[Parallel(n_jobs=20)]: Done 1210 tasks      | elapsed: 51.9min\n",
      "[Parallel(n_jobs=20)]: Done 1760 tasks      | elapsed: 73.9min\n",
      "[Parallel(n_jobs=20)]: Done 2410 tasks      | elapsed: 87.6min\n",
      "[Parallel(n_jobs=20)]: Done 3000 out of 3000 | elapsed: 99.1min finished\n"
     ]
    },
    {
     "data": {
      "text/plain": [
       "ExtraTreesClassifier(bootstrap=False, class_weight=None, criterion='gini',\n",
       "           max_depth=None, max_features='auto', max_leaf_nodes=None,\n",
       "           min_impurity_decrease=0.0, min_impurity_split=None,\n",
       "           min_samples_leaf=2, min_samples_split=2,\n",
       "           min_weight_fraction_leaf=0.0, n_estimators=3000, n_jobs=20,\n",
       "           oob_score=False, random_state=None, verbose=1, warm_start=False)"
      ]
     },
     "execution_count": 40,
     "metadata": {},
     "output_type": "execute_result"
    }
   ],
   "source": [
    "rf = ExtraTreesClassifier(n_estimators=num_iters,  max_depth=None, min_samples_leaf=2, max_features='auto', n_jobs=nj, verbose=1)\n",
    "rf.fit(X_train[features], y_train)"
   ]
  },
  {
   "cell_type": "code",
   "execution_count": 41,
   "metadata": {},
   "outputs": [
    {
     "name": "stderr",
     "output_type": "stream",
     "text": [
      "[Parallel(n_jobs=20)]: Done  10 tasks      | elapsed:    0.9s\n",
      "[Parallel(n_jobs=20)]: Done 160 tasks      | elapsed:    9.8s\n",
      "[Parallel(n_jobs=20)]: Done 410 tasks      | elapsed:   25.1s\n",
      "[Parallel(n_jobs=20)]: Done 760 tasks      | elapsed:   46.6s\n",
      "[Parallel(n_jobs=20)]: Done 1210 tasks      | elapsed:  1.2min\n",
      "[Parallel(n_jobs=20)]: Done 1760 tasks      | elapsed:  1.8min\n",
      "[Parallel(n_jobs=20)]: Done 2410 tasks      | elapsed:  2.5min\n",
      "[Parallel(n_jobs=20)]: Done 3000 out of 3000 | elapsed:  3.1min finished\n"
     ]
    }
   ],
   "source": [
    "# test set\n",
    "test = data.loc[data.Week == 121]\n",
    "# predict test set\n",
    "test[\"TARGET\"] = rf.predict_proba(test[features])[:, 1]"
   ]
  },
  {
   "cell_type": "code",
   "execution_count": 42,
   "metadata": {},
   "outputs": [],
   "source": [
    "# export CSV\n",
    "subm = test[[\"PredictionIdx\", \"TARGET\"]]\n",
    "subm.columns = [\"PredictionIdx\", \"CustomerInterest\"]\n",
    "subm.to_csv(\"../submissions/auc\" + str(round(auc, 6))[2:8] + \"_\" + str(data_name) + \"_exdt_2stage.csv\", \n",
    "            index = False, float_format = \"%.8f\")"
   ]
  },
  {
   "cell_type": "code",
   "execution_count": null,
   "metadata": {},
   "outputs": [],
   "source": []
  }
 ],
 "metadata": {
  "kernelspec": {
   "display_name": "Python 3",
   "language": "python",
   "name": "python3"
  },
  "language_info": {
   "codemirror_mode": {
    "name": "ipython",
    "version": 3
   },
   "file_extension": ".py",
   "mimetype": "text/x-python",
   "name": "python",
   "nbconvert_exporter": "python",
   "pygments_lexer": "ipython3",
   "version": "3.6.5"
  }
 },
 "nbformat": 4,
 "nbformat_minor": 2
}
