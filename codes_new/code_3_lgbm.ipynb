{
 "cells": [
  {
   "cell_type": "markdown",
   "metadata": {},
   "source": [
    "# 1. SETTINGS"
   ]
  },
  {
   "cell_type": "code",
   "execution_count": 167,
   "metadata": {},
   "outputs": [],
   "source": [
    "# libraries\n",
    "import numpy as np\n",
    "import pandas as pd\n",
    "import matplotlib.pyplot as plt\n",
    "import seaborn as sns\n",
    "from sklearn.metrics import roc_auc_score\n",
    "from scipy.stats import spearmanr\n",
    "import lightgbm as lgb\n",
    "import random"
   ]
  },
  {
   "cell_type": "code",
   "execution_count": 168,
   "metadata": {},
   "outputs": [],
   "source": [
    "# garbage collection\n",
    "import gc\n",
    "gc.enable()"
   ]
  },
  {
   "cell_type": "code",
   "execution_count": 169,
   "metadata": {},
   "outputs": [],
   "source": [
    "# warnings\n",
    "import warnings\n",
    "warnings.filterwarnings(\"ignore\")"
   ]
  },
  {
   "cell_type": "code",
   "execution_count": 170,
   "metadata": {},
   "outputs": [],
   "source": [
    "# pandas options\n",
    "pd.set_option(\"display.max_columns\", None)"
   ]
  },
  {
   "cell_type": "markdown",
   "metadata": {},
   "source": [
    "# 2. IMPORT"
   ]
  },
  {
   "cell_type": "code",
   "execution_count": 171,
   "metadata": {},
   "outputs": [],
   "source": [
    "# data name (used for saving files too)\n",
    "data_name = \"data_v4_0_60_under\""
   ]
  },
  {
   "cell_type": "code",
   "execution_count": 172,
   "metadata": {},
   "outputs": [],
   "source": [
    "# import datasets\n",
    "data = pd.read_csv(\"../data/prepared/\" + str(data_name) + \".csv\", compression = \"gzip\")"
   ]
  },
  {
   "cell_type": "code",
   "execution_count": 173,
   "metadata": {},
   "outputs": [],
   "source": [
    "# data name (used for saving files too)\n",
    "data_name = \"data_v4_0_60_under_wlp_lm_bm_f34_reg\""
   ]
  },
  {
   "cell_type": "code",
   "execution_count": 174,
   "metadata": {},
   "outputs": [
    {
     "data": {
      "text/plain": [
       "(2668912, 45)"
      ]
     },
     "execution_count": 174,
     "metadata": {},
     "output_type": "execute_result"
    }
   ],
   "source": [
    "# drop high recency from train\n",
    "#data = data[(data.Week == 121) | (data.Recency2 < 27)]\n",
    "data = data[(data.Week == 121) | (data.Recency1 < data.Recency1.max())]\n",
    "data.shape"
   ]
  },
  {
   "cell_type": "markdown",
   "metadata": {},
   "source": [
    "# 3. PREPARATIONS"
   ]
  },
  {
   "cell_type": "markdown",
   "metadata": {},
   "source": [
    "### ADD MORE FEATURES"
   ]
  },
  {
   "cell_type": "code",
   "execution_count": 175,
   "metadata": {},
   "outputs": [
    {
     "name": "stdout",
     "output_type": "stream",
     "text": [
      "(2668912, 45)\n"
     ]
    }
   ],
   "source": [
    "# compute BuySell dummy\n",
    "data[\"Buy\"] = 0\n",
    "data[\"Buy\"][data.BuySell == \"Buy\"] = 1\n",
    "print(data.shape)"
   ]
  },
  {
   "cell_type": "code",
   "execution_count": 176,
   "metadata": {},
   "outputs": [],
   "source": [
    "### RF Ratios\n",
    "\n",
    "#data[\"R12_ratio\"] = data.Recency1 / data.Recency2\n",
    "#data[\"R13_ratio\"] = data.Recency1 / data.Recency3\n",
    "#data[\"R14_ratio\"] = data.Recency1 / data.Recency4\n",
    "#data[\"R56_ratio\"] = data.Recency5 / data.Recency6\n",
    "\n",
    "#data[\"F12_ratio\"] = data.Frequency1 / data.Frequency2\n",
    "#data[\"F13_ratio\"] = data.Frequency1 / data.Frequency3\n",
    "#data[\"F14_ratio\"] = data.Frequency1 / data.Frequency4\n",
    "#data[\"F56_ratio\"] = data.Frequency5 / data.Frequency6\n",
    "\n",
    "data[\"F34_ratio_exceeds_05\"] = data.Frequency3 / data.Frequency4\n",
    "data[\"F34_ratio_exceeds_05\"][data[\"F34_ratio_exceeds_05\"] <  0.5] = 0\n",
    "data[\"F34_ratio_exceeds_05\"][data[\"F34_ratio_exceeds_05\"] >= 0.5] = 1\n",
    "\n",
    "#data.shape"
   ]
  },
  {
   "cell_type": "code",
   "execution_count": 177,
   "metadata": {},
   "outputs": [
    {
     "name": "stdout",
     "output_type": "stream",
     "text": [
      "(2668912, 47)\n",
      "(2668912, 48)\n"
     ]
    }
   ],
   "source": [
    "# add last week sum (CUST)\n",
    "tmp = data.sort_values(by = [\"Week\"], ascending = True).groupby([\"CustomerIdx\", \"Week\"], as_index = True)\n",
    "tmp = tmp.CustomerInterest.sum().reset_index()\n",
    "tmp.columns = [\"CustomerIdx\", \"Week\", \"LastWeekCustSum\"]\n",
    "tmp[\"Week\"] = tmp.Week + 1\n",
    "data = data.merge(tmp, how = \"left\", on = [\"CustomerIdx\", \"Week\"])\n",
    "print(data.shape)\n",
    "\n",
    "# add last week sum (BOND)\n",
    "tmp = data.sort_values(by = [\"Week\"], ascending = True).groupby([\"IsinIdx\", \"Week\"], as_index = True)\n",
    "tmp = tmp.CustomerInterest.sum().reset_index()\n",
    "tmp.columns = [\"IsinIdx\", \"Week\", \"LastWeekBondSum\"]\n",
    "tmp[\"Week\"] = tmp.Week + 1\n",
    "data = data.merge(tmp, how = \"left\", on = [\"IsinIdx\", \"Week\"])\n",
    "print(data.shape)"
   ]
  },
  {
   "cell_type": "code",
   "execution_count": 178,
   "metadata": {},
   "outputs": [
    {
     "name": "stdout",
     "output_type": "stream",
     "text": [
      "(2668912, 49)\n",
      "(2668912, 50)\n"
     ]
    }
   ],
   "source": [
    "### ADD PRICE AND NOTIONAL\n",
    "\n",
    "tmp = pd.read_csv(\"../data/prepared/price_notional.csv\", compression = \"gzip\")\n",
    "\n",
    "# add last week price sum (CUST)\n",
    "tmp2 = tmp.sort_values(by = [\"Week\"], ascending = True).groupby([\"CustomerIdx\", \"Week\"], as_index = True)\n",
    "tmp2 = tmp2.Price.sum().reset_index()\n",
    "tmp2.columns = [\"CustomerIdx\", \"Week\", \"LastWeekCustPriceSum\"]\n",
    "tmp2[\"Week\"] = tmp2.Week + 1\n",
    "data = data.merge(tmp2, how = \"left\", on = [\"CustomerIdx\", \"Week\"])\n",
    "print(data.shape)\n",
    "\n",
    "# add last week notional sum (CUST)\n",
    "tmp2 = tmp.sort_values(by = [\"Week\"], ascending = True).groupby([\"CustomerIdx\", \"Week\"], as_index = True)\n",
    "tmp2 = tmp2.NotionalEUR.sum().reset_index()\n",
    "tmp2.columns = [\"CustomerIdx\", \"Week\", \"LastWeekCustNotionalSum\"]\n",
    "tmp2[\"Week\"] = tmp2.Week + 1\n",
    "data = data.merge(tmp2, how = \"left\", on = [\"CustomerIdx\", \"Week\"])\n",
    "print(data.shape)"
   ]
  },
  {
   "cell_type": "code",
   "execution_count": 179,
   "metadata": {},
   "outputs": [],
   "source": [
    "### ADD CUSTOMER INDICATORS\n",
    "\n",
    "#cust  = pd.read_csv(\"../data/raw/Customer.csv\")\n",
    "#cust.head()\n",
    "\n",
    "# create dummies for customers\n",
    "#cust_dummies = pd.concat([cust.CustomerIdx, pd.get_dummies(cust.Subsector)], axis = 1)\n",
    "\n",
    "# merge customer dummies\n",
    "#data = data.merge(cust_dummies, on = \"CustomerIdx\", how = \"left\")\n",
    "#print(data.shape)"
   ]
  },
  {
   "cell_type": "code",
   "execution_count": 180,
   "metadata": {},
   "outputs": [],
   "source": [
    "### ADD BOND FEATURES [V1]\n",
    "\n",
    "# load bond data\n",
    "#bond_stat = pd.read_csv(\"../data/prepared/bondstat1_AK\")\n",
    "\n",
    "# merge bond data\n",
    "#data = data.merge(bond_stat[[\"IsinIdx\", \"t\", \"timeOnMarket\", \"percentoflifeleft\"]], how = \"left\", on = \"IsinIdx\")\n",
    "#print(data.shape)"
   ]
  },
  {
   "cell_type": "code",
   "execution_count": 181,
   "metadata": {},
   "outputs": [],
   "source": [
    "### ADD NEW BOND FEATURES [V2]\n",
    "\n",
    "# load bond data\n",
    "#bond_stat = pd.read_csv(\"../data/prepared/bondstat2_AK\")\n",
    "\n",
    "# merge bond data\n",
    "#data = data.merge(bond_stat[[\"IsinIdx\", 'ymeansq', 'ymeancube', 'zmeansq', 'zmeancube',\n",
    "#                             'years_tomaturity', 'count', 'ratingspread', 'ratingZspread']], \n",
    "#                  how = \"left\", on = \"IsinIdx\")\n",
    "#print(data.shape)"
   ]
  },
  {
   "cell_type": "code",
   "execution_count": 182,
   "metadata": {},
   "outputs": [],
   "source": [
    "### ADD BOND FEATURES [V3]\n",
    "\n",
    "# load bond data\n",
    "#bond_stat = pd.read_csv(\"../data/prepared/bondstat3_AK\")\n",
    "#bond_stat.head()\n",
    "\n",
    "# merge bond data\n",
    "#data = data.merge(bond_stat[[\"IsinIdx\", 'predyield', 'predprice']], how = \"left\", on = \"IsinIdx\")\n",
    "#print(data.shape)"
   ]
  },
  {
   "cell_type": "code",
   "execution_count": 183,
   "metadata": {},
   "outputs": [],
   "source": [
    "### BOND-SPECIFIC FINANCIAL INDICATORS\n",
    "\n",
    "#bond  = pd.read_csv(\"../data/raw/Isin.csv\")\n",
    "\n",
    "# create bond dummies\n",
    "#bond_dummies = pd.concat([bond.IsinIdx,\n",
    "#                          pd.get_dummies(bond.IndustrySector), \n",
    "#                          pd.get_dummies(bond.Region),\n",
    "#                          pd.get_dummies(bond.MarketIssue), \n",
    "#                          pd.get_dummies(bond.CouponType)], axis = 1)\n",
    "\n",
    "# merge bond dummies\n",
    "#data = data.merge(bond_dummies, on = \"IsinIdx\", how = \"left\")\n",
    "#print(data.shape)"
   ]
  },
  {
   "cell_type": "code",
   "execution_count": 184,
   "metadata": {},
   "outputs": [],
   "source": [
    "### ADD NEW NIKITA FEATURES\n",
    "\n",
    "# import data\n",
    "#cust    = pd.read_csv(\"../data/prepared/cust_nik.csv\",   compression = \"gzip\")\n",
    "#bond    = pd.read_csv(\"../data/prepared/bond_nik.csv\",   compression = \"gzip\")\n",
    "#market  = pd.read_csv(\"../data/prepared/market_nik.csv\", compression = \"gzip\")\n",
    "\n",
    "#cust = cust[[\"CustomerIdx\", \"Region\"]]\n",
    "#bond = bond[[\"IsinIdx\", \"ActualMaturityDateKey\", \"IssueDateKey\"]]\n",
    "\n",
    "# merge data\n",
    "#print(data.shape)\n",
    "#data = data.merge(cust, on = \"CustomerIdx\", how = \"left\")\n",
    "#print(data.shape)\n",
    "#data = data.merge(bond, on = \"IsinIdx\", how = \"left\")\n",
    "#print(data.shape)\n",
    "#data = data.merge(market, on = [\"IsinIdx\", \"Week\"], how = \"left\")\n",
    "#print(data.shape)\n",
    "\n",
    "# compute day differences\n",
    "#data[\"ActualMaturityDateKey\"] = data[\"ActualMaturityDateKey\"] - data[\"Week\"]\n",
    "#data[\"IssueDateKey\"]          = data[\"IssueDateKey\"] - data[\"Week\"]"
   ]
  },
  {
   "cell_type": "code",
   "execution_count": 185,
   "metadata": {},
   "outputs": [
    {
     "name": "stdout",
     "output_type": "stream",
     "text": [
      "(2668912, 52)\n",
      "(2668912, 53)\n"
     ]
    }
   ],
   "source": [
    "### ADD LAST MONTH SUMS\n",
    "\n",
    "# merge month number\n",
    "tmp = pd.read_csv(\"../data/raw/Trade.csv\")[[\"TradeDateKey\"]]\n",
    "tmp = tmp.drop_duplicates()\n",
    "tmp[\"TradeDateKey\"] = pd.to_datetime(tmp[\"TradeDateKey\"], format = '%Y%m%d')\n",
    "tmp[\"Week\"] = (tmp.TradeDateKey.dt.year - 2016) * 52 + (tmp.TradeDateKey.dt.week)\n",
    "tmp[\"CumMonth\"] = (tmp.TradeDateKey.dt.year - 2016) * 12 + (tmp.TradeDateKey.dt.month)\n",
    "tmp = tmp[[\"Week\", \"CumMonth\"]]\n",
    "tmp = tmp.drop_duplicates()\n",
    "tmp = tmp.groupby(\"Week\").CumMonth.min().reset_index()\n",
    "data = data.merge(tmp, how = \"left\", on = \"Week\")\n",
    "data[\"CumMonth\"][data.Week == 121] = 28\n",
    "\n",
    "# add last month mean (CUST)\n",
    "tmp = data.sort_values(by = [\"CumMonth\"], ascending = True).groupby([\"CustomerIdx\", \"CumMonth\"], as_index = True)\n",
    "tmp = tmp.CustomerInterest.sum().reset_index()\n",
    "tmp.columns = [\"CustomerIdx\", \"CumMonth\", \"LastMonthCustSum\"]\n",
    "tmp[\"CumMonth\"] = tmp.CumMonth + 1\n",
    "data = data.merge(tmp, how = \"left\", on = [\"CustomerIdx\", \"CumMonth\"])\n",
    "print(data.shape)\n",
    "\n",
    "# add last month mean (BOND)\n",
    "tmp = data.sort_values(by = [\"CumMonth\"], ascending = True).groupby([\"IsinIdx\", \"CumMonth\"], as_index = True)\n",
    "tmp = tmp.CustomerInterest.sum().reset_index()\n",
    "tmp.columns = [\"IsinIdx\", \"CumMonth\", \"LastMonthBondSum\"]\n",
    "tmp[\"CumMonth\"] = tmp.CumMonth + 1\n",
    "data = data.merge(tmp, how = \"left\", on = [\"IsinIdx\", \"CumMonth\"])\n",
    "print(data.shape)\n",
    "\n",
    "# drop month\n",
    "del data[\"CumMonth\"]"
   ]
  },
  {
   "cell_type": "code",
   "execution_count": 186,
   "metadata": {},
   "outputs": [
    {
     "name": "stdout",
     "output_type": "stream",
     "text": [
      "(2668912, 55)\n"
     ]
    }
   ],
   "source": [
    "### ADD BOND MATURITY DATA\n",
    "\n",
    "# import\n",
    "bond = pd.read_csv(\"../data/prepared/data_bond_v1.csv\", compression = \"gzip\")\n",
    "bond = bond[['IsinIdx', 'MaturityWeek', 'IssueWeek']]\n",
    "\n",
    "# merge\n",
    "data = data.merge(bond, on = \"IsinIdx\", how = \"left\")\n",
    "\n",
    "# compute week differences\n",
    "data[\"MaturityWeek\"]    = data.MaturityWeek - data.Week\n",
    "data[\"IssueWeek\"]       = data.Week - data.IssueWeek\n",
    "data[\"MaturityPercent\"] = (data.Week - data.IssueWeek) / (data.MaturityWeek - data.IssueWeek)\n",
    "print(data.shape)"
   ]
  },
  {
   "cell_type": "code",
   "execution_count": 187,
   "metadata": {},
   "outputs": [],
   "source": [
    "### MERGE WEEKLY MACRO VARIABLES\n",
    "\n",
    "# import\n",
    "#fx1   = pd.read_csv(\"../data/prepared/data_fx1_v1.csv\",  compression = \"gzip\")\n",
    "#fx2   = pd.read_csv(\"../data/prepared/data_fx2_v1.csv\",  compression = \"gzip\")\n",
    "#ind1  = pd.read_csv(\"../data/prepared/data_ind1_v1.csv\", compression = \"gzip\")\n",
    "#ind2  = pd.read_csv(\"../data/prepared/data_ind2_v1.csv\", compression = \"gzip\")\n",
    "\n",
    "# merge currency\n",
    "#bond = pd.read_csv(\"../data/raw/Isin.csv\")\n",
    "#data = data.merge(bond[[\"IsinIdx\", \"Currency\"]], on = \"IsinIdx\")\n",
    "\n",
    "# merge macro data\n",
    "#data = data.merge(fx1,  how = 'left', on = [\"Week\",  \"Currency\"])\n",
    "#print(data.shape)\n",
    "#data = data.merge(fx2,  how = 'left', on = [\"Month\", \"Currency\"])\n",
    "#print(data.shape)\n",
    "#data = data.merge(ind1, how = 'left', on = \"Week\")\n",
    "#print(data.shape)\n",
    "#data = data.merge(ind2, how = 'left', on = \"Month\")\n",
    "#print(data.shape)\n",
    "\n",
    "# there are a few currencies for which we don't have info, e.g. CNH\n",
    "#data[fx1.columns] = data[fx1.columns].fillna(0)\n",
    "#data[fx2.columns] = data[fx2.columns].fillna(0)\n",
    "\n",
    "# remove currency\n",
    "#data.drop(\"Currency\", axis = 1, inplace = True)\n",
    "#print(data.shape)"
   ]
  },
  {
   "cell_type": "code",
   "execution_count": 188,
   "metadata": {},
   "outputs": [],
   "source": [
    "### ADD NEW WEEKLY AND MONTHLY MARKET FEATURES\n",
    "\n",
    "# merge month number\n",
    "#tmp = pd.read_csv(\"../data/raw/Trade.csv\")[[\"TradeDateKey\"]]\n",
    "#tmp = tmp.drop_duplicates()\n",
    "#tmp[\"TradeDateKey\"] = pd.to_datetime(tmp[\"TradeDateKey\"], format = '%Y%m%d')\n",
    "#tmp[\"Week\"] = (tmp.TradeDateKey.dt.year - 2016) * 52 + (tmp.TradeDateKey.dt.week)\n",
    "#tmp[\"CumMonth\"] = (tmp.TradeDateKey.dt.year - 2016) * 12 + (tmp.TradeDateKey.dt.month)\n",
    "#tmp = tmp[[\"Week\", \"CumMonth\"]]\n",
    "#tmp = tmp.drop_duplicates()\n",
    "#tmp = tmp.groupby(\"Week\").CumMonth.min().reset_index()\n",
    "#data = data.merge(tmp, how = \"left\", on = \"Week\")\n",
    "#data[\"CumMonth\"][data.Week == 121] = 28\n",
    "\n",
    "# import data\n",
    "#market  = pd.read_csv(\"../data/prepared/data_market_v1.csv\", compression = \"gzip\")\n",
    "#market = market.rename(columns = {\"Month\": \"CumMonth\"})\n",
    "#market.CumMonth = market.groupby([\"IsinIdx\", \"Week\"]).CumMonth.min()\n",
    "#keep = market[[\"IsinIdx\", \"Week\", \"CumMonth\"]].drop_duplicates().index\n",
    "#market = market[market.index.isin(keep)]\n",
    "#data = data.merge(market, how = \"left\", on = [\"IsinIdx\", \"Week\", \"CumMonth\"])\n",
    "#del data[\"CumMonth\"]\n",
    "#print(data.shape)"
   ]
  },
  {
   "cell_type": "code",
   "execution_count": 189,
   "metadata": {},
   "outputs": [
    {
     "name": "stdout",
     "output_type": "stream",
     "text": [
      "(2668912, 57)\n"
     ]
    }
   ],
   "source": [
    "### ADD RATIO FOR THE REGULAR PERIOD BETWEEN PURCHASES\n",
    "\n",
    "tmp = pd.read_csv(\"../data/prepared/data_basic_0.csv\", compression = \"gzip\")\n",
    "tmp = tmp[tmp.Week < 61]\n",
    "tmp = tmp[tmp.CustomerInterest == 1]\n",
    "tmp = tmp.sort_values([\"CustomerIdx\", \"Week\"])[[\"CustomerIdx\", \"Week\"]]\n",
    "tmp = tmp.drop_duplicates()\n",
    "tmp[\"WeekDiff\"] = tmp.sort_values(\"Week\").groupby([\"CustomerIdx\"]).Week.diff()\n",
    "tmp = tmp.groupby(\"CustomerIdx\").WeekDiff.agg(\"mean\").reset_index()\n",
    "\n",
    "data = data.merge(tmp, how = \"left\")\n",
    "\n",
    "data[\"RegPeriodDiff2\"] = data.WeekDiff / data.Recency2\n",
    "data[\"RegPeriodDiff4\"] = data.WeekDiff / data.Recency4\n",
    "del data[\"WeekDiff\"]\n",
    "print(data.shape)"
   ]
  },
  {
   "cell_type": "code",
   "execution_count": 190,
   "metadata": {},
   "outputs": [],
   "source": [
    "# number of options\n",
    "#num_opt = data[data.Recency2 < 27].groupby([\"CustomerIdx\", \"Week\"]).IsinIdx.nunique().reset_index()\n",
    "#num_opt.columns = [\"CustomerIdx\", \"Week\", \"NumOptions\"]\n",
    "#data = data.merge(num_opt, how = \"left\", on = [\"CustomerIdx\", \"Week\"])\n",
    "#print(data.shape)\n",
    "\n",
    "#data[data.Week < 121].NumOptions.hist()\n",
    "#data[data.Week == 121].NumOptions.hist()"
   ]
  },
  {
   "cell_type": "markdown",
   "metadata": {},
   "source": [
    "### CHECKS AND PREPARATIONS"
   ]
  },
  {
   "cell_type": "code",
   "execution_count": 191,
   "metadata": {},
   "outputs": [
    {
     "name": "stdout",
     "output_type": "stream",
     "text": [
      "Dimensions: (2668912, 57)\n"
     ]
    },
    {
     "data": {
      "text/html": [
       "<div>\n",
       "<style scoped>\n",
       "    .dataframe tbody tr th:only-of-type {\n",
       "        vertical-align: middle;\n",
       "    }\n",
       "\n",
       "    .dataframe tbody tr th {\n",
       "        vertical-align: top;\n",
       "    }\n",
       "\n",
       "    .dataframe thead th {\n",
       "        text-align: right;\n",
       "    }\n",
       "</style>\n",
       "<table border=\"1\" class=\"dataframe\">\n",
       "  <thead>\n",
       "    <tr style=\"text-align: right;\">\n",
       "      <th></th>\n",
       "      <th>PredictionIdx</th>\n",
       "      <th>CustomerIdx</th>\n",
       "      <th>IsinIdx</th>\n",
       "      <th>BuySell</th>\n",
       "      <th>CustomerInterest</th>\n",
       "      <th>Week</th>\n",
       "      <th>Recency1</th>\n",
       "      <th>Recency2</th>\n",
       "      <th>Recency3</th>\n",
       "      <th>Recency4</th>\n",
       "      <th>Recency5</th>\n",
       "      <th>Recency6</th>\n",
       "      <th>Recency1isLowerRecency2</th>\n",
       "      <th>Recency2isLowerRecency4</th>\n",
       "      <th>Frequency1</th>\n",
       "      <th>Frequency2</th>\n",
       "      <th>Frequency3</th>\n",
       "      <th>Frequency4</th>\n",
       "      <th>Frequency5</th>\n",
       "      <th>Frequency6</th>\n",
       "      <th>Frequecny1isLowerFrequency2</th>\n",
       "      <th>Frequecny2isLowerFrequency4</th>\n",
       "      <th>Month</th>\n",
       "      <th>Buy</th>\n",
       "      <th>Asset Managers &amp; Hedge Funds</th>\n",
       "      <th>Asset Owners</th>\n",
       "      <th>Banks and Intermediaries</th>\n",
       "      <th>Corporation</th>\n",
       "      <th>Official Institution - OI</th>\n",
       "      <th>Americas</th>\n",
       "      <th>Asia Pacific</th>\n",
       "      <th>Europe, Middle East and Africa</th>\n",
       "      <th>FLOW G10</th>\n",
       "      <th>FLOW LOCAL MARKET</th>\n",
       "      <th>SAS &amp; COVERED BONDS</th>\n",
       "      <th>NR</th>\n",
       "      <th>Currency_trend</th>\n",
       "      <th>MeanPrice</th>\n",
       "      <th>StdPrice</th>\n",
       "      <th>MeanYield</th>\n",
       "      <th>StdYield</th>\n",
       "      <th>MeanZScore</th>\n",
       "      <th>StdZScore</th>\n",
       "      <th>YieldMarktDelta</th>\n",
       "      <th>ZScoreMarktDelta</th>\n",
       "      <th>F34_ratio_exceeds_05</th>\n",
       "      <th>LastWeekCustSum</th>\n",
       "      <th>LastWeekBondSum</th>\n",
       "      <th>LastWeekCustPriceSum</th>\n",
       "      <th>LastWeekCustNotionalSum</th>\n",
       "      <th>LastMonthCustSum</th>\n",
       "      <th>LastMonthBondSum</th>\n",
       "      <th>MaturityWeek</th>\n",
       "      <th>IssueWeek</th>\n",
       "      <th>MaturityPercent</th>\n",
       "      <th>RegPeriodDiff2</th>\n",
       "      <th>RegPeriodDiff4</th>\n",
       "    </tr>\n",
       "  </thead>\n",
       "  <tbody>\n",
       "    <tr>\n",
       "      <th>0</th>\n",
       "      <td>NaN</td>\n",
       "      <td>2554</td>\n",
       "      <td>12022</td>\n",
       "      <td>Sell</td>\n",
       "      <td>0.0</td>\n",
       "      <td>68</td>\n",
       "      <td>2.0</td>\n",
       "      <td>2.0</td>\n",
       "      <td>1.0</td>\n",
       "      <td>1.0</td>\n",
       "      <td>2.0</td>\n",
       "      <td>2.0</td>\n",
       "      <td>1</td>\n",
       "      <td>0</td>\n",
       "      <td>0.014925</td>\n",
       "      <td>0.029851</td>\n",
       "      <td>43.716418</td>\n",
       "      <td>80.791045</td>\n",
       "      <td>0.134328</td>\n",
       "      <td>0.208955</td>\n",
       "      <td>1</td>\n",
       "      <td>1</td>\n",
       "      <td>1</td>\n",
       "      <td>0</td>\n",
       "      <td>1</td>\n",
       "      <td>0</td>\n",
       "      <td>0</td>\n",
       "      <td>0</td>\n",
       "      <td>0</td>\n",
       "      <td>0</td>\n",
       "      <td>0</td>\n",
       "      <td>1</td>\n",
       "      <td>0</td>\n",
       "      <td>1</td>\n",
       "      <td>0</td>\n",
       "      <td>0</td>\n",
       "      <td>1.00000</td>\n",
       "      <td>117.319623</td>\n",
       "      <td>4.613998</td>\n",
       "      <td>4.468827</td>\n",
       "      <td>0.354249</td>\n",
       "      <td>2.207733</td>\n",
       "      <td>0.545221</td>\n",
       "      <td>1.418700</td>\n",
       "      <td>0.584150</td>\n",
       "      <td>1.0</td>\n",
       "      <td>27.0</td>\n",
       "      <td>0.0</td>\n",
       "      <td>5.224483e+03</td>\n",
       "      <td>7.224512e+07</td>\n",
       "      <td>173.0</td>\n",
       "      <td>1.0</td>\n",
       "      <td>930</td>\n",
       "      <td>630</td>\n",
       "      <td>-1.873333</td>\n",
       "      <td>0.500000</td>\n",
       "      <td>1.000000</td>\n",
       "    </tr>\n",
       "    <tr>\n",
       "      <th>1</th>\n",
       "      <td>NaN</td>\n",
       "      <td>1997</td>\n",
       "      <td>23143</td>\n",
       "      <td>Sell</td>\n",
       "      <td>0.0</td>\n",
       "      <td>112</td>\n",
       "      <td>71.0</td>\n",
       "      <td>71.0</td>\n",
       "      <td>1.0</td>\n",
       "      <td>1.0</td>\n",
       "      <td>1.0</td>\n",
       "      <td>1.0</td>\n",
       "      <td>1</td>\n",
       "      <td>0</td>\n",
       "      <td>0.009009</td>\n",
       "      <td>0.009009</td>\n",
       "      <td>4.333333</td>\n",
       "      <td>6.252252</td>\n",
       "      <td>0.990991</td>\n",
       "      <td>2.315315</td>\n",
       "      <td>1</td>\n",
       "      <td>1</td>\n",
       "      <td>3</td>\n",
       "      <td>0</td>\n",
       "      <td>0</td>\n",
       "      <td>1</td>\n",
       "      <td>0</td>\n",
       "      <td>0</td>\n",
       "      <td>0</td>\n",
       "      <td>0</td>\n",
       "      <td>0</td>\n",
       "      <td>1</td>\n",
       "      <td>1</td>\n",
       "      <td>0</td>\n",
       "      <td>0</td>\n",
       "      <td>0</td>\n",
       "      <td>-0.00752</td>\n",
       "      <td>102.526643</td>\n",
       "      <td>8.867004</td>\n",
       "      <td>2.470258</td>\n",
       "      <td>2.011795</td>\n",
       "      <td>2.344190</td>\n",
       "      <td>1.979572</td>\n",
       "      <td>-0.579869</td>\n",
       "      <td>0.720607</td>\n",
       "      <td>1.0</td>\n",
       "      <td>0.0</td>\n",
       "      <td>5.0</td>\n",
       "      <td>1.000099e+06</td>\n",
       "      <td>1.400000e+06</td>\n",
       "      <td>14.0</td>\n",
       "      <td>7.0</td>\n",
       "      <td>202</td>\n",
       "      <td>161</td>\n",
       "      <td>-1.195122</td>\n",
       "      <td>0.014579</td>\n",
       "      <td>1.035088</td>\n",
       "    </tr>\n",
       "    <tr>\n",
       "      <th>2</th>\n",
       "      <td>NaN</td>\n",
       "      <td>2743</td>\n",
       "      <td>5570</td>\n",
       "      <td>Buy</td>\n",
       "      <td>0.0</td>\n",
       "      <td>99</td>\n",
       "      <td>88.0</td>\n",
       "      <td>88.0</td>\n",
       "      <td>1.0</td>\n",
       "      <td>1.0</td>\n",
       "      <td>6.0</td>\n",
       "      <td>4.0</td>\n",
       "      <td>1</td>\n",
       "      <td>0</td>\n",
       "      <td>0.020408</td>\n",
       "      <td>0.020408</td>\n",
       "      <td>62.642857</td>\n",
       "      <td>106.000000</td>\n",
       "      <td>0.775510</td>\n",
       "      <td>1.387755</td>\n",
       "      <td>1</td>\n",
       "      <td>1</td>\n",
       "      <td>5</td>\n",
       "      <td>1</td>\n",
       "      <td>1</td>\n",
       "      <td>0</td>\n",
       "      <td>0</td>\n",
       "      <td>0</td>\n",
       "      <td>0</td>\n",
       "      <td>0</td>\n",
       "      <td>0</td>\n",
       "      <td>1</td>\n",
       "      <td>1</td>\n",
       "      <td>0</td>\n",
       "      <td>0</td>\n",
       "      <td>0</td>\n",
       "      <td>1.00000</td>\n",
       "      <td>102.627270</td>\n",
       "      <td>2.228127</td>\n",
       "      <td>3.838438</td>\n",
       "      <td>0.347182</td>\n",
       "      <td>1.876163</td>\n",
       "      <td>0.581684</td>\n",
       "      <td>0.788311</td>\n",
       "      <td>0.252580</td>\n",
       "      <td>1.0</td>\n",
       "      <td>57.0</td>\n",
       "      <td>0.0</td>\n",
       "      <td>9.977553e+03</td>\n",
       "      <td>1.362031e+08</td>\n",
       "      <td>441.0</td>\n",
       "      <td>2.0</td>\n",
       "      <td>359</td>\n",
       "      <td>161</td>\n",
       "      <td>-0.313131</td>\n",
       "      <td>0.011560</td>\n",
       "      <td>1.017241</td>\n",
       "    </tr>\n",
       "    <tr>\n",
       "      <th>3</th>\n",
       "      <td>NaN</td>\n",
       "      <td>1307</td>\n",
       "      <td>23023</td>\n",
       "      <td>Buy</td>\n",
       "      <td>0.0</td>\n",
       "      <td>91</td>\n",
       "      <td>82.0</td>\n",
       "      <td>82.0</td>\n",
       "      <td>1.0</td>\n",
       "      <td>1.0</td>\n",
       "      <td>20.0</td>\n",
       "      <td>2.0</td>\n",
       "      <td>1</td>\n",
       "      <td>0</td>\n",
       "      <td>0.011111</td>\n",
       "      <td>0.011111</td>\n",
       "      <td>1.288889</td>\n",
       "      <td>2.233333</td>\n",
       "      <td>0.500000</td>\n",
       "      <td>0.977778</td>\n",
       "      <td>1</td>\n",
       "      <td>1</td>\n",
       "      <td>7</td>\n",
       "      <td>1</td>\n",
       "      <td>0</td>\n",
       "      <td>0</td>\n",
       "      <td>1</td>\n",
       "      <td>0</td>\n",
       "      <td>0</td>\n",
       "      <td>0</td>\n",
       "      <td>0</td>\n",
       "      <td>1</td>\n",
       "      <td>1</td>\n",
       "      <td>0</td>\n",
       "      <td>0</td>\n",
       "      <td>0</td>\n",
       "      <td>-0.00294</td>\n",
       "      <td>101.017280</td>\n",
       "      <td>0.204407</td>\n",
       "      <td>-0.036528</td>\n",
       "      <td>0.193049</td>\n",
       "      <td>0.161060</td>\n",
       "      <td>0.150582</td>\n",
       "      <td>-3.086655</td>\n",
       "      <td>-1.462523</td>\n",
       "      <td>1.0</td>\n",
       "      <td>1.0</td>\n",
       "      <td>0.0</td>\n",
       "      <td>5.227220e+02</td>\n",
       "      <td>3.768715e+06</td>\n",
       "      <td>2.0</td>\n",
       "      <td>0.0</td>\n",
       "      <td>60</td>\n",
       "      <td>148</td>\n",
       "      <td>0.647727</td>\n",
       "      <td>0.014108</td>\n",
       "      <td>1.156863</td>\n",
       "    </tr>\n",
       "    <tr>\n",
       "      <th>4</th>\n",
       "      <td>NaN</td>\n",
       "      <td>2107</td>\n",
       "      <td>5204</td>\n",
       "      <td>Sell</td>\n",
       "      <td>0.0</td>\n",
       "      <td>73</td>\n",
       "      <td>2.0</td>\n",
       "      <td>2.0</td>\n",
       "      <td>1.0</td>\n",
       "      <td>1.0</td>\n",
       "      <td>1.0</td>\n",
       "      <td>1.0</td>\n",
       "      <td>1</td>\n",
       "      <td>0</td>\n",
       "      <td>0.027778</td>\n",
       "      <td>0.027778</td>\n",
       "      <td>9.500000</td>\n",
       "      <td>21.541667</td>\n",
       "      <td>0.319444</td>\n",
       "      <td>0.777778</td>\n",
       "      <td>1</td>\n",
       "      <td>1</td>\n",
       "      <td>12</td>\n",
       "      <td>0</td>\n",
       "      <td>1</td>\n",
       "      <td>0</td>\n",
       "      <td>0</td>\n",
       "      <td>0</td>\n",
       "      <td>0</td>\n",
       "      <td>1</td>\n",
       "      <td>0</td>\n",
       "      <td>0</td>\n",
       "      <td>0</td>\n",
       "      <td>1</td>\n",
       "      <td>0</td>\n",
       "      <td>0</td>\n",
       "      <td>1.00000</td>\n",
       "      <td>110.170463</td>\n",
       "      <td>2.443280</td>\n",
       "      <td>5.958544</td>\n",
       "      <td>0.341985</td>\n",
       "      <td>3.637930</td>\n",
       "      <td>0.340257</td>\n",
       "      <td>2.908417</td>\n",
       "      <td>2.014346</td>\n",
       "      <td>0.0</td>\n",
       "      <td>3.0</td>\n",
       "      <td>4.0</td>\n",
       "      <td>5.547505e+03</td>\n",
       "      <td>3.071459e+07</td>\n",
       "      <td>27.0</td>\n",
       "      <td>1.0</td>\n",
       "      <td>464</td>\n",
       "      <td>6</td>\n",
       "      <td>0.146288</td>\n",
       "      <td>0.508621</td>\n",
       "      <td>1.017241</td>\n",
       "    </tr>\n",
       "  </tbody>\n",
       "</table>\n",
       "</div>"
      ],
      "text/plain": [
       "  PredictionIdx  CustomerIdx  IsinIdx BuySell  CustomerInterest  Week  \\\n",
       "0           NaN         2554    12022    Sell               0.0    68   \n",
       "1           NaN         1997    23143    Sell               0.0   112   \n",
       "2           NaN         2743     5570     Buy               0.0    99   \n",
       "3           NaN         1307    23023     Buy               0.0    91   \n",
       "4           NaN         2107     5204    Sell               0.0    73   \n",
       "\n",
       "   Recency1  Recency2  Recency3  Recency4  Recency5  Recency6  \\\n",
       "0       2.0       2.0       1.0       1.0       2.0       2.0   \n",
       "1      71.0      71.0       1.0       1.0       1.0       1.0   \n",
       "2      88.0      88.0       1.0       1.0       6.0       4.0   \n",
       "3      82.0      82.0       1.0       1.0      20.0       2.0   \n",
       "4       2.0       2.0       1.0       1.0       1.0       1.0   \n",
       "\n",
       "   Recency1isLowerRecency2  Recency2isLowerRecency4  Frequency1  Frequency2  \\\n",
       "0                        1                        0    0.014925    0.029851   \n",
       "1                        1                        0    0.009009    0.009009   \n",
       "2                        1                        0    0.020408    0.020408   \n",
       "3                        1                        0    0.011111    0.011111   \n",
       "4                        1                        0    0.027778    0.027778   \n",
       "\n",
       "   Frequency3  Frequency4  Frequency5  Frequency6  \\\n",
       "0   43.716418   80.791045    0.134328    0.208955   \n",
       "1    4.333333    6.252252    0.990991    2.315315   \n",
       "2   62.642857  106.000000    0.775510    1.387755   \n",
       "3    1.288889    2.233333    0.500000    0.977778   \n",
       "4    9.500000   21.541667    0.319444    0.777778   \n",
       "\n",
       "   Frequecny1isLowerFrequency2  Frequecny2isLowerFrequency4  Month  Buy  \\\n",
       "0                            1                            1      1    0   \n",
       "1                            1                            1      3    0   \n",
       "2                            1                            1      5    1   \n",
       "3                            1                            1      7    1   \n",
       "4                            1                            1     12    0   \n",
       "\n",
       "   Asset Managers & Hedge Funds  Asset Owners  Banks and Intermediaries  \\\n",
       "0                             1             0                         0   \n",
       "1                             0             1                         0   \n",
       "2                             1             0                         0   \n",
       "3                             0             0                         1   \n",
       "4                             1             0                         0   \n",
       "\n",
       "   Corporation  Official Institution - OI  Americas  Asia Pacific  \\\n",
       "0            0                          0         0             0   \n",
       "1            0                          0         0             0   \n",
       "2            0                          0         0             0   \n",
       "3            0                          0         0             0   \n",
       "4            0                          0         1             0   \n",
       "\n",
       "   Europe, Middle East and Africa  FLOW G10  FLOW LOCAL MARKET  \\\n",
       "0                               1         0                  1   \n",
       "1                               1         1                  0   \n",
       "2                               1         1                  0   \n",
       "3                               1         1                  0   \n",
       "4                               0         0                  1   \n",
       "\n",
       "   SAS & COVERED BONDS  NR  Currency_trend   MeanPrice  StdPrice  MeanYield  \\\n",
       "0                    0   0         1.00000  117.319623  4.613998   4.468827   \n",
       "1                    0   0        -0.00752  102.526643  8.867004   2.470258   \n",
       "2                    0   0         1.00000  102.627270  2.228127   3.838438   \n",
       "3                    0   0        -0.00294  101.017280  0.204407  -0.036528   \n",
       "4                    0   0         1.00000  110.170463  2.443280   5.958544   \n",
       "\n",
       "   StdYield  MeanZScore  StdZScore  YieldMarktDelta  ZScoreMarktDelta  \\\n",
       "0  0.354249    2.207733   0.545221         1.418700          0.584150   \n",
       "1  2.011795    2.344190   1.979572        -0.579869          0.720607   \n",
       "2  0.347182    1.876163   0.581684         0.788311          0.252580   \n",
       "3  0.193049    0.161060   0.150582        -3.086655         -1.462523   \n",
       "4  0.341985    3.637930   0.340257         2.908417          2.014346   \n",
       "\n",
       "   F34_ratio_exceeds_05  LastWeekCustSum  LastWeekBondSum  \\\n",
       "0                   1.0             27.0              0.0   \n",
       "1                   1.0              0.0              5.0   \n",
       "2                   1.0             57.0              0.0   \n",
       "3                   1.0              1.0              0.0   \n",
       "4                   0.0              3.0              4.0   \n",
       "\n",
       "   LastWeekCustPriceSum  LastWeekCustNotionalSum  LastMonthCustSum  \\\n",
       "0          5.224483e+03             7.224512e+07             173.0   \n",
       "1          1.000099e+06             1.400000e+06              14.0   \n",
       "2          9.977553e+03             1.362031e+08             441.0   \n",
       "3          5.227220e+02             3.768715e+06               2.0   \n",
       "4          5.547505e+03             3.071459e+07              27.0   \n",
       "\n",
       "   LastMonthBondSum  MaturityWeek  IssueWeek  MaturityPercent  RegPeriodDiff2  \\\n",
       "0               1.0           930        630        -1.873333        0.500000   \n",
       "1               7.0           202        161        -1.195122        0.014579   \n",
       "2               2.0           359        161        -0.313131        0.011560   \n",
       "3               0.0            60        148         0.647727        0.014108   \n",
       "4               1.0           464          6         0.146288        0.508621   \n",
       "\n",
       "   RegPeriodDiff4  \n",
       "0        1.000000  \n",
       "1        1.035088  \n",
       "2        1.017241  \n",
       "3        1.156863  \n",
       "4        1.017241  "
      ]
     },
     "execution_count": 191,
     "metadata": {},
     "output_type": "execute_result"
    }
   ],
   "source": [
    "# check data\n",
    "print(\"Dimensions:\", data.shape)\n",
    "data.head()"
   ]
  },
  {
   "cell_type": "code",
   "execution_count": 192,
   "metadata": {},
   "outputs": [
    {
     "data": {
      "text/plain": [
       "PredictionIdx              2184154\n",
       "CustomerInterest            484758\n",
       "MeanPrice                   206495\n",
       "StdPrice                    206601\n",
       "MeanYield                   206495\n",
       "StdYield                    206601\n",
       "MeanZScore                  206495\n",
       "StdZScore                   206601\n",
       "YieldMarktDelta             206495\n",
       "ZScoreMarktDelta            206495\n",
       "LastWeekCustSum              53095\n",
       "LastWeekBondSum             439429\n",
       "LastWeekCustPriceSum        159194\n",
       "LastWeekCustNotionalSum     159194\n",
       "LastMonthCustSum             32568\n",
       "LastMonthBondSum            122039\n",
       "MaturityPercent                  3\n",
       "RegPeriodDiff2               14024\n",
       "RegPeriodDiff4               14024\n",
       "dtype: int64"
      ]
     },
     "execution_count": 192,
     "metadata": {},
     "output_type": "execute_result"
    }
   ],
   "source": [
    "# check NA\n",
    "nas = data.isnull().sum()\n",
    "nas[nas > 0]"
   ]
  },
  {
   "cell_type": "code",
   "execution_count": 193,
   "metadata": {},
   "outputs": [
    {
     "data": {
      "text/plain": [
       "50"
      ]
     },
     "execution_count": 193,
     "metadata": {},
     "output_type": "execute_result"
    }
   ],
   "source": [
    "# list of features\n",
    "excluded_features = [\"PredictionIdx\", \"CustomerIdx\", \"IsinIdx\", \"BuySell\", \"CustomerInterest\",\n",
    "                     \"Frequecny1isLowerFrequency2\", \"Frequecny2isLowerFrequency4\"]\n",
    "features = [var for var in data.columns if var not in excluded_features]\n",
    "len(features)"
   ]
  },
  {
   "cell_type": "code",
   "execution_count": 194,
   "metadata": {},
   "outputs": [],
   "source": [
    "### DATA PARTITIONING\n",
    "\n",
    "# training\n",
    "X_train = data.loc[data.Week < 120]\n",
    "y_train = data.loc[data.Week < 120].CustomerInterest\n",
    "\n",
    "# validation\n",
    "X_valid = data.loc[data.Week == 120]\n",
    "y_valid = data.loc[data.Week == 120].CustomerInterest\n",
    "\n",
    "# test set\n",
    "test = data.loc[data.Week == 121]"
   ]
  },
  {
   "cell_type": "code",
   "execution_count": 195,
   "metadata": {},
   "outputs": [
    {
     "data": {
      "text/plain": [
       "CustomerInterest           484758\n",
       "MeanPrice                    5414\n",
       "StdPrice                     5476\n",
       "MeanYield                    5414\n",
       "StdYield                     5476\n",
       "MeanZScore                   5414\n",
       "StdZScore                    5476\n",
       "YieldMarktDelta              5414\n",
       "ZScoreMarktDelta             5414\n",
       "LastWeekCustSum              6490\n",
       "LastWeekBondSum             69040\n",
       "LastWeekCustPriceSum        24032\n",
       "LastWeekCustNotionalSum     24032\n",
       "LastMonthCustSum             1772\n",
       "LastMonthBondSum            13536\n",
       "RegPeriodDiff2               7698\n",
       "RegPeriodDiff4               7698\n",
       "dtype: int64"
      ]
     },
     "execution_count": 195,
     "metadata": {},
     "output_type": "execute_result"
    }
   ],
   "source": [
    "# check NA in test\n",
    "nas = test.isnull().sum()\n",
    "nas[nas > 0]"
   ]
  },
  {
   "cell_type": "markdown",
   "metadata": {},
   "source": [
    "# 4. MODELING - STAGE 1"
   ]
  },
  {
   "cell_type": "code",
   "execution_count": 200,
   "metadata": {},
   "outputs": [],
   "source": [
    "### PARAMETERS\n",
    "\n",
    "# parallel settings\n",
    "cores = 4\n",
    "\n",
    "# learner settings\n",
    "metric   = \"auc\"\n",
    "verbose  = 250\n",
    "stopping = 100\n",
    "\n",
    "# lightGBM\n",
    "gbm = lgb.LGBMClassifier(n_estimators     = 10000,\n",
    "                         learning_rate    = 0.005,\n",
    "                         num_leaves       = 70,\n",
    "                         colsample_bytree = 0.8,\n",
    "                         subsample        = 0.9,\n",
    "                         max_depth        = 7,\n",
    "                         reg_alpha        = 0.1,\n",
    "                         reg_lambda       = 0.1,\n",
    "                         min_split_gain   = 0.01,\n",
    "                         min_child_weight = 2,\n",
    "                         random_state     = 42,\n",
    "                         num_threads      = cores)"
   ]
  },
  {
   "cell_type": "code",
   "execution_count": 201,
   "metadata": {},
   "outputs": [
    {
     "name": "stdout",
     "output_type": "stream",
     "text": [
      "Training until validation scores don't improve for 100 rounds.\n",
      "[250]\tvalid_0's auc: 0.836514\tvalid_1's auc: 0.838886\n",
      "[500]\tvalid_0's auc: 0.839575\tvalid_1's auc: 0.841692\n",
      "[750]\tvalid_0's auc: 0.842359\tvalid_1's auc: 0.844002\n",
      "[1000]\tvalid_0's auc: 0.844425\tvalid_1's auc: 0.845226\n",
      "[1250]\tvalid_0's auc: 0.846173\tvalid_1's auc: 0.846165\n",
      "[1500]\tvalid_0's auc: 0.847833\tvalid_1's auc: 0.847136\n",
      "[1750]\tvalid_0's auc: 0.849348\tvalid_1's auc: 0.847816\n",
      "[2000]\tvalid_0's auc: 0.850733\tvalid_1's auc: 0.848303\n",
      "[2250]\tvalid_0's auc: 0.851956\tvalid_1's auc: 0.848853\n",
      "[2500]\tvalid_0's auc: 0.853112\tvalid_1's auc: 0.849279\n",
      "[2750]\tvalid_0's auc: 0.854182\tvalid_1's auc: 0.849611\n",
      "[3000]\tvalid_0's auc: 0.855165\tvalid_1's auc: 0.849817\n",
      "[3250]\tvalid_0's auc: 0.856072\tvalid_1's auc: 0.85002\n",
      "[3500]\tvalid_0's auc: 0.856905\tvalid_1's auc: 0.850216\n",
      "[3750]\tvalid_0's auc: 0.857738\tvalid_1's auc: 0.850401\n",
      "[4000]\tvalid_0's auc: 0.858508\tvalid_1's auc: 0.850498\n",
      "[4250]\tvalid_0's auc: 0.859257\tvalid_1's auc: 0.850638\n",
      "[4500]\tvalid_0's auc: 0.859961\tvalid_1's auc: 0.850757\n",
      "[4750]\tvalid_0's auc: 0.860628\tvalid_1's auc: 0.850867\n",
      "[5000]\tvalid_0's auc: 0.861292\tvalid_1's auc: 0.850956\n",
      "[5250]\tvalid_0's auc: 0.8619\tvalid_1's auc: 0.85105\n",
      "[5500]\tvalid_0's auc: 0.8625\tvalid_1's auc: 0.851118\n",
      "[5750]\tvalid_0's auc: 0.863096\tvalid_1's auc: 0.851173\n",
      "[6000]\tvalid_0's auc: 0.863668\tvalid_1's auc: 0.8512\n",
      "[6250]\tvalid_0's auc: 0.864246\tvalid_1's auc: 0.851273\n",
      "[6500]\tvalid_0's auc: 0.864809\tvalid_1's auc: 0.851271\n",
      "Early stopping, best iteration is:\n",
      "[6414]\tvalid_0's auc: 0.864621\tvalid_1's auc: 0.851304\n"
     ]
    }
   ],
   "source": [
    "# train lightGBM\n",
    "gbm = gbm.fit(X_train[features], y_train, \n",
    "              eval_set = [(X_train[features], y_train), \n",
    "                          (X_valid[features], y_valid)], \n",
    "              eval_metric = metric, verbose = verbose, \n",
    "              early_stopping_rounds = stopping)\n",
    "    \n",
    "# save number of iterations\n",
    "num_iters = gbm.best_iteration_  "
   ]
  },
  {
   "cell_type": "code",
   "execution_count": 202,
   "metadata": {},
   "outputs": [
    {
     "data": {
      "image/png": "[encoded data removed]",
      "text/plain": [
       "<matplotlib.figure.Figure at 0x1a16ca7828>"
      ]
     },
     "metadata": {},
     "output_type": "display_data"
    }
   ],
   "source": [
    "##### VARIABLE IMPORTANCE\n",
    "\n",
    "# load variable importance\n",
    "importance = pd.DataFrame()\n",
    "importance[\"feature\"] = features\n",
    "importance[\"importance\"] = gbm.feature_importances_\n",
    "\n",
    "# plot variable importance\n",
    "plt.figure(figsize = (10, 12))\n",
    "sns.barplot(x = \"importance\", y = \"feature\", data = importance.sort_values(by = \"importance\", ascending = False))\n",
    "plt.title('LGBM Feature Importance')\n",
    "plt.tight_layout()\n",
    "\n",
    "# save plot as pdf\n",
    "plt.savefig(\"../var_importance.pdf\")"
   ]
  },
  {
   "cell_type": "code",
   "execution_count": 203,
   "metadata": {},
   "outputs": [
    {
     "name": "stdout",
     "output_type": "stream",
     "text": [
      "SpearmanrResult(correlation=0.9971308812298834, pvalue=0.0)\n",
      "SpearmanrResult(correlation=0.9878820748738804, pvalue=0.0)\n"
     ]
    }
   ],
   "source": [
    "##### PREDICTION\n",
    "\n",
    "### VALID DATA\n",
    "\n",
    "# predict validation set\n",
    "pred_valid = X_valid[[\"CustomerIdx\", \"IsinIdx\", \"BuySell\", \"Week\", \"CustomerInterest\"]]\n",
    "pred_valid[\"TARGET\"] = gbm.predict_proba(X_valid[features], num_iteration = num_iters)[:, 1]\n",
    "auc = roc_auc_score(y_valid, pred_valid.TARGET)\n",
    "\n",
    "# check rank correlation with the best submission\n",
    "best = pd.read_csv(\"../pred_valid/auc850085_data_v4_0_60_under_wlp_lm_bm_lgb.csv\")\n",
    "best.columns = ['CustomerIdx', 'IsinIdx', 'BuySell', 'Week', 'CustomerInterest', 'TARGET_best']\n",
    "best = best.merge(pred_valid[[\"CustomerIdx\", \"IsinIdx\", \"BuySell\", \"TARGET\"]], \n",
    "                  how = \"right\", on = [\"CustomerIdx\", \"IsinIdx\", \"BuySell\"])\n",
    "print(spearmanr(best.TARGET, best.TARGET_best))\n",
    "\n",
    "# export CSV\n",
    "pred_valid.to_csv(\"../pred_valid/auc\" + str(round(auc, 6))[2:8] + \"_\" + str(data_name) + \"_lgb.csv\", \n",
    "                  index = False, float_format = \"%.8f\")\n",
    "\n",
    "\n",
    "### TEST DATA\n",
    "\n",
    "# predict test set\n",
    "test[\"TARGET\"] = gbm.predict_proba(test[features], num_iteration = num_iters)[:, 1]\n",
    "\n",
    "# check rank correlation with the best submission\n",
    "best = pd.read_csv(\"../submissions/auc850085_data_v4_0_60_under_wlp_lm_bm_lgb_2stage.csv\")\n",
    "best = best.merge(test[[\"PredictionIdx\", \"TARGET\"]], how = \"left\", on = \"PredictionIdx\")\n",
    "print(spearmanr(best[\"TARGET\"], best.CustomerInterest))\n",
    "\n",
    "# export CSV\n",
    "subm = best[[\"PredictionIdx\", \"TARGET\"]]\n",
    "subm.columns = [\"PredictionIdx\", \"CustomerInterest\"]\n",
    "subm.to_csv(\"../submissions/auc\" + str(round(auc, 6))[2:8] + \"_\" + str(data_name) + \"_lgb_1stage.csv\", \n",
    "            index = False, float_format = \"%.8f\")"
   ]
  },
  {
   "cell_type": "markdown",
   "metadata": {},
   "source": [
    "# 5. MODELING - STAGE 2"
   ]
  },
  {
   "cell_type": "code",
   "execution_count": 204,
   "metadata": {},
   "outputs": [],
   "source": [
    "# keep top features\n",
    "#top = 100\n",
    "#features = list(importance[\"feature\"][0:np.min([top, len(features)])])"
   ]
  },
  {
   "cell_type": "code",
   "execution_count": 205,
   "metadata": {},
   "outputs": [],
   "source": [
    "# use full data as train\n",
    "X_train = data.loc[data.Week <= 120]\n",
    "y_train = data.loc[data.Week <= 120].CustomerInterest"
   ]
  },
  {
   "cell_type": "code",
   "execution_count": 206,
   "metadata": {},
   "outputs": [
    {
     "name": "stdout",
     "output_type": "stream",
     "text": [
      "[250]\tvalid_0's auc: 0.836558\n",
      "[500]\tvalid_0's auc: 0.839655\n",
      "[750]\tvalid_0's auc: 0.842417\n",
      "[1000]\tvalid_0's auc: 0.84452\n",
      "[1250]\tvalid_0's auc: 0.846265\n",
      "[1500]\tvalid_0's auc: 0.847939\n",
      "[1750]\tvalid_0's auc: 0.849483\n",
      "[2000]\tvalid_0's auc: 0.850865\n",
      "[2250]\tvalid_0's auc: 0.85208\n",
      "[2500]\tvalid_0's auc: 0.853232\n",
      "[2750]\tvalid_0's auc: 0.854256\n",
      "[3000]\tvalid_0's auc: 0.855195\n",
      "[3250]\tvalid_0's auc: 0.856066\n",
      "[3500]\tvalid_0's auc: 0.856924\n",
      "[3750]\tvalid_0's auc: 0.857709\n",
      "[4000]\tvalid_0's auc: 0.858466\n",
      "[4250]\tvalid_0's auc: 0.859198\n",
      "[4500]\tvalid_0's auc: 0.859928\n",
      "[4750]\tvalid_0's auc: 0.860585\n",
      "[5000]\tvalid_0's auc: 0.861235\n",
      "[5250]\tvalid_0's auc: 0.861849\n",
      "[5500]\tvalid_0's auc: 0.862432\n",
      "[5750]\tvalid_0's auc: 0.86301\n",
      "[6000]\tvalid_0's auc: 0.863578\n",
      "[6250]\tvalid_0's auc: 0.864137\n"
     ]
    }
   ],
   "source": [
    "### retrain model with the best iters\n",
    "\n",
    "# lightGBM\n",
    "gbm = lgb.LGBMClassifier(n_estimators     = num_iters,\n",
    "                         learning_rate    = 0.005,\n",
    "                         num_leaves       = 70,\n",
    "                         colsample_bytree = 0.8,\n",
    "                         subsample        = 0.9,\n",
    "                         max_depth        = 7,\n",
    "                         reg_alpha        = 0.1,\n",
    "                         reg_lambda       = 0.1,\n",
    "                         min_split_gain   = 0.01,\n",
    "                         min_child_weight = 2,\n",
    "                         random_state     = 42,\n",
    "                         num_threads      = cores)\n",
    "\n",
    "# train lightGBM\n",
    "gbm = gbm.fit(X_train[features], y_train, \n",
    "              eval_set = [(X_train[features], y_train)], \n",
    "              eval_metric = metric, verbose = 250)"
   ]
  },
  {
   "cell_type": "code",
   "execution_count": 207,
   "metadata": {},
   "outputs": [],
   "source": [
    "# predict test set\n",
    "test[\"TARGET\"] = gbm.predict_proba(test[features], num_iteration = num_iters)[:, 1]"
   ]
  },
  {
   "cell_type": "code",
   "execution_count": 208,
   "metadata": {},
   "outputs": [
    {
     "data": {
      "text/plain": [
       "SpearmanrResult(correlation=0.9887059505319885, pvalue=0.0)"
      ]
     },
     "execution_count": 208,
     "metadata": {},
     "output_type": "execute_result"
    }
   ],
   "source": [
    "# check rank correlation with the best submission\n",
    "best = pd.read_csv(\"../submissions/auc850085_data_v4_0_60_under_wlp_lm_bm_lgb_2stage.csv\")\n",
    "best = best.merge(test[[\"PredictionIdx\", \"TARGET\"]], how = \"left\", on = \"PredictionIdx\")\n",
    "spearmanr(best[\"TARGET\"], best.CustomerInterest)"
   ]
  },
  {
   "cell_type": "code",
   "execution_count": 209,
   "metadata": {},
   "outputs": [],
   "source": [
    "# export CSV\n",
    "subm = best[[\"PredictionIdx\", \"TARGET\"]]\n",
    "subm.columns = [\"PredictionIdx\", \"CustomerInterest\"]\n",
    "subm.to_csv(\"../submissions/auc\" + str(round(auc, 6))[2:8] + \"_\" + str(data_name) + \"_lgb_2stage.csv\", \n",
    "            index = False, float_format = \"%.8f\")"
   ]
  }
 ],
 "metadata": {
  "kernelspec": {
   "display_name": "Python 3",
   "language": "python",
   "name": "python3"
  },
  "language_info": {
   "codemirror_mode": {
    "name": "ipython",
    "version": 3
   },
   "file_extension": ".py",
   "mimetype": "text/x-python",
   "name": "python",
   "nbconvert_exporter": "python",
   "pygments_lexer": "ipython3",
   "version": "3.6.5"
  }
 },
 "nbformat": 4,
 "nbformat_minor": 2
}
