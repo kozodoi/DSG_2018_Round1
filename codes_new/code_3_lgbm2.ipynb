{
 "cells": [
  {
   "cell_type": "markdown",
   "metadata": {},
   "source": [
    "# 1. SETTINGS"
   ]
  },
  {
   "cell_type": "code",
   "execution_count": 1,
   "metadata": {},
   "outputs": [],
   "source": [
    "# libraries\n",
    "import numpy as np\n",
    "import pandas as pd\n",
    "import matplotlib.pyplot as plt\n",
    "import seaborn as sns\n",
    "from sklearn.metrics import roc_auc_score\n",
    "from scipy.stats import spearmanr\n",
    "import lightgbm as lgb\n",
    "import random"
   ]
  },
  {
   "cell_type": "code",
   "execution_count": 2,
   "metadata": {},
   "outputs": [],
   "source": [
    "# garbage collection\n",
    "import gc\n",
    "gc.enable()"
   ]
  },
  {
   "cell_type": "code",
   "execution_count": 3,
   "metadata": {},
   "outputs": [],
   "source": [
    "# warnings\n",
    "import warnings\n",
    "warnings.filterwarnings(\"ignore\")"
   ]
  },
  {
   "cell_type": "code",
   "execution_count": 4,
   "metadata": {},
   "outputs": [],
   "source": [
    "# pandas options\n",
    "pd.set_option(\"display.max_columns\", None)"
   ]
  },
  {
   "cell_type": "markdown",
   "metadata": {},
   "source": [
    "# 2. IMPORT"
   ]
  },
  {
   "cell_type": "code",
   "execution_count": 5,
   "metadata": {},
   "outputs": [],
   "source": [
    "# data name (used for saving files too)\n",
    "data_name = \"data_v4_0_60\""
   ]
  },
  {
   "cell_type": "code",
   "execution_count": 6,
   "metadata": {},
   "outputs": [],
   "source": [
    "# import datasets\n",
    "data = pd.read_csv(\"../data/prepared/\" + str(data_name) + \".csv\", compression = \"gzip\")"
   ]
  },
  {
   "cell_type": "code",
   "execution_count": 7,
   "metadata": {},
   "outputs": [],
   "source": [
    "# data name (used for saving files too)\n",
    "data_name = \"data_v4_0_60_full_r27_wlp_lm_bm\""
   ]
  },
  {
   "cell_type": "code",
   "execution_count": 8,
   "metadata": {},
   "outputs": [
    {
     "data": {
      "text/plain": [
       "(21895593, 45)"
      ]
     },
     "execution_count": 8,
     "metadata": {},
     "output_type": "execute_result"
    }
   ],
   "source": [
    "# drop high recency from train\n",
    "data = data[(data.Week == 121) | (data.Recency2 < 27)]\n",
    "data = data[(data.Week == 121) | (data.Recency1 < data.Recency1.max())]\n",
    "data.shape"
   ]
  },
  {
   "cell_type": "markdown",
   "metadata": {},
   "source": [
    "# 3. PREPARATIONS"
   ]
  },
  {
   "cell_type": "markdown",
   "metadata": {},
   "source": [
    "### ADD MORE FEATURES"
   ]
  },
  {
   "cell_type": "code",
   "execution_count": 9,
   "metadata": {},
   "outputs": [
    {
     "name": "stdout",
     "output_type": "stream",
     "text": [
      "(21895593, 45)\n"
     ]
    }
   ],
   "source": [
    "# compute BuySell dummy\n",
    "data[\"Buy\"] = 0\n",
    "data[\"Buy\"][data.BuySell == \"Buy\"] = 1\n",
    "print(data.shape)"
   ]
  },
  {
   "cell_type": "code",
   "execution_count": 10,
   "metadata": {},
   "outputs": [],
   "source": [
    "### RF Ratios\n",
    "\n",
    "#data[\"R12_ratio\"] = data.Recency1 / data.Recency2\n",
    "#data[\"R13_ratio\"] = data.Recency1 / data.Recency3\n",
    "#data[\"R14_ratio\"] = data.Recency1 / data.Recency4\n",
    "#data[\"R56_ratio\"] = data.Recency5 / data.Recency6\n",
    "\n",
    "#data[\"F12_ratio\"] = data.Frequency1 / data.Frequency2\n",
    "#data[\"F13_ratio\"] = data.Frequency1 / data.Frequency3\n",
    "#data[\"F14_ratio\"] = data.Frequency1 / data.Frequency4\n",
    "#data[\"F56_ratio\"] = data.Frequency5 / data.Frequency6\n",
    "\n",
    "#data.shape"
   ]
  },
  {
   "cell_type": "code",
   "execution_count": 11,
   "metadata": {},
   "outputs": [
    {
     "name": "stdout",
     "output_type": "stream",
     "text": [
      "(21895593, 46)\n",
      "(21895593, 47)\n"
     ]
    }
   ],
   "source": [
    "# add last week sum (CUST)\n",
    "tmp = data.sort_values(by = [\"Week\"], ascending = True).groupby([\"CustomerIdx\", \"Week\"], as_index = True)\n",
    "tmp = tmp.CustomerInterest.sum().reset_index()\n",
    "tmp.columns = [\"CustomerIdx\", \"Week\", \"LastWeekCustSum\"]\n",
    "tmp[\"Week\"] = tmp.Week + 1\n",
    "data = data.merge(tmp, how = \"left\", on = [\"CustomerIdx\", \"Week\"])\n",
    "print(data.shape)\n",
    "\n",
    "# add last week sum (BOND)\n",
    "tmp = data.sort_values(by = [\"Week\"], ascending = True).groupby([\"IsinIdx\", \"Week\"], as_index = True)\n",
    "tmp = tmp.CustomerInterest.sum().reset_index()\n",
    "tmp.columns = [\"IsinIdx\", \"Week\", \"LastWeekBondSum\"]\n",
    "tmp[\"Week\"] = tmp.Week + 1\n",
    "data = data.merge(tmp, how = \"left\", on = [\"IsinIdx\", \"Week\"])\n",
    "print(data.shape)"
   ]
  },
  {
   "cell_type": "code",
   "execution_count": 12,
   "metadata": {},
   "outputs": [
    {
     "name": "stdout",
     "output_type": "stream",
     "text": [
      "(21895593, 48)\n",
      "(21895593, 49)\n"
     ]
    }
   ],
   "source": [
    "### ADD PRICE AND NOTIONAL\n",
    "\n",
    "tmp = pd.read_csv(\"../data/prepared/price_notional.csv\", compression = \"gzip\")\n",
    "\n",
    "# add last week price sum (CUST)\n",
    "tmp2 = tmp.sort_values(by = [\"Week\"], ascending = True).groupby([\"CustomerIdx\", \"Week\"], as_index = True)\n",
    "tmp2 = tmp2.Price.sum().reset_index()\n",
    "tmp2.columns = [\"CustomerIdx\", \"Week\", \"LastWeekCustPriceSum\"]\n",
    "tmp2[\"Week\"] = tmp2.Week + 1\n",
    "data = data.merge(tmp2, how = \"left\", on = [\"CustomerIdx\", \"Week\"])\n",
    "print(data.shape)\n",
    "\n",
    "# add last week notional sum (CUST)\n",
    "tmp2 = tmp.sort_values(by = [\"Week\"], ascending = True).groupby([\"CustomerIdx\", \"Week\"], as_index = True)\n",
    "tmp2 = tmp2.NotionalEUR.sum().reset_index()\n",
    "tmp2.columns = [\"CustomerIdx\", \"Week\", \"LastWeekCustNotionalSum\"]\n",
    "tmp2[\"Week\"] = tmp2.Week + 1\n",
    "data = data.merge(tmp2, how = \"left\", on = [\"CustomerIdx\", \"Week\"])\n",
    "print(data.shape)"
   ]
  },
  {
   "cell_type": "code",
   "execution_count": 13,
   "metadata": {},
   "outputs": [],
   "source": [
    "### ADD CUSTOMER INDICATORS\n",
    "\n",
    "#cust  = pd.read_csv(\"../data/raw/Customer.csv\")\n",
    "#cust.head()\n",
    "\n",
    "# create dummies for customers\n",
    "#cust_dummies = pd.concat([cust.CustomerIdx, pd.get_dummies(cust.Subsector)], axis = 1)\n",
    "\n",
    "# merge customer dummies\n",
    "#data = data.merge(cust_dummies, on = \"CustomerIdx\", how = \"left\")\n",
    "#print(data.shape)"
   ]
  },
  {
   "cell_type": "code",
   "execution_count": 14,
   "metadata": {},
   "outputs": [],
   "source": [
    "### ADD BOND FEATURES [V1]\n",
    "\n",
    "# load bond data\n",
    "#bond_stat = pd.read_csv(\"../data/prepared/bondstat1_AK\")\n",
    "\n",
    "# merge bond data\n",
    "#data = data.merge(bond_stat[[\"IsinIdx\", \"t\", \"timeOnMarket\", \"percentoflifeleft\"]], how = \"left\", on = \"IsinIdx\")\n",
    "#print(data.shape)"
   ]
  },
  {
   "cell_type": "code",
   "execution_count": 15,
   "metadata": {},
   "outputs": [],
   "source": [
    "### ADD NEW BOND FEATURES [V2]\n",
    "\n",
    "# load bond data\n",
    "#bond_stat = pd.read_csv(\"../data/prepared/bondstat2_AK\")\n",
    "\n",
    "# merge bond data\n",
    "#data = data.merge(bond_stat[[\"IsinIdx\", 'ymeansq', 'ymeancube', 'zmeansq', 'zmeancube',\n",
    "#                             'years_tomaturity', 'count', 'ratingspread', 'ratingZspread']], \n",
    "#                  how = \"left\", on = \"IsinIdx\")\n",
    "#print(data.shape)"
   ]
  },
  {
   "cell_type": "code",
   "execution_count": 16,
   "metadata": {},
   "outputs": [],
   "source": [
    "### ADD BOND FEATURES [V3]\n",
    "\n",
    "# load bond data\n",
    "#bond_stat = pd.read_csv(\"../data/prepared/bondstat3_AK\")\n",
    "#bond_stat.head()\n",
    "\n",
    "# merge bond data\n",
    "#data = data.merge(bond_stat[[\"IsinIdx\", 'predyield', 'predprice']], how = \"left\", on = \"IsinIdx\")\n",
    "#print(data.shape)"
   ]
  },
  {
   "cell_type": "code",
   "execution_count": 17,
   "metadata": {},
   "outputs": [],
   "source": [
    "### BOND-SPECIFIC FINANCIAL INDICATORS\n",
    "\n",
    "#bond  = pd.read_csv(\"../data/raw/Isin.csv\")\n",
    "\n",
    "# create bond dummies\n",
    "#bond_dummies = pd.concat([bond.IsinIdx,\n",
    "#                          pd.get_dummies(bond.IndustrySector), \n",
    "#                          pd.get_dummies(bond.Region),\n",
    "#                          pd.get_dummies(bond.MarketIssue), \n",
    "#                          pd.get_dummies(bond.CouponType)], axis = 1)\n",
    "\n",
    "# merge bond dummies\n",
    "#data = data.merge(bond_dummies, on = \"IsinIdx\", how = \"left\")\n",
    "#print(data.shape)"
   ]
  },
  {
   "cell_type": "code",
   "execution_count": 18,
   "metadata": {},
   "outputs": [],
   "source": [
    "### ADD NEW NIKITA FEATURES\n",
    "\n",
    "# import data\n",
    "#cust    = pd.read_csv(\"../data/prepared/cust_nik.csv\",   compression = \"gzip\")\n",
    "#bond    = pd.read_csv(\"../data/prepared/bond_nik.csv\",   compression = \"gzip\")\n",
    "#market  = pd.read_csv(\"../data/prepared/market_nik.csv\", compression = \"gzip\")\n",
    "\n",
    "#cust = cust[[\"CustomerIdx\", \"Region\"]]\n",
    "#bond = bond[[\"IsinIdx\", \"ActualMaturityDateKey\", \"IssueDateKey\"]]\n",
    "\n",
    "# merge data\n",
    "#print(data.shape)\n",
    "#data = data.merge(cust, on = \"CustomerIdx\", how = \"left\")\n",
    "#print(data.shape)\n",
    "#data = data.merge(bond, on = \"IsinIdx\", how = \"left\")\n",
    "#print(data.shape)\n",
    "#data = data.merge(market, on = [\"IsinIdx\", \"Week\"], how = \"left\")\n",
    "#print(data.shape)\n",
    "\n",
    "# compute day differences\n",
    "#data[\"ActualMaturityDateKey\"] = data[\"ActualMaturityDateKey\"] - data[\"Week\"]\n",
    "#data[\"IssueDateKey\"]          = data[\"IssueDateKey\"] - data[\"Week\"]"
   ]
  },
  {
   "cell_type": "code",
   "execution_count": 19,
   "metadata": {},
   "outputs": [
    {
     "name": "stdout",
     "output_type": "stream",
     "text": [
      "(21895593, 51)\n",
      "(21895593, 52)\n"
     ]
    }
   ],
   "source": [
    "### ADD LAST MONTH SUMS\n",
    "\n",
    "# merge month number\n",
    "tmp = pd.read_csv(\"../data/raw/Trade.csv\")[[\"TradeDateKey\"]]\n",
    "tmp = tmp.drop_duplicates()\n",
    "tmp[\"TradeDateKey\"] = pd.to_datetime(tmp[\"TradeDateKey\"], format = '%Y%m%d')\n",
    "tmp[\"Week\"] = (tmp.TradeDateKey.dt.year - 2016) * 52 + (tmp.TradeDateKey.dt.week)\n",
    "tmp[\"CumMonth\"] = (tmp.TradeDateKey.dt.year - 2016) * 12 + (tmp.TradeDateKey.dt.month)\n",
    "tmp = tmp[[\"Week\", \"CumMonth\"]]\n",
    "tmp = tmp.drop_duplicates()\n",
    "tmp = tmp.groupby(\"Week\").CumMonth.min().reset_index()\n",
    "data = data.merge(tmp, how = \"left\", on = \"Week\")\n",
    "data[\"CumMonth\"][data.Week == 121] = 28\n",
    "\n",
    "# add last month mean (CUST)\n",
    "tmp = data.sort_values(by = [\"CumMonth\"], ascending = True).groupby([\"CustomerIdx\", \"CumMonth\"], as_index = True)\n",
    "tmp = tmp.CustomerInterest.sum().reset_index()\n",
    "tmp.columns = [\"CustomerIdx\", \"CumMonth\", \"LastMonthCustSum\"]\n",
    "tmp[\"CumMonth\"] = tmp.CumMonth + 1\n",
    "data = data.merge(tmp, how = \"left\", on = [\"CustomerIdx\", \"CumMonth\"])\n",
    "print(data.shape)\n",
    "\n",
    "# add last month mean (BOND)\n",
    "tmp = data.sort_values(by = [\"CumMonth\"], ascending = True).groupby([\"IsinIdx\", \"CumMonth\"], as_index = True)\n",
    "tmp = tmp.CustomerInterest.sum().reset_index()\n",
    "tmp.columns = [\"IsinIdx\", \"CumMonth\", \"LastMonthBondSum\"]\n",
    "tmp[\"CumMonth\"] = tmp.CumMonth + 1\n",
    "data = data.merge(tmp, how = \"left\", on = [\"IsinIdx\", \"CumMonth\"])\n",
    "print(data.shape)\n",
    "\n",
    "# drop month\n",
    "del data[\"CumMonth\"]"
   ]
  },
  {
   "cell_type": "code",
   "execution_count": 20,
   "metadata": {},
   "outputs": [
    {
     "name": "stdout",
     "output_type": "stream",
     "text": [
      "(21895593, 54)\n"
     ]
    }
   ],
   "source": [
    "### ADD BOND MATURITY DATA\n",
    "\n",
    "# import\n",
    "bond = pd.read_csv(\"../data/prepared/data_bond_v1.csv\", compression = \"gzip\")\n",
    "bond = bond[['IsinIdx', 'MaturityWeek', 'IssueWeek']]\n",
    "\n",
    "# merge\n",
    "data = data.merge(bond, on = \"IsinIdx\", how = \"left\")\n",
    "\n",
    "# compute week differences\n",
    "data[\"MaturityWeek\"]    = data.MaturityWeek - data.Week\n",
    "data[\"IssueWeek\"]       = data.Week - data.IssueWeek\n",
    "data[\"MaturityPercent\"] = (data.Week - data.IssueWeek) / (data.MaturityWeek - data.IssueWeek)\n",
    "print(data.shape)"
   ]
  },
  {
   "cell_type": "markdown",
   "metadata": {},
   "source": [
    "### CHECKS AND PREPARATIONS"
   ]
  },
  {
   "cell_type": "code",
   "execution_count": 21,
   "metadata": {},
   "outputs": [
    {
     "name": "stdout",
     "output_type": "stream",
     "text": [
      "Dimensions: (21895593, 54)\n"
     ]
    },
    {
     "data": {
      "text/html": [
       "<div>\n",
       "<style scoped>\n",
       "    .dataframe tbody tr th:only-of-type {\n",
       "        vertical-align: middle;\n",
       "    }\n",
       "\n",
       "    .dataframe tbody tr th {\n",
       "        vertical-align: top;\n",
       "    }\n",
       "\n",
       "    .dataframe thead th {\n",
       "        text-align: right;\n",
       "    }\n",
       "</style>\n",
       "<table border=\"1\" class=\"dataframe\">\n",
       "  <thead>\n",
       "    <tr style=\"text-align: right;\">\n",
       "      <th></th>\n",
       "      <th>PredictionIdx</th>\n",
       "      <th>CustomerIdx</th>\n",
       "      <th>IsinIdx</th>\n",
       "      <th>BuySell</th>\n",
       "      <th>CustomerInterest</th>\n",
       "      <th>Week</th>\n",
       "      <th>Recency1</th>\n",
       "      <th>Recency2</th>\n",
       "      <th>Recency3</th>\n",
       "      <th>Recency4</th>\n",
       "      <th>Recency5</th>\n",
       "      <th>Recency6</th>\n",
       "      <th>Recency1isLowerRecency2</th>\n",
       "      <th>Recency2isLowerRecency4</th>\n",
       "      <th>Frequency1</th>\n",
       "      <th>Frequency2</th>\n",
       "      <th>Frequency3</th>\n",
       "      <th>Frequency4</th>\n",
       "      <th>Frequency5</th>\n",
       "      <th>Frequency6</th>\n",
       "      <th>Frequecny1isLowerFrequency2</th>\n",
       "      <th>Frequecny2isLowerFrequency4</th>\n",
       "      <th>Month</th>\n",
       "      <th>Buy</th>\n",
       "      <th>Asset Managers &amp; Hedge Funds</th>\n",
       "      <th>Asset Owners</th>\n",
       "      <th>Banks and Intermediaries</th>\n",
       "      <th>Corporation</th>\n",
       "      <th>Official Institution - OI</th>\n",
       "      <th>Americas</th>\n",
       "      <th>Asia Pacific</th>\n",
       "      <th>Europe, Middle East and Africa</th>\n",
       "      <th>FLOW G10</th>\n",
       "      <th>FLOW LOCAL MARKET</th>\n",
       "      <th>SAS &amp; COVERED BONDS</th>\n",
       "      <th>NR</th>\n",
       "      <th>Currency_trend</th>\n",
       "      <th>MeanPrice</th>\n",
       "      <th>StdPrice</th>\n",
       "      <th>MeanYield</th>\n",
       "      <th>StdYield</th>\n",
       "      <th>MeanZScore</th>\n",
       "      <th>StdZScore</th>\n",
       "      <th>YieldMarktDelta</th>\n",
       "      <th>ZScoreMarktDelta</th>\n",
       "      <th>LastWeekCustSum</th>\n",
       "      <th>LastWeekBondSum</th>\n",
       "      <th>LastWeekCustPriceSum</th>\n",
       "      <th>LastWeekCustNotionalSum</th>\n",
       "      <th>LastMonthCustSum</th>\n",
       "      <th>LastMonthBondSum</th>\n",
       "      <th>MaturityWeek</th>\n",
       "      <th>IssueWeek</th>\n",
       "      <th>MaturityPercent</th>\n",
       "    </tr>\n",
       "  </thead>\n",
       "  <tbody>\n",
       "    <tr>\n",
       "      <th>0</th>\n",
       "      <td>NaN</td>\n",
       "      <td>0</td>\n",
       "      <td>16471</td>\n",
       "      <td>Buy</td>\n",
       "      <td>0.0</td>\n",
       "      <td>73</td>\n",
       "      <td>1.0</td>\n",
       "      <td>1.0</td>\n",
       "      <td>1.0</td>\n",
       "      <td>1.0</td>\n",
       "      <td>1.0</td>\n",
       "      <td>1.0</td>\n",
       "      <td>1</td>\n",
       "      <td>1</td>\n",
       "      <td>0.013889</td>\n",
       "      <td>0.013889</td>\n",
       "      <td>0.111111</td>\n",
       "      <td>0.236111</td>\n",
       "      <td>0.305556</td>\n",
       "      <td>0.597222</td>\n",
       "      <td>0</td>\n",
       "      <td>1</td>\n",
       "      <td>11</td>\n",
       "      <td>1</td>\n",
       "      <td>1</td>\n",
       "      <td>0</td>\n",
       "      <td>0</td>\n",
       "      <td>0</td>\n",
       "      <td>0</td>\n",
       "      <td>0</td>\n",
       "      <td>1</td>\n",
       "      <td>0</td>\n",
       "      <td>0</td>\n",
       "      <td>1</td>\n",
       "      <td>0</td>\n",
       "      <td>0</td>\n",
       "      <td>1.0</td>\n",
       "      <td>105.323953</td>\n",
       "      <td>1.333736</td>\n",
       "      <td>3.085399</td>\n",
       "      <td>3.358929</td>\n",
       "      <td>1.903997</td>\n",
       "      <td>3.207112</td>\n",
       "      <td>0.035272</td>\n",
       "      <td>0.280414</td>\n",
       "      <td>0.0</td>\n",
       "      <td>0.0</td>\n",
       "      <td>104.120</td>\n",
       "      <td>2332048.0</td>\n",
       "      <td>0.0</td>\n",
       "      <td>0.0</td>\n",
       "      <td>105</td>\n",
       "      <td>155</td>\n",
       "      <td>1.640000</td>\n",
       "    </tr>\n",
       "    <tr>\n",
       "      <th>1</th>\n",
       "      <td>NaN</td>\n",
       "      <td>0</td>\n",
       "      <td>16471</td>\n",
       "      <td>Buy</td>\n",
       "      <td>0.0</td>\n",
       "      <td>73</td>\n",
       "      <td>1.0</td>\n",
       "      <td>1.0</td>\n",
       "      <td>1.0</td>\n",
       "      <td>1.0</td>\n",
       "      <td>1.0</td>\n",
       "      <td>1.0</td>\n",
       "      <td>1</td>\n",
       "      <td>1</td>\n",
       "      <td>0.013889</td>\n",
       "      <td>0.013889</td>\n",
       "      <td>0.111111</td>\n",
       "      <td>0.236111</td>\n",
       "      <td>0.305556</td>\n",
       "      <td>0.597222</td>\n",
       "      <td>0</td>\n",
       "      <td>1</td>\n",
       "      <td>12</td>\n",
       "      <td>1</td>\n",
       "      <td>1</td>\n",
       "      <td>0</td>\n",
       "      <td>0</td>\n",
       "      <td>0</td>\n",
       "      <td>0</td>\n",
       "      <td>0</td>\n",
       "      <td>1</td>\n",
       "      <td>0</td>\n",
       "      <td>0</td>\n",
       "      <td>1</td>\n",
       "      <td>0</td>\n",
       "      <td>0</td>\n",
       "      <td>1.0</td>\n",
       "      <td>105.323953</td>\n",
       "      <td>1.333736</td>\n",
       "      <td>3.085399</td>\n",
       "      <td>3.358929</td>\n",
       "      <td>1.903997</td>\n",
       "      <td>3.207112</td>\n",
       "      <td>0.035272</td>\n",
       "      <td>0.280414</td>\n",
       "      <td>0.0</td>\n",
       "      <td>0.0</td>\n",
       "      <td>104.120</td>\n",
       "      <td>2332048.0</td>\n",
       "      <td>0.0</td>\n",
       "      <td>0.0</td>\n",
       "      <td>105</td>\n",
       "      <td>155</td>\n",
       "      <td>1.640000</td>\n",
       "    </tr>\n",
       "    <tr>\n",
       "      <th>2</th>\n",
       "      <td>NaN</td>\n",
       "      <td>0</td>\n",
       "      <td>16471</td>\n",
       "      <td>Buy</td>\n",
       "      <td>0.0</td>\n",
       "      <td>74</td>\n",
       "      <td>2.0</td>\n",
       "      <td>2.0</td>\n",
       "      <td>2.0</td>\n",
       "      <td>1.0</td>\n",
       "      <td>1.0</td>\n",
       "      <td>1.0</td>\n",
       "      <td>1</td>\n",
       "      <td>0</td>\n",
       "      <td>0.013699</td>\n",
       "      <td>0.013699</td>\n",
       "      <td>0.109589</td>\n",
       "      <td>0.246575</td>\n",
       "      <td>0.315068</td>\n",
       "      <td>0.602740</td>\n",
       "      <td>0</td>\n",
       "      <td>1</td>\n",
       "      <td>11</td>\n",
       "      <td>1</td>\n",
       "      <td>1</td>\n",
       "      <td>0</td>\n",
       "      <td>0</td>\n",
       "      <td>0</td>\n",
       "      <td>0</td>\n",
       "      <td>0</td>\n",
       "      <td>1</td>\n",
       "      <td>0</td>\n",
       "      <td>0</td>\n",
       "      <td>1</td>\n",
       "      <td>0</td>\n",
       "      <td>0</td>\n",
       "      <td>1.0</td>\n",
       "      <td>105.323953</td>\n",
       "      <td>1.333736</td>\n",
       "      <td>3.085399</td>\n",
       "      <td>3.358929</td>\n",
       "      <td>1.903997</td>\n",
       "      <td>3.207112</td>\n",
       "      <td>0.035272</td>\n",
       "      <td>0.280414</td>\n",
       "      <td>2.0</td>\n",
       "      <td>2.0</td>\n",
       "      <td>100.200</td>\n",
       "      <td>5632544.0</td>\n",
       "      <td>0.0</td>\n",
       "      <td>0.0</td>\n",
       "      <td>104</td>\n",
       "      <td>156</td>\n",
       "      <td>1.576923</td>\n",
       "    </tr>\n",
       "    <tr>\n",
       "      <th>3</th>\n",
       "      <td>NaN</td>\n",
       "      <td>0</td>\n",
       "      <td>16471</td>\n",
       "      <td>Buy</td>\n",
       "      <td>0.0</td>\n",
       "      <td>75</td>\n",
       "      <td>3.0</td>\n",
       "      <td>3.0</td>\n",
       "      <td>3.0</td>\n",
       "      <td>2.0</td>\n",
       "      <td>2.0</td>\n",
       "      <td>1.0</td>\n",
       "      <td>1</td>\n",
       "      <td>0</td>\n",
       "      <td>0.013514</td>\n",
       "      <td>0.013514</td>\n",
       "      <td>0.108108</td>\n",
       "      <td>0.243243</td>\n",
       "      <td>0.310811</td>\n",
       "      <td>0.608108</td>\n",
       "      <td>0</td>\n",
       "      <td>1</td>\n",
       "      <td>11</td>\n",
       "      <td>1</td>\n",
       "      <td>1</td>\n",
       "      <td>0</td>\n",
       "      <td>0</td>\n",
       "      <td>0</td>\n",
       "      <td>0</td>\n",
       "      <td>0</td>\n",
       "      <td>1</td>\n",
       "      <td>0</td>\n",
       "      <td>0</td>\n",
       "      <td>1</td>\n",
       "      <td>0</td>\n",
       "      <td>0</td>\n",
       "      <td>1.0</td>\n",
       "      <td>105.323953</td>\n",
       "      <td>1.333736</td>\n",
       "      <td>3.085399</td>\n",
       "      <td>3.358929</td>\n",
       "      <td>1.903997</td>\n",
       "      <td>3.207112</td>\n",
       "      <td>0.035272</td>\n",
       "      <td>0.280414</td>\n",
       "      <td>0.0</td>\n",
       "      <td>0.0</td>\n",
       "      <td>NaN</td>\n",
       "      <td>NaN</td>\n",
       "      <td>2.0</td>\n",
       "      <td>2.0</td>\n",
       "      <td>103</td>\n",
       "      <td>157</td>\n",
       "      <td>1.518519</td>\n",
       "    </tr>\n",
       "    <tr>\n",
       "      <th>4</th>\n",
       "      <td>NaN</td>\n",
       "      <td>0</td>\n",
       "      <td>16471</td>\n",
       "      <td>Buy</td>\n",
       "      <td>0.0</td>\n",
       "      <td>76</td>\n",
       "      <td>4.0</td>\n",
       "      <td>4.0</td>\n",
       "      <td>1.0</td>\n",
       "      <td>1.0</td>\n",
       "      <td>3.0</td>\n",
       "      <td>2.0</td>\n",
       "      <td>1</td>\n",
       "      <td>0</td>\n",
       "      <td>0.013333</td>\n",
       "      <td>0.013333</td>\n",
       "      <td>0.120000</td>\n",
       "      <td>0.253333</td>\n",
       "      <td>0.306667</td>\n",
       "      <td>0.600000</td>\n",
       "      <td>0</td>\n",
       "      <td>1</td>\n",
       "      <td>11</td>\n",
       "      <td>1</td>\n",
       "      <td>1</td>\n",
       "      <td>0</td>\n",
       "      <td>0</td>\n",
       "      <td>0</td>\n",
       "      <td>0</td>\n",
       "      <td>0</td>\n",
       "      <td>1</td>\n",
       "      <td>0</td>\n",
       "      <td>0</td>\n",
       "      <td>1</td>\n",
       "      <td>0</td>\n",
       "      <td>0</td>\n",
       "      <td>1.0</td>\n",
       "      <td>105.323953</td>\n",
       "      <td>1.333736</td>\n",
       "      <td>3.085399</td>\n",
       "      <td>3.358929</td>\n",
       "      <td>1.903997</td>\n",
       "      <td>3.207112</td>\n",
       "      <td>0.035272</td>\n",
       "      <td>0.280414</td>\n",
       "      <td>0.0</td>\n",
       "      <td>0.0</td>\n",
       "      <td>104.875</td>\n",
       "      <td>6029477.0</td>\n",
       "      <td>2.0</td>\n",
       "      <td>2.0</td>\n",
       "      <td>102</td>\n",
       "      <td>158</td>\n",
       "      <td>1.464286</td>\n",
       "    </tr>\n",
       "  </tbody>\n",
       "</table>\n",
       "</div>"
      ],
      "text/plain": [
       "  PredictionIdx  CustomerIdx  IsinIdx BuySell  CustomerInterest  Week  \\\n",
       "0           NaN            0    16471     Buy               0.0    73   \n",
       "1           NaN            0    16471     Buy               0.0    73   \n",
       "2           NaN            0    16471     Buy               0.0    74   \n",
       "3           NaN            0    16471     Buy               0.0    75   \n",
       "4           NaN            0    16471     Buy               0.0    76   \n",
       "\n",
       "   Recency1  Recency2  Recency3  Recency4  Recency5  Recency6  \\\n",
       "0       1.0       1.0       1.0       1.0       1.0       1.0   \n",
       "1       1.0       1.0       1.0       1.0       1.0       1.0   \n",
       "2       2.0       2.0       2.0       1.0       1.0       1.0   \n",
       "3       3.0       3.0       3.0       2.0       2.0       1.0   \n",
       "4       4.0       4.0       1.0       1.0       3.0       2.0   \n",
       "\n",
       "   Recency1isLowerRecency2  Recency2isLowerRecency4  Frequency1  Frequency2  \\\n",
       "0                        1                        1    0.013889    0.013889   \n",
       "1                        1                        1    0.013889    0.013889   \n",
       "2                        1                        0    0.013699    0.013699   \n",
       "3                        1                        0    0.013514    0.013514   \n",
       "4                        1                        0    0.013333    0.013333   \n",
       "\n",
       "   Frequency3  Frequency4  Frequency5  Frequency6  \\\n",
       "0    0.111111    0.236111    0.305556    0.597222   \n",
       "1    0.111111    0.236111    0.305556    0.597222   \n",
       "2    0.109589    0.246575    0.315068    0.602740   \n",
       "3    0.108108    0.243243    0.310811    0.608108   \n",
       "4    0.120000    0.253333    0.306667    0.600000   \n",
       "\n",
       "   Frequecny1isLowerFrequency2  Frequecny2isLowerFrequency4  Month  Buy  \\\n",
       "0                            0                            1     11    1   \n",
       "1                            0                            1     12    1   \n",
       "2                            0                            1     11    1   \n",
       "3                            0                            1     11    1   \n",
       "4                            0                            1     11    1   \n",
       "\n",
       "   Asset Managers & Hedge Funds  Asset Owners  Banks and Intermediaries  \\\n",
       "0                             1             0                         0   \n",
       "1                             1             0                         0   \n",
       "2                             1             0                         0   \n",
       "3                             1             0                         0   \n",
       "4                             1             0                         0   \n",
       "\n",
       "   Corporation  Official Institution - OI  Americas  Asia Pacific  \\\n",
       "0            0                          0         0             1   \n",
       "1            0                          0         0             1   \n",
       "2            0                          0         0             1   \n",
       "3            0                          0         0             1   \n",
       "4            0                          0         0             1   \n",
       "\n",
       "   Europe, Middle East and Africa  FLOW G10  FLOW LOCAL MARKET  \\\n",
       "0                               0         0                  1   \n",
       "1                               0         0                  1   \n",
       "2                               0         0                  1   \n",
       "3                               0         0                  1   \n",
       "4                               0         0                  1   \n",
       "\n",
       "   SAS & COVERED BONDS  NR  Currency_trend   MeanPrice  StdPrice  MeanYield  \\\n",
       "0                    0   0             1.0  105.323953  1.333736   3.085399   \n",
       "1                    0   0             1.0  105.323953  1.333736   3.085399   \n",
       "2                    0   0             1.0  105.323953  1.333736   3.085399   \n",
       "3                    0   0             1.0  105.323953  1.333736   3.085399   \n",
       "4                    0   0             1.0  105.323953  1.333736   3.085399   \n",
       "\n",
       "   StdYield  MeanZScore  StdZScore  YieldMarktDelta  ZScoreMarktDelta  \\\n",
       "0  3.358929    1.903997   3.207112         0.035272          0.280414   \n",
       "1  3.358929    1.903997   3.207112         0.035272          0.280414   \n",
       "2  3.358929    1.903997   3.207112         0.035272          0.280414   \n",
       "3  3.358929    1.903997   3.207112         0.035272          0.280414   \n",
       "4  3.358929    1.903997   3.207112         0.035272          0.280414   \n",
       "\n",
       "   LastWeekCustSum  LastWeekBondSum  LastWeekCustPriceSum  \\\n",
       "0              0.0              0.0               104.120   \n",
       "1              0.0              0.0               104.120   \n",
       "2              2.0              2.0               100.200   \n",
       "3              0.0              0.0                   NaN   \n",
       "4              0.0              0.0               104.875   \n",
       "\n",
       "   LastWeekCustNotionalSum  LastMonthCustSum  LastMonthBondSum  MaturityWeek  \\\n",
       "0                2332048.0               0.0               0.0           105   \n",
       "1                2332048.0               0.0               0.0           105   \n",
       "2                5632544.0               0.0               0.0           104   \n",
       "3                      NaN               2.0               2.0           103   \n",
       "4                6029477.0               2.0               2.0           102   \n",
       "\n",
       "   IssueWeek  MaturityPercent  \n",
       "0        155         1.640000  \n",
       "1        155         1.640000  \n",
       "2        156         1.576923  \n",
       "3        157         1.518519  \n",
       "4        158         1.464286  "
      ]
     },
     "execution_count": 21,
     "metadata": {},
     "output_type": "execute_result"
    }
   ],
   "source": [
    "# check data\n",
    "print(\"Dimensions:\", data.shape)\n",
    "data.head()"
   ]
  },
  {
   "cell_type": "code",
   "execution_count": 22,
   "metadata": {},
   "outputs": [
    {
     "data": {
      "text/plain": [
       "PredictionIdx              21410835\n",
       "CustomerInterest             484758\n",
       "MeanPrice                   1646381\n",
       "StdPrice                    1647042\n",
       "MeanYield                   1646381\n",
       "StdYield                    1647042\n",
       "MeanZScore                  1646381\n",
       "StdZScore                   1647042\n",
       "YieldMarktDelta             1646381\n",
       "ZScoreMarktDelta            1646381\n",
       "LastWeekCustSum              287569\n",
       "LastWeekBondSum              315049\n",
       "LastWeekCustPriceSum        1128015\n",
       "LastWeekCustNotionalSum     1128015\n",
       "LastMonthCustSum             290404\n",
       "LastMonthBondSum             398147\n",
       "MaturityPercent                   7\n",
       "dtype: int64"
      ]
     },
     "execution_count": 22,
     "metadata": {},
     "output_type": "execute_result"
    }
   ],
   "source": [
    "# check NA\n",
    "nas = data.isnull().sum()\n",
    "nas[nas > 0]"
   ]
  },
  {
   "cell_type": "code",
   "execution_count": 23,
   "metadata": {},
   "outputs": [
    {
     "data": {
      "text/plain": [
       "47"
      ]
     },
     "execution_count": 23,
     "metadata": {},
     "output_type": "execute_result"
    }
   ],
   "source": [
    "# list of features\n",
    "excluded_features = [\"PredictionIdx\", \"CustomerIdx\", \"IsinIdx\", \"BuySell\", \"CustomerInterest\",\n",
    "                     \"Frequecny1isLowerFrequency2\", \"Frequecny2isLowerFrequency4\"]\n",
    "features = [var for var in data.columns if var not in excluded_features]\n",
    "len(features)"
   ]
  },
  {
   "cell_type": "code",
   "execution_count": 24,
   "metadata": {},
   "outputs": [],
   "source": [
    "### DATA PARTITIONING\n",
    "\n",
    "# training\n",
    "X_train = data.loc[data.Week < 120]\n",
    "y_train = data.loc[data.Week < 120].CustomerInterest\n",
    "\n",
    "# validation\n",
    "X_valid = data.loc[data.Week == 120]\n",
    "y_valid = data.loc[data.Week == 120].CustomerInterest\n",
    "\n",
    "# test set\n",
    "test = data.loc[data.Week == 121]"
   ]
  },
  {
   "cell_type": "code",
   "execution_count": 25,
   "metadata": {},
   "outputs": [
    {
     "data": {
      "text/plain": [
       "CustomerInterest           484758\n",
       "MeanPrice                    5414\n",
       "StdPrice                     5476\n",
       "MeanYield                    5414\n",
       "StdYield                     5476\n",
       "MeanZScore                   5414\n",
       "StdZScore                    5476\n",
       "YieldMarktDelta              5414\n",
       "ZScoreMarktDelta             5414\n",
       "LastWeekCustSum                50\n",
       "LastWeekBondSum               352\n",
       "LastWeekCustPriceSum        24032\n",
       "LastWeekCustNotionalSum     24032\n",
       "LastMonthCustSum              158\n",
       "LastMonthBondSum             3790\n",
       "dtype: int64"
      ]
     },
     "execution_count": 25,
     "metadata": {},
     "output_type": "execute_result"
    }
   ],
   "source": [
    "# check NA in test\n",
    "nas = test.isnull().sum()\n",
    "nas[nas > 0]"
   ]
  },
  {
   "cell_type": "markdown",
   "metadata": {},
   "source": [
    "# 4. MODELING - STAGE 1"
   ]
  },
  {
   "cell_type": "code",
   "execution_count": 26,
   "metadata": {},
   "outputs": [],
   "source": [
    "### PARAMETERS\n",
    "\n",
    "# parallel settings\n",
    "cores = 20\n",
    "\n",
    "# learner settings\n",
    "metric   = \"auc\"\n",
    "verbose  = 250\n",
    "stopping = 100\n",
    "\n",
    "# lightGBM\n",
    "gbm = lgb.LGBMClassifier(n_estimators     = 10000,\n",
    "                         learning_rate    = 0.005,\n",
    "                         num_leaves       = 70,\n",
    "                         colsample_bytree = 0.8,\n",
    "                         subsample        = 0.9,\n",
    "                         max_depth        = 7,\n",
    "                         reg_alpha        = 0.1,\n",
    "                         reg_lambda       = 0.1,\n",
    "                         min_split_gain   = 0.01,\n",
    "                         min_child_weight = 2,\n",
    "                         random_state     = 42,\n",
    "                         num_threads      = cores)"
   ]
  },
  {
   "cell_type": "code",
   "execution_count": 27,
   "metadata": {},
   "outputs": [
    {
     "name": "stdout",
     "output_type": "stream",
     "text": [
      "Training until validation scores don't improve for 100 rounds.\n",
      "[250]\tvalid_0's auc: 0.787546\tvalid_1's auc: 0.77564\n",
      "[500]\tvalid_0's auc: 0.792441\tvalid_1's auc: 0.780427\n",
      "[750]\tvalid_0's auc: 0.796224\tvalid_1's auc: 0.783336\n",
      "[1000]\tvalid_0's auc: 0.798997\tvalid_1's auc: 0.78553\n",
      "[1250]\tvalid_0's auc: 0.801207\tvalid_1's auc: 0.786584\n",
      "[1500]\tvalid_0's auc: 0.803233\tvalid_1's auc: 0.787727\n",
      "[1750]\tvalid_0's auc: 0.805034\tvalid_1's auc: 0.788555\n",
      "[2000]\tvalid_0's auc: 0.806547\tvalid_1's auc: 0.789413\n",
      "[2250]\tvalid_0's auc: 0.807894\tvalid_1's auc: 0.789811\n",
      "[2500]\tvalid_0's auc: 0.809116\tvalid_1's auc: 0.790252\n",
      "[2750]\tvalid_0's auc: 0.810307\tvalid_1's auc: 0.790781\n",
      "[3000]\tvalid_0's auc: 0.811411\tvalid_1's auc: 0.791141\n",
      "[3250]\tvalid_0's auc: 0.812372\tvalid_1's auc: 0.791464\n",
      "[3500]\tvalid_0's auc: 0.813279\tvalid_1's auc: 0.791717\n",
      "[3750]\tvalid_0's auc: 0.81411\tvalid_1's auc: 0.791869\n",
      "[4000]\tvalid_0's auc: 0.814958\tvalid_1's auc: 0.792062\n",
      "[4250]\tvalid_0's auc: 0.815722\tvalid_1's auc: 0.792214\n",
      "[4500]\tvalid_0's auc: 0.8165\tvalid_1's auc: 0.79233\n",
      "[4750]\tvalid_0's auc: 0.817234\tvalid_1's auc: 0.79249\n",
      "[5000]\tvalid_0's auc: 0.817993\tvalid_1's auc: 0.792642\n",
      "[5250]\tvalid_0's auc: 0.818706\tvalid_1's auc: 0.792818\n",
      "[5500]\tvalid_0's auc: 0.819346\tvalid_1's auc: 0.792979\n",
      "[5750]\tvalid_0's auc: 0.81998\tvalid_1's auc: 0.793121\n",
      "[6000]\tvalid_0's auc: 0.820585\tvalid_1's auc: 0.793182\n",
      "Early stopping, best iteration is:\n",
      "[6009]\tvalid_0's auc: 0.820611\tvalid_1's auc: 0.793187\n"
     ]
    }
   ],
   "source": [
    "# train lightGBM\n",
    "gbm = gbm.fit(X_train[features], y_train, \n",
    "              eval_set = [(X_train[features], y_train), \n",
    "                          (X_valid[features], y_valid)], \n",
    "              eval_metric = metric, verbose = verbose, \n",
    "              early_stopping_rounds = stopping)\n",
    "    \n",
    "# save number of iterations\n",
    "num_iters = gbm.best_iteration_  \n",
    "\n",
    "\n",
    "##### RESULTS (K = 42 - v4wlp)\n",
    "\n",
    "# full data:     0.847355 ()\n",
    "# full - r27:    0.786895 (0.79244 LB)\n",
    "# under data:    0.847501 (0.79385 LB)\n",
    "# under - r27:   0.787625 (0.79269 LB)\n",
    "\n",
    "\n",
    "##### RESULTS (K = 44 - v4wlpm_lm, added last month sums)\n",
    "\n",
    "# full data:     0. ()\n",
    "# full - r27:    0. ()\n",
    "# under data:    0.847455 ()\n",
    "# under - r27:   0.788729 ()\n",
    "\n",
    "\n",
    "##### RESULTS (K = 47 - v4wlpm_lm_bm, added bond maturity features)\n",
    "\n",
    "# full data:     0. ()\n",
    "# full - r27:    0. ()\n",
    "# under data:    0.850085 (0.79856 LB)\n",
    "# under - r27:   0.791607 ()\n",
    "\n",
    "\n",
    "##### RESULTS (K = 48 - v4wlpm_lm_bm_wc, added weekly currency trend)\n",
    "\n",
    "# full data:     0. ()\n",
    "# full - r27:    0. ()\n",
    "# under data:    0. ()\n",
    "# under - r27:   0.791504 ()\n",
    "\n",
    "\n",
    "##### RESULTS (K = 57 - v4wlpm_lm_bm_wm, added weekly macro features)\n",
    "\n",
    "# full data:     0. ()\n",
    "# full - r27:    0. ()\n",
    "# under data:    0.850068 ()\n",
    "# under - r27:   0.786000 ()"
   ]
  },
  {
   "cell_type": "code",
   "execution_count": 28,
   "metadata": {},
   "outputs": [
    {
     "data": {
      "image/png": "[encoded data removed]",
      "text/plain": [
       "<Figure size 720x864 with 1 Axes>"
      ]
     },
     "metadata": {},
     "output_type": "display_data"
    }
   ],
   "source": [
    "##### VARIABLE IMPORTANCE\n",
    "\n",
    "# load variable importance\n",
    "importance = pd.DataFrame()\n",
    "importance[\"feature\"] = features\n",
    "importance[\"importance\"] = gbm.feature_importances_\n",
    "\n",
    "# plot variable importance\n",
    "plt.figure(figsize = (10, 12))\n",
    "sns.barplot(x = \"importance\", y = \"feature\", data = importance.sort_values(by = \"importance\", ascending = False))\n",
    "plt.title('LGBM Feature Importance')\n",
    "plt.tight_layout()\n",
    "\n",
    "# save plot as pdf\n",
    "#plt.savefig(\"../var_importance.pdf\")"
   ]
  },
  {
   "cell_type": "code",
   "execution_count": 29,
   "metadata": {},
   "outputs": [
    {
     "name": "stdout",
     "output_type": "stream",
     "text": [
      "SpearmanrResult(correlation=0.9716113535021297, pvalue=0.0)\n",
      "SpearmanrResult(correlation=0.9700161244807995, pvalue=0.0)\n"
     ]
    }
   ],
   "source": [
    "##### PREDICTION\n",
    "\n",
    "### VALID DATA\n",
    "\n",
    "# predict validation set\n",
    "pred_valid = X_valid[[\"CustomerIdx\", \"IsinIdx\", \"BuySell\", \"Week\", \"CustomerInterest\"]]\n",
    "pred_valid[\"TARGET\"] = gbm.predict_proba(X_valid[features], num_iteration = num_iters)[:, 1]\n",
    "auc = roc_auc_score(y_valid, pred_valid.TARGET)\n",
    "\n",
    "# check rank correlation with the best submission\n",
    "best = pd.read_csv(\"../pred_valid/auc786895_data_v4_0_60_full_r27_wlp_lgb.csv\")\n",
    "best.columns = ['CustomerIdx', 'IsinIdx', 'BuySell', 'Week', 'CustomerInterest', 'TARGET_best']\n",
    "best = best.merge(pred_valid[[\"CustomerIdx\", \"IsinIdx\", \"BuySell\", \"TARGET\"]], \n",
    "                  how = \"right\", on = [\"CustomerIdx\", \"IsinIdx\", \"BuySell\"])\n",
    "print(spearmanr(best.TARGET, best.TARGET_best))\n",
    "\n",
    "# export CSV\n",
    "pred_valid.to_csv(\"../pred_valid/auc\" + str(round(auc, 6))[2:8] + \"_\" + str(data_name) + \"_lgb.csv\", \n",
    "                  index = False, float_format = \"%.8f\")\n",
    "\n",
    "\n",
    "### TEST DATA\n",
    "\n",
    "# predict test set\n",
    "test[\"TARGET\"] = gbm.predict_proba(test[features], num_iteration = num_iters)[:, 1]\n",
    "\n",
    "# check rank correlation with the best submission\n",
    "best = pd.read_csv(\"../submissions/auc786895_data_v4_0_60_full_r27_wlp_lgb_2stage.csv\")\n",
    "best = best.merge(test[[\"PredictionIdx\", \"TARGET\"]], how = \"left\", on = \"PredictionIdx\")\n",
    "print(spearmanr(best[\"TARGET\"], best.CustomerInterest))\n",
    "\n",
    "# export CSV\n",
    "subm = best[[\"PredictionIdx\", \"TARGET\"]]\n",
    "subm.columns = [\"PredictionIdx\", \"CustomerInterest\"]\n",
    "subm.to_csv(\"../submissions/auc\" + str(round(auc, 6))[2:8] + \"_\" + str(data_name) + \"_lgb_1stage.csv\", \n",
    "            index = False, float_format = \"%.8f\")"
   ]
  },
  {
   "cell_type": "markdown",
   "metadata": {},
   "source": [
    "# 5. MODELING - STAGE 2"
   ]
  },
  {
   "cell_type": "code",
   "execution_count": 30,
   "metadata": {},
   "outputs": [],
   "source": [
    "# keep top features\n",
    "#top = 100\n",
    "#features = list(importance[\"feature\"][0:np.min([top, len(features)])])"
   ]
  },
  {
   "cell_type": "code",
   "execution_count": 31,
   "metadata": {},
   "outputs": [],
   "source": [
    "# use full data as train\n",
    "X_train = data.loc[data.Week <= 120]\n",
    "y_train = data.loc[data.Week <= 120].CustomerInterest"
   ]
  },
  {
   "cell_type": "code",
   "execution_count": null,
   "metadata": {},
   "outputs": [
    {
     "name": "stdout",
     "output_type": "stream",
     "text": [
      "[250]\tvalid_0's auc: 0.787321\n",
      "[500]\tvalid_0's auc: 0.792131\n",
      "[750]\tvalid_0's auc: 0.795974\n",
      "[1000]\tvalid_0's auc: 0.798647\n",
      "[1250]\tvalid_0's auc: 0.800867\n",
      "[1500]\tvalid_0's auc: 0.802849\n",
      "[1750]\tvalid_0's auc: 0.804693\n",
      "[2000]\tvalid_0's auc: 0.806262\n",
      "[2250]\tvalid_0's auc: 0.807621\n",
      "[2500]\tvalid_0's auc: 0.808763\n",
      "[2750]\tvalid_0's auc: 0.809892\n",
      "[3000]\tvalid_0's auc: 0.810957\n",
      "[3250]\tvalid_0's auc: 0.811912\n"
     ]
    }
   ],
   "source": [
    "### retrain model with the best iters\n",
    "\n",
    "# lightGBM\n",
    "gbm = lgb.LGBMClassifier(n_estimators     = num_iters,\n",
    "                         learning_rate    = 0.005,\n",
    "                         num_leaves       = 70,\n",
    "                         colsample_bytree = 0.8,\n",
    "                         subsample        = 0.9,\n",
    "                         max_depth        = 7,\n",
    "                         reg_alpha        = 0.1,\n",
    "                         reg_lambda       = 0.1,\n",
    "                         min_split_gain   = 0.01,\n",
    "                         min_child_weight = 2,\n",
    "                         random_state     = 42,\n",
    "                         num_threads      = cores)\n",
    "\n",
    "# train lightGBM\n",
    "gbm = gbm.fit(X_train[features], y_train, \n",
    "              eval_set = [(X_train[features], y_train)], \n",
    "              eval_metric = metric, verbose = 250)"
   ]
  },
  {
   "cell_type": "code",
   "execution_count": null,
   "metadata": {},
   "outputs": [],
   "source": [
    "# predict test set\n",
    "test[\"TARGET\"] = gbm.predict_proba(test[features], num_iteration = num_iters)[:, 1]"
   ]
  },
  {
   "cell_type": "code",
   "execution_count": null,
   "metadata": {},
   "outputs": [],
   "source": [
    "# check rank correlation with the best submission\n",
    "best = pd.read_csv(\"../submissions/auc786895_data_v4_0_60_full_r27_wlp_lgb_2stage.csv\")\n",
    "best = best.merge(test[[\"PredictionIdx\", \"TARGET\"]], how = \"left\", on = \"PredictionIdx\")\n",
    "spearmanr(best[\"TARGET\"], best.CustomerInterest)"
   ]
  },
  {
   "cell_type": "code",
   "execution_count": null,
   "metadata": {},
   "outputs": [],
   "source": [
    "# export CSV\n",
    "subm = best[[\"PredictionIdx\", \"TARGET\"]]\n",
    "subm.columns = [\"PredictionIdx\", \"CustomerInterest\"]\n",
    "subm.to_csv(\"../submissions/auc\" + str(round(auc, 6))[2:8] + \"_\" + str(data_name) + \"_lgb_2stage.csv\", \n",
    "            index = False, float_format = \"%.8f\")"
   ]
  }
 ],
 "metadata": {
  "kernelspec": {
   "display_name": "Python 3",
   "language": "python",
   "name": "python3"
  },
  "language_info": {
   "codemirror_mode": {
    "name": "ipython",
    "version": 3
   },
   "file_extension": ".py",
   "mimetype": "text/x-python",
   "name": "python",
   "nbconvert_exporter": "python",
   "pygments_lexer": "ipython3",
   "version": "3.6.5"
  }
 },
 "nbformat": 4,
 "nbformat_minor": 2
}
