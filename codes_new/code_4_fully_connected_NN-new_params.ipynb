{
 "cells": [
  {
   "cell_type": "code",
   "execution_count": 1,
   "metadata": {},
   "outputs": [],
   "source": [
    "import numpy as np\n",
    "import pandas as pd\n",
    "from sklearn.metrics import roc_auc_score\n",
    "from sklearn.utils.class_weight import compute_class_weight\n",
    "from sklearn.preprocessing import StandardScaler, Imputer"
   ]
  },
  {
   "cell_type": "code",
   "execution_count": 28,
   "metadata": {},
   "outputs": [],
   "source": [
    "import keras\n",
    "from keras import Model\n",
    "from keras.callbacks import Callback\n",
    "from keras.layers import Input, Embedding, Dense, Dropout, concatenate, Flatten, Activation, BatchNormalization\n",
    "from keras.optimizers import Adam, RMSprop\n",
    "from keras.regularizers import l2\n",
    "from keras.constraints import maxnorm"
   ]
  },
  {
   "cell_type": "code",
   "execution_count": 3,
   "metadata": {},
   "outputs": [],
   "source": [
    "class AucCallback(Callback):\n",
    "    def on_train_begin(self, logs={}):\n",
    "        self.aucs = []\n",
    "        self.losses = []\n",
    " \n",
    "    def on_epoch_end(self, epoch, logs={}):\n",
    "        self.losses.append(logs.get('loss'))\n",
    "        y_pred = self.model.predict(self.validation_data[0:3])\n",
    "        self.aucs.append(roc_auc_score(y_true=self.validation_data[3], y_score=y_pred))\n",
    "        return"
   ]
  },
  {
   "cell_type": "markdown",
   "metadata": {},
   "source": [
    "# Load data"
   ]
  },
  {
   "cell_type": "code",
   "execution_count": 4,
   "metadata": {},
   "outputs": [
    {
     "name": "stderr",
     "output_type": "stream",
     "text": [
      "C:\\Users\\zinovyee.hub.RDC\\AppData\\Local\\conda\\conda\\envs\\thesis\\lib\\site-packages\\IPython\\core\\interactiveshell.py:2785: DtypeWarning: Columns (0) have mixed types. Specify dtype option on import or set low_memory=False.\n",
      "  interactivity=interactivity, compiler=compiler, result=result)\n"
     ]
    }
   ],
   "source": [
    "data = pd.read_csv(\"../data/prepared/data_v4_0_60_under.csv\", compression=\"gzip\")"
   ]
  },
  {
   "cell_type": "code",
   "execution_count": 5,
   "metadata": {},
   "outputs": [],
   "source": [
    "customers = list(enumerate([i for i in data.CustomerIdx.unique()]))\n",
    "bonds = list(enumerate([i for i in data.IsinIdx.unique()]))"
   ]
  },
  {
   "cell_type": "code",
   "execution_count": 6,
   "metadata": {},
   "outputs": [],
   "source": [
    "customer2idx = {o:i for i,o in customers}\n",
    "bond2idx = {o:i for i,o in bonds}"
   ]
  },
  {
   "cell_type": "code",
   "execution_count": 7,
   "metadata": {},
   "outputs": [],
   "source": [
    "# Specify input sizes\n",
    "n_customer = data.CustomerIdx.nunique()\n",
    "n_bond = data.IsinIdx.nunique()"
   ]
  },
  {
   "cell_type": "markdown",
   "metadata": {},
   "source": [
    "## Train-test split"
   ]
  },
  {
   "cell_type": "code",
   "execution_count": 8,
   "metadata": {},
   "outputs": [],
   "source": [
    "trainIdx = np.array(np.logical_and(np.logical_and(data.Week>90, data.Week<112), \n",
    "                                   (data.Recency1 < data.Recency1.max())))\n",
    "valIdx = np.array(np.logical_and(data.Week >= 116, data.Week <=120))\n",
    "testIdx = np.array(~data.PredictionIdx.isnull())"
   ]
  },
  {
   "cell_type": "code",
   "execution_count": 9,
   "metadata": {},
   "outputs": [],
   "source": [
    "drop_vars=['CustomerInterest','CustomerIdx','IsinIdx','Week','PredictionIdx','BuySell']"
   ]
  },
  {
   "cell_type": "code",
   "execution_count": 10,
   "metadata": {},
   "outputs": [],
   "source": [
    "cust_train = np.array([customer2idx[id] for id in data.CustomerIdx.loc[trainIdx]])\n",
    "bond_train = np.array([bond2idx[id] for id in data.IsinIdx.loc[trainIdx]])\n",
    "y_train = data.CustomerInterest[trainIdx]\n",
    "\n",
    "cust_val = np.array([customer2idx[id] for id in data.CustomerIdx.loc[valIdx]])\n",
    "bond_val = np.array([bond2idx[id] for id in data.IsinIdx.loc[valIdx]])\n",
    "y_val = data.CustomerInterest[valIdx]\n",
    "\n",
    "cust_test = np.array([customer2idx[id] for id in data.CustomerIdx.loc[testIdx]])\n",
    "bond_test = np.array([bond2idx[id] for id in data.IsinIdx.loc[testIdx]])\n",
    "y_test = data.CustomerInterest[testIdx]"
   ]
  },
  {
   "cell_type": "code",
   "execution_count": 11,
   "metadata": {},
   "outputs": [],
   "source": [
    "X_train = data.loc[trainIdx,:].drop(drop_vars, axis=1)\n",
    "X_val  = data.loc[valIdx,:].drop(drop_vars, axis=1)\n",
    "X_test  = data.loc[testIdx,:].copy()"
   ]
  },
  {
   "cell_type": "code",
   "execution_count": 12,
   "metadata": {},
   "outputs": [
    {
     "data": {
      "text/plain": [
       "(835551, 39)"
      ]
     },
     "execution_count": 12,
     "metadata": {},
     "output_type": "execute_result"
    }
   ],
   "source": [
    "X_train.shape"
   ]
  },
  {
   "cell_type": "code",
   "execution_count": 13,
   "metadata": {},
   "outputs": [],
   "source": [
    "vars_with_missing = ('MeanPrice', 'StdPrice', 'MeanYield', 'StdYield',\n",
    "       'MeanZScore', 'StdZScore', 'YieldMarktDelta', 'ZScoreMarktDelta')"
   ]
  },
  {
   "cell_type": "code",
   "execution_count": 14,
   "metadata": {},
   "outputs": [],
   "source": [
    "imputer = Imputer(missing_values=\"NaN\", strategy=\"mean\")\n",
    "X_train.loc[:,vars_with_missing] = imputer.fit_transform(X_train.loc[:,vars_with_missing])"
   ]
  },
  {
   "cell_type": "code",
   "execution_count": 15,
   "metadata": {},
   "outputs": [],
   "source": [
    "X_val.loc[:,vars_with_missing] = imputer.transform(X_val.loc[:,vars_with_missing])\n",
    "X_test.loc[:,vars_with_missing] = imputer.transform(X_test.loc[:,vars_with_missing])"
   ]
  },
  {
   "cell_type": "markdown",
   "metadata": {},
   "source": [
    "Standardization of float vars"
   ]
  },
  {
   "cell_type": "code",
   "execution_count": 16,
   "metadata": {},
   "outputs": [],
   "source": [
    "continuous_vars = X_train.columns[X_train.dtypes == \"float64\"]"
   ]
  },
  {
   "cell_type": "code",
   "execution_count": 17,
   "metadata": {},
   "outputs": [],
   "source": [
    "scaler = StandardScaler()\n",
    "X_train.loc[:,continuous_vars] = scaler.fit_transform(X_train.loc[:,continuous_vars].copy())"
   ]
  },
  {
   "cell_type": "code",
   "execution_count": 18,
   "metadata": {},
   "outputs": [],
   "source": [
    "X_val.loc[:,continuous_vars] = scaler.transform(X_val.loc[:,continuous_vars])\n",
    "X_test.loc[:,continuous_vars] = scaler.transform(X_test.loc[:,continuous_vars])"
   ]
  },
  {
   "cell_type": "code",
   "execution_count": 19,
   "metadata": {},
   "outputs": [],
   "source": [
    "X_train = X_train.values\n",
    "X_val = X_val.values"
   ]
  },
  {
   "cell_type": "code",
   "execution_count": 20,
   "metadata": {},
   "outputs": [
    {
     "data": {
      "text/plain": [
       "array([0.66524867, 2.01287147])"
      ]
     },
     "execution_count": 20,
     "metadata": {},
     "output_type": "execute_result"
    }
   ],
   "source": [
    "compute_class_weight(\"balanced\", classes=np.array([0,1]), y=y_train)"
   ]
  },
  {
   "cell_type": "markdown",
   "metadata": {},
   "source": [
    "# Build model"
   ]
  },
  {
   "cell_type": "code",
   "execution_count": null,
   "metadata": {},
   "outputs": [],
   "source": []
  },
  {
   "cell_type": "code",
   "execution_count": 21,
   "metadata": {},
   "outputs": [],
   "source": [
    "n_features = X_train.shape[1]"
   ]
  },
  {
   "cell_type": "code",
   "execution_count": 22,
   "metadata": {},
   "outputs": [],
   "source": [
    "# Create an input layer with one row of IDs\n",
    "cust_in = Input(shape = (1,), dtype='int64', name = \"cust_in\")\n",
    "bond_in = Input(shape = (1,), dtype='int64', name = \"bond_in\")\n",
    "features_in = Input(shape = (n_features,), name = \"features_in\")\n",
    "\n",
    "# Create an embedding assigning k latent factors to each ID\n",
    "# These will be optimized\n",
    "# A regulariztaion is added to avoid very large weights\n",
    "cust = Embedding(n_customer, 50, input_length=1, embeddings_regularizer=l2(1e-3))(cust_in)\n",
    "bond = Embedding(n_bond,     50, input_length=1, embeddings_regularizer=l2(1e-3))(bond_in)"
   ]
  },
  {
   "cell_type": "code",
   "execution_count": 23,
   "metadata": {},
   "outputs": [],
   "source": [
    "embeddings = concatenate([cust, bond])"
   ]
  },
  {
   "cell_type": "code",
   "execution_count": 24,
   "metadata": {},
   "outputs": [],
   "source": [
    "embeddings = Flatten()(embeddings)"
   ]
  },
  {
   "cell_type": "code",
   "execution_count": 25,
   "metadata": {},
   "outputs": [],
   "source": [
    "x = concatenate([embeddings, features_in])"
   ]
  },
  {
   "cell_type": "code",
   "execution_count": 26,
   "metadata": {},
   "outputs": [],
   "source": [
    "x = Dropout(0.02)(x)\n",
    "x = Dense(128, kernel_constraint=maxnorm(5), )(x)\n",
    "#x = BatchNormalization()(x)\n",
    "x = Activation('relu')(x)\n",
    "x = Dropout(0.5)(x)\n",
    "\n",
    "x = Dense(64, kernel_constraint=maxnorm(5))(x)\n",
    "#x = BatchNormalization()(x)\n",
    "x = Activation('relu')(x)\n",
    "x = Dropout(0.5)(x)\n",
    "\n",
    "# x = Dense(64, kernel_constraint=maxnorm(5))(x)\n",
    "# x = BatchNormalization()(x)\n",
    "# x = Activation('relu')(x)\n",
    "# x = Dropout(0.5)(x)\n",
    "\n",
    "x = Dense(1)(x)\n",
    "x = BatchNormalization()(x)\n",
    "out = Activation('sigmoid')(x)"
   ]
  },
  {
   "cell_type": "code",
   "execution_count": 29,
   "metadata": {},
   "outputs": [],
   "source": [
    "# Then we specify the model that we want to use\n",
    "model = Model([cust_in, bond_in, features_in], out) # \n",
    "model.compile(optimizer=RMSprop(clipvalue=1, clipnorm=1), loss=\"binary_crossentropy\", metrics = ['accuracy'])"
   ]
  },
  {
   "cell_type": "code",
   "execution_count": 30,
   "metadata": {},
   "outputs": [],
   "source": [
    "auc_history = AucCallback()"
   ]
  },
  {
   "cell_type": "code",
   "execution_count": 31,
   "metadata": {},
   "outputs": [
    {
     "data": {
      "text/plain": [
       "0.7515986456841055"
      ]
     },
     "execution_count": 31,
     "metadata": {},
     "output_type": "execute_result"
    }
   ],
   "source": [
    "1-y_train.mean()"
   ]
  },
  {
   "cell_type": "code",
   "execution_count": null,
   "metadata": {},
   "outputs": [
    {
     "name": "stdout",
     "output_type": "stream",
     "text": [
      "Train on 835551 samples, validate on 236752 samples\n",
      "Epoch 1/50\n",
      "835551/835551 [==============================] - 4s 4us/step - loss: 0.4105 - acc: 0.8187 - val_loss: 0.8696 - val_acc: 0.6998\n",
      "Epoch 2/50\n",
      "835551/835551 [==============================] - 4s 4us/step - loss: 0.4087 - acc: 0.8194 - val_loss: 0.8693 - val_acc: 0.6994\n"
     ]
    }
   ],
   "source": [
    "model.fit([cust_train, bond_train, X_train], y_train,  \n",
    "          validation_data = ([cust_val, bond_val, X_val], y_val),\n",
    "          #class_weight={0:0.74958666, 1:1.5016561},\n",
    "          epochs = 50, batch_size = 5000\n",
    "          ,callbacks = [auc_history], verbose=1\n",
    "          #keras.callbacks.ModelCheckpoint('../models/weights.{epoch:02d}-{val_loss:.2f}.hdf5', monitor='val_loss', verbose=0, save_best_only=True, save_weights_only=False, mode='auto', period=1)\n",
    ")"
   ]
  },
  {
   "cell_type": "code",
   "execution_count": 37,
   "metadata": {},
   "outputs": [
    {
     "data": {
      "text/plain": [
       "[0.5530095489943554,\n",
       " 0.5732080911276227,\n",
       " 0.5783734773183309,\n",
       " 0.5808701090294107,\n",
       " 0.5883136446477099]"
      ]
     },
     "execution_count": 37,
     "metadata": {},
     "output_type": "execute_result"
    }
   ],
   "source": [
    "auc_history.aucs"
   ]
  },
  {
   "cell_type": "code",
   "execution_count": null,
   "metadata": {},
   "outputs": [],
   "source": [
    "pred_val = model.predict([cust_val, bond_val, X_val], batch_size=10000)\n",
    "roc_auc_score(y_true=y_val, y_score=pred_val)"
   ]
  },
  {
   "cell_type": "code",
   "execution_count": 31,
   "metadata": {
    "collapsed": true
   },
   "outputs": [],
   "source": [
    "pred_test = model.predict([cust_test, bond_test, \n",
    "                           X_test.drop(drop_vars, axis=1).values], batch_size=10000)"
   ]
  },
  {
   "cell_type": "code",
   "execution_count": 34,
   "metadata": {
    "collapsed": true
   },
   "outputs": [],
   "source": [
    "submission = pd.DataFrame({'PredictionIdx':X_test.PredictionIdx,\n",
    "              'CustomerInterest':pred_test.flatten()}).reset_index(drop=True)\n",
    "submission.to_csv(\"../submissions/FCNN_20180619.csv\", index=False)"
   ]
  },
  {
   "cell_type": "code",
   "execution_count": 33,
   "metadata": {
    "collapsed": true
   },
   "outputs": [],
   "source": [
    "old = pd.read_csv(\"../submissions/auc845086_data_v4_0_80_lgb_1stage.csv\")"
   ]
  },
  {
   "cell_type": "code",
   "execution_count": 38,
   "metadata": {},
   "outputs": [
    {
     "data": {
      "text/html": [
       "<div>\n",
       "<style scoped>\n",
       "    .dataframe tbody tr th:only-of-type {\n",
       "        vertical-align: middle;\n",
       "    }\n",
       "\n",
       "    .dataframe tbody tr th {\n",
       "        vertical-align: top;\n",
       "    }\n",
       "\n",
       "    .dataframe thead th {\n",
       "        text-align: right;\n",
       "    }\n",
       "</style>\n",
       "<table border=\"1\" class=\"dataframe\">\n",
       "  <thead>\n",
       "    <tr style=\"text-align: right;\">\n",
       "      <th></th>\n",
       "      <th>CustomerInterest</th>\n",
       "    </tr>\n",
       "  </thead>\n",
       "  <tbody>\n",
       "    <tr>\n",
       "      <th>count</th>\n",
       "      <td>484758.000000</td>\n",
       "    </tr>\n",
       "    <tr>\n",
       "      <th>mean</th>\n",
       "      <td>0.507189</td>\n",
       "    </tr>\n",
       "    <tr>\n",
       "      <th>std</th>\n",
       "      <td>0.211071</td>\n",
       "    </tr>\n",
       "    <tr>\n",
       "      <th>min</th>\n",
       "      <td>0.003557</td>\n",
       "    </tr>\n",
       "    <tr>\n",
       "      <th>25%</th>\n",
       "      <td>0.324898</td>\n",
       "    </tr>\n",
       "    <tr>\n",
       "      <th>50%</th>\n",
       "      <td>0.534475</td>\n",
       "    </tr>\n",
       "    <tr>\n",
       "      <th>75%</th>\n",
       "      <td>0.711395</td>\n",
       "    </tr>\n",
       "    <tr>\n",
       "      <th>max</th>\n",
       "      <td>0.999672</td>\n",
       "    </tr>\n",
       "  </tbody>\n",
       "</table>\n",
       "</div>"
      ],
      "text/plain": [
       "       CustomerInterest\n",
       "count     484758.000000\n",
       "mean           0.507189\n",
       "std            0.211071\n",
       "min            0.003557\n",
       "25%            0.324898\n",
       "50%            0.534475\n",
       "75%            0.711395\n",
       "max            0.999672"
      ]
     },
     "execution_count": 38,
     "metadata": {},
     "output_type": "execute_result"
    }
   ],
   "source": [
    "submission.describe()"
   ]
  },
  {
   "cell_type": "code",
   "execution_count": null,
   "metadata": {
    "collapsed": true
   },
   "outputs": [],
   "source": []
  }
 ],
 "metadata": {
  "kernelspec": {
   "display_name": "Python 3",
   "language": "python",
   "name": "python3"
  },
  "language_info": {
   "codemirror_mode": {
    "name": "ipython",
    "version": 3
   },
   "file_extension": ".py",
   "mimetype": "text/x-python",
   "name": "python",
   "nbconvert_exporter": "python",
   "pygments_lexer": "ipython3",
   "version": "3.6.5"
  }
 },
 "nbformat": 4,
 "nbformat_minor": 2
}
