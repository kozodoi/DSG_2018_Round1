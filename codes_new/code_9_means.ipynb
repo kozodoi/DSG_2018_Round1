{
 "cells": [
  {
   "cell_type": "code",
   "execution_count": 30,
   "metadata": {},
   "outputs": [],
   "source": [
    "# packages\n",
    "import pandas as pd\n",
    "import numpy as np\n",
    "from scipy.stats import rankdata"
   ]
  },
  {
   "cell_type": "code",
   "execution_count": 31,
   "metadata": {},
   "outputs": [],
   "source": [
    "# load submissions\n",
    "a = pd.read_csv(\"../submissions/data_v3b_0_80_lgb_val0843815.csv\")\n",
    "b = pd.read_csv(\"../submissions/auc842633_data_v2c_0_80_lgb_2stage.csv\")\n",
    "c = pd.read_csv(\"../submissions/auc845086_data_v4_0_80_lgb_1stage.csv\")\n",
    "d = pd.read_csv(\"../submissions/auc844058_data_v4_0_100_lgb_1stage.csv\")\n",
    "#e = pd.read_csv(\"../submissions/data_v3_0_80_lgb_val0843073.csv\")"
   ]
  },
  {
   "cell_type": "code",
   "execution_count": 32,
   "metadata": {},
   "outputs": [],
   "source": [
    "# geometric mean\n",
    "#a.CustomerInterest = (a.CustomerInterest*b.CustomerInterest) ** (1/2)"
   ]
  },
  {
   "cell_type": "code",
   "execution_count": 33,
   "metadata": {},
   "outputs": [],
   "source": [
    "# arithmetic mean\n",
    "#a.CustomerInterest = (1/2) * (a.CustomerInterest + b.CustomerInterest)"
   ]
  },
  {
   "cell_type": "code",
   "execution_count": 34,
   "metadata": {},
   "outputs": [],
   "source": [
    "# rank mean\n",
    "a.CustomerInterest = rankdata(a.CustomerInterest) + rankdata(b.CustomerInterest)  \\\n",
    "                   + rankdata(c.CustomerInterest) + rankdata(d.CustomerInterest)  \\\n",
    "                   #+ rankdata(e.CustomerInterest)"
   ]
  },
  {
   "cell_type": "code",
   "execution_count": 35,
   "metadata": {},
   "outputs": [],
   "source": [
    "# scaling\n",
    "a.CustomerInterest = (a.CustomerInterest - a.CustomerInterest.min()) / (a.CustomerInterest.max() - a.CustomerInterest.min())"
   ]
  },
  {
   "cell_type": "code",
   "execution_count": 36,
   "metadata": {},
   "outputs": [
    {
     "data": {
      "text/plain": [
       "SpearmanrResult(correlation=0.9982398310609153, pvalue=0.0)"
      ]
     },
     "execution_count": 36,
     "metadata": {},
     "output_type": "execute_result"
    }
   ],
   "source": [
    "# check rank correlation with the best submission\n",
    "from scipy.stats import spearmanr\n",
    "best = pd.read_csv(\"../submissions/rankmean_data_v3b_0_80_lgb_val0843815_auc842633_data_v2c_0_80_lgb_2stage.csv\")\n",
    "spearmanr(a[\"CustomerInterest\"], best.CustomerInterest)"
   ]
  },
  {
   "cell_type": "code",
   "execution_count": 37,
   "metadata": {},
   "outputs": [],
   "source": [
    "a.to_csv('../submissions/rankmean_4_submits.csv', \n",
    "         index = False, float_format = \"%.8f\")"
   ]
  }
 ],
 "metadata": {
  "kernelspec": {
   "display_name": "Python 3",
   "language": "python",
   "name": "python3"
  },
  "language_info": {
   "codemirror_mode": {
    "name": "ipython",
    "version": 3
   },
   "file_extension": ".py",
   "mimetype": "text/x-python",
   "name": "python",
   "nbconvert_exporter": "python",
   "pygments_lexer": "ipython3",
   "version": "3.6.5"
  }
 },
 "nbformat": 4,
 "nbformat_minor": 2
}
