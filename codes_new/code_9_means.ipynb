{
 "cells": [
  {
   "cell_type": "code",
   "execution_count": null,
   "metadata": {},
   "outputs": [],
   "source": [
    "# packages\n",
    "import pandas as pd\n",
    "import numpy as np\n",
    "from scipy.stats import rankdata"
   ]
  },
  {
   "cell_type": "code",
   "execution_count": null,
   "metadata": {},
   "outputs": [],
   "source": [
    "# load submissions\n",
    "a = pd.read_csv(\"../submissions/data_v3b_0_80_lgb_val0843815.csv\")\n",
    "b = pd.read_csv(\"../submissions/auc842633_data_v2c_0_80_lgb_2stage.csv\")\n",
    "#c = pd.read_csv(\"../submissions/data_v3b_0_80_lgb_val0843815.csv\")\n",
    "#d = pd.read_csv(\"../submissions/data_v3_0_80_lgb_val0843073.csv\")\n",
    "#e = pd.read_csv(\"../submissions/gmean_2logits_1ratiobased.csv\")"
   ]
  },
  {
   "cell_type": "code",
   "execution_count": null,
   "metadata": {},
   "outputs": [],
   "source": [
    "# geometric mean\n",
    "#a.CustomerInterest = (a.CustomerInterest*b.CustomerInterest) ** (1/2)"
   ]
  },
  {
   "cell_type": "code",
   "execution_count": null,
   "metadata": {},
   "outputs": [],
   "source": [
    "# arithmetic mean\n",
    "#a.CustomerInterest = (1/2) * (a.CustomerInterest + b.CustomerInterest)"
   ]
  },
  {
   "cell_type": "code",
   "execution_count": null,
   "metadata": {},
   "outputs": [],
   "source": [
    "# rank mean\n",
    "a.CustomerInterest = rankdata(a.CustomerInterest) + rankdata(b.CustomerInterest)  \\\n",
    "                   #+ rankdata(c.CustomerInterest) + rankdata(d.CustomerInterest)  \\\n",
    "                   #+ rankdata(e.CustomerInterest)"
   ]
  },
  {
   "cell_type": "code",
   "execution_count": null,
   "metadata": {},
   "outputs": [],
   "source": [
    "# scaling\n",
    "a.CustomerInterest = (a.CustomerInterest - a.CustomerInterest.min()) / (a.CustomerInterest.max() - a.CustomerInterest.min())"
   ]
  },
  {
   "cell_type": "code",
   "execution_count": null,
   "metadata": {},
   "outputs": [],
   "source": [
    "# check rank correlation with the best submission\n",
    "from scipy.stats import spearmanr\n",
    "best = pd.read_csv(\"../submissions/rankmean_v2_0_80_v3b_0_80.csv\")\n",
    "spearmanr(a[\"CustomerInterest\"], best.CustomerInterest)"
   ]
  },
  {
   "cell_type": "code",
   "execution_count": null,
   "metadata": {},
   "outputs": [],
   "source": [
    "a.to_csv('../submissions/rankmean_data_v3b_0_80_lgb_val0843815_auc842633_data_v2c_0_80_lgb_2stage.csv', \n",
    "         index = False, float_format = \"%.8f\")"
   ]
  }
 ],
 "metadata": {
  "kernelspec": {
   "display_name": "Python 3",
   "language": "python",
   "name": "python3"
  },
  "language_info": {
   "codemirror_mode": {
    "name": "ipython",
    "version": 3
   },
   "file_extension": ".py",
   "mimetype": "text/x-python",
   "name": "python",
   "nbconvert_exporter": "python",
   "pygments_lexer": "ipython3",
   "version": "3.6.5"
  }
 },
 "nbformat": 4,
 "nbformat_minor": 2
}
