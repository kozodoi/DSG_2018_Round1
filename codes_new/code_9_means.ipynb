{
 "cells": [
  {
   "cell_type": "markdown",
   "metadata": {},
   "source": [
    "# LIBRARIES"
   ]
  },
  {
   "cell_type": "code",
   "execution_count": 1,
   "metadata": {},
   "outputs": [],
   "source": [
    "# packages\n",
    "import pandas as pd\n",
    "import numpy as np\n",
    "from scipy.stats import rankdata\n",
    "from scipy.stats import spearmanr\n",
    "from sklearn.metrics import roc_auc_score"
   ]
  },
  {
   "cell_type": "markdown",
   "metadata": {},
   "source": [
    "# ENSEMBLING SUBMISSIONS"
   ]
  },
  {
   "cell_type": "code",
   "execution_count": 2,
   "metadata": {},
   "outputs": [],
   "source": [
    "# load submissions\n",
    "a = pd.read_csv(\"../submissions/auc85239_data_v4_0_80_under_wlp_lm_bm_f34_lgb_2stage.csv\")\n",
    "b = pd.read_csv(\"../submissions/auc850434_data_v4_0_80_under_wlp_lm_bm_lgb_2stage.csv\")"
   ]
  },
  {
   "cell_type": "code",
   "execution_count": 3,
   "metadata": {},
   "outputs": [],
   "source": [
    "a = a.sort_values(\"PredictionIdx\")\n",
    "b = b.sort_values(\"PredictionIdx\")"
   ]
  },
  {
   "cell_type": "code",
   "execution_count": 4,
   "metadata": {},
   "outputs": [],
   "source": [
    "# geometric mean\n",
    "#a.CustomerInterest = (a.CustomerInterest*b.CustomerInterest) ** (1/2)"
   ]
  },
  {
   "cell_type": "code",
   "execution_count": 5,
   "metadata": {},
   "outputs": [],
   "source": [
    "# arithmetic mean\n",
    "#a.CustomerInterest = a.CustomerInterest*0.25 + b.CustomerInterest*0.75"
   ]
  },
  {
   "cell_type": "code",
   "execution_count": 52,
   "metadata": {},
   "outputs": [],
   "source": [
    "# rank mean\n",
    "a.CustomerInterest = 0.95*rankdata(a.CustomerInterest) + 0.1*rankdata(b.CustomerInterest)  \\\n",
    "                   #+ rankdata(c.CustomerInterest) + rankdata(d.CustomerInterest)  \\\n",
    "                   #+ rankdata(e.CustomerInterest)"
   ]
  },
  {
   "cell_type": "code",
   "execution_count": 53,
   "metadata": {},
   "outputs": [],
   "source": [
    "# scaling\n",
    "a.CustomerInterest = (a.CustomerInterest - a.CustomerInterest.min()) / (a.CustomerInterest.max() - a.CustomerInterest.min())"
   ]
  },
  {
   "cell_type": "code",
   "execution_count": 7,
   "metadata": {},
   "outputs": [
    {
     "data": {
      "text/plain": [
       "SpearmanrResult(correlation=0.992425938984684, pvalue=0.0)"
      ]
     },
     "execution_count": 7,
     "metadata": {},
     "output_type": "execute_result"
    }
   ],
   "source": [
    "# check rank correlation with the best submission\n",
    "best = pd.read_csv(\"../submissions/auc850085_data_v4_0_60_under_wlp_lm_bm_lgb_2stage.csv\")\n",
    "best = best.sort_values(\"PredictionIdx\")\n",
    "\n",
    "spearmanr(b[\"CustomerInterest\"], best.CustomerInterest)"
   ]
  },
  {
   "cell_type": "code",
   "execution_count": 55,
   "metadata": {},
   "outputs": [],
   "source": [
    "a.to_csv('../submissions/rankmean_09_auc789227_ensemble_es_01_auc687042_noRF.csv', index = False, float_format = \"%.8f\")"
   ]
  },
  {
   "cell_type": "markdown",
   "metadata": {},
   "source": [
    "# OPTIMIZING WEIGHTS"
   ]
  },
  {
   "cell_type": "code",
   "execution_count": 93,
   "metadata": {},
   "outputs": [],
   "source": [
    "# load predictions\n",
    "a = pd.read_csv(\"../pred_valid_under/auc8465_data_v4wlp_0_60_under_lgb.csv\")\n",
    "b = pd.read_csv(\"../pred_valid/auc789084_data_v4mlp_ak2_0_60_under_rec27_lgb.csv\")"
   ]
  },
  {
   "cell_type": "code",
   "execution_count": 94,
   "metadata": {},
   "outputs": [],
   "source": [
    "a = a.sort_values([\"CustomerIdx\", \"IsinIdx\", \"BuySell\"])\n",
    "b = b.sort_values([\"CustomerIdx\", \"IsinIdx\", \"BuySell\"])"
   ]
  },
  {
   "cell_type": "code",
   "execution_count": 95,
   "metadata": {},
   "outputs": [
    {
     "name": "stdout",
     "output_type": "stream",
     "text": [
      "0.8465000963193037\n",
      "0.7890844311762045\n"
     ]
    }
   ],
   "source": [
    "# compute AUC\n",
    "print(roc_auc_score(a.CustomerInterest, a.TARGET))\n",
    "print(roc_auc_score(b.CustomerInterest, b.TARGET))"
   ]
  },
  {
   "cell_type": "code",
   "execution_count": 96,
   "metadata": {},
   "outputs": [],
   "source": [
    "a.columns = ['CustomerIdx', 'IsinIdx', 'BuySell', 'Week', 'CustomerInterest', 'TARGETA']"
   ]
  },
  {
   "cell_type": "code",
   "execution_count": 97,
   "metadata": {},
   "outputs": [],
   "source": [
    "c = b.merge(a, how = \"left\")"
   ]
  },
  {
   "cell_type": "code",
   "execution_count": 101,
   "metadata": {},
   "outputs": [
    {
     "name": "stdout",
     "output_type": "stream",
     "text": [
      "0.0: auc = 0.789084\n",
      "0.05: auc = 0.789118\n",
      "0.1: auc = 0.789134\n",
      "0.15: auc = 0.789124\n",
      "0.2: auc = 0.789106\n",
      "0.25: auc = 0.789068\n",
      "0.3: auc = 0.789012\n",
      "0.35: auc = 0.78893\n",
      "0.4: auc = 0.78884\n",
      "0.45: auc = 0.788742\n",
      "0.5: auc = 0.788615\n",
      "0.55: auc = 0.788471\n",
      "0.6: auc = 0.788307\n",
      "0.65: auc = 0.788129\n",
      "0.7: auc = 0.787926\n",
      "0.75: auc = 0.787711\n",
      "0.8: auc = 0.787474\n",
      "0.85: auc = 0.787226\n",
      "0.9: auc = 0.786955\n",
      "0.95: auc = 0.786667\n",
      "1.0: auc = 0.786366\n"
     ]
    }
   ],
   "source": [
    "# optimal weights for arithmetic mean\n",
    "for w in np.arange(0, 1.05, 0.05):\n",
    "    target = w*c.TARGETA + (1-w)*c.TARGET\n",
    "    print(str(round(w, 2)) + \": auc = \" + str(round(roc_auc_score(c.CustomerInterest, target), 6)))"
   ]
  },
  {
   "cell_type": "code",
   "execution_count": 103,
   "metadata": {},
   "outputs": [
    {
     "name": "stdout",
     "output_type": "stream",
     "text": [
      "0.0: auc = 0.789084\n",
      "0.05: auc = 0.789121\n",
      "0.1: auc = 0.789139\n",
      "0.15: auc = 0.789137\n",
      "0.2: auc = 0.789122\n",
      "0.25: auc = 0.789091\n",
      "0.3: auc = 0.789025\n",
      "0.35: auc = 0.788953\n",
      "0.4: auc = 0.788863\n",
      "0.45: auc = 0.788764\n",
      "0.5: auc = 0.788638\n",
      "0.55: auc = 0.788486\n",
      "0.6: auc = 0.788326\n",
      "0.65: auc = 0.788143\n",
      "0.7: auc = 0.78794\n",
      "0.75: auc = 0.787727\n",
      "0.8: auc = 0.787487\n",
      "0.85: auc = 0.787234\n",
      "0.9: auc = 0.786961\n",
      "0.95: auc = 0.786668\n",
      "1.0: auc = 0.786366\n"
     ]
    }
   ],
   "source": [
    "# optimal weights for rank mean\n",
    "for w in np.arange(0, 1.05, 0.05):\n",
    "    target = w*rankdata(c.TARGETA) + (1-w)*rankdata(c.TARGET)\n",
    "    print(str(round(w, 2)) + \": auc = \" + str(round(roc_auc_score(c.CustomerInterest, target), 6)))"
   ]
  },
  {
   "cell_type": "markdown",
   "metadata": {},
   "source": [
    "record: 0.843235"
   ]
  }
 ],
 "metadata": {
  "kernelspec": {
   "display_name": "Python 3",
   "language": "python",
   "name": "python3"
  },
  "language_info": {
   "codemirror_mode": {
    "name": "ipython",
    "version": 3
   },
   "file_extension": ".py",
   "mimetype": "text/x-python",
   "name": "python",
   "nbconvert_exporter": "python",
   "pygments_lexer": "ipython3",
   "version": "3.6.5"
  }
 },
 "nbformat": 4,
 "nbformat_minor": 2
}
