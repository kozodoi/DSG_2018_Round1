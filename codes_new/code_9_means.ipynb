{
 "cells": [
  {
   "cell_type": "markdown",
   "metadata": {},
   "source": [
    "# LIBRARIES"
   ]
  },
  {
   "cell_type": "code",
   "execution_count": 18,
   "metadata": {},
   "outputs": [],
   "source": [
    "# packages\n",
    "import pandas as pd\n",
    "import numpy as np\n",
    "from scipy.stats import rankdata\n",
    "from scipy.stats import spearmanr\n",
    "from sklearn.metrics import roc_auc_score"
   ]
  },
  {
   "cell_type": "markdown",
   "metadata": {},
   "source": [
    "# ENSEMBLING SUBMISSIONS"
   ]
  },
  {
   "cell_type": "code",
   "execution_count": 26,
   "metadata": {},
   "outputs": [],
   "source": [
    "# load submissions\n",
    "a = pd.read_csv(\"../submissions/auc8465_data_v4wlp_0_60_under_lgb_2stage.csv\")\n",
    "b = pd.read_csv(\"../submissions/auc789084_data_v4mlp_ak2_0_60_under_rec27_lgb_2stage.csv\")"
   ]
  },
  {
   "cell_type": "code",
   "execution_count": 27,
   "metadata": {},
   "outputs": [],
   "source": [
    "# geometric mean\n",
    "#a.CustomerInterest = (a.CustomerInterest*b.CustomerInterest) ** (1/2)"
   ]
  },
  {
   "cell_type": "code",
   "execution_count": 28,
   "metadata": {},
   "outputs": [],
   "source": [
    "# arithmetic mean\n",
    "#a.CustomerInterest = a.CustomerInterest*0.25 + b.CustomerInterest*0.75"
   ]
  },
  {
   "cell_type": "code",
   "execution_count": 29,
   "metadata": {},
   "outputs": [],
   "source": [
    "# rank mean\n",
    "a.CustomerInterest = rankdata(a.CustomerInterest) + rankdata(b.CustomerInterest)  \\\n",
    "                   #+ rankdata(c.CustomerInterest) + rankdata(d.CustomerInterest)  \\\n",
    "                   #+ rankdata(e.CustomerInterest)"
   ]
  },
  {
   "cell_type": "code",
   "execution_count": 30,
   "metadata": {},
   "outputs": [],
   "source": [
    "# scaling\n",
    "a.CustomerInterest = (a.CustomerInterest - a.CustomerInterest.min()) / (a.CustomerInterest.max() - a.CustomerInterest.min())"
   ]
  },
  {
   "cell_type": "code",
   "execution_count": 31,
   "metadata": {},
   "outputs": [
    {
     "data": {
      "text/plain": [
       "SpearmanrResult(correlation=1.0, pvalue=0.0)"
      ]
     },
     "execution_count": 31,
     "metadata": {},
     "output_type": "execute_result"
    }
   ],
   "source": [
    "# check rank correlation with the best submission\n",
    "best = pd.read_csv(\"../submissions/rankmean_two_models.csv\")\n",
    "spearmanr(a[\"CustomerInterest\"], best.CustomerInterest)"
   ]
  },
  {
   "cell_type": "code",
   "execution_count": 25,
   "metadata": {},
   "outputs": [],
   "source": [
    "a.to_csv('../submissions/rankmean_two_models_new.csv', index = False, float_format = \"%.8f\")"
   ]
  },
  {
   "cell_type": "markdown",
   "metadata": {},
   "source": [
    "# OPTIMIZING WEIGHTS"
   ]
  },
  {
   "cell_type": "code",
   "execution_count": 4,
   "metadata": {},
   "outputs": [],
   "source": [
    "# load predictions\n",
    "a = pd.read_csv(\"../pred_valid/auc786368_data_v4mlp_ak2_0_60_under_rec27_lgb.csv\")\n",
    "b = pd.read_csv(\"../pred_valid/auc789084_data_v4mlp_ak2_0_60_under_rec27_lgb.csv\")"
   ]
  },
  {
   "cell_type": "code",
   "execution_count": 5,
   "metadata": {},
   "outputs": [
    {
     "name": "stdout",
     "output_type": "stream",
     "text": [
      "0.7863676465335259\n",
      "0.7890844311762045\n"
     ]
    }
   ],
   "source": [
    "# compute AUC\n",
    "print(roc_auc_score(a.CustomerInterest, a.TARGET))\n",
    "print(roc_auc_score(b.CustomerInterest, b.TARGET))"
   ]
  },
  {
   "cell_type": "code",
   "execution_count": 6,
   "metadata": {},
   "outputs": [
    {
     "name": "stdout",
     "output_type": "stream",
     "text": [
      "0.0: auc = 0.789084\n",
      "0.05: auc = 0.78907\n",
      "0.1: auc = 0.789047\n",
      "0.15: auc = 0.789007\n",
      "0.2: auc = 0.788953\n",
      "0.25: auc = 0.7889\n",
      "0.3: auc = 0.788817\n",
      "0.35: auc = 0.78873\n",
      "0.4: auc = 0.788627\n",
      "0.45: auc = 0.788509\n",
      "0.5: auc = 0.788377\n",
      "0.55: auc = 0.788224\n",
      "0.6: auc = 0.78807\n",
      "0.65: auc = 0.787903\n",
      "0.7: auc = 0.787733\n",
      "0.75: auc = 0.787541\n",
      "0.8: auc = 0.787336\n",
      "0.85: auc = 0.787113\n",
      "0.9: auc = 0.786878\n",
      "0.95: auc = 0.786632\n",
      "1.0: auc = 0.786368\n"
     ]
    }
   ],
   "source": [
    "# optimal weights for arithmetic mean\n",
    "for w in np.arange(0, 1.05, 0.05):\n",
    "    target = w*a.TARGET + (1-w)*b.TARGET\n",
    "    print(str(round(w, 2)) + \": auc = \" + str(round(roc_auc_score(b.CustomerInterest, target), 6)))"
   ]
  },
  {
   "cell_type": "code",
   "execution_count": 7,
   "metadata": {},
   "outputs": [
    {
     "name": "stdout",
     "output_type": "stream",
     "text": [
      "0.0: auc = 0.789084\n",
      "0.05: auc = 0.789067\n",
      "0.1: auc = 0.789043\n",
      "0.15: auc = 0.789\n",
      "0.2: auc = 0.788946\n",
      "0.25: auc = 0.78889\n",
      "0.3: auc = 0.788812\n",
      "0.35: auc = 0.788715\n",
      "0.4: auc = 0.788609\n",
      "0.45: auc = 0.788492\n",
      "0.5: auc = 0.78836\n",
      "0.55: auc = 0.788206\n",
      "0.6: auc = 0.788051\n",
      "0.65: auc = 0.787889\n",
      "0.7: auc = 0.787714\n",
      "0.75: auc = 0.787521\n",
      "0.8: auc = 0.787322\n",
      "0.85: auc = 0.787099\n",
      "0.9: auc = 0.786867\n",
      "0.95: auc = 0.786626\n",
      "1.0: auc = 0.786368\n"
     ]
    }
   ],
   "source": [
    "# optimal weights for rank mean\n",
    "for w in np.arange(0, 1.05, 0.05):\n",
    "    target = w*rankdata(a.TARGET) + (1-w)*rankdata(b.TARGET)\n",
    "    print(str(round(w, 2)) + \": auc = \" + str(round(roc_auc_score(b.CustomerInterest, target), 6)))"
   ]
  },
  {
   "cell_type": "markdown",
   "metadata": {},
   "source": [
    "record: 0.843235"
   ]
  }
 ],
 "metadata": {
  "kernelspec": {
   "display_name": "Python 3",
   "language": "python",
   "name": "python3"
  },
  "language_info": {
   "codemirror_mode": {
    "name": "ipython",
    "version": 3
   },
   "file_extension": ".py",
   "mimetype": "text/x-python",
   "name": "python",
   "nbconvert_exporter": "python",
   "pygments_lexer": "ipython3",
   "version": "3.6.5"
  }
 },
 "nbformat": 4,
 "nbformat_minor": 2
}
