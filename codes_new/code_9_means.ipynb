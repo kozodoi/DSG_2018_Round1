{
 "cells": [
  {
   "cell_type": "code",
   "execution_count": 26,
   "metadata": {},
   "outputs": [],
   "source": [
    "import pandas as pd\n",
    "import numpy as np\n",
    "from scipy.stats import rankdata"
   ]
  },
  {
   "cell_type": "code",
   "execution_count": 27,
   "metadata": {},
   "outputs": [],
   "source": [
    "a = pd.read_csv(\"../submissions/data_v2_0_80_lgb_val0841866.csv\")\n",
    "b = pd.read_csv(\"../submissions/data_v3_80_100_lgb_7000it_0837796.csv\")\n",
    "c = pd.read_csv(\"../submissions/gmean_2logits_1ratiobased.csv\")"
   ]
  },
  {
   "cell_type": "code",
   "execution_count": 28,
   "metadata": {},
   "outputs": [],
   "source": [
    "# geometric mean\n",
    "#ff.CustomerInterest = (ff.CustomerInterest*ll.CustomerInterest) ** (1/2)"
   ]
  },
  {
   "cell_type": "code",
   "execution_count": 29,
   "metadata": {},
   "outputs": [],
   "source": [
    "# or arithmetic mean\n",
    "#ff.CustomerInterest = (4/5)*(ff.CustomerInterest) + (1/5)*(ll.CustomerInterest)"
   ]
  },
  {
   "cell_type": "code",
   "execution_count": 30,
   "metadata": {},
   "outputs": [],
   "source": [
    "# rank mean\n",
    "a.CustomerInterest = 5*rankdata(a.CustomerInterest) + rankdata(b.CustomerInterest) + rankdata(c.CustomerInterest)\n",
    "a.CustomerInterest = (a.CustomerInterest - a.CustomerInterest.min()) / (a.CustomerInterest.max() - a.CustomerInterest.min())"
   ]
  },
  {
   "cell_type": "code",
   "execution_count": 31,
   "metadata": {},
   "outputs": [
    {
     "data": {
      "text/plain": [
       "SpearmanrResult(correlation=0.9783543519141684, pvalue=0.0)"
      ]
     },
     "execution_count": 31,
     "metadata": {},
     "output_type": "execute_result"
    }
   ],
   "source": [
    "# check rank correlation with the best submission\n",
    "from scipy.stats import spearmanr\n",
    "best = pd.read_csv(\"../submissions/data_v2_0_80_lgb_val0841866.csv\")\n",
    "spearmanr(a[\"CustomerInterest\"], best.CustomerInterest)"
   ]
  },
  {
   "cell_type": "code",
   "execution_count": 32,
   "metadata": {},
   "outputs": [],
   "source": [
    "a.to_csv('../submissions/rankmean_3submits.csv', index=False, float_format = \"%.8f\")"
   ]
  }
 ],
 "metadata": {
  "kernelspec": {
   "display_name": "Python 3",
   "language": "python",
   "name": "python3"
  },
  "language_info": {
   "codemirror_mode": {
    "name": "ipython",
    "version": 3
   },
   "file_extension": ".py",
   "mimetype": "text/x-python",
   "name": "python",
   "nbconvert_exporter": "python",
   "pygments_lexer": "ipython3",
   "version": "3.6.5"
  }
 },
 "nbformat": 4,
 "nbformat_minor": 2
}
