{
 "cells": [
  {
   "cell_type": "code",
   "execution_count": 6,
   "metadata": {},
   "outputs": [],
   "source": [
    "import pandas as pd\n",
    "import matplotlib.pyplot as plt"
   ]
  },
  {
   "cell_type": "code",
   "execution_count": 7,
   "metadata": {},
   "outputs": [],
   "source": [
    "bond  = pd.read_csv(\"../data/raw/Isin.csv\")"
   ]
  },
  {
   "cell_type": "code",
   "execution_count": 8,
   "metadata": {},
   "outputs": [
    {
     "data": {
      "text/plain": [
       "Index(['IsinIdx', 'TickerIdx', 'ActualMaturityDateKey', 'IssueDateKey',\n",
       "       'Seniority', 'Currency', 'ActivityGroup', 'Region', 'Activity',\n",
       "       'RiskCaptain', 'Owner', 'CompositeRating', 'IndustrySector',\n",
       "       'IndustrySubgroup', 'MarketIssue', 'IssuedAmount', 'CouponType'],\n",
       "      dtype='object')"
      ]
     },
     "execution_count": 8,
     "metadata": {},
     "output_type": "execute_result"
    }
   ],
   "source": [
    "bond.columns"
   ]
  },
  {
   "cell_type": "code",
   "execution_count": 9,
   "metadata": {},
   "outputs": [
    {
     "data": {
      "text/html": [
       "<div>\n",
       "<style scoped>\n",
       "    .dataframe tbody tr th:only-of-type {\n",
       "        vertical-align: middle;\n",
       "    }\n",
       "\n",
       "    .dataframe tbody tr th {\n",
       "        vertical-align: top;\n",
       "    }\n",
       "\n",
       "    .dataframe thead th {\n",
       "        text-align: right;\n",
       "    }\n",
       "</style>\n",
       "<table border=\"1\" class=\"dataframe\">\n",
       "  <thead>\n",
       "    <tr style=\"text-align: right;\">\n",
       "      <th></th>\n",
       "      <th>IsinIdx</th>\n",
       "      <th>TickerIdx</th>\n",
       "      <th>ActualMaturityDateKey</th>\n",
       "      <th>IssueDateKey</th>\n",
       "      <th>Seniority</th>\n",
       "      <th>Currency</th>\n",
       "      <th>ActivityGroup</th>\n",
       "      <th>Region</th>\n",
       "      <th>Activity</th>\n",
       "      <th>RiskCaptain</th>\n",
       "      <th>Owner</th>\n",
       "      <th>CompositeRating</th>\n",
       "      <th>IndustrySector</th>\n",
       "      <th>IndustrySubgroup</th>\n",
       "      <th>MarketIssue</th>\n",
       "      <th>IssuedAmount</th>\n",
       "      <th>CouponType</th>\n",
       "    </tr>\n",
       "  </thead>\n",
       "  <tbody>\n",
       "    <tr>\n",
       "      <th>0</th>\n",
       "      <td>0</td>\n",
       "      <td>238</td>\n",
       "      <td>20381231</td>\n",
       "      <td>20051129</td>\n",
       "      <td>GOV</td>\n",
       "      <td>USD</td>\n",
       "      <td>FLOW LOCAL MARKET</td>\n",
       "      <td>AMERICAS</td>\n",
       "      <td>ARGENTINA</td>\n",
       "      <td>ARGENTINA</td>\n",
       "      <td>EMK ARGENTINA</td>\n",
       "      <td>NR</td>\n",
       "      <td>Government</td>\n",
       "      <td>Sovereign</td>\n",
       "      <td>Domestic</td>\n",
       "      <td>1.246002e+09</td>\n",
       "      <td>STEP CPN</td>\n",
       "    </tr>\n",
       "    <tr>\n",
       "      <th>1</th>\n",
       "      <td>1</td>\n",
       "      <td>238</td>\n",
       "      <td>20331231</td>\n",
       "      <td>20051129</td>\n",
       "      <td>GOV</td>\n",
       "      <td>USD</td>\n",
       "      <td>FLOW LOCAL MARKET</td>\n",
       "      <td>AMERICAS</td>\n",
       "      <td>ARGENTINA</td>\n",
       "      <td>ARGENTINA</td>\n",
       "      <td>EMK ARGENTINA</td>\n",
       "      <td>NR</td>\n",
       "      <td>Government</td>\n",
       "      <td>Sovereign</td>\n",
       "      <td>Domestic</td>\n",
       "      <td>4.901086e+09</td>\n",
       "      <td>FIXED</td>\n",
       "    </tr>\n",
       "  </tbody>\n",
       "</table>\n",
       "</div>"
      ],
      "text/plain": [
       "   IsinIdx  TickerIdx  ActualMaturityDateKey  IssueDateKey Seniority Currency  \\\n",
       "0        0        238               20381231      20051129       GOV      USD   \n",
       "1        1        238               20331231      20051129       GOV      USD   \n",
       "\n",
       "       ActivityGroup    Region   Activity RiskCaptain          Owner  \\\n",
       "0  FLOW LOCAL MARKET  AMERICAS  ARGENTINA   ARGENTINA  EMK ARGENTINA   \n",
       "1  FLOW LOCAL MARKET  AMERICAS  ARGENTINA   ARGENTINA  EMK ARGENTINA   \n",
       "\n",
       "  CompositeRating IndustrySector IndustrySubgroup MarketIssue  IssuedAmount  \\\n",
       "0              NR     Government        Sovereign    Domestic  1.246002e+09   \n",
       "1              NR     Government        Sovereign    Domestic  4.901086e+09   \n",
       "\n",
       "  CouponType  \n",
       "0   STEP CPN  \n",
       "1      FIXED  "
      ]
     },
     "execution_count": 9,
     "metadata": {},
     "output_type": "execute_result"
    }
   ],
   "source": [
    "bond.head(2)"
   ]
  },
  {
   "cell_type": "code",
   "execution_count": 10,
   "metadata": {},
   "outputs": [
    {
     "data": {
      "text/plain": [
       "MarketIssue\n",
       "Canadian              2\n",
       "Domestic            788\n",
       "Domestic mtn        640\n",
       "Euro mtn           7374\n",
       "Euro non-dollar    1654\n",
       "Euro-dollar        3553\n",
       "Euro-zone          2001\n",
       "Global             5690\n",
       "Priv placement     3146\n",
       "UK gilt stock        43\n",
       "US domestic        2216\n",
       "US govt             169\n",
       "US non-dollar         4\n",
       "Yankee              114\n",
       "dtype: int64"
      ]
     },
     "execution_count": 10,
     "metadata": {},
     "output_type": "execute_result"
    }
   ],
   "source": [
    "bond.groupby(\"MarketIssue\").size()"
   ]
  },
  {
   "cell_type": "code",
   "execution_count": 11,
   "metadata": {},
   "outputs": [],
   "source": [
    "bond.loc[~bond.Seniority.isin([\"GOV\",\"SEC\",\"SEN\",\"SUB\"]), \"Seniority\"] = \"OTHER\"\n",
    "bond.loc[~bond.Activity.isin([\"Asia\",\"RETAIL\",\"GBP SAS\", \"ARGENTINIA\"]), \"Activity\"] = \"OTHER\"\n",
    "bond.loc[bond.Currency.isin(\n",
    "    (bond.groupby(\"Currency\").size())[bond.groupby(\"Currency\").size()<350].index.tolist()\n",
    "), \"Currency\"] = \"OTHER\"\n",
    "\n",
    "bond.loc[bond.CompositeRating.str.contains(\"C|D\"), \"CompositeRating\"] = \"LOWER\"\n",
    "# Risk captain\n",
    "bond.loc[bond.RiskCaptain.isin(\n",
    "    (bond.groupby(\"RiskCaptain\").size())[bond.groupby(\"RiskCaptain\").size()<200].index.tolist()\n",
    "), \"RiskCaptain\"] = \"OTHER\""
   ]
  },
  {
   "cell_type": "code",
   "execution_count": 12,
   "metadata": {},
   "outputs": [
    {
     "name": "stderr",
     "output_type": "stream",
     "text": [
      "/Users/hauptjoh/anaconda/envs/deeplearning/lib/python3.6/site-packages/IPython/core/interactiveshell.py:2728: DtypeWarning: Columns (0) have mixed types. Specify dtype option on import or set low_memory=False.\n",
      "  interactivity=interactivity, compiler=compiler, result=result)\n"
     ]
    }
   ],
   "source": [
    "data = pd.read_csv(\"/Users/hauptjoh/Projects/DSG_2018_Round1/data/prepared/data_basic_1.csv\", compression = \"gzip\")"
   ]
  },
  {
   "cell_type": "code",
   "execution_count": 13,
   "metadata": {},
   "outputs": [],
   "source": [
    "tmp = data.loc[data.CustomerInterest == 1]"
   ]
  },
  {
   "cell_type": "code",
   "execution_count": 14,
   "metadata": {},
   "outputs": [],
   "source": [
    "tmp = tmp.loc[tmp.Week<61]"
   ]
  },
  {
   "cell_type": "code",
   "execution_count": 15,
   "metadata": {},
   "outputs": [
    {
     "data": {
      "text/plain": [
       "Index(['PredictionIdx', 'CustomerIdx', 'IsinIdx', 'BuySell',\n",
       "       'CustomerInterest', 'Week'],\n",
       "      dtype='object')"
      ]
     },
     "execution_count": 15,
     "metadata": {},
     "output_type": "execute_result"
    }
   ],
   "source": [
    "tmp.columns"
   ]
  },
  {
   "cell_type": "code",
   "execution_count": 16,
   "metadata": {},
   "outputs": [],
   "source": [
    "full = tmp.merge(bond, on=[\"IsinIdx\"], how=\"left\")"
   ]
  },
  {
   "cell_type": "code",
   "execution_count": 17,
   "metadata": {},
   "outputs": [],
   "source": [
    "final_table = pd.DataFrame({\"CustomerIdx\":full.CustomerIdx.unique()})"
   ]
  },
  {
   "cell_type": "code",
   "execution_count": 27,
   "metadata": {},
   "outputs": [],
   "source": [
    "bondfeature_list = [\"Seniority\",\"Currency\",\"ActivityGroup\",\"Region\",\"Activity\", \n",
    "                    \"RiskCaptain\", \"CompositeRating\", \"IndustrySector\",\n",
    "                   \"MarketIssue\"]"
   ]
  },
  {
   "cell_type": "code",
   "execution_count": null,
   "metadata": {},
   "outputs": [],
   "source": [
    "for var in bondfeature_list:\n",
    "    count_table = full.groupby([\"CustomerIdx\",var]).size().to_frame('count').reset_index()\n",
    "\n",
    "    #count_table = count_table.merge(\n",
    "    #    count_table.groupby(\"CustomerIdx\").max().drop(var, axis=1).reset_index(), \n",
    "    #                  on =[\"CustomerIdx\"], how=\"left\")\n",
    "\n",
    "    count_table.sort_values([\"CustomerIdx\", \"count\"], ascending=False).groupby(\"CustomerIdx\").head(1)\n",
    "    count_table = count_table.loc[:, [\"CustomerIdx\",var]]\n",
    "    \n",
    "    final_table = final_table.merge(count_table, on=[\"CustomerIdx\"], how = \"left\")\n",
    "    del(count_table)"
   ]
  },
  {
   "cell_type": "code",
   "execution_count": null,
   "metadata": {},
   "outputs": [],
   "source": [
    "final_table"
   ]
  },
  {
   "cell_type": "code",
   "execution_count": null,
   "metadata": {},
   "outputs": [],
   "source": [
    "final_table.isna().sum()"
   ]
  },
  {
   "cell_type": "code",
   "execution_count": null,
   "metadata": {},
   "outputs": [],
   "source": [
    "final_table.to_csv(\"/Users/hauptjoh/Projects/DSG_2018_Round1/data/prepared/favorite_bonds_w1-60.csv\", index=False, compression = \"gzip\")"
   ]
  },
  {
   "cell_type": "code",
   "execution_count": null,
   "metadata": {},
   "outputs": [],
   "source": []
  }
 ],
 "metadata": {
  "kernelspec": {
   "display_name": "Python [deeplearning]",
   "language": "python",
   "name": "Python [deeplearning]"
  },
  "language_info": {
   "codemirror_mode": {
    "name": "ipython",
    "version": 3
   },
   "file_extension": ".py",
   "mimetype": "text/x-python",
   "name": "python",
   "nbconvert_exporter": "python",
   "pygments_lexer": "ipython3",
   "version": "3.6.4"
  }
 },
 "nbformat": 4,
 "nbformat_minor": 2
}
