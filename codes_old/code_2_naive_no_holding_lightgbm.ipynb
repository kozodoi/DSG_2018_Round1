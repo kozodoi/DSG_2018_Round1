{
 "cells": [
  {
   "cell_type": "markdown",
   "metadata": {},
   "source": [
    "# 1. SETTINGS"
   ]
  },
  {
   "cell_type": "code",
   "execution_count": 8,
   "metadata": {},
   "outputs": [],
   "source": [
    "# libraries\n",
    "import numpy as np\n",
    "import pandas as pd\n",
    "import seaborn as sns\n",
    "import matplotlib.pyplot as plt\n",
    "from IPython.display import display\n",
    "from sklearn.metrics import roc_auc_score\n",
    "import scipy.stats"
   ]
  },
  {
   "cell_type": "code",
   "execution_count": 9,
   "metadata": {},
   "outputs": [],
   "source": [
    "# pandas options\n",
    "pd.set_option(\"display.max_columns\", None)"
   ]
  },
  {
   "cell_type": "markdown",
   "metadata": {},
   "source": [
    "# 2. DATA PARTITIONING"
   ]
  },
  {
   "cell_type": "code",
   "execution_count": 45,
   "metadata": {},
   "outputs": [],
   "source": [
    "# import data\n",
    "data = pd.read_csv(\"../../data/prepared/train_no_holding.csv\")"
   ]
  },
  {
   "cell_type": "code",
   "execution_count": 11,
   "metadata": {},
   "outputs": [
    {
     "data": {
      "text/plain": [
       "0.015928279254888048"
      ]
     },
     "execution_count": 11,
     "metadata": {},
     "output_type": "execute_result"
    }
   ],
   "source": [
    "data.CustomerInterest.mean()"
   ]
  },
  {
   "cell_type": "code",
   "execution_count": 12,
   "metadata": {},
   "outputs": [
    {
     "ename": "NameError",
     "evalue": "name 'test' is not defined",
     "output_type": "error",
     "traceback": [
      "\u001b[1;31m---------------------------------------------------------------------------\u001b[0m",
      "\u001b[1;31mNameError\u001b[0m                                 Traceback (most recent call last)",
      "\u001b[1;32m<ipython-input-12-a7d26af5cd4e>\u001b[0m in \u001b[0;36m<module>\u001b[1;34m()\u001b[0m\n\u001b[0;32m      1\u001b[0m \u001b[1;31m# check all datasets\u001b[0m\u001b[1;33m\u001b[0m\u001b[1;33m\u001b[0m\u001b[0m\n\u001b[1;32m----> 2\u001b[1;33m \u001b[0mprint\u001b[0m\u001b[1;33m(\u001b[0m\u001b[1;34m\"Test data:\"\u001b[0m\u001b[1;33m,\u001b[0m \u001b[0mtest\u001b[0m\u001b[1;33m.\u001b[0m\u001b[0mshape\u001b[0m\u001b[1;33m)\u001b[0m\u001b[1;33m\u001b[0m\u001b[0m\n\u001b[0m\u001b[0;32m      3\u001b[0m \u001b[0mdisplay\u001b[0m\u001b[1;33m(\u001b[0m\u001b[0mtest\u001b[0m\u001b[1;33m.\u001b[0m\u001b[0mhead\u001b[0m\u001b[1;33m(\u001b[0m\u001b[1;36m3\u001b[0m\u001b[1;33m)\u001b[0m\u001b[1;33m)\u001b[0m\u001b[1;33m\u001b[0m\u001b[0m\n\u001b[0;32m      4\u001b[0m \u001b[0mprint\u001b[0m\u001b[1;33m(\u001b[0m\u001b[1;34m\"------------------------------\"\u001b[0m\u001b[1;33m)\u001b[0m\u001b[1;33m\u001b[0m\u001b[0m\n\u001b[0;32m      5\u001b[0m \u001b[0mprint\u001b[0m\u001b[1;33m(\u001b[0m\u001b[1;34m\"Train data:\"\u001b[0m\u001b[1;33m,\u001b[0m \u001b[0mdata\u001b[0m\u001b[1;33m.\u001b[0m\u001b[0mshape\u001b[0m\u001b[1;33m)\u001b[0m\u001b[1;33m\u001b[0m\u001b[0m\n",
      "\u001b[1;31mNameError\u001b[0m: name 'test' is not defined"
     ]
    }
   ],
   "source": [
    "# check all datasets\n",
    "print(\"Test data:\", test.shape)\n",
    "display(test.head(3))\n",
    "print(\"------------------------------\")\n",
    "print(\"Train data:\", data.shape)\n",
    "display(data.head(3))"
   ]
  },
  {
   "cell_type": "code",
   "execution_count": 46,
   "metadata": {},
   "outputs": [],
   "source": [
    "# data partitioning\n",
    "stats = data[(data[\"Week\"] >= 1)   & (data[\"Week\"] <= 50)]\n",
    "train = data[(data[\"Week\"] >= 51)  & (data[\"Week\"] <= 110)]\n",
    "valid = data[(data[\"Week\"] >= 111) & (data[\"Week\"] <= 121)]\n",
    "del data"
   ]
  },
  {
   "cell_type": "markdown",
   "metadata": {},
   "source": [
    "# 3. COMPUTING NAIVE RATIOS (TRAIN)"
   ]
  },
  {
   "cell_type": "code",
   "execution_count": 47,
   "metadata": {},
   "outputs": [],
   "source": [
    "# compute target ratio (last 64 weeks)\n",
    "cust_int0 = train[train[\"Week\"] >= (110-64)]\n",
    "cust_int0 = cust_int0[[\"CustomerIdx\", \"CustomerInterest\", \"IsinIdx\"]]\n",
    "cust_int0 = cust_int0.groupby([\"CustomerIdx\", \"IsinIdx\"], as_index = False).mean()\n",
    "cust_int0.columns = [\"CustomerIdx\", \"IsinIdx\", \"ratio0\"]"
   ]
  },
  {
   "cell_type": "code",
   "execution_count": 48,
   "metadata": {},
   "outputs": [],
   "source": [
    "# compute target ratio (last 32 weeks)\n",
    "cust_int1 = train[train[\"Week\"] >= (110-32)]\n",
    "cust_int1 = cust_int1[[\"CustomerIdx\", \"CustomerInterest\", \"IsinIdx\"]]\n",
    "cust_int1 = cust_int1.groupby([\"CustomerIdx\", \"IsinIdx\"], as_index = False).mean()\n",
    "cust_int1.columns = [\"CustomerIdx\", \"IsinIdx\", \"ratio1\"]"
   ]
  },
  {
   "cell_type": "code",
   "execution_count": 49,
   "metadata": {},
   "outputs": [],
   "source": [
    "# compute target ratio (last 16 weeks)\n",
    "cust_int2 = train[train[\"Week\"] >= (110-16)]\n",
    "cust_int2 = cust_int2[[\"CustomerIdx\", \"CustomerInterest\", \"IsinIdx\"]]\n",
    "cust_int2 = cust_int2.groupby([\"CustomerIdx\", \"IsinIdx\"], as_index = False).mean()\n",
    "cust_int2.columns = [\"CustomerIdx\", \"IsinIdx\", \"ratio2\"]"
   ]
  },
  {
   "cell_type": "code",
   "execution_count": 50,
   "metadata": {},
   "outputs": [],
   "source": [
    "# compute target ratio (last 8 weeks)\n",
    "cust_int3 = train[train[\"Week\"] >= (110-8)]\n",
    "cust_int3 = cust_int3[[\"CustomerIdx\", \"CustomerInterest\", \"IsinIdx\"]]\n",
    "cust_int3 = cust_int3.groupby([\"CustomerIdx\", \"IsinIdx\"], as_index = False).mean()\n",
    "cust_int3.columns = [\"CustomerIdx\", \"IsinIdx\", \"ratio3\"]"
   ]
  },
  {
   "cell_type": "code",
   "execution_count": 51,
   "metadata": {},
   "outputs": [],
   "source": [
    "# compute target ratio (last 4 weeks)\n",
    "cust_int4 = train[train[\"Week\"] >= (110-4)]\n",
    "cust_int4 = cust_int4[[\"CustomerIdx\", \"CustomerInterest\", \"IsinIdx\"]]\n",
    "cust_int4 = cust_int4.groupby([\"CustomerIdx\", \"IsinIdx\"], as_index = False).mean()\n",
    "cust_int4.columns = [\"CustomerIdx\", \"IsinIdx\", \"ratio4\"]"
   ]
  },
  {
   "cell_type": "code",
   "execution_count": 52,
   "metadata": {},
   "outputs": [],
   "source": [
    "# compute customer target ratio (last 32 weeks)\n",
    "cust_int5 = train[train[\"Week\"] >= (110-32)]\n",
    "cust_int5 = cust_int5[[\"CustomerIdx\", \"CustomerInterest\"]]\n",
    "cust_int5 = cust_int5.groupby([\"CustomerIdx\"], as_index = False).mean()\n",
    "cust_int5.columns = [\"CustomerIdx\", \"ratio5\"]"
   ]
  },
  {
   "cell_type": "code",
   "execution_count": 53,
   "metadata": {},
   "outputs": [],
   "source": [
    "# compute bond target ratio (last 32 weeks)\n",
    "cust_int6 = train[train[\"Week\"] >= (110-32)]\n",
    "cust_int6 = cust_int6[[\"IsinIdx\", \"CustomerInterest\"]]\n",
    "cust_int6 = cust_int6.groupby([\"IsinIdx\"], as_index = False).mean()\n",
    "cust_int6.columns = [\"IsinIdx\", \"ratio6\"]"
   ]
  },
  {
   "cell_type": "code",
   "execution_count": 54,
   "metadata": {},
   "outputs": [
    {
     "data": {
      "text/html": [
       "<div>\n",
       "<style scoped>\n",
       "    .dataframe tbody tr th:only-of-type {\n",
       "        vertical-align: middle;\n",
       "    }\n",
       "\n",
       "    .dataframe tbody tr th {\n",
       "        vertical-align: top;\n",
       "    }\n",
       "\n",
       "    .dataframe thead th {\n",
       "        text-align: right;\n",
       "    }\n",
       "</style>\n",
       "<table border=\"1\" class=\"dataframe\">\n",
       "  <thead>\n",
       "    <tr style=\"text-align: right;\">\n",
       "      <th></th>\n",
       "      <th>CustomerIdx</th>\n",
       "      <th>IsinIdx</th>\n",
       "      <th>ratio0</th>\n",
       "      <th>ratio1</th>\n",
       "      <th>ratio2</th>\n",
       "      <th>ratio3</th>\n",
       "      <th>ratio4</th>\n",
       "      <th>ratio5</th>\n",
       "      <th>ratio6</th>\n",
       "      <th>RatioMean</th>\n",
       "    </tr>\n",
       "  </thead>\n",
       "  <tbody>\n",
       "    <tr>\n",
       "      <th>0</th>\n",
       "      <td>0</td>\n",
       "      <td>16471</td>\n",
       "      <td>0.016667</td>\n",
       "      <td>0.000000</td>\n",
       "      <td>0.0</td>\n",
       "      <td>0.0</td>\n",
       "      <td>0.0</td>\n",
       "      <td>0.007346</td>\n",
       "      <td>0.000000</td>\n",
       "      <td>0.003430</td>\n",
       "    </tr>\n",
       "    <tr>\n",
       "      <th>1</th>\n",
       "      <td>0</td>\n",
       "      <td>16499</td>\n",
       "      <td>0.016667</td>\n",
       "      <td>0.000000</td>\n",
       "      <td>0.0</td>\n",
       "      <td>0.0</td>\n",
       "      <td>0.0</td>\n",
       "      <td>0.007346</td>\n",
       "      <td>0.000000</td>\n",
       "      <td>0.003430</td>\n",
       "    </tr>\n",
       "    <tr>\n",
       "      <th>2</th>\n",
       "      <td>0</td>\n",
       "      <td>20601</td>\n",
       "      <td>0.016667</td>\n",
       "      <td>0.000000</td>\n",
       "      <td>0.0</td>\n",
       "      <td>0.0</td>\n",
       "      <td>0.0</td>\n",
       "      <td>0.007346</td>\n",
       "      <td>0.002886</td>\n",
       "      <td>0.003843</td>\n",
       "    </tr>\n",
       "    <tr>\n",
       "      <th>3</th>\n",
       "      <td>0</td>\n",
       "      <td>20737</td>\n",
       "      <td>0.016667</td>\n",
       "      <td>0.030303</td>\n",
       "      <td>0.0</td>\n",
       "      <td>0.0</td>\n",
       "      <td>0.0</td>\n",
       "      <td>0.007346</td>\n",
       "      <td>0.016414</td>\n",
       "      <td>0.010104</td>\n",
       "    </tr>\n",
       "    <tr>\n",
       "      <th>4</th>\n",
       "      <td>0</td>\n",
       "      <td>20909</td>\n",
       "      <td>0.000000</td>\n",
       "      <td>0.000000</td>\n",
       "      <td>0.0</td>\n",
       "      <td>0.0</td>\n",
       "      <td>0.0</td>\n",
       "      <td>0.007346</td>\n",
       "      <td>0.000000</td>\n",
       "      <td>0.001049</td>\n",
       "    </tr>\n",
       "  </tbody>\n",
       "</table>\n",
       "</div>"
      ],
      "text/plain": [
       "   CustomerIdx  IsinIdx    ratio0    ratio1  ratio2  ratio3  ratio4    ratio5  \\\n",
       "0            0    16471  0.016667  0.000000     0.0     0.0     0.0  0.007346   \n",
       "1            0    16499  0.016667  0.000000     0.0     0.0     0.0  0.007346   \n",
       "2            0    20601  0.016667  0.000000     0.0     0.0     0.0  0.007346   \n",
       "3            0    20737  0.016667  0.030303     0.0     0.0     0.0  0.007346   \n",
       "4            0    20909  0.000000  0.000000     0.0     0.0     0.0  0.007346   \n",
       "\n",
       "     ratio6  RatioMean  \n",
       "0  0.000000   0.003430  \n",
       "1  0.000000   0.003430  \n",
       "2  0.002886   0.003843  \n",
       "3  0.016414   0.010104  \n",
       "4  0.000000   0.001049  "
      ]
     },
     "execution_count": 54,
     "metadata": {},
     "output_type": "execute_result"
    }
   ],
   "source": [
    "# merge and average all ratios\n",
    "cust_int = cust_int0.merge(cust_int1, how = \"left\", on = [\"CustomerIdx\", \"IsinIdx\"])\n",
    "cust_int = cust_int.merge(cust_int2,  how = \"left\", on = [\"CustomerIdx\", \"IsinIdx\"])\n",
    "cust_int = cust_int.merge(cust_int3,  how = \"left\", on = [\"CustomerIdx\", \"IsinIdx\"])\n",
    "cust_int = cust_int.merge(cust_int4,  how = \"left\", on = [\"CustomerIdx\", \"IsinIdx\"])\n",
    "cust_int = cust_int.merge(cust_int5,  how = \"left\", on = [\"CustomerIdx\"])\n",
    "cust_int = cust_int.merge(cust_int6,  how = \"left\", on = [\"IsinIdx\"])\n",
    "cust_int[\"RatioMean\"] = (cust_int[\"ratio0\"] + cust_int[\"ratio1\"] + cust_int[\"ratio2\"] + \n",
    "                         cust_int[\"ratio3\"] + cust_int[\"ratio4\"] + cust_int[\"ratio5\"] +\n",
    "                         cust_int[\"ratio6\"]) / 7\n",
    "cust_int.head()"
   ]
  },
  {
   "cell_type": "code",
   "execution_count": 55,
   "metadata": {},
   "outputs": [
    {
     "data": {
      "text/html": [
       "<div>\n",
       "<style scoped>\n",
       "    .dataframe tbody tr th:only-of-type {\n",
       "        vertical-align: middle;\n",
       "    }\n",
       "\n",
       "    .dataframe tbody tr th {\n",
       "        vertical-align: top;\n",
       "    }\n",
       "\n",
       "    .dataframe thead th {\n",
       "        text-align: right;\n",
       "    }\n",
       "</style>\n",
       "<table border=\"1\" class=\"dataframe\">\n",
       "  <thead>\n",
       "    <tr style=\"text-align: right;\">\n",
       "      <th></th>\n",
       "      <th>CustomerIdx</th>\n",
       "      <th>IsinIdx</th>\n",
       "      <th>BuySell</th>\n",
       "      <th>Week</th>\n",
       "      <th>CustomerInterest</th>\n",
       "      <th>ratio0</th>\n",
       "      <th>ratio1</th>\n",
       "      <th>ratio2</th>\n",
       "      <th>ratio3</th>\n",
       "      <th>ratio4</th>\n",
       "      <th>ratio5</th>\n",
       "      <th>ratio6</th>\n",
       "      <th>RatioMean</th>\n",
       "    </tr>\n",
       "  </thead>\n",
       "  <tbody>\n",
       "    <tr>\n",
       "      <th>0</th>\n",
       "      <td>0</td>\n",
       "      <td>16471</td>\n",
       "      <td>Buy</td>\n",
       "      <td>111.0</td>\n",
       "      <td>0</td>\n",
       "      <td>0.016667</td>\n",
       "      <td>0.0</td>\n",
       "      <td>0.0</td>\n",
       "      <td>0.0</td>\n",
       "      <td>0.0</td>\n",
       "      <td>0.007346</td>\n",
       "      <td>0.0</td>\n",
       "      <td>0.00343</td>\n",
       "    </tr>\n",
       "    <tr>\n",
       "      <th>1</th>\n",
       "      <td>0</td>\n",
       "      <td>16471</td>\n",
       "      <td>Buy</td>\n",
       "      <td>112.0</td>\n",
       "      <td>0</td>\n",
       "      <td>0.016667</td>\n",
       "      <td>0.0</td>\n",
       "      <td>0.0</td>\n",
       "      <td>0.0</td>\n",
       "      <td>0.0</td>\n",
       "      <td>0.007346</td>\n",
       "      <td>0.0</td>\n",
       "      <td>0.00343</td>\n",
       "    </tr>\n",
       "    <tr>\n",
       "      <th>2</th>\n",
       "      <td>0</td>\n",
       "      <td>16471</td>\n",
       "      <td>Buy</td>\n",
       "      <td>113.0</td>\n",
       "      <td>0</td>\n",
       "      <td>0.016667</td>\n",
       "      <td>0.0</td>\n",
       "      <td>0.0</td>\n",
       "      <td>0.0</td>\n",
       "      <td>0.0</td>\n",
       "      <td>0.007346</td>\n",
       "      <td>0.0</td>\n",
       "      <td>0.00343</td>\n",
       "    </tr>\n",
       "    <tr>\n",
       "      <th>3</th>\n",
       "      <td>0</td>\n",
       "      <td>16471</td>\n",
       "      <td>Buy</td>\n",
       "      <td>114.0</td>\n",
       "      <td>0</td>\n",
       "      <td>0.016667</td>\n",
       "      <td>0.0</td>\n",
       "      <td>0.0</td>\n",
       "      <td>0.0</td>\n",
       "      <td>0.0</td>\n",
       "      <td>0.007346</td>\n",
       "      <td>0.0</td>\n",
       "      <td>0.00343</td>\n",
       "    </tr>\n",
       "    <tr>\n",
       "      <th>4</th>\n",
       "      <td>0</td>\n",
       "      <td>16471</td>\n",
       "      <td>Buy</td>\n",
       "      <td>115.0</td>\n",
       "      <td>0</td>\n",
       "      <td>0.016667</td>\n",
       "      <td>0.0</td>\n",
       "      <td>0.0</td>\n",
       "      <td>0.0</td>\n",
       "      <td>0.0</td>\n",
       "      <td>0.007346</td>\n",
       "      <td>0.0</td>\n",
       "      <td>0.00343</td>\n",
       "    </tr>\n",
       "  </tbody>\n",
       "</table>\n",
       "</div>"
      ],
      "text/plain": [
       "   CustomerIdx  IsinIdx BuySell   Week  CustomerInterest    ratio0  ratio1  \\\n",
       "0            0    16471     Buy  111.0                 0  0.016667     0.0   \n",
       "1            0    16471     Buy  112.0                 0  0.016667     0.0   \n",
       "2            0    16471     Buy  113.0                 0  0.016667     0.0   \n",
       "3            0    16471     Buy  114.0                 0  0.016667     0.0   \n",
       "4            0    16471     Buy  115.0                 0  0.016667     0.0   \n",
       "\n",
       "   ratio2  ratio3  ratio4    ratio5  ratio6  RatioMean  \n",
       "0     0.0     0.0     0.0  0.007346     0.0    0.00343  \n",
       "1     0.0     0.0     0.0  0.007346     0.0    0.00343  \n",
       "2     0.0     0.0     0.0  0.007346     0.0    0.00343  \n",
       "3     0.0     0.0     0.0  0.007346     0.0    0.00343  \n",
       "4     0.0     0.0     0.0  0.007346     0.0    0.00343  "
      ]
     },
     "execution_count": 55,
     "metadata": {},
     "output_type": "execute_result"
    }
   ],
   "source": [
    "# merge to valid\n",
    "valid = valid.merge(cust_int, how = \"left\", on = [\"CustomerIdx\", \"IsinIdx\"])\n",
    "valid.head()"
   ]
  },
  {
   "cell_type": "code",
   "execution_count": 56,
   "metadata": {},
   "outputs": [
    {
     "name": "stdout",
     "output_type": "stream",
     "text": [
      "0.5412587412855547\n",
      "0.5633154307271843\n",
      "0.5659050526501382\n",
      "0.560958338546176\n",
      "0.603797771730836\n",
      "0.5802206157460548\n",
      "0.5556984885908877\n"
     ]
    }
   ],
   "source": [
    "# compute AUC ROC\n",
    "features = [\"ratio1\", \"ratio2\", \"ratio3\", \"ratio4\", \"ratio5\", \"ratio6\", \"RatioMean\"]\n",
    "for r in features:\n",
    "    print(roc_auc_score(valid.CustomerInterest, valid[r]))"
   ]
  },
  {
   "cell_type": "code",
   "execution_count": 57,
   "metadata": {},
   "outputs": [],
   "source": [
    "y = train.CustomerInterest"
   ]
  },
  {
   "cell_type": "code",
   "execution_count": 58,
   "metadata": {},
   "outputs": [],
   "source": [
    "from sklearn.linear_model import LogisticRegression\n",
    "from sklearn.model_selection import cross_val_score\n",
    "from sklearn.metrics import roc_auc_score"
   ]
  },
  {
   "cell_type": "code",
   "execution_count": 59,
   "metadata": {},
   "outputs": [],
   "source": [
    "### PARAMETERS\n",
    "\n",
    "import lightgbm as lgb\n",
    "\n",
    "# learner settings\n",
    "metric   = \"auc\"\n",
    "verbose  = 10\n",
    "stopping = 50\n",
    "seed = 42\n",
    "\n",
    "# lgb settings\n",
    "gbm = lgb.LGBMClassifier(n_estimators     = 1000,\n",
    "                         learning_rate    = 0.005,\n",
    "                         num_leaves       = 70,\n",
    "                         colsample_bytree = 0.8,\n",
    "                         subsample        = 0.9,\n",
    "                         max_depth        = 7,\n",
    "                         reg_alpha        = 0.1,\n",
    "                         reg_lambda       = 0.1,\n",
    "                         min_split_gain   = 0.01,\n",
    "                         min_child_weight = 2,\n",
    "                         random_state     = seed)"
   ]
  },
  {
   "cell_type": "code",
   "execution_count": 29,
   "metadata": {},
   "outputs": [
    {
     "ename": "KeyError",
     "evalue": "\"['ratio1' 'ratio2' 'ratio3' 'ratio4' 'ratio5' 'ratio6' 'RatioMean'] not in index\"",
     "output_type": "error",
     "traceback": [
      "\u001b[1;31m---------------------------------------------------------------------------\u001b[0m",
      "\u001b[1;31mKeyError\u001b[0m                                  Traceback (most recent call last)",
      "\u001b[1;32m<ipython-input-29-d1048e807edf>\u001b[0m in \u001b[0;36m<module>\u001b[1;34m()\u001b[0m\n\u001b[0;32m      1\u001b[0m \u001b[1;31m# train lightGBM\u001b[0m\u001b[1;33m\u001b[0m\u001b[1;33m\u001b[0m\u001b[0m\n\u001b[1;32m----> 2\u001b[1;33m gbm = gbm.fit(train[features], y_train, \n\u001b[0m\u001b[0;32m      3\u001b[0m               \u001b[0meval_set\u001b[0m \u001b[1;33m=\u001b[0m \u001b[1;33m[\u001b[0m\u001b[1;33m(\u001b[0m\u001b[0mtrain\u001b[0m\u001b[1;33m[\u001b[0m\u001b[0mfeatures\u001b[0m\u001b[1;33m]\u001b[0m\u001b[1;33m,\u001b[0m \u001b[0my_train\u001b[0m\u001b[1;33m)\u001b[0m\u001b[1;33m,\u001b[0m \u001b[1;33m(\u001b[0m\u001b[0mvalid\u001b[0m\u001b[1;33m[\u001b[0m\u001b[0mfeatures\u001b[0m\u001b[1;33m]\u001b[0m\u001b[1;33m,\u001b[0m \u001b[0my_valid\u001b[0m\u001b[1;33m)\u001b[0m\u001b[1;33m]\u001b[0m\u001b[1;33m,\u001b[0m\u001b[1;33m\u001b[0m\u001b[0m\n\u001b[0;32m      4\u001b[0m               \u001b[0meval_metric\u001b[0m \u001b[1;33m=\u001b[0m \u001b[0mmetric\u001b[0m\u001b[1;33m,\u001b[0m\u001b[1;33m\u001b[0m\u001b[0m\n\u001b[0;32m      5\u001b[0m               \u001b[0mverbose\u001b[0m \u001b[1;33m=\u001b[0m \u001b[0mverbose\u001b[0m\u001b[1;33m,\u001b[0m\u001b[1;33m\u001b[0m\u001b[0m\n",
      "\u001b[1;32m~\\AppData\\Local\\conda\\conda\\envs\\thesis\\lib\\site-packages\\pandas\\core\\frame.py\u001b[0m in \u001b[0;36m__getitem__\u001b[1;34m(self, key)\u001b[0m\n\u001b[0;32m   2131\u001b[0m         \u001b[1;32mif\u001b[0m \u001b[0misinstance\u001b[0m\u001b[1;33m(\u001b[0m\u001b[0mkey\u001b[0m\u001b[1;33m,\u001b[0m \u001b[1;33m(\u001b[0m\u001b[0mSeries\u001b[0m\u001b[1;33m,\u001b[0m \u001b[0mnp\u001b[0m\u001b[1;33m.\u001b[0m\u001b[0mndarray\u001b[0m\u001b[1;33m,\u001b[0m \u001b[0mIndex\u001b[0m\u001b[1;33m,\u001b[0m \u001b[0mlist\u001b[0m\u001b[1;33m)\u001b[0m\u001b[1;33m)\u001b[0m\u001b[1;33m:\u001b[0m\u001b[1;33m\u001b[0m\u001b[0m\n\u001b[0;32m   2132\u001b[0m             \u001b[1;31m# either boolean or fancy integer index\u001b[0m\u001b[1;33m\u001b[0m\u001b[1;33m\u001b[0m\u001b[0m\n\u001b[1;32m-> 2133\u001b[1;33m             \u001b[1;32mreturn\u001b[0m \u001b[0mself\u001b[0m\u001b[1;33m.\u001b[0m\u001b[0m_getitem_array\u001b[0m\u001b[1;33m(\u001b[0m\u001b[0mkey\u001b[0m\u001b[1;33m)\u001b[0m\u001b[1;33m\u001b[0m\u001b[0m\n\u001b[0m\u001b[0;32m   2134\u001b[0m         \u001b[1;32melif\u001b[0m \u001b[0misinstance\u001b[0m\u001b[1;33m(\u001b[0m\u001b[0mkey\u001b[0m\u001b[1;33m,\u001b[0m \u001b[0mDataFrame\u001b[0m\u001b[1;33m)\u001b[0m\u001b[1;33m:\u001b[0m\u001b[1;33m\u001b[0m\u001b[0m\n\u001b[0;32m   2135\u001b[0m             \u001b[1;32mreturn\u001b[0m \u001b[0mself\u001b[0m\u001b[1;33m.\u001b[0m\u001b[0m_getitem_frame\u001b[0m\u001b[1;33m(\u001b[0m\u001b[0mkey\u001b[0m\u001b[1;33m)\u001b[0m\u001b[1;33m\u001b[0m\u001b[0m\n",
      "\u001b[1;32m~\\AppData\\Local\\conda\\conda\\envs\\thesis\\lib\\site-packages\\pandas\\core\\frame.py\u001b[0m in \u001b[0;36m_getitem_array\u001b[1;34m(self, key)\u001b[0m\n\u001b[0;32m   2175\u001b[0m             \u001b[1;32mreturn\u001b[0m \u001b[0mself\u001b[0m\u001b[1;33m.\u001b[0m\u001b[0m_take\u001b[0m\u001b[1;33m(\u001b[0m\u001b[0mindexer\u001b[0m\u001b[1;33m,\u001b[0m \u001b[0maxis\u001b[0m\u001b[1;33m=\u001b[0m\u001b[1;36m0\u001b[0m\u001b[1;33m,\u001b[0m \u001b[0mconvert\u001b[0m\u001b[1;33m=\u001b[0m\u001b[1;32mFalse\u001b[0m\u001b[1;33m)\u001b[0m\u001b[1;33m\u001b[0m\u001b[0m\n\u001b[0;32m   2176\u001b[0m         \u001b[1;32melse\u001b[0m\u001b[1;33m:\u001b[0m\u001b[1;33m\u001b[0m\u001b[0m\n\u001b[1;32m-> 2177\u001b[1;33m             \u001b[0mindexer\u001b[0m \u001b[1;33m=\u001b[0m \u001b[0mself\u001b[0m\u001b[1;33m.\u001b[0m\u001b[0mloc\u001b[0m\u001b[1;33m.\u001b[0m\u001b[0m_convert_to_indexer\u001b[0m\u001b[1;33m(\u001b[0m\u001b[0mkey\u001b[0m\u001b[1;33m,\u001b[0m \u001b[0maxis\u001b[0m\u001b[1;33m=\u001b[0m\u001b[1;36m1\u001b[0m\u001b[1;33m)\u001b[0m\u001b[1;33m\u001b[0m\u001b[0m\n\u001b[0m\u001b[0;32m   2178\u001b[0m             \u001b[1;32mreturn\u001b[0m \u001b[0mself\u001b[0m\u001b[1;33m.\u001b[0m\u001b[0m_take\u001b[0m\u001b[1;33m(\u001b[0m\u001b[0mindexer\u001b[0m\u001b[1;33m,\u001b[0m \u001b[0maxis\u001b[0m\u001b[1;33m=\u001b[0m\u001b[1;36m1\u001b[0m\u001b[1;33m,\u001b[0m \u001b[0mconvert\u001b[0m\u001b[1;33m=\u001b[0m\u001b[1;32mTrue\u001b[0m\u001b[1;33m)\u001b[0m\u001b[1;33m\u001b[0m\u001b[0m\n\u001b[0;32m   2179\u001b[0m \u001b[1;33m\u001b[0m\u001b[0m\n",
      "\u001b[1;32m~\\AppData\\Local\\conda\\conda\\envs\\thesis\\lib\\site-packages\\pandas\\core\\indexing.py\u001b[0m in \u001b[0;36m_convert_to_indexer\u001b[1;34m(self, obj, axis, is_setter)\u001b[0m\n\u001b[0;32m   1267\u001b[0m                 \u001b[1;32mif\u001b[0m \u001b[0mmask\u001b[0m\u001b[1;33m.\u001b[0m\u001b[0many\u001b[0m\u001b[1;33m(\u001b[0m\u001b[1;33m)\u001b[0m\u001b[1;33m:\u001b[0m\u001b[1;33m\u001b[0m\u001b[0m\n\u001b[0;32m   1268\u001b[0m                     raise KeyError('{mask} not in index'\n\u001b[1;32m-> 1269\u001b[1;33m                                    .format(mask=objarr[mask]))\n\u001b[0m\u001b[0;32m   1270\u001b[0m \u001b[1;33m\u001b[0m\u001b[0m\n\u001b[0;32m   1271\u001b[0m                 \u001b[1;32mreturn\u001b[0m \u001b[0m_values_from_object\u001b[0m\u001b[1;33m(\u001b[0m\u001b[0mindexer\u001b[0m\u001b[1;33m)\u001b[0m\u001b[1;33m\u001b[0m\u001b[0m\n",
      "\u001b[1;31mKeyError\u001b[0m: \"['ratio1' 'ratio2' 'ratio3' 'ratio4' 'ratio5' 'ratio6' 'RatioMean'] not in index\""
     ]
    }
   ],
   "source": [
    "# train lightGBM\n",
    "gbm = gbm.fit(train[features], y_train, \n",
    "              eval_set = [(train[features], y_train), (valid[features], y_valid)], \n",
    "              eval_metric = metric, \n",
    "              verbose = verbose, \n",
    "              early_stopping_rounds = stopping)\n",
    "    \n",
    "# save number of iterations\n",
    "num_iters = gbm.best_iteration_\n",
    "\n",
    "# predict valid and test\n",
    "valid_pred_CustomerInterest = gbm.predict_proba(valid[features], num_iteration = num_iters)[:, 1]"
   ]
  },
  {
   "cell_type": "code",
   "execution_count": null,
   "metadata": {},
   "outputs": [],
   "source": [
    "ax = lgb.plot_importance(gbm)\n",
    "plt.show()"
   ]
  },
  {
   "cell_type": "markdown",
   "metadata": {},
   "source": [
    "# 4. COMPUTING NAIVE RATIOS (FULL)"
   ]
  },
  {
   "cell_type": "code",
   "execution_count": 60,
   "metadata": {},
   "outputs": [],
   "source": [
    "# import data\n",
    "#train = pd.read_csv(\"../../data/prepared/train_no_holding.csv\")\n",
    "test  = pd.read_csv(\"../../data/prepared/test_no_holding.csv\")"
   ]
  },
  {
   "cell_type": "code",
   "execution_count": 36,
   "metadata": {},
   "outputs": [],
   "source": [
    "# compute target ratio (last 64 weeks)\n",
    "cust_int0 = train[train[\"Week\"] >= (121-64)]\n",
    "cust_int0 = cust_int0[[\"CustomerIdx\", \"CustomerInterest\", \"IsinIdx\"]]\n",
    "cust_int0 = cust_int0.groupby([\"CustomerIdx\", \"IsinIdx\"], as_index = False).mean()\n",
    "cust_int0.columns = [\"CustomerIdx\", \"IsinIdx\", \"ratio0\"]"
   ]
  },
  {
   "cell_type": "code",
   "execution_count": 37,
   "metadata": {},
   "outputs": [],
   "source": [
    "# compute target ratio (last 32 weeks)\n",
    "cust_int1 = train[train[\"Week\"] >= (121-32)]\n",
    "cust_int1 = cust_int1[[\"CustomerIdx\", \"CustomerInterest\", \"IsinIdx\"]]\n",
    "cust_int1 = cust_int1.groupby([\"CustomerIdx\", \"IsinIdx\"], as_index = False).mean()\n",
    "cust_int1.columns = [\"CustomerIdx\", \"IsinIdx\", \"ratio1\"]"
   ]
  },
  {
   "cell_type": "code",
   "execution_count": 38,
   "metadata": {},
   "outputs": [],
   "source": [
    "# compute target ratio (last 16 weeks)\n",
    "cust_int2 = train[train[\"Week\"] >= (121-16)]\n",
    "cust_int2 = cust_int2[[\"CustomerIdx\", \"CustomerInterest\", \"IsinIdx\"]]\n",
    "cust_int2 = cust_int2.groupby([\"CustomerIdx\", \"IsinIdx\"], as_index = False).mean()\n",
    "cust_int2.columns = [\"CustomerIdx\", \"IsinIdx\", \"ratio2\"]"
   ]
  },
  {
   "cell_type": "code",
   "execution_count": 39,
   "metadata": {},
   "outputs": [],
   "source": [
    "# compute target ratio (last 8 weeks)\n",
    "cust_int3 = train[train[\"Week\"] >= (121-8)]\n",
    "cust_int3 = cust_int3[[\"CustomerIdx\", \"CustomerInterest\", \"IsinIdx\"]]\n",
    "cust_int3 = cust_int3.groupby([\"CustomerIdx\", \"IsinIdx\"], as_index = False).mean()\n",
    "cust_int3.columns = [\"CustomerIdx\", \"IsinIdx\", \"ratio3\"]"
   ]
  },
  {
   "cell_type": "code",
   "execution_count": 40,
   "metadata": {},
   "outputs": [],
   "source": [
    "# compute target ratio (last 4 weeks)\n",
    "cust_int4 = train[train[\"Week\"] >= (121-4)]\n",
    "cust_int4 = cust_int4[[\"CustomerIdx\", \"CustomerInterest\", \"IsinIdx\"]]\n",
    "cust_int4 = cust_int4.groupby([\"CustomerIdx\", \"IsinIdx\"], as_index = False).mean()\n",
    "cust_int4.columns = [\"CustomerIdx\", \"IsinIdx\", \"ratio4\"]"
   ]
  },
  {
   "cell_type": "code",
   "execution_count": 41,
   "metadata": {},
   "outputs": [],
   "source": [
    "# compute customer target ratio (last 32 weeks)\n",
    "cust_int5 = train[train[\"Week\"] >= (121-32)]\n",
    "cust_int5 = cust_int5[[\"CustomerIdx\", \"CustomerInterest\"]]\n",
    "cust_int5 = cust_int5.groupby([\"CustomerIdx\"], as_index = False).mean()\n",
    "cust_int5.columns = [\"CustomerIdx\", \"ratio5\"]"
   ]
  },
  {
   "cell_type": "code",
   "execution_count": 42,
   "metadata": {},
   "outputs": [],
   "source": [
    "# compute bond target ratio (last 32 weeks)\n",
    "cust_int6 = train[train[\"Week\"] >= (121-32)]\n",
    "cust_int6 = cust_int6[[\"IsinIdx\", \"CustomerInterest\"]]\n",
    "cust_int6 = cust_int6.groupby([\"IsinIdx\"], as_index = False).mean()\n",
    "cust_int6.columns = [\"IsinIdx\", \"ratio6\"]"
   ]
  },
  {
   "cell_type": "code",
   "execution_count": 43,
   "metadata": {},
   "outputs": [
    {
     "data": {
      "text/html": [
       "<div>\n",
       "<style scoped>\n",
       "    .dataframe tbody tr th:only-of-type {\n",
       "        vertical-align: middle;\n",
       "    }\n",
       "\n",
       "    .dataframe tbody tr th {\n",
       "        vertical-align: top;\n",
       "    }\n",
       "\n",
       "    .dataframe thead th {\n",
       "        text-align: right;\n",
       "    }\n",
       "</style>\n",
       "<table border=\"1\" class=\"dataframe\">\n",
       "  <thead>\n",
       "    <tr style=\"text-align: right;\">\n",
       "      <th></th>\n",
       "      <th>CustomerIdx</th>\n",
       "      <th>IsinIdx</th>\n",
       "      <th>ratio0</th>\n",
       "      <th>ratio1</th>\n",
       "      <th>ratio2</th>\n",
       "      <th>ratio3</th>\n",
       "      <th>ratio4</th>\n",
       "      <th>ratio5</th>\n",
       "      <th>ratio6</th>\n",
       "      <th>RatioMean</th>\n",
       "    </tr>\n",
       "  </thead>\n",
       "  <tbody>\n",
       "    <tr>\n",
       "      <th>0</th>\n",
       "      <td>0</td>\n",
       "      <td>16471</td>\n",
       "      <td>0.015625</td>\n",
       "      <td>0.0</td>\n",
       "      <td>0.0</td>\n",
       "      <td>0.0</td>\n",
       "      <td>0.0</td>\n",
       "      <td>0.013258</td>\n",
       "      <td>0.000000</td>\n",
       "      <td>0.004126</td>\n",
       "    </tr>\n",
       "    <tr>\n",
       "      <th>1</th>\n",
       "      <td>0</td>\n",
       "      <td>16499</td>\n",
       "      <td>0.015625</td>\n",
       "      <td>0.0</td>\n",
       "      <td>0.0</td>\n",
       "      <td>0.0</td>\n",
       "      <td>0.0</td>\n",
       "      <td>0.013258</td>\n",
       "      <td>0.000000</td>\n",
       "      <td>0.004126</td>\n",
       "    </tr>\n",
       "    <tr>\n",
       "      <th>2</th>\n",
       "      <td>0</td>\n",
       "      <td>20601</td>\n",
       "      <td>0.015625</td>\n",
       "      <td>0.0</td>\n",
       "      <td>0.0</td>\n",
       "      <td>0.0</td>\n",
       "      <td>0.0</td>\n",
       "      <td>0.013258</td>\n",
       "      <td>0.000000</td>\n",
       "      <td>0.004126</td>\n",
       "    </tr>\n",
       "    <tr>\n",
       "      <th>3</th>\n",
       "      <td>0</td>\n",
       "      <td>20737</td>\n",
       "      <td>0.015625</td>\n",
       "      <td>0.0</td>\n",
       "      <td>0.0</td>\n",
       "      <td>0.0</td>\n",
       "      <td>0.0</td>\n",
       "      <td>0.013258</td>\n",
       "      <td>0.011719</td>\n",
       "      <td>0.005800</td>\n",
       "    </tr>\n",
       "    <tr>\n",
       "      <th>4</th>\n",
       "      <td>0</td>\n",
       "      <td>20909</td>\n",
       "      <td>0.000000</td>\n",
       "      <td>0.0</td>\n",
       "      <td>0.0</td>\n",
       "      <td>0.0</td>\n",
       "      <td>0.0</td>\n",
       "      <td>0.013258</td>\n",
       "      <td>0.000000</td>\n",
       "      <td>0.001894</td>\n",
       "    </tr>\n",
       "  </tbody>\n",
       "</table>\n",
       "</div>"
      ],
      "text/plain": [
       "   CustomerIdx  IsinIdx    ratio0  ratio1  ratio2  ratio3  ratio4    ratio5  \\\n",
       "0            0    16471  0.015625     0.0     0.0     0.0     0.0  0.013258   \n",
       "1            0    16499  0.015625     0.0     0.0     0.0     0.0  0.013258   \n",
       "2            0    20601  0.015625     0.0     0.0     0.0     0.0  0.013258   \n",
       "3            0    20737  0.015625     0.0     0.0     0.0     0.0  0.013258   \n",
       "4            0    20909  0.000000     0.0     0.0     0.0     0.0  0.013258   \n",
       "\n",
       "     ratio6  RatioMean  \n",
       "0  0.000000   0.004126  \n",
       "1  0.000000   0.004126  \n",
       "2  0.000000   0.004126  \n",
       "3  0.011719   0.005800  \n",
       "4  0.000000   0.001894  "
      ]
     },
     "execution_count": 43,
     "metadata": {},
     "output_type": "execute_result"
    }
   ],
   "source": [
    "# merge and average all ratios\n",
    "cust_int = cust_int0.merge(cust_int1, how = \"left\", on = [\"CustomerIdx\", \"IsinIdx\"])\n",
    "cust_int = cust_int.merge(cust_int2,  how = \"left\", on = [\"CustomerIdx\", \"IsinIdx\"])\n",
    "cust_int = cust_int.merge(cust_int3,  how = \"left\", on = [\"CustomerIdx\", \"IsinIdx\"])\n",
    "cust_int = cust_int.merge(cust_int4,  how = \"left\", on = [\"CustomerIdx\", \"IsinIdx\"])\n",
    "cust_int = cust_int.merge(cust_int5,  how = \"left\", on = [\"CustomerIdx\"])\n",
    "cust_int = cust_int.merge(cust_int6,  how = \"left\", on = [\"IsinIdx\"])\n",
    "cust_int[\"RatioMean\"] = (cust_int[\"ratio0\"] + cust_int[\"ratio1\"] + cust_int[\"ratio2\"] + \n",
    "                         cust_int[\"ratio3\"] + cust_int[\"ratio4\"] + cust_int[\"ratio5\"] +\n",
    "                         cust_int[\"ratio6\"]) / 7\n",
    "cust_int.head()"
   ]
  },
  {
   "cell_type": "code",
   "execution_count": 61,
   "metadata": {},
   "outputs": [
    {
     "data": {
      "text/html": [
       "<div>\n",
       "<style scoped>\n",
       "    .dataframe tbody tr th:only-of-type {\n",
       "        vertical-align: middle;\n",
       "    }\n",
       "\n",
       "    .dataframe tbody tr th {\n",
       "        vertical-align: top;\n",
       "    }\n",
       "\n",
       "    .dataframe thead th {\n",
       "        text-align: right;\n",
       "    }\n",
       "</style>\n",
       "<table border=\"1\" class=\"dataframe\">\n",
       "  <thead>\n",
       "    <tr style=\"text-align: right;\">\n",
       "      <th></th>\n",
       "      <th>PredictionIdx</th>\n",
       "      <th>DateKey</th>\n",
       "      <th>CustomerIdx</th>\n",
       "      <th>IsinIdx</th>\n",
       "      <th>BuySell</th>\n",
       "      <th>Week</th>\n",
       "      <th>ratio0</th>\n",
       "      <th>ratio1</th>\n",
       "      <th>ratio2</th>\n",
       "      <th>ratio3</th>\n",
       "      <th>ratio4</th>\n",
       "      <th>ratio5</th>\n",
       "      <th>ratio6</th>\n",
       "      <th>RatioMean</th>\n",
       "    </tr>\n",
       "  </thead>\n",
       "  <tbody>\n",
       "    <tr>\n",
       "      <th>0</th>\n",
       "      <td>a1e0d80784</td>\n",
       "      <td>23042018</td>\n",
       "      <td>1856</td>\n",
       "      <td>13323</td>\n",
       "      <td>Buy</td>\n",
       "      <td>121.0</td>\n",
       "      <td>0.016667</td>\n",
       "      <td>0.030303</td>\n",
       "      <td>0.058824</td>\n",
       "      <td>0.000000</td>\n",
       "      <td>0.0</td>\n",
       "      <td>0.026928</td>\n",
       "      <td>0.011655</td>\n",
       "      <td>0.020625</td>\n",
       "    </tr>\n",
       "    <tr>\n",
       "      <th>1</th>\n",
       "      <td>c2cc6cc2a8</td>\n",
       "      <td>23042018</td>\n",
       "      <td>1856</td>\n",
       "      <td>9230</td>\n",
       "      <td>Buy</td>\n",
       "      <td>121.0</td>\n",
       "      <td>0.025000</td>\n",
       "      <td>0.030303</td>\n",
       "      <td>0.058824</td>\n",
       "      <td>0.055556</td>\n",
       "      <td>0.1</td>\n",
       "      <td>0.026928</td>\n",
       "      <td>0.012987</td>\n",
       "      <td>0.044228</td>\n",
       "    </tr>\n",
       "    <tr>\n",
       "      <th>2</th>\n",
       "      <td>a8e94f6344</td>\n",
       "      <td>23042018</td>\n",
       "      <td>1780</td>\n",
       "      <td>9157</td>\n",
       "      <td>Buy</td>\n",
       "      <td>121.0</td>\n",
       "      <td>0.033333</td>\n",
       "      <td>0.060606</td>\n",
       "      <td>0.117647</td>\n",
       "      <td>0.111111</td>\n",
       "      <td>0.0</td>\n",
       "      <td>0.017849</td>\n",
       "      <td>0.010101</td>\n",
       "      <td>0.050093</td>\n",
       "    </tr>\n",
       "    <tr>\n",
       "      <th>3</th>\n",
       "      <td>758bae1e35</td>\n",
       "      <td>23042018</td>\n",
       "      <td>2129</td>\n",
       "      <td>9131</td>\n",
       "      <td>Buy</td>\n",
       "      <td>121.0</td>\n",
       "      <td>0.016667</td>\n",
       "      <td>0.030303</td>\n",
       "      <td>0.058824</td>\n",
       "      <td>0.111111</td>\n",
       "      <td>0.0</td>\n",
       "      <td>0.010226</td>\n",
       "      <td>0.022282</td>\n",
       "      <td>0.035630</td>\n",
       "    </tr>\n",
       "    <tr>\n",
       "      <th>4</th>\n",
       "      <td>02ab378ee8</td>\n",
       "      <td>23042018</td>\n",
       "      <td>1758</td>\n",
       "      <td>7151</td>\n",
       "      <td>Buy</td>\n",
       "      <td>121.0</td>\n",
       "      <td>0.016667</td>\n",
       "      <td>0.030303</td>\n",
       "      <td>0.058824</td>\n",
       "      <td>0.000000</td>\n",
       "      <td>0.0</td>\n",
       "      <td>0.016766</td>\n",
       "      <td>0.006494</td>\n",
       "      <td>0.018436</td>\n",
       "    </tr>\n",
       "  </tbody>\n",
       "</table>\n",
       "</div>"
      ],
      "text/plain": [
       "  PredictionIdx   DateKey  CustomerIdx  IsinIdx BuySell   Week    ratio0  \\\n",
       "0    a1e0d80784  23042018         1856    13323     Buy  121.0  0.016667   \n",
       "1    c2cc6cc2a8  23042018         1856     9230     Buy  121.0  0.025000   \n",
       "2    a8e94f6344  23042018         1780     9157     Buy  121.0  0.033333   \n",
       "3    758bae1e35  23042018         2129     9131     Buy  121.0  0.016667   \n",
       "4    02ab378ee8  23042018         1758     7151     Buy  121.0  0.016667   \n",
       "\n",
       "     ratio1    ratio2    ratio3  ratio4    ratio5    ratio6  RatioMean  \n",
       "0  0.030303  0.058824  0.000000     0.0  0.026928  0.011655   0.020625  \n",
       "1  0.030303  0.058824  0.055556     0.1  0.026928  0.012987   0.044228  \n",
       "2  0.060606  0.117647  0.111111     0.0  0.017849  0.010101   0.050093  \n",
       "3  0.030303  0.058824  0.111111     0.0  0.010226  0.022282   0.035630  \n",
       "4  0.030303  0.058824  0.000000     0.0  0.016766  0.006494   0.018436  "
      ]
     },
     "execution_count": 61,
     "metadata": {},
     "output_type": "execute_result"
    }
   ],
   "source": [
    "# merge to test\n",
    "del test[\"CustomerInterest\"]\n",
    "test = test.merge(cust_int, how = \"left\", on = [\"CustomerIdx\", \"IsinIdx\"])\n",
    "test.head()"
   ]
  },
  {
   "cell_type": "code",
   "execution_count": 62,
   "metadata": {},
   "outputs": [
    {
     "data": {
      "text/plain": [
       "0.02018854949597839"
      ]
     },
     "execution_count": 62,
     "metadata": {},
     "output_type": "execute_result"
    }
   ],
   "source": [
    "# compute prediction\n",
    "test[\"CustomerInterest\"] = test[\"ratio6\"]\n",
    "test.CustomerInterest.mean()"
   ]
  },
  {
   "cell_type": "code",
   "execution_count": 31,
   "metadata": {},
   "outputs": [],
   "source": [
    "classifier = LogisticRegression(C=3)\n",
    "classifier.fit(valid[features], valid.CustomerInterest)\n",
    "probs = classifier.predict_proba(test[features])[:,1]"
   ]
  },
  {
   "cell_type": "code",
   "execution_count": 63,
   "metadata": {},
   "outputs": [
    {
     "name": "stdout",
     "output_type": "stream",
     "text": [
      "Training until validation scores don't improve for 50 rounds.\n",
      "[10]\tvalid_0's auc: 0.704178\n",
      "[20]\tvalid_0's auc: 0.703033\n",
      "[30]\tvalid_0's auc: 0.701813\n",
      "[40]\tvalid_0's auc: 0.704412\n",
      "[50]\tvalid_0's auc: 0.706137\n",
      "[60]\tvalid_0's auc: 0.707312\n",
      "[70]\tvalid_0's auc: 0.707135\n",
      "[80]\tvalid_0's auc: 0.70671\n",
      "[90]\tvalid_0's auc: 0.707381\n",
      "[100]\tvalid_0's auc: 0.707909\n",
      "[110]\tvalid_0's auc: 0.707897\n",
      "[120]\tvalid_0's auc: 0.707768\n",
      "[130]\tvalid_0's auc: 0.707883\n",
      "[140]\tvalid_0's auc: 0.707653\n",
      "[150]\tvalid_0's auc: 0.707898\n",
      "Early stopping, best iteration is:\n",
      "[104]\tvalid_0's auc: 0.708162\n"
     ]
    }
   ],
   "source": [
    "import lightgbm as lgb\n",
    "gbm = gbm.fit(valid[features], valid.CustomerInterest, \n",
    "              eval_set = [(valid[features], valid.CustomerInterest)], \n",
    "              eval_metric = 'auc', \n",
    "              verbose = verbose,\n",
    "                 early_stopping_rounds = 50)\n",
    "    \n",
    "# save number of iterations\n",
    "num_iters = gbm.best_iteration_\n",
    "\n",
    "# predict valid and test\n",
    "valid_pred_CustomerInterest = gbm.predict_proba(test[features], num_iteration = num_iters)[:, 1]"
   ]
  },
  {
   "cell_type": "code",
   "execution_count": 64,
   "metadata": {},
   "outputs": [
    {
     "name": "stderr",
     "output_type": "stream",
     "text": [
      "C:\\Users\\zinovyee.hub\\AppData\\Local\\conda\\conda\\envs\\thesis\\lib\\site-packages\\pandas\\core\\generic.py:3643: SettingWithCopyWarning: \n",
      "A value is trying to be set on a copy of a slice from a DataFrame.\n",
      "Try using .loc[row_indexer,col_indexer] = value instead\n",
      "\n",
      "See the caveats in the documentation: http://pandas.pydata.org/pandas-docs/stable/indexing.html#indexing-view-versus-copy\n",
      "  self[name] = value\n"
     ]
    }
   ],
   "source": [
    "# export CSV\n",
    "subm = test[[\"PredictionIdx\", \"CustomerInterest\"]]\n",
    "subm.CustomerInterest = valid_pred_CustomerInterest \n",
    "subm.to_csv(\"../../submissions/lgb_novalid.csv\", index = False, float_format = \"%.8f\")"
   ]
  },
  {
   "cell_type": "code",
   "execution_count": null,
   "metadata": {},
   "outputs": [],
   "source": []
  }
 ],
 "metadata": {
  "kernelspec": {
   "display_name": "Python [default]",
   "language": "python",
   "name": "python3"
  },
  "language_info": {
   "codemirror_mode": {
    "name": "ipython",
    "version": 3
   },
   "file_extension": ".py",
   "mimetype": "text/x-python",
   "name": "python",
   "nbconvert_exporter": "python",
   "pygments_lexer": "ipython3",
   "version": "3.6.5"
  }
 },
 "nbformat": 4,
 "nbformat_minor": 2
}
