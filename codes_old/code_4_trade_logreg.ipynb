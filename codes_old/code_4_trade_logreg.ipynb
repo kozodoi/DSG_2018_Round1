{
 "cells": [
  {
   "cell_type": "markdown",
   "metadata": {},
   "source": [
    "# Features ... per customer"
   ]
  },
  {
   "cell_type": "markdown",
   "metadata": {},
   "source": [
    "# 1. SETTINGS"
   ]
  },
  {
   "cell_type": "code",
   "execution_count": 1,
   "metadata": {},
   "outputs": [],
   "source": [
    "# libraries\n",
    "import numpy as np\n",
    "import pandas as pd\n",
    "import seaborn as sns\n",
    "import matplotlib.pyplot as plt\n",
    "from IPython.display import display\n",
    "import scipy.stats\n",
    "from datetime import datetime\n",
    "from tqdm._tqdm_notebook import tqdm_notebook\n",
    "tqdm_notebook.pandas('PROGRESS>>>')"
   ]
  },
  {
   "cell_type": "code",
   "execution_count": 2,
   "metadata": {},
   "outputs": [],
   "source": [
    "%matplotlib inline"
   ]
  },
  {
   "cell_type": "code",
   "execution_count": 3,
   "metadata": {},
   "outputs": [],
   "source": [
    "# import datasets\n",
    "test  = pd.read_csv(\"../data/raw/Challenge_20180423.csv\")\n",
    "cust  = pd.read_csv(\"../data/raw/Customer.csv\")\n",
    "bond  = pd.read_csv(\"../data/raw/Isin.csv\")\n",
    "markt = pd.read_csv(\"../data/raw/Market.csv\")\n",
    "macro = pd.read_csv(\"../data/raw/MarketData_Macro.csv\")\n",
    "trade = pd.read_csv(\"../data/raw/Trade.csv\")"
   ]
  },
  {
   "cell_type": "code",
   "execution_count": 4,
   "metadata": {},
   "outputs": [],
   "source": [
    "# pandas options\n",
    "pd.set_option(\"display.max_columns\", None)\n",
    "\n",
    "# ignore warnings\n",
    "import warnings\n",
    "warnings.filterwarnings(\"ignore\")\n",
    "\n",
    "# garbage collection\n",
    "import gc\n",
    "gc.enable()"
   ]
  },
  {
   "cell_type": "code",
   "execution_count": 5,
   "metadata": {},
   "outputs": [
    {
     "data": {
      "text/plain": [
       "Index(['TradeDateKey', 'CustomerIdx', 'IsinIdx', 'BuySell', 'NotionalEUR',\n",
       "       'Price', 'TradeStatus', 'CustomerInterest'],\n",
       "      dtype='object')"
      ]
     },
     "execution_count": 5,
     "metadata": {},
     "output_type": "execute_result"
    }
   ],
   "source": [
    "trade.columns"
   ]
  },
  {
   "cell_type": "markdown",
   "metadata": {},
   "source": [
    "# Pre-processing"
   ]
  },
  {
   "cell_type": "code",
   "execution_count": 6,
   "metadata": {},
   "outputs": [
    {
     "data": {
      "text/html": [
       "<div>\n",
       "<style>\n",
       "    .dataframe thead tr:only-child th {\n",
       "        text-align: right;\n",
       "    }\n",
       "\n",
       "    .dataframe thead th {\n",
       "        text-align: left;\n",
       "    }\n",
       "\n",
       "    .dataframe tbody tr th {\n",
       "        vertical-align: top;\n",
       "    }\n",
       "</style>\n",
       "<table border=\"1\" class=\"dataframe\">\n",
       "  <thead>\n",
       "    <tr style=\"text-align: right;\">\n",
       "      <th></th>\n",
       "      <th>TradeDateKey</th>\n",
       "      <th>BuySell</th>\n",
       "      <th>NotionalEUR</th>\n",
       "      <th>Price</th>\n",
       "      <th>CustomerInterest</th>\n",
       "    </tr>\n",
       "  </thead>\n",
       "  <tbody>\n",
       "    <tr>\n",
       "      <th>0</th>\n",
       "      <td>20161207</td>\n",
       "      <td>1</td>\n",
       "      <td>653168.0</td>\n",
       "      <td>0.0</td>\n",
       "      <td>1.0</td>\n",
       "    </tr>\n",
       "    <tr>\n",
       "      <th>1</th>\n",
       "      <td>20170329</td>\n",
       "      <td>0</td>\n",
       "      <td>1656487.0</td>\n",
       "      <td>0.0</td>\n",
       "      <td>1.0</td>\n",
       "    </tr>\n",
       "    <tr>\n",
       "      <th>2</th>\n",
       "      <td>20170418</td>\n",
       "      <td>0</td>\n",
       "      <td>939673.0</td>\n",
       "      <td>0.0</td>\n",
       "      <td>1.0</td>\n",
       "    </tr>\n",
       "    <tr>\n",
       "      <th>3</th>\n",
       "      <td>20170310</td>\n",
       "      <td>1</td>\n",
       "      <td>708082.0</td>\n",
       "      <td>0.0</td>\n",
       "      <td>1.0</td>\n",
       "    </tr>\n",
       "    <tr>\n",
       "      <th>4</th>\n",
       "      <td>20161116</td>\n",
       "      <td>0</td>\n",
       "      <td>1147709.0</td>\n",
       "      <td>0.0</td>\n",
       "      <td>1.0</td>\n",
       "    </tr>\n",
       "  </tbody>\n",
       "</table>\n",
       "</div>"
      ],
      "text/plain": [
       "   TradeDateKey BuySell  NotionalEUR  Price  CustomerInterest\n",
       "0      20161207       1     653168.0    0.0               1.0\n",
       "1      20170329       0    1656487.0    0.0               1.0\n",
       "2      20170418       0     939673.0    0.0               1.0\n",
       "3      20170310       1     708082.0    0.0               1.0\n",
       "4      20161116       0    1147709.0    0.0               1.0"
      ]
     },
     "execution_count": 6,
     "metadata": {},
     "output_type": "execute_result"
    }
   ],
   "source": [
    "train = trade[['TradeDateKey','BuySell', 'NotionalEUR', 'Price', 'CustomerInterest']]\n",
    "train['BuySell'][train['BuySell']=='Buy'] = 0\n",
    "train['BuySell'][train['BuySell']=='Sell'] = 1\n",
    "train.head()"
   ]
  },
  {
   "cell_type": "code",
   "execution_count": 7,
   "metadata": {},
   "outputs": [
    {
     "data": {
      "text/plain": [
       "<matplotlib.axes._subplots.AxesSubplot at 0x1124e5048>"
      ]
     },
     "execution_count": 7,
     "metadata": {},
     "output_type": "execute_result"
    },
    {
     "data": {
      "image/png": "[encoded data removed]",
      "text/plain": [
       "<matplotlib.figure.Figure at 0x1137e5cc0>"
      ]
     },
     "metadata": {},
     "output_type": "display_data"
    }
   ],
   "source": [
    "train['TradeDateKey'] = pd.to_datetime(train['TradeDateKey'], format='%Y%m%d', errors='ignore')\n",
    "train.groupby(['TradeDateKey'])['BuySell'].count().plot()"
   ]
  },
  {
   "cell_type": "code",
   "execution_count": 14,
   "metadata": {},
   "outputs": [],
   "source": [
    "train['year'] = train['TradeDateKey'].dt.year\n",
    "train['month'] = train['TradeDateKey'].dt.month\n",
    "train['day'] = train['TradeDateKey'].dt.day\n",
    "train_ind = int(len(train)*0.7)\n",
    "train = train.sort_values(by='TradeDateKey')\n",
    "X_train = train[['BuySell', 'NotionalEUR', 'year', 'month', 'day']].iloc[:train_ind, :] #'Price',\n",
    "X_test = train[['BuySell', 'NotionalEUR',  'year', 'month', 'day']].iloc[train_ind:, :] #'Price',\n",
    "y_train = train[['CustomerInterest']].iloc[:train_ind, :]\n",
    "y_test = train[['CustomerInterest']].iloc[train_ind:, :]"
   ]
  },
  {
   "cell_type": "code",
   "execution_count": 16,
   "metadata": {},
   "outputs": [],
   "source": [
    "#Price has too many missing values aroung 75% - therefore was not included"
   ]
  },
  {
   "cell_type": "markdown",
   "metadata": {},
   "source": [
    "# Modeling"
   ]
  },
  {
   "cell_type": "code",
   "execution_count": 19,
   "metadata": {},
   "outputs": [],
   "source": [
    "from sklearn.preprocessing import LabelEncoder"
   ]
  },
  {
   "cell_type": "code",
   "execution_count": 86,
   "metadata": {},
   "outputs": [],
   "source": [
    "le = LabelEncoder()\n",
    "le.fit(y_train)\n",
    "y_train = le.transform(y_train)\n",
    "y_test = le.transform(y_test)"
   ]
  },
  {
   "cell_type": "code",
   "execution_count": 28,
   "metadata": {},
   "outputs": [],
   "source": [
    "from sklearn.linear_model import LogisticRegression\n",
    "from sklearn.model_selection import cross_val_score\n",
    "from sklearn.metrics import roc_auc_score"
   ]
  },
  {
   "cell_type": "code",
   "execution_count": 85,
   "metadata": {},
   "outputs": [
    {
     "name": "stdout",
     "output_type": "stream",
     "text": [
      "Training our model\n",
      "Training for c = 1.5\n",
      "AUC for c = 1.5 is 0.29545119819021703\n",
      "Training for c = 2\n",
      "AUC for c = 2 is 0.29545119819021703\n",
      "Training for c = 2.5\n",
      "AUC for c = 2.5 is 0.29545119819021703\n",
      "Training for c = 3\n",
      "AUC for c = 3 is 0.29545119819021703\n",
      "Training for c = 3.5\n",
      "AUC for c = 3.5 is 0.29545119819021703\n",
      "Training for c = 4\n",
      "AUC for c = 4 is 0.29545119819021703\n",
      "Training for c = 4.5\n",
      "AUC for c = 4.5 is 0.29545119819021703\n",
      "Training for c = 5\n",
      "AUC for c = 5 is 0.29545119819021703\n"
     ]
    }
   ],
   "source": [
    "losses = []\n",
    "print('Training our model')\n",
    "\n",
    "for c in [1.5, 2, 2.5, 3, 3.5, 4, 4.5, 5]:\n",
    "    print(f'Training for c = {c}')\n",
    "    classifier = LogisticRegression(C=c)\n",
    "    classifier.fit(X_train, y_train)\n",
    "    probs = classifier.predict_proba(X_test)[:,1]\n",
    "    loss = roc_auc_score(y_test, probs)\n",
    "    print(f'AUC for c = {c} is {loss}')\n",
    "    losses.append(loss)"
   ]
  }
 ],
 "metadata": {
  "kernelspec": {
   "display_name": "Python 3",
   "language": "python",
   "name": "python3"
  },
  "language_info": {
   "codemirror_mode": {
    "name": "ipython",
    "version": 3
   },
   "file_extension": ".py",
   "mimetype": "text/x-python",
   "name": "python",
   "nbconvert_exporter": "python",
   "pygments_lexer": "ipython3",
   "version": "3.6.5"
  }
 },
 "nbformat": 4,
 "nbformat_minor": 2
}
