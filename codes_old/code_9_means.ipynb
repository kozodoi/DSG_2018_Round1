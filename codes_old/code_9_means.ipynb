{
 "cells": [
  {
   "cell_type": "code",
   "execution_count": 60,
   "metadata": {},
   "outputs": [],
   "source": [
    "import pandas as pd\n",
    "import numpy as np\n",
    "from scipy.stats import rankdata"
   ]
  },
  {
   "cell_type": "code",
   "execution_count": 61,
   "metadata": {},
   "outputs": [
    {
     "data": {
      "text/plain": [
       "0.47782668990634486"
      ]
     },
     "execution_count": 61,
     "metadata": {},
     "output_type": "execute_result"
    }
   ],
   "source": [
    "ff = pd.read_csv(\"../submissions/rankmean_2logits_1ratiobased.csv.csv\")\n",
    "ff.CustomerInterest.mean()"
   ]
  },
  {
   "cell_type": "code",
   "execution_count": 62,
   "metadata": {},
   "outputs": [
    {
     "data": {
      "text/plain": [
       "0.015279895885844073"
      ]
     },
     "execution_count": 62,
     "metadata": {},
     "output_type": "execute_result"
    }
   ],
   "source": [
    "ll = pd.read_csv(\"../submissions/data_v2_0_80_lgb_val0841801.csv\")\n",
    "ll.CustomerInterest.mean()"
   ]
  },
  {
   "cell_type": "code",
   "execution_count": 63,
   "metadata": {},
   "outputs": [],
   "source": [
    "# geometric mean\n",
    "#ff.CustomerInterest = (ff.CustomerInterest*ll.CustomerInterest) ** (1/2)"
   ]
  },
  {
   "cell_type": "code",
   "execution_count": 64,
   "metadata": {},
   "outputs": [],
   "source": [
    "# or arithmetic mean\n",
    "#ff.CustomerInterest = (4/5)*(ff.CustomerInterest) + (1/5)*(ll.CustomerInterest)"
   ]
  },
  {
   "cell_type": "code",
   "execution_count": 65,
   "metadata": {},
   "outputs": [
    {
     "data": {
      "text/plain": [
       "0.49990392563715347"
      ]
     },
     "execution_count": 65,
     "metadata": {},
     "output_type": "execute_result"
    }
   ],
   "source": [
    "# rank mean\n",
    "ff.CustomerInterest = rankdata(ff.CustomerInterest)*(1/4) + rankdata(ll.CustomerInterest)*(3/4)\n",
    "ff.CustomerInterest = (ff.CustomerInterest - ff.CustomerInterest.min()) / (ff.CustomerInterest.max() - ff.CustomerInterest.min())\n",
    "ff.CustomerInterest.mean()"
   ]
  },
  {
   "cell_type": "code",
   "execution_count": 66,
   "metadata": {},
   "outputs": [
    {
     "data": {
      "text/plain": [
       "SpearmanrResult(correlation=0.9779406749907147, pvalue=0.0)"
      ]
     },
     "execution_count": 66,
     "metadata": {},
     "output_type": "execute_result"
    }
   ],
   "source": [
    "# check rank correlation with the best submission\n",
    "from scipy.stats import spearmanr\n",
    "best = pd.read_csv(\"../submissions/data_v2_0_80_lgb_val0841801.csv\")\n",
    "spearmanr(ff[\"CustomerInterest\"], best.CustomerInterest)"
   ]
  },
  {
   "cell_type": "code",
   "execution_count": 67,
   "metadata": {},
   "outputs": [],
   "source": [
    "ff.to_csv('../submissions/rankmean_data_v2_0_80_lgb_val0841801_rankmean_2logits_1ratiobased.csv', index=False, float_format = \"%.8f\")"
   ]
  }
 ],
 "metadata": {
  "kernelspec": {
   "display_name": "Python 3",
   "language": "python",
   "name": "python3"
  },
  "language_info": {
   "codemirror_mode": {
    "name": "ipython",
    "version": 3
   },
   "file_extension": ".py",
   "mimetype": "text/x-python",
   "name": "python",
   "nbconvert_exporter": "python",
   "pygments_lexer": "ipython3",
   "version": "3.6.5"
  }
 },
 "nbformat": 4,
 "nbformat_minor": 2
}
