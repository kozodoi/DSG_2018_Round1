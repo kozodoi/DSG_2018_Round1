{
 "cells": [
  {
   "cell_type": "code",
   "execution_count": null,
   "metadata": {},
   "outputs": [],
   "source": [
    "import pandas as pd\n",
    "import matplotlib.pyplot as plt\n",
    "import scipy.stats"
   ]
  },
  {
   "cell_type": "code",
   "execution_count": null,
   "metadata": {},
   "outputs": [],
   "source": [
    "bond  = pd.read_csv(\"../data/raw/Isin.csv\")"
   ]
  },
  {
   "cell_type": "code",
   "execution_count": null,
   "metadata": {},
   "outputs": [],
   "source": [
    "bond.loc[~bond.Seniority.isin([\"GOV\",\"SEC\",\"SEN\",\"SUB\"]), \"Seniority\"] = \"OTHER\"\n",
    "bond.loc[~bond.Activity.isin([\"Asia\",\"RETAIL\",\"GBP SAS\", \"ARGENTINIA\"]), \"Activity\"] = \"OTHER\"\n",
    "bond.loc[bond.Currency.isin(\n",
    "    (bond.groupby(\"Currency\").size())[bond.groupby(\"Currency\").size()<350].index.tolist()\n",
    "), \"Currency\"] = \"OTHER\"\n",
    "\n",
    "bond.loc[bond.CompositeRating.str.contains(\"C|D\"), \"CompositeRating\"] = \"LOWER\"\n",
    "# Risk captain\n",
    "bond.loc[bond.RiskCaptain.isin(\n",
    "    (bond.groupby(\"RiskCaptain\").size())[bond.groupby(\"RiskCaptain\").size()<200].index.tolist()\n",
    "), \"RiskCaptain\"] = \"OTHER\""
   ]
  },
  {
   "cell_type": "code",
   "execution_count": null,
   "metadata": {},
   "outputs": [],
   "source": [
    "full.columns"
   ]
  },
  {
   "cell_type": "code",
   "execution_count": null,
   "metadata": {},
   "outputs": [],
   "source": [
    "data = pd.read_csv(\"../data/prepared/data_basic_1.csv\", compression = \"gzip\")"
   ]
  },
  {
   "cell_type": "code",
   "execution_count": null,
   "metadata": {},
   "outputs": [],
   "source": [
    "tmp = data.loc[data.CustomerInterest == 1]\n",
    "\n",
    "tmp = tmp.loc[tmp.Week < 61]\n",
    "\n",
    "full = tmp.merge(bond, on = [\"IsinIdx\"], how = \"left\")"
   ]
  },
  {
   "cell_type": "code",
   "execution_count": null,
   "metadata": {},
   "outputs": [],
   "source": [
    "for var in full.columns:\n",
    "    full[var].fillna(\"Other\", inplace = True)"
   ]
  },
  {
   "cell_type": "code",
   "execution_count": null,
   "metadata": {},
   "outputs": [],
   "source": [
    "fac_data = full.groupby(\"CustomerIdx\").agg(lambda x: scipy.stats.mode(x)[0][0])\n",
    "fac_data.columns = fac_data.columns + \"_mode\"\n",
    "fac_data = fac_data.reset_index()\n",
    "fac_data.head()"
   ]
  },
  {
   "cell_type": "code",
   "execution_count": null,
   "metadata": {},
   "outputs": [],
   "source": [
    "# list of features\n",
    "excluded_features = [\"PredictionIdx_mode\", \"CustomerInterest_mode\", \"Week_mode\", \n",
    "                     \"ActualMaturityDateKey_mode\", \"IssueDateKey_mode\", \"IssuedAmount_mode\"]\n",
    "features = [var for var in fac_data.columns if var not in excluded_features]\n",
    "fac_data = fac_data[features]\n",
    "fac_data.head()"
   ]
  },
  {
   "cell_type": "code",
   "execution_count": null,
   "metadata": {},
   "outputs": [],
   "source": [
    "fac_data.to_csv(\"../data/prepared/favorite_bonds_v3_60.csv\", index = False, compression = \"gzip\")"
   ]
  },
  {
   "cell_type": "code",
   "execution_count": null,
   "metadata": {},
   "outputs": [],
   "source": []
  },
  {
   "cell_type": "code",
   "execution_count": null,
   "metadata": {},
   "outputs": [],
   "source": [
    "#for var in bondfeature_list:\n",
    "#    count_table = full.groupby([\"CustomerIdx\",var]).size().to_frame('count').reset_index()\n",
    "#\n",
    "#    #count_table = count_table.merge(\n",
    "#    #    count_table.groupby(\"CustomerIdx\").max().drop(var, axis=1).reset_index(), \n",
    "#    #                  on =[\"CustomerIdx\"], how=\"left\")\n",
    "#\n",
    "#    count_table.sort_values([\"CustomerIdx\", \"count\"], ascending=False).groupby(\"CustomerIdx\").head(1)\n",
    "#    count_table = count_table.loc[:, [\"CustomerIdx\",var]]\n",
    "#    \n",
    "#    final_table = final_table.merge(count_table, on=[\"CustomerIdx\"], how = \"left\")\n",
    "#    del(count_table)"
   ]
  },
  {
   "cell_type": "code",
   "execution_count": null,
   "metadata": {},
   "outputs": [],
   "source": [
    "#final_table.head()"
   ]
  },
  {
   "cell_type": "code",
   "execution_count": null,
   "metadata": {},
   "outputs": [],
   "source": [
    "#final_table.shape"
   ]
  },
  {
   "cell_type": "code",
   "execution_count": null,
   "metadata": {},
   "outputs": [],
   "source": [
    "#final_table = final_table.drop_duplicates()"
   ]
  },
  {
   "cell_type": "code",
   "execution_count": null,
   "metadata": {},
   "outputs": [],
   "source": [
    "#final_table.to_csv(\"../data/prepared/favorite_bonds_v2_60.csv\", index=False, compression = \"gzip\")"
   ]
  }
 ],
 "metadata": {
  "kernelspec": {
   "display_name": "Python 3",
   "language": "python",
   "name": "python3"
  },
  "language_info": {
   "codemirror_mode": {
    "name": "ipython",
    "version": 3
   },
   "file_extension": ".py",
   "mimetype": "text/x-python",
   "name": "python",
   "nbconvert_exporter": "python",
   "pygments_lexer": "ipython3",
   "version": "3.6.5"
  }
 },
 "nbformat": 4,
 "nbformat_minor": 2
}
