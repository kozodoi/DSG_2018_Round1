{
 "cells": [
  {
   "cell_type": "markdown",
   "metadata": {},
   "source": [
    "# 1. SETTINGS"
   ]
  },
  {
   "cell_type": "code",
   "execution_count": null,
   "metadata": {},
   "outputs": [],
   "source": [
    "# libraries\n",
    "import numpy as np\n",
    "import pandas as pd\n",
    "from datetime import date"
   ]
  },
  {
   "cell_type": "code",
   "execution_count": null,
   "metadata": {},
   "outputs": [],
   "source": [
    "# warnings\n",
    "import warnings\n",
    "warnings.filterwarnings(\"ignore\")"
   ]
  },
  {
   "cell_type": "code",
   "execution_count": null,
   "metadata": {},
   "outputs": [],
   "source": [
    "# plots\n",
    "import matplotlib as plt\n",
    "%matplotlib inline"
   ]
  },
  {
   "cell_type": "code",
   "execution_count": null,
   "metadata": {},
   "outputs": [],
   "source": [
    "# pandas options\n",
    "pd.set_option(\"display.max_columns\", None)"
   ]
  },
  {
   "cell_type": "markdown",
   "metadata": {},
   "source": [
    "# 2. CUSTOMER DATA"
   ]
  },
  {
   "cell_type": "code",
   "execution_count": null,
   "metadata": {},
   "outputs": [],
   "source": [
    "# import\n",
    "cust  = pd.read_csv(\"../data/raw/Customer.csv\")"
   ]
  },
  {
   "cell_type": "code",
   "execution_count": null,
   "metadata": {},
   "outputs": [],
   "source": [
    "# sector labels\n",
    "cust.loc[cust.Subsector == \"Bank\",\"Sector\"] = \"Bank\"\n",
    "cust.loc[cust.Subsector == \"Broker Dealer\",\"Sector\"] = \"Broker\"\n",
    "cust.loc[cust.Subsector == \"Hedge Fund\",\"Sector\"] = \"Hedgefund\"\n",
    "cust.loc[cust.Subsector == \"Independent Asset Manager\",\"Sector\"] = \"Independent\""
   ]
  },
  {
   "cell_type": "code",
   "execution_count": null,
   "metadata": {},
   "outputs": [],
   "source": [
    "# create dummies for customers\n",
    "cust_dummies = pd.concat([cust.CustomerIdx, pd.get_dummies(cust.Sector), pd.get_dummies(cust.Region)], axis = 1)"
   ]
  },
  {
   "cell_type": "code",
   "execution_count": null,
   "metadata": {},
   "outputs": [],
   "source": [
    "# check\n",
    "print(cust_dummies.shape)\n",
    "cust_dummies.head()"
   ]
  },
  {
   "cell_type": "code",
   "execution_count": null,
   "metadata": {},
   "outputs": [],
   "source": [
    "# export\n",
    "cust_dummies.to_csv(\"../data/prepared/data_cust_v1.csv\", index = False, compression = \"gzip\")"
   ]
  },
  {
   "cell_type": "markdown",
   "metadata": {},
   "source": [
    "# 3. BOND DATA"
   ]
  },
  {
   "cell_type": "code",
   "execution_count": null,
   "metadata": {},
   "outputs": [],
   "source": [
    "# import\n",
    "bond  = pd.read_csv(\"../data/raw/Isin.csv\")"
   ]
  },
  {
   "cell_type": "code",
   "execution_count": null,
   "metadata": {},
   "outputs": [],
   "source": [
    "# convert dates\n",
    "bond[\"ActualMaturityDateKey\"] = pd.to_datetime(bond[\"ActualMaturityDateKey\"], format = '%Y%m%d')\n",
    "bond[\"IssueDateKey\"]          = pd.to_datetime(bond[\"IssueDateKey\"], format = '%Y%m%d')\n",
    "\n",
    "# convert to week\n",
    "bond[\"MaturityWeek\"] = (bond.ActualMaturityDateKey.dt.year - 2016) * 52 + (bond.ActualMaturityDateKey.dt.week)\n",
    "bond[\"IssueWeek\"]    = (bond.IssueDateKey.dt.year - 2016)  * 52 + (bond.IssueDateKey.dt.week)"
   ]
  },
  {
   "cell_type": "code",
   "execution_count": null,
   "metadata": {},
   "outputs": [],
   "source": [
    "# simple rating\n",
    "bond[\"Rating\"] = \"NR\"\n",
    "bond[\"Rating\"][bond.CompositeRating.isin([\"A-\", \"A+\", \"A\", \"AA-\", \"AA+\", \"AA\", \"AAA-\", \"AAA+\", \"AAA\"])] = \"A\"\n",
    "bond[\"Rating\"][bond.CompositeRating.isin([\"B-\", \"B+\", \"B\", \"BB-\", \"BB+\", \"BB\", \"BBB-\", \"BBB+\", \"BBB\"])] = \"B\"\n",
    "bond[\"Rating\"][bond.CompositeRating.isin([\"C-\", \"C+\", \"C\", \"CC-\", \"CC+\", \"CC\", \"CCC-\", \"CCC+\", \"CCC\"])] = \"C\"\n",
    "bond[\"Rating\"][bond.CompositeRating.isin([\"D-\", \"D+\", \"D\", \"DD-\", \"DD+\", \"DD\", \"DDD-\", \"DDD+\", \"DDD\"])] = \"D\""
   ]
  },
  {
   "cell_type": "code",
   "execution_count": null,
   "metadata": {},
   "outputs": [],
   "source": [
    "# create bond dummies\n",
    "bond_dummies = pd.concat([bond.IsinIdx,\n",
    "                          bond.MaturityWeek,\n",
    "                          bond.IssueWeek,\n",
    "                          pd.get_dummies(bond.Seniority),\n",
    "                          pd.get_dummies(bond.ActivityGroup), \n",
    "                          pd.get_dummies(bond.Rating),\n",
    "                          pd.get_dummies(bond.CouponType)], axis = 1)"
   ]
  },
  {
   "cell_type": "code",
   "execution_count": null,
   "metadata": {},
   "outputs": [],
   "source": [
    "# check\n",
    "print(bond_dummies.shape)\n",
    "bond_dummies.head()"
   ]
  },
  {
   "cell_type": "code",
   "execution_count": null,
   "metadata": {},
   "outputs": [],
   "source": [
    "# export\n",
    "bond_dummies.to_csv(\"../data/prepared/data_bond_v1.csv\", index = False, compression = \"gzip\")"
   ]
  },
  {
   "cell_type": "markdown",
   "metadata": {},
   "source": [
    "# 4. MACRO DATA"
   ]
  },
  {
   "cell_type": "code",
   "execution_count": null,
   "metadata": {},
   "outputs": [],
   "source": [
    "# import data\n",
    "macro = pd.read_csv(\"../data/raw/MarketData_Macro.csv\")"
   ]
  },
  {
   "cell_type": "code",
   "execution_count": null,
   "metadata": {},
   "outputs": [],
   "source": [
    "# fill missings\n",
    "macro = macro.fillna(macro.shift(1)).fillna(macro.shift(2)).fillna(macro.shift(-1)).fillna(macro.shift(-2))"
   ]
  },
  {
   "cell_type": "code",
   "execution_count": null,
   "metadata": {},
   "outputs": [],
   "source": [
    "# convert dates\n",
    "macro[\"DateKey\"] = pd.to_datetime(macro[\"DateKey\"], format = '%Y%m%d')\n",
    "\n",
    "# compute week and month\n",
    "macro[\"Week\"]  = (macro.DateKey.dt.year - 2016) * 52 + (macro.DateKey.dt.week)\n",
    "macro[\"Month\"] = (macro.DateKey.dt.year - 2016) * 12 + (macro.DateKey.dt.month)\n",
    "del macro[\"DateKey\"]"
   ]
  },
  {
   "cell_type": "code",
   "execution_count": null,
   "metadata": {},
   "outputs": [],
   "source": [
    "# weekly and monthly aggregation\n",
    "macro1 = macro.groupby([\"Week\"]).agg(\"mean\")\n",
    "macro2 = macro.groupby([\"Month\"]).agg(\"mean\")"
   ]
  },
  {
   "cell_type": "code",
   "execution_count": null,
   "metadata": {},
   "outputs": [],
   "source": [
    "# percentage differences\n",
    "macro_diff1 = ((macro1 - macro1.shift(1))/macro1).fillna(0)\n",
    "macro_diff2 = ((macro2 - macro2.shift(1))/macro2).fillna(0)"
   ]
  },
  {
   "cell_type": "code",
   "execution_count": null,
   "metadata": {},
   "outputs": [],
   "source": [
    "# marlket indices\n",
    "ind_trend1 = macro_diff1\\\n",
    "    .filter([\"SSE\",\"DAX\",\"EUROSTOXX\",\"VSTOXX\",\"FTSE100\",\"HSI\",\"NIKKEI\",\"DOWJONAES_INDU\",\"SP500\",\"VIX\"])\\\n",
    "    .reset_index()\n",
    "ind_trend2 = macro_diff2\\\n",
    "    .filter([\"SSE\",\"DAX\",\"EUROSTOXX\",\"VSTOXX\",\"FTSE100\",\"HSI\",\"NIKKEI\",\"DOWJONAES_INDU\",\"SP500\",\"VIX\"])\\\n",
    "    .reset_index()\n",
    "\n",
    "# variable names\n",
    "ind_trend1.columns = ['Week', 'week_SSE', 'week_DAX', 'week_EUROSTOXX', 'week_VSTOXX', \n",
    "                      'week_FTSE100', 'week_HSI', 'week_NIKKEI', 'week_SP500', 'week_VIX']\n",
    "ind_trend2.columns = ['Month', 'month_SSE', 'month_DAX', 'month_EUROSTOXX', 'month_VSTOXX', \n",
    "                      'month_FTSE100', 'month_HSI', 'month_NIKKEI', 'month_SP500', 'month_VIX']"
   ]
  },
  {
   "cell_type": "code",
   "execution_count": null,
   "metadata": {},
   "outputs": [],
   "source": [
    "### exchange rates (week)\n",
    "fx_diff1 = macro_diff1.filter(like = \"FX\", axis = 1)\n",
    "fx_diff1[\"USD\"] = 1\n",
    "fx_diff1 = fx_diff1.reset_index().melt(id_vars = \"Week\", var_name = \"Currency\", value_name = \"cur_trend_week\")\n",
    "fx_diff1.Currency = fx_diff1.Currency.str[-3:]\n",
    "\n",
    "\n",
    "### exchange rates (month)\n",
    "fx_diff2 = macro_diff2.filter(like = \"FX\", axis = 1)\n",
    "fx_diff2[\"USD\"] = 1\n",
    "fx_diff2 = fx_diff2.reset_index().melt(id_vars = \"Month\", var_name = \"Currency\", value_name = \"cur_trend_month\")\n",
    "fx_diff2.Currency = fx_diff2.Currency.str[-3:]"
   ]
  },
  {
   "cell_type": "code",
   "execution_count": null,
   "metadata": {},
   "outputs": [],
   "source": [
    "# remove irrelevant weeks\n",
    "ind_trend1 = ind_trend1[(ind_trend1.Week > 0)  & (ind_trend1.Week < 122)]\n",
    "ind_trend2 = ind_trend2[(ind_trend2.Month > 0) & (ind_trend2.Month < 29)]\n",
    "fx_diff1   = fx_diff1[(fx_diff1.Week > 0)      & (fx_diff1.Week < 122)]\n",
    "fx_diff2   = fx_diff2[(fx_diff2.Month > 0)     & (fx_diff2.Month < 29)]"
   ]
  },
  {
   "cell_type": "code",
   "execution_count": null,
   "metadata": {},
   "outputs": [],
   "source": [
    "# check\n",
    "print(ind_trend1.shape)\n",
    "print(ind_trend2.shape)\n",
    "print(fx_diff1.shape)\n",
    "print(fx_diff2.shape)"
   ]
  },
  {
   "cell_type": "code",
   "execution_count": null,
   "metadata": {},
   "outputs": [],
   "source": [
    "# export\n",
    "ind_trend1.to_csv(\"../data/prepared/data_ind1_v1.csv\", index = False, compression = \"gzip\")\n",
    "ind_trend2.to_csv(\"../data/prepared/data_ind2_v1.csv\", index = False, compression = \"gzip\")\n",
    "fx_diff1.to_csv(\"../data/prepared/data_fx1_v1.csv\",    index = False, compression = \"gzip\")\n",
    "fx_diff2.to_csv(\"../data/prepared/data_fx2_v1.csv\",    index = False, compression = \"gzip\")"
   ]
  },
  {
   "cell_type": "markdown",
   "metadata": {},
   "source": [
    "# 5. MARKET DATA"
   ]
  },
  {
   "cell_type": "code",
   "execution_count": null,
   "metadata": {},
   "outputs": [],
   "source": [
    "# load dataset\n",
    "market  = pd.read_csv(\"../data/raw/Market.csv\")\n",
    "\n",
    "# convert dates\n",
    "market[\"DateKey\"] = pd.to_datetime(market[\"DateKey\"], format = '%Y%m%d')\n",
    "\n",
    "# add week index\n",
    "market[\"Week\"]  = (market.DateKey.dt.year - 2016) * 52 + (market.DateKey.dt.week)\n",
    "market[\"Month\"] = (market.DateKey.dt.year - 2016) * 12 + (market.DateKey.dt.month)\n",
    "del market[\"DateKey\"]"
   ]
  },
  {
   "cell_type": "code",
   "execution_count": null,
   "metadata": {},
   "outputs": [],
   "source": [
    "# compute weekly difference\n",
    "tmp1 = market.groupby([\"IsinIdx\", \"Week\"]).agg([\"mean\"])\n",
    "tmp1.columns = [\"_diff_week_\".join(col).strip() for col in tmp1.columns.values]\n",
    "tmp1 = tmp1.groupby(\"IsinIdx\").pct_change()\n",
    "tmp1 = tmp1.reset_index()\n",
    "tmp1[\"Week\"] = tmp.Week + 1\n",
    "\n",
    "# compute monthly difference\n",
    "tmp2 = market.groupby([\"IsinIdx\", \"Month\"]).agg([\"mean\"])\n",
    "tmp2.columns = [\"_diff_month_\".join(col).strip() for col in tmp2.columns.values]\n",
    "tmp2 = tmp2.groupby(\"IsinIdx\").pct_change()\n",
    "tmp2 = tmp2.reset_index()"
   ]
  },
  {
   "cell_type": "code",
   "execution_count": null,
   "metadata": {},
   "outputs": [],
   "source": [
    "# merge data\n",
    "market = market[[\"IsinIdx\", \"Week\", \"Month\"]]\n",
    "market = market.merge(tmp1, how = \"left\", on = [\"IsinIdx\", \"Week\"])\n",
    "market = market.merge(tmp2, how = \"left\", on = [\"IsinIdx\", \"Month\"])\n",
    "del market[\"Month\"]"
   ]
  },
  {
   "cell_type": "code",
   "execution_count": null,
   "metadata": {},
   "outputs": [],
   "source": [
    "# check\n",
    "print(market.shape)\n",
    "market.head()"
   ]
  },
  {
   "cell_type": "code",
   "execution_count": null,
   "metadata": {},
   "outputs": [],
   "source": [
    "# save data\n",
    "market.to_csv(\"../data/prepared/data_market_v1.csv\", index = False, compression = \"gzip\")"
   ]
  }
 ],
 "metadata": {
  "kernelspec": {
   "display_name": "Python 3",
   "language": "python",
   "name": "python3"
  },
  "language_info": {
   "codemirror_mode": {
    "name": "ipython",
    "version": 3
   },
   "file_extension": ".py",
   "mimetype": "text/x-python",
   "name": "python",
   "nbconvert_exporter": "python",
   "pygments_lexer": "ipython3",
   "version": "3.6.5"
  }
 },
 "nbformat": 4,
 "nbformat_minor": 2
}
